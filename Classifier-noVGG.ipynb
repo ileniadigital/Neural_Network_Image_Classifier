{
  "cells": [
    {
      "cell_type": "markdown",
      "metadata": {
        "id": "R-ugYIZG_vwU"
      },
      "source": [
        "# Read dataset and create data loaders"
      ]
    },
    {
      "cell_type": "code",
      "execution_count": 47,
      "metadata": {
        "id": "sUdX_1lQ7Zf8"
      },
      "outputs": [],
      "source": [
        "# Import torch and CIFAR dataset\n",
        "import torch\n",
        "import torch.nn as nn\n",
        "import torchvision\n",
        "import torchvision.transforms as transforms\n",
        "from torch.utils.data import DataLoader\n",
        "from tqdm import tqdm\n",
        "import torch.optim as optim\n",
        "import torch.nn.functional as F\n",
        "\n",
        "# Import matplotlib and numpy for graphs\n",
        "import matplotlib.pyplot as plt\n",
        "import numpy as np\n"
      ]
    },
    {
      "cell_type": "code",
      "execution_count": 48,
      "metadata": {
        "id": "Dy0dXGIAAs-N"
      },
      "outputs": [
        {
          "name": "stdout",
          "output_type": "stream",
          "text": [
            "Batch size: 64\n",
            "Files already downloaded and verified\n",
            "Files already downloaded and verified\n"
          ]
        }
      ],
      "source": [
        "'''\n",
        "Import CIFAR dataset, define labbels and load training and validation dataset\n",
        "Reference for loading dataset: https://pytorch.org/tutorials/beginner/blitz/cifar10_tutorial.html\n",
        "Reference for augmentation: https://pytorch.org/vision/stable/transforms.html\n",
        "'''\n",
        "batch_size=64 \n",
        "print('Batch size:', batch_size)\n",
        "\n",
        "# Normalisation and std values for RGB in dataset\n",
        "mean = [0.485, 0.456, 0.406]\n",
        "std = [0.229, 0.224, 0.225]\n",
        "\n",
        "# Data augmentation for training set\n",
        "transform_train = transforms.Compose([\n",
        "    transforms.RandomCrop(32, padding=4),  # Randomly crop the image with padding\n",
        "    transforms.RandomHorizontalFlip(),    # Randomly flip the image horizontally\n",
        "    transforms.ColorJitter(brightness=0.2, contrast=0.2, saturation=0.2, hue=0.1),  # Adjust brightness, contrast, etc.\n",
        "    transforms.RandomRotation(15),        # Randomly rotate the image by up to 15 degrees\n",
        "    transforms.RandomAffine(degrees=10, translate=(0.1, 0.1)),  # Randomly translate the image\n",
        "    transforms.ToTensor(),                # Convert image to tensor\n",
        "    transforms.Normalize(mean=mean, std=std),  # Normalize with mean and std\n",
        "    transforms.RandomErasing(p=0.5, scale=(0.02, 0.3))  # Randomly erase a portion of the image (optional)\n",
        "])\n",
        "\n",
        "# No augmentation for test set (only normalization)\n",
        "transform_test = transforms.Compose([\n",
        "    transforms.ToTensor(),\n",
        "    transforms.Normalize(mean=mean, std=std)  # Normalize with mean and std\n",
        "])\n",
        "\n",
        "# Load training and testing datasets\n",
        "trainset = torchvision.datasets.CIFAR10(root='./data', train=True, download=True, transform=transform_train)\n",
        "trainloader = torch.utils.data.DataLoader(trainset, batch_size=batch_size, shuffle=True, num_workers=2)\n",
        "\n",
        "testset = torchvision.datasets.CIFAR10(root='./data', train=False, download=True, transform=transform_test)\n",
        "testloader = torch.utils.data.DataLoader(testset, batch_size=batch_size, shuffle=False, num_workers=2)\n",
        "\n",
        "# Define labels\n",
        "classes = ('plane', 'car', 'bird', 'cat',\n",
        "           'deer', 'dog', 'frog', 'horse', 'ship', 'lorry')"
      ]
    },
    {
      "cell_type": "code",
      "execution_count": 49,
      "metadata": {
        "id": "ejYbu1lREwwA"
      },
      "outputs": [],
      "source": [
        "# # From the PyTorch's tutorial on image classification\n",
        "# import matplotlib.pyplot as plt\n",
        "# import numpy as np\n",
        "\n",
        "# def imshow(img):\n",
        "#     '''\n",
        "#     Show an image\n",
        "#     Input: image file to show\n",
        "#     Output: image\n",
        "#     '''\n",
        "#     img = img / 2 + 0.5     # unnormalize\n",
        "#     npimg = img.numpy()\n",
        "#     plt.imshow(np.transpose(npimg, (1, 2, 0)))\n",
        "#     plt.show()\n",
        "\n",
        "# # Get random training images\n",
        "# dataiter = iter(trainloader)\n",
        "# images, labels = next(dataiter)\n",
        "\n",
        "# # Show images\n",
        "# imshow(torchvision.utils.make_grid(images))\n",
        "# # Print labels\n",
        "# print(' '.join(f'{classes[labels[j]]:5s}' for j in range(batch_size)))"
      ]
    },
    {
      "cell_type": "markdown",
      "metadata": {
        "id": "28nn7m9c_1AK"
      },
      "source": [
        "# Main model\n",
        "Divided as such:\n",
        "\n",
        "\n",
        "*   **Stem**: takes the images as inputs, extracts features from them\n",
        "*   **Backbone**: made up of *K* branches, made up of an expert branch\n",
        "*   **Classifier**: takes input from the last block\n",
        "*   **Model**: wraps all together\n",
        "\n",
        "\n",
        "\n",
        "\n",
        "\n"
      ]
    },
    {
      "cell_type": "markdown",
      "metadata": {
        "id": "BjsIHiWpC7ir"
      },
      "source": [
        "## Stem\n",
        "*   Takes images as inputs\n",
        "*   Extracts a feature representation from them"
      ]
    },
    {
      "cell_type": "code",
      "execution_count": null,
      "metadata": {
        "id": "GPmPcMg3MKuo"
      },
      "outputs": [],
      "source": [
        "class Stem(nn.Module):\n",
        "  '''\n",
        "  Extract features using a Resnet-18 stem\n",
        "  Reference: Week 09 Lab\n",
        "  '''\n",
        "  def __init__(self, input_channels, middle_channels, output_channels):\n",
        "     super(Stem,self).__init__()\n",
        "     # Default parameters\n",
        "     kernel_size=3\n",
        "     stride=1\n",
        "     padding=1\n",
        "     \n",
        "     # Combine multiple layers\n",
        "     self.stem = nn.Sequential(\n",
        "       nn.Conv2d(input_channels, middle_channels, kernel_size = kernel_size, stride = stride, padding = padding),\n",
        "       nn.BatchNorm2d(middle_channels), \n",
        "       nn.ReLU(inplace=True),\n",
        "      #  nn.Conv2d(middle_channels, middle_channels,kernel_size = kernel_size, stride = stride, padding = padding),\n",
        "      #  nn.BatchNorm2d(middle_channels),\n",
        "      #  nn.ReLU(inplace=True),\n",
        "      #  nn.MaxPool2d(2), # Half the size of the image\n",
        "       nn.Conv2d(middle_channels, output_channels, kernel_size = kernel_size, stride = stride, padding = padding),\n",
        "       nn.BatchNorm2d(output_channels),\n",
        "       nn.ReLU(inplace=True),\n",
        "       nn.MaxPool2d(2) # Half the size of the image\n",
        "       )\n",
        "\n",
        "  def forward(self,x):\n",
        "    x = self.stem(x)\n",
        "    return x"
      ]
    },
    {
      "cell_type": "markdown",
      "metadata": {
        "id": "teldaHE3NAuT"
      },
      "source": [
        "## Block"
      ]
    },
    {
      "cell_type": "code",
      "execution_count": 51,
      "metadata": {
        "id": "q50v5kSs9Lbc"
      },
      "outputs": [],
      "source": [
        "class ExpertBranch(nn.Module):\n",
        "  '''\n",
        "  Expert branch predicting vector a with K elements from input tensor X\n",
        "  '''\n",
        "  def __init__(self, input_channels, k, r):\n",
        "    super(ExpertBranch,self).__init__()\n",
        "    # Spatially pool x\n",
        "    self.pool= nn.AdaptiveAvgPool2d(1)\n",
        "    #Forward through fc1, reducing by r\n",
        "    self.fc1= nn.Linear(input_channels, input_channels//r)\n",
        "    # Activation function ReLu\n",
        "    self.relu= nn.ReLU()\n",
        "    # Forward through fc2\n",
        "    self.fc2= nn.Linear(input_channels//r,k)\n",
        "\n",
        "  def forward(self,x):\n",
        "    # Spatially pool X\n",
        "    x = self.pool(x)\n",
        "    # Forward through fc1, reducing by r\n",
        "    x= x.squeeze(-1).squeeze(-1)\n",
        "    x = self.fc1(x)\n",
        "    # Processed through non-linear activation g\n",
        "    x = F.relu(x)\n",
        "    # Pass through fc2\n",
        "    x = self.fc2(x)\n",
        "    # Forward with softmax\n",
        "    x = F.softmax(x,dim=1)\n",
        "    return x"
      ]
    },
    {
      "cell_type": "code",
      "execution_count": 52,
      "metadata": {
        "id": "xUNibZ2FNE3V"
      },
      "outputs": [],
      "source": [
        "class Block(nn.Module):\n",
        "  '''\n",
        "  Block\n",
        "  '''\n",
        "  def __init__(self, input_channels, output_channels, k, r):\n",
        "    super(Block, self).__init__()\n",
        "    # Default parameters\n",
        "    kernel_size=3\n",
        "    stride=1\n",
        "    padding=1\n",
        "    # Set parameters\n",
        "    self.k= k\n",
        "    self.expertBranch = ExpertBranch(input_channels, k=k, r=r)\n",
        "    # Input from first block\n",
        "    # Input from previous block for rest\n",
        "    # Generate vector a with K elements from X as a= E(X)\n",
        "    # Create K convolutional layers\n",
        "    self.convs= nn.ModuleList([\n",
        "        nn.Conv2d(input_channels, output_channels, kernel_size=kernel_size, stride= stride, padding=padding)\n",
        "        for _ in range(k)\n",
        "    ])\n",
        "\n",
        "  def forward(self,x):\n",
        "    identity= x\n",
        "    # Vector a from expert branch\n",
        "    a = self.expertBranch(x)\n",
        "    # Convolutional layers \n",
        "    conv_outputs = [conv(x) for conv in self.convs]\n",
        "    stacked = torch.stack(conv_outputs, dim=1)\n",
        "    # Create vector O\n",
        "    a= a.view(a.size(0), self.k, 1,1,1)\n",
        "\n",
        "    out = (a* stacked).sum(dim=1)\n",
        "    # Skip connection to stablise gradient descent\n",
        "    out += identity\n",
        "    out = F.relu(out) # activation after skip\n",
        "\n",
        "    return out"
      ]
    },
    {
      "cell_type": "markdown",
      "metadata": {
        "id": "NatobdwZM-dN"
      },
      "source": [
        "## Backbone"
      ]
    },
    {
      "cell_type": "code",
      "execution_count": 53,
      "metadata": {
        "id": "2uZ7am7LOxUi"
      },
      "outputs": [],
      "source": [
        "class Backbone(nn.Module):\n",
        "  '''\n",
        "  N blocks\n",
        "  '''\n",
        "  def __init__(self, input_channels, hidden_channels, num_blocks, k, r):\n",
        "    super(Backbone, self).__init__()\n",
        "    self.blocks= nn.ModuleList()\n",
        "\n",
        "    # First block takes input from stem\n",
        "    self.blocks.append(Block(input_channels, hidden_channels, k=k, r=r))\n",
        "\n",
        "    # Rest of blocks take input form previous block\n",
        "    for _ in range(1, num_blocks):\n",
        "      self.blocks.append(Block(hidden_channels, hidden_channels, k=k, r=r))\n",
        "\n",
        "  def forward(self, x):\n",
        "    for idx, block in enumerate(self.blocks):\n",
        "      x = block(x)\n",
        "    return x"
      ]
    },
    {
      "cell_type": "markdown",
      "metadata": {
        "id": "Zgi2QD7KNC9v"
      },
      "source": [
        "## Classifier"
      ]
    },
    {
      "cell_type": "code",
      "execution_count": 54,
      "metadata": {
        "id": "t8QmbjyB4feJ"
      },
      "outputs": [],
      "source": [
        "class Classifier(nn.Module):\n",
        "  def __init__(self, input_channels, num_classes, use_mlp):\n",
        "    super(Classifier,self).__init__()\n",
        "    # Default parameters\n",
        "    dropout_rate=0.25\n",
        "    # Spatially pool\n",
        "    self.pool = nn.AdaptiveAvgPool2d(1)\n",
        "    self.use_mlp= use_mlp\n",
        "\n",
        "    if use_mlp:\n",
        "      self.classifier= nn.Sequential(\n",
        "          nn.Linear(input_channels, input_channels*2),\n",
        "          nn.ReLU(),\n",
        "          nn.Dropout(dropout_rate), # Deeper network with 3 layers\n",
        "          nn.Linear(input_channels*2, input_channels),\n",
        "          nn.ReLU(),\n",
        "          nn.Dropout(dropout_rate),\n",
        "          nn.Linear(input_channels, num_classes)\n",
        "      )\n",
        "    else:\n",
        "      self.classifier= nn.Linear(input_channels, num_classes)\n",
        "\n",
        "  def forward(self, x):\n",
        "    x = self.pool(x).squeeze(-1).squeeze(-1)\n",
        "    out = self.classifier(x)\n",
        "    return out\n"
      ]
    },
    {
      "cell_type": "markdown",
      "metadata": {
        "id": "ySRxujey4gN3"
      },
      "source": [
        "# Model"
      ]
    },
    {
      "cell_type": "code",
      "execution_count": 55,
      "metadata": {
        "id": "YY9DBSBo4jpP"
      },
      "outputs": [],
      "source": [
        "class Model(nn.Module):\n",
        "  def __init__(self, input_channels, output_channels, middle_channels, hidden_channels, num_blocks, k, r, num_classes, use_mlp):\n",
        "    super(Model, self).__init__()\n",
        "    # Call stem\n",
        "    self.stem= Stem(\n",
        "      input_channels=input_channels,\n",
        "      middle_channels=middle_channels,\n",
        "      output_channels=output_channels\n",
        "    )\n",
        "    # Call backbone\n",
        "    self.backbone= Backbone(\n",
        "      input_channels=output_channels, \n",
        "      hidden_channels= hidden_channels, \n",
        "      num_blocks=num_blocks,\n",
        "      k=k, \n",
        "      r=r)\n",
        "    # Call classifier\n",
        "    self.classifier= Classifier(\n",
        "      input_channels=hidden_channels, \n",
        "      num_classes=num_classes,\n",
        "      use_mlp= use_mlp)\n",
        "\n",
        "  def forward(self,x):\n",
        "    x= self.stem(x)\n",
        "    x= self.backbone(x)\n",
        "    x= self.classifier(x)\n",
        "    return x"
      ]
    },
    {
      "cell_type": "markdown",
      "metadata": {
        "id": "tC2qAy2b_3KO"
      },
      "source": [
        "# Create the loss and optmiser\n"
      ]
    },
    {
      "cell_type": "code",
      "execution_count": null,
      "metadata": {
        "id": "DGJbtSC3EcHy"
      },
      "outputs": [],
      "source": [
        "model = Model(\n",
        "    input_channels=3,\n",
        "    output_channels=256,\n",
        "    middle_channels=64,\n",
        "    hidden_channels=256,\n",
        "    num_blocks=4,\n",
        "    k=4,\n",
        "    r=8,\n",
        "    num_classes=10,\n",
        "    use_mlp=True\n",
        ")\n",
        "\n",
        "def init_weights(m):\n",
        "    if isinstance(m, nn.Conv2d):\n",
        "        nn.init.kaiming_normal_(m.weight, mode='fan_out', nonlinearity='relu')\n",
        "    elif isinstance(m, nn.BatchNorm2d):\n",
        "        nn.init.constant_(m.weight, 1)\n",
        "        nn.init.constant_(m.bias, 0)\n",
        "    elif isinstance(m, nn.Linear):\n",
        "        nn.init.kaiming_normal_(m.weight)\n",
        "        if m.bias is not None:\n",
        "            nn.init.constant_(m.bias, 0)\n",
        "\n",
        "model.apply(init_weights)\n",
        "\n",
        "criterion = nn.CrossEntropyLoss(label_smoothing=0.1)\n",
        "# optimizer = optim.SGD(model.parameters(), lr=0.0001, weight_decay=1e-4, momentum=0.9)\n",
        "optimizer = optim.Adam(model.parameters(), lr=0.001, weight_decay=1e-4)\n",
        "scheduler = torch.optim.lr_scheduler.CosineAnnealingLR(optimizer, T_max=200)"
      ]
    },
    {
      "cell_type": "markdown",
      "metadata": {
        "id": "VlNFWcuJ_8dY"
      },
      "source": [
        "# Training & Testing"
      ]
    },
    {
      "cell_type": "code",
      "execution_count": 57,
      "metadata": {
        "colab": {
          "base_uri": "https://localhost:8080/"
        },
        "id": "JdK9bHyHRaVt",
        "outputId": "f59cac49-555d-4148-9435-d29fb3076c79"
      },
      "outputs": [
        {
          "name": "stdout",
          "output_type": "stream",
          "text": [
            "\n",
            "Epoch 1/200\n"
          ]
        },
        {
          "name": "stderr",
          "output_type": "stream",
          "text": [
            "                                                              \r"
          ]
        },
        {
          "name": "stdout",
          "output_type": "stream",
          "text": [
            "Train Loss: 2.1937 | Accuracy: 26.17%\n",
            "Val   Loss: 1.8527 | Accuracy: 36.05%\n",
            "Saved best model.\n",
            "\n",
            "Epoch 2/200\n"
          ]
        },
        {
          "name": "stderr",
          "output_type": "stream",
          "text": [
            "                                                              \r"
          ]
        },
        {
          "name": "stdout",
          "output_type": "stream",
          "text": [
            "Train Loss: 1.7992 | Accuracy: 38.55%\n",
            "Val   Loss: 1.6526 | Accuracy: 46.67%\n",
            "Saved best model.\n",
            "\n",
            "Epoch 3/200\n"
          ]
        },
        {
          "name": "stderr",
          "output_type": "stream",
          "text": [
            "                                                              \r"
          ]
        },
        {
          "name": "stdout",
          "output_type": "stream",
          "text": [
            "Train Loss: 1.6646 | Accuracy: 45.93%\n",
            "Val   Loss: 1.4591 | Accuracy: 54.28%\n",
            "Saved best model.\n",
            "\n",
            "Epoch 4/200\n"
          ]
        },
        {
          "name": "stderr",
          "output_type": "stream",
          "text": [
            "                                                              \r"
          ]
        },
        {
          "name": "stdout",
          "output_type": "stream",
          "text": [
            "Train Loss: 1.5831 | Accuracy: 50.34%\n",
            "Val   Loss: 1.3868 | Accuracy: 59.88%\n",
            "Saved best model.\n",
            "\n",
            "Epoch 5/200\n"
          ]
        },
        {
          "name": "stderr",
          "output_type": "stream",
          "text": [
            "                                                              \r"
          ]
        },
        {
          "name": "stdout",
          "output_type": "stream",
          "text": [
            "Train Loss: 1.5304 | Accuracy: 52.98%\n",
            "Val   Loss: 1.3242 | Accuracy: 60.98%\n",
            "Saved best model.\n",
            "\n",
            "Epoch 6/200\n"
          ]
        },
        {
          "name": "stderr",
          "output_type": "stream",
          "text": [
            "                                                              \r"
          ]
        },
        {
          "name": "stdout",
          "output_type": "stream",
          "text": [
            "Train Loss: 1.4732 | Accuracy: 55.79%\n",
            "Val   Loss: 1.3857 | Accuracy: 59.88%\n",
            "No improvement for 1 epochs.\n",
            "\n",
            "Epoch 7/200\n"
          ]
        },
        {
          "name": "stderr",
          "output_type": "stream",
          "text": [
            "                                                              \r"
          ]
        },
        {
          "name": "stdout",
          "output_type": "stream",
          "text": [
            "Train Loss: 1.4353 | Accuracy: 57.70%\n",
            "Val   Loss: 1.3408 | Accuracy: 61.00%\n",
            "Saved best model.\n",
            "\n",
            "Epoch 8/200\n"
          ]
        },
        {
          "name": "stderr",
          "output_type": "stream",
          "text": [
            "                                                              \r"
          ]
        },
        {
          "name": "stdout",
          "output_type": "stream",
          "text": [
            "Train Loss: 1.3987 | Accuracy: 59.39%\n",
            "Val   Loss: 1.2337 | Accuracy: 66.52%\n",
            "Saved best model.\n",
            "\n",
            "Epoch 9/200\n"
          ]
        },
        {
          "name": "stderr",
          "output_type": "stream",
          "text": [
            "                                                              \r"
          ]
        },
        {
          "name": "stdout",
          "output_type": "stream",
          "text": [
            "Train Loss: 1.3700 | Accuracy: 60.96%\n",
            "Val   Loss: 1.1986 | Accuracy: 68.90%\n",
            "Saved best model.\n",
            "\n",
            "Epoch 10/200\n"
          ]
        },
        {
          "name": "stderr",
          "output_type": "stream",
          "text": [
            "                                                              \r"
          ]
        },
        {
          "name": "stdout",
          "output_type": "stream",
          "text": [
            "Train Loss: 1.3407 | Accuracy: 62.47%\n",
            "Val   Loss: 1.1422 | Accuracy: 71.05%\n",
            "Saved best model.\n",
            "\n",
            "Epoch 11/200\n"
          ]
        },
        {
          "name": "stderr",
          "output_type": "stream",
          "text": [
            "                                                              \r"
          ]
        },
        {
          "name": "stdout",
          "output_type": "stream",
          "text": [
            "Train Loss: 1.3100 | Accuracy: 63.82%\n",
            "Val   Loss: 1.1856 | Accuracy: 69.90%\n",
            "No improvement for 1 epochs.\n",
            "\n",
            "Epoch 12/200\n"
          ]
        },
        {
          "name": "stderr",
          "output_type": "stream",
          "text": [
            "                                                              \r"
          ]
        },
        {
          "name": "stdout",
          "output_type": "stream",
          "text": [
            "Train Loss: 1.2836 | Accuracy: 65.07%\n",
            "Val   Loss: 1.0916 | Accuracy: 73.67%\n",
            "Saved best model.\n",
            "\n",
            "Epoch 13/200\n"
          ]
        },
        {
          "name": "stderr",
          "output_type": "stream",
          "text": [
            "                                                              \r"
          ]
        },
        {
          "name": "stdout",
          "output_type": "stream",
          "text": [
            "Train Loss: 1.2648 | Accuracy: 66.23%\n",
            "Val   Loss: 1.0720 | Accuracy: 74.31%\n",
            "Saved best model.\n",
            "\n",
            "Epoch 14/200\n"
          ]
        },
        {
          "name": "stderr",
          "output_type": "stream",
          "text": [
            "                                                              \r"
          ]
        },
        {
          "name": "stdout",
          "output_type": "stream",
          "text": [
            "Train Loss: 1.2473 | Accuracy: 67.03%\n",
            "Val   Loss: 1.0586 | Accuracy: 75.17%\n",
            "Saved best model.\n",
            "\n",
            "Epoch 15/200\n"
          ]
        },
        {
          "name": "stderr",
          "output_type": "stream",
          "text": [
            "                                                              \r"
          ]
        },
        {
          "name": "stdout",
          "output_type": "stream",
          "text": [
            "Train Loss: 1.2373 | Accuracy: 67.43%\n",
            "Val   Loss: 1.0869 | Accuracy: 74.12%\n",
            "No improvement for 1 epochs.\n",
            "\n",
            "Epoch 16/200\n"
          ]
        },
        {
          "name": "stderr",
          "output_type": "stream",
          "text": [
            "                                                              \r"
          ]
        },
        {
          "name": "stdout",
          "output_type": "stream",
          "text": [
            "Train Loss: 1.2209 | Accuracy: 68.31%\n",
            "Val   Loss: 1.0515 | Accuracy: 75.87%\n",
            "Saved best model.\n",
            "\n",
            "Epoch 17/200\n"
          ]
        },
        {
          "name": "stderr",
          "output_type": "stream",
          "text": [
            "                                                              \r"
          ]
        },
        {
          "name": "stdout",
          "output_type": "stream",
          "text": [
            "Train Loss: 1.2018 | Accuracy: 69.16%\n",
            "Val   Loss: 1.0804 | Accuracy: 73.86%\n",
            "No improvement for 1 epochs.\n",
            "\n",
            "Epoch 18/200\n"
          ]
        },
        {
          "name": "stderr",
          "output_type": "stream",
          "text": [
            "                                                              \r"
          ]
        },
        {
          "name": "stdout",
          "output_type": "stream",
          "text": [
            "Train Loss: 1.1924 | Accuracy: 69.60%\n",
            "Val   Loss: 0.9936 | Accuracy: 78.51%\n",
            "Saved best model.\n",
            "\n",
            "Epoch 19/200\n"
          ]
        },
        {
          "name": "stderr",
          "output_type": "stream",
          "text": [
            "                                                              \r"
          ]
        },
        {
          "name": "stdout",
          "output_type": "stream",
          "text": [
            "Train Loss: 1.1832 | Accuracy: 69.96%\n",
            "Val   Loss: 0.9923 | Accuracy: 78.48%\n",
            "No improvement for 1 epochs.\n",
            "\n",
            "Epoch 20/200\n"
          ]
        },
        {
          "name": "stderr",
          "output_type": "stream",
          "text": [
            "                                                              \r"
          ]
        },
        {
          "name": "stdout",
          "output_type": "stream",
          "text": [
            "Train Loss: 1.1755 | Accuracy: 70.37%\n",
            "Val   Loss: 0.9778 | Accuracy: 78.87%\n",
            "Saved best model.\n",
            "\n",
            "Epoch 21/200\n"
          ]
        },
        {
          "name": "stderr",
          "output_type": "stream",
          "text": [
            "                                                              \r"
          ]
        },
        {
          "name": "stdout",
          "output_type": "stream",
          "text": [
            "Train Loss: 1.1670 | Accuracy: 70.55%\n",
            "Val   Loss: 0.9881 | Accuracy: 78.60%\n",
            "No improvement for 1 epochs.\n",
            "\n",
            "Epoch 22/200\n"
          ]
        },
        {
          "name": "stderr",
          "output_type": "stream",
          "text": [
            "                                                              \r"
          ]
        },
        {
          "name": "stdout",
          "output_type": "stream",
          "text": [
            "Train Loss: 1.1566 | Accuracy: 71.17%\n",
            "Val   Loss: 1.0295 | Accuracy: 77.33%\n",
            "No improvement for 2 epochs.\n",
            "\n",
            "Epoch 23/200\n"
          ]
        },
        {
          "name": "stderr",
          "output_type": "stream",
          "text": [
            "                                                              \r"
          ]
        },
        {
          "name": "stdout",
          "output_type": "stream",
          "text": [
            "Train Loss: 1.1513 | Accuracy: 71.32%\n",
            "Val   Loss: 0.9598 | Accuracy: 79.90%\n",
            "Saved best model.\n",
            "\n",
            "Epoch 24/200\n"
          ]
        },
        {
          "name": "stderr",
          "output_type": "stream",
          "text": [
            "                                                              \r"
          ]
        },
        {
          "name": "stdout",
          "output_type": "stream",
          "text": [
            "Train Loss: 1.1403 | Accuracy: 72.07%\n",
            "Val   Loss: 0.9906 | Accuracy: 77.61%\n",
            "No improvement for 1 epochs.\n",
            "\n",
            "Epoch 25/200\n"
          ]
        },
        {
          "name": "stderr",
          "output_type": "stream",
          "text": [
            "                                                              \r"
          ]
        },
        {
          "name": "stdout",
          "output_type": "stream",
          "text": [
            "Train Loss: 1.1288 | Accuracy: 72.68%\n",
            "Val   Loss: 0.9418 | Accuracy: 80.48%\n",
            "Saved best model.\n",
            "\n",
            "Epoch 26/200\n"
          ]
        },
        {
          "name": "stderr",
          "output_type": "stream",
          "text": [
            "                                                              \r"
          ]
        },
        {
          "name": "stdout",
          "output_type": "stream",
          "text": [
            "Train Loss: 1.1299 | Accuracy: 72.56%\n",
            "Val   Loss: 0.9812 | Accuracy: 78.84%\n",
            "No improvement for 1 epochs.\n",
            "\n",
            "Epoch 27/200\n"
          ]
        },
        {
          "name": "stderr",
          "output_type": "stream",
          "text": [
            "                                                              \r"
          ]
        },
        {
          "name": "stdout",
          "output_type": "stream",
          "text": [
            "Train Loss: 1.1259 | Accuracy: 72.76%\n",
            "Val   Loss: 0.9628 | Accuracy: 79.75%\n",
            "No improvement for 2 epochs.\n",
            "\n",
            "Epoch 28/200\n"
          ]
        },
        {
          "name": "stderr",
          "output_type": "stream",
          "text": [
            "                                                              \r"
          ]
        },
        {
          "name": "stdout",
          "output_type": "stream",
          "text": [
            "Train Loss: 1.1206 | Accuracy: 72.99%\n",
            "Val   Loss: 0.9377 | Accuracy: 81.09%\n",
            "Saved best model.\n",
            "\n",
            "Epoch 29/200\n"
          ]
        },
        {
          "name": "stderr",
          "output_type": "stream",
          "text": [
            "                                                              \r"
          ]
        },
        {
          "name": "stdout",
          "output_type": "stream",
          "text": [
            "Train Loss: 1.1133 | Accuracy: 73.35%\n",
            "Val   Loss: 0.9496 | Accuracy: 80.58%\n",
            "No improvement for 1 epochs.\n",
            "\n",
            "Epoch 30/200\n"
          ]
        },
        {
          "name": "stderr",
          "output_type": "stream",
          "text": [
            "                                                              \r"
          ]
        },
        {
          "name": "stdout",
          "output_type": "stream",
          "text": [
            "Train Loss: 1.1069 | Accuracy: 73.55%\n",
            "Val   Loss: 0.9512 | Accuracy: 80.21%\n",
            "No improvement for 2 epochs.\n",
            "\n",
            "Epoch 31/200\n"
          ]
        },
        {
          "name": "stderr",
          "output_type": "stream",
          "text": [
            "                                                              \r"
          ]
        },
        {
          "name": "stdout",
          "output_type": "stream",
          "text": [
            "Train Loss: 1.1080 | Accuracy: 73.72%\n",
            "Val   Loss: 0.9286 | Accuracy: 81.02%\n",
            "No improvement for 3 epochs.\n",
            "\n",
            "Epoch 32/200\n"
          ]
        },
        {
          "name": "stderr",
          "output_type": "stream",
          "text": [
            "                                                              \r"
          ]
        },
        {
          "name": "stdout",
          "output_type": "stream",
          "text": [
            "Train Loss: 1.1010 | Accuracy: 73.80%\n",
            "Val   Loss: 0.9959 | Accuracy: 78.75%\n",
            "No improvement for 4 epochs.\n",
            "\n",
            "Epoch 33/200\n"
          ]
        },
        {
          "name": "stderr",
          "output_type": "stream",
          "text": [
            "                                                              \r"
          ]
        },
        {
          "name": "stdout",
          "output_type": "stream",
          "text": [
            "Train Loss: 1.0916 | Accuracy: 74.20%\n",
            "Val   Loss: 0.9347 | Accuracy: 80.24%\n",
            "No improvement for 5 epochs.\n",
            "\n",
            "Epoch 34/200\n"
          ]
        },
        {
          "name": "stderr",
          "output_type": "stream",
          "text": [
            "                                                              \r"
          ]
        },
        {
          "name": "stdout",
          "output_type": "stream",
          "text": [
            "Train Loss: 1.0949 | Accuracy: 74.29%\n",
            "Val   Loss: 0.9289 | Accuracy: 81.68%\n",
            "Saved best model.\n",
            "\n",
            "Epoch 35/200\n"
          ]
        },
        {
          "name": "stderr",
          "output_type": "stream",
          "text": [
            "                                                              \r"
          ]
        },
        {
          "name": "stdout",
          "output_type": "stream",
          "text": [
            "Train Loss: 1.0888 | Accuracy: 74.46%\n",
            "Val   Loss: 0.9397 | Accuracy: 80.78%\n",
            "No improvement for 1 epochs.\n",
            "\n",
            "Epoch 36/200\n"
          ]
        },
        {
          "name": "stderr",
          "output_type": "stream",
          "text": [
            "                                                              \r"
          ]
        },
        {
          "name": "stdout",
          "output_type": "stream",
          "text": [
            "Train Loss: 1.0812 | Accuracy: 74.73%\n",
            "Val   Loss: 0.9283 | Accuracy: 80.99%\n",
            "No improvement for 2 epochs.\n",
            "\n",
            "Epoch 37/200\n"
          ]
        },
        {
          "name": "stderr",
          "output_type": "stream",
          "text": [
            "                                                              \r"
          ]
        },
        {
          "name": "stdout",
          "output_type": "stream",
          "text": [
            "Train Loss: 1.0762 | Accuracy: 75.20%\n",
            "Val   Loss: 0.9168 | Accuracy: 81.87%\n",
            "Saved best model.\n",
            "\n",
            "Epoch 38/200\n"
          ]
        },
        {
          "name": "stderr",
          "output_type": "stream",
          "text": [
            "                                                              \r"
          ]
        },
        {
          "name": "stdout",
          "output_type": "stream",
          "text": [
            "Train Loss: 1.0826 | Accuracy: 74.65%\n",
            "Val   Loss: 0.9121 | Accuracy: 81.94%\n",
            "Saved best model.\n",
            "\n",
            "Epoch 39/200\n"
          ]
        },
        {
          "name": "stderr",
          "output_type": "stream",
          "text": [
            "                                                              \r"
          ]
        },
        {
          "name": "stdout",
          "output_type": "stream",
          "text": [
            "Train Loss: 1.0763 | Accuracy: 75.06%\n",
            "Val   Loss: 0.9155 | Accuracy: 81.89%\n",
            "No improvement for 1 epochs.\n",
            "\n",
            "Epoch 40/200\n"
          ]
        },
        {
          "name": "stderr",
          "output_type": "stream",
          "text": [
            "                                                              \r"
          ]
        },
        {
          "name": "stdout",
          "output_type": "stream",
          "text": [
            "Train Loss: 1.0705 | Accuracy: 75.26%\n",
            "Val   Loss: 0.8918 | Accuracy: 82.91%\n",
            "Saved best model.\n",
            "\n",
            "Epoch 41/200\n"
          ]
        },
        {
          "name": "stderr",
          "output_type": "stream",
          "text": [
            "                                                              \r"
          ]
        },
        {
          "name": "stdout",
          "output_type": "stream",
          "text": [
            "Train Loss: 1.0642 | Accuracy: 75.58%\n",
            "Val   Loss: 0.8886 | Accuracy: 83.31%\n",
            "Saved best model.\n",
            "\n",
            "Epoch 42/200\n"
          ]
        },
        {
          "name": "stderr",
          "output_type": "stream",
          "text": [
            "                                                              \r"
          ]
        },
        {
          "name": "stdout",
          "output_type": "stream",
          "text": [
            "Train Loss: 1.0670 | Accuracy: 75.34%\n",
            "Val   Loss: 0.9012 | Accuracy: 82.72%\n",
            "No improvement for 1 epochs.\n",
            "\n",
            "Epoch 43/200\n"
          ]
        },
        {
          "name": "stderr",
          "output_type": "stream",
          "text": [
            "                                                              \r"
          ]
        },
        {
          "name": "stdout",
          "output_type": "stream",
          "text": [
            "Train Loss: 1.0570 | Accuracy: 75.78%\n",
            "Val   Loss: 0.9123 | Accuracy: 81.91%\n",
            "No improvement for 2 epochs.\n",
            "\n",
            "Epoch 44/200\n"
          ]
        },
        {
          "name": "stderr",
          "output_type": "stream",
          "text": [
            "                                                              \r"
          ]
        },
        {
          "name": "stdout",
          "output_type": "stream",
          "text": [
            "Train Loss: 1.0596 | Accuracy: 75.85%\n",
            "Val   Loss: 0.8996 | Accuracy: 82.22%\n",
            "No improvement for 3 epochs.\n",
            "\n",
            "Epoch 45/200\n"
          ]
        },
        {
          "name": "stderr",
          "output_type": "stream",
          "text": [
            "                                                              \r"
          ]
        },
        {
          "name": "stdout",
          "output_type": "stream",
          "text": [
            "Train Loss: 1.0545 | Accuracy: 76.01%\n",
            "Val   Loss: 0.8996 | Accuracy: 82.85%\n",
            "No improvement for 4 epochs.\n",
            "\n",
            "Epoch 46/200\n"
          ]
        },
        {
          "name": "stderr",
          "output_type": "stream",
          "text": [
            "                                                              \r"
          ]
        },
        {
          "name": "stdout",
          "output_type": "stream",
          "text": [
            "Train Loss: 1.0536 | Accuracy: 76.04%\n",
            "Val   Loss: 0.9011 | Accuracy: 82.57%\n",
            "No improvement for 5 epochs.\n",
            "\n",
            "Epoch 47/200\n"
          ]
        },
        {
          "name": "stderr",
          "output_type": "stream",
          "text": [
            "                                                              \r"
          ]
        },
        {
          "name": "stdout",
          "output_type": "stream",
          "text": [
            "Train Loss: 1.0550 | Accuracy: 76.12%\n",
            "Val   Loss: 0.9732 | Accuracy: 79.61%\n",
            "No improvement for 6 epochs.\n",
            "\n",
            "Epoch 48/200\n"
          ]
        },
        {
          "name": "stderr",
          "output_type": "stream",
          "text": [
            "                                                              \r"
          ]
        },
        {
          "name": "stdout",
          "output_type": "stream",
          "text": [
            "Train Loss: 1.0478 | Accuracy: 76.20%\n",
            "Val   Loss: 0.8908 | Accuracy: 82.97%\n",
            "No improvement for 7 epochs.\n",
            "\n",
            "Epoch 49/200\n"
          ]
        },
        {
          "name": "stderr",
          "output_type": "stream",
          "text": [
            "                                                              \r"
          ]
        },
        {
          "name": "stdout",
          "output_type": "stream",
          "text": [
            "Train Loss: 1.0442 | Accuracy: 76.46%\n",
            "Val   Loss: 0.9332 | Accuracy: 81.49%\n",
            "No improvement for 8 epochs.\n",
            "\n",
            "Epoch 50/200\n"
          ]
        },
        {
          "name": "stderr",
          "output_type": "stream",
          "text": [
            "                                                              \r"
          ]
        },
        {
          "name": "stdout",
          "output_type": "stream",
          "text": [
            "Train Loss: 1.0502 | Accuracy: 76.21%\n",
            "Val   Loss: 0.8919 | Accuracy: 83.27%\n",
            "No improvement for 9 epochs.\n",
            "\n",
            "Epoch 51/200\n"
          ]
        },
        {
          "name": "stderr",
          "output_type": "stream",
          "text": [
            "                                                              \r"
          ]
        },
        {
          "name": "stdout",
          "output_type": "stream",
          "text": [
            "Train Loss: 1.0398 | Accuracy: 76.53%\n",
            "Val   Loss: 0.8846 | Accuracy: 83.72%\n",
            "Saved best model.\n",
            "\n",
            "Epoch 52/200\n"
          ]
        },
        {
          "name": "stderr",
          "output_type": "stream",
          "text": [
            "                                                              \r"
          ]
        },
        {
          "name": "stdout",
          "output_type": "stream",
          "text": [
            "Train Loss: 1.0394 | Accuracy: 76.72%\n",
            "Val   Loss: 0.8921 | Accuracy: 83.01%\n",
            "No improvement for 1 epochs.\n",
            "\n",
            "Epoch 53/200\n"
          ]
        },
        {
          "name": "stderr",
          "output_type": "stream",
          "text": [
            "                                                              \r"
          ]
        },
        {
          "name": "stdout",
          "output_type": "stream",
          "text": [
            "Train Loss: 1.0359 | Accuracy: 76.84%\n",
            "Val   Loss: 0.8789 | Accuracy: 83.00%\n",
            "No improvement for 2 epochs.\n",
            "\n",
            "Epoch 54/200\n"
          ]
        },
        {
          "name": "stderr",
          "output_type": "stream",
          "text": [
            "                                                              \r"
          ]
        },
        {
          "name": "stdout",
          "output_type": "stream",
          "text": [
            "Train Loss: 1.0384 | Accuracy: 76.63%\n",
            "Val   Loss: 0.8808 | Accuracy: 83.66%\n",
            "No improvement for 3 epochs.\n",
            "\n",
            "Epoch 55/200\n"
          ]
        },
        {
          "name": "stderr",
          "output_type": "stream",
          "text": [
            "                                                              \r"
          ]
        },
        {
          "name": "stdout",
          "output_type": "stream",
          "text": [
            "Train Loss: 1.0327 | Accuracy: 76.86%\n",
            "Val   Loss: 0.8736 | Accuracy: 83.78%\n",
            "Saved best model.\n",
            "\n",
            "Epoch 56/200\n"
          ]
        },
        {
          "name": "stderr",
          "output_type": "stream",
          "text": [
            "                                                              \r"
          ]
        },
        {
          "name": "stdout",
          "output_type": "stream",
          "text": [
            "Train Loss: 1.0311 | Accuracy: 76.93%\n",
            "Val   Loss: 0.8643 | Accuracy: 84.23%\n",
            "Saved best model.\n",
            "\n",
            "Epoch 57/200\n"
          ]
        },
        {
          "name": "stderr",
          "output_type": "stream",
          "text": [
            "                                                              \r"
          ]
        },
        {
          "name": "stdout",
          "output_type": "stream",
          "text": [
            "Train Loss: 1.0327 | Accuracy: 76.84%\n",
            "Val   Loss: 0.8972 | Accuracy: 82.94%\n",
            "No improvement for 1 epochs.\n",
            "\n",
            "Epoch 58/200\n"
          ]
        },
        {
          "name": "stderr",
          "output_type": "stream",
          "text": [
            "                                                              \r"
          ]
        },
        {
          "name": "stdout",
          "output_type": "stream",
          "text": [
            "Train Loss: 1.0290 | Accuracy: 77.18%\n",
            "Val   Loss: 0.8696 | Accuracy: 83.88%\n",
            "No improvement for 2 epochs.\n",
            "\n",
            "Epoch 59/200\n"
          ]
        },
        {
          "name": "stderr",
          "output_type": "stream",
          "text": [
            "                                                              \r"
          ]
        },
        {
          "name": "stdout",
          "output_type": "stream",
          "text": [
            "Train Loss: 1.0302 | Accuracy: 77.01%\n",
            "Val   Loss: 0.8661 | Accuracy: 84.58%\n",
            "Saved best model.\n",
            "\n",
            "Epoch 60/200\n"
          ]
        },
        {
          "name": "stderr",
          "output_type": "stream",
          "text": [
            "                                                              \r"
          ]
        },
        {
          "name": "stdout",
          "output_type": "stream",
          "text": [
            "Train Loss: 1.0297 | Accuracy: 77.23%\n",
            "Val   Loss: 0.8722 | Accuracy: 83.92%\n",
            "No improvement for 1 epochs.\n",
            "\n",
            "Epoch 61/200\n"
          ]
        },
        {
          "name": "stderr",
          "output_type": "stream",
          "text": [
            "                                                              \r"
          ]
        },
        {
          "name": "stdout",
          "output_type": "stream",
          "text": [
            "Train Loss: 1.0225 | Accuracy: 77.14%\n",
            "Val   Loss: 0.9018 | Accuracy: 82.42%\n",
            "No improvement for 2 epochs.\n",
            "\n",
            "Epoch 62/200\n"
          ]
        },
        {
          "name": "stderr",
          "output_type": "stream",
          "text": [
            "                                                              \r"
          ]
        },
        {
          "name": "stdout",
          "output_type": "stream",
          "text": [
            "Train Loss: 1.0273 | Accuracy: 77.26%\n",
            "Val   Loss: 0.8541 | Accuracy: 84.86%\n",
            "Saved best model.\n",
            "\n",
            "Epoch 63/200\n"
          ]
        },
        {
          "name": "stderr",
          "output_type": "stream",
          "text": [
            "                                                              \r"
          ]
        },
        {
          "name": "stdout",
          "output_type": "stream",
          "text": [
            "Train Loss: 1.0223 | Accuracy: 77.48%\n",
            "Val   Loss: 0.8591 | Accuracy: 84.82%\n",
            "No improvement for 1 epochs.\n",
            "\n",
            "Epoch 64/200\n"
          ]
        },
        {
          "name": "stderr",
          "output_type": "stream",
          "text": [
            "                                                              \r"
          ]
        },
        {
          "name": "stdout",
          "output_type": "stream",
          "text": [
            "Train Loss: 1.0167 | Accuracy: 77.60%\n",
            "Val   Loss: 0.8670 | Accuracy: 84.09%\n",
            "No improvement for 2 epochs.\n",
            "\n",
            "Epoch 65/200\n"
          ]
        },
        {
          "name": "stderr",
          "output_type": "stream",
          "text": [
            "                                                              \r"
          ]
        },
        {
          "name": "stdout",
          "output_type": "stream",
          "text": [
            "Train Loss: 1.0172 | Accuracy: 77.78%\n",
            "Val   Loss: 0.8578 | Accuracy: 84.66%\n",
            "No improvement for 3 epochs.\n",
            "\n",
            "Epoch 66/200\n"
          ]
        },
        {
          "name": "stderr",
          "output_type": "stream",
          "text": [
            "                                                              \r"
          ]
        },
        {
          "name": "stdout",
          "output_type": "stream",
          "text": [
            "Train Loss: 1.0136 | Accuracy: 77.84%\n",
            "Val   Loss: 0.8616 | Accuracy: 84.62%\n",
            "No improvement for 4 epochs.\n",
            "\n",
            "Epoch 67/200\n"
          ]
        },
        {
          "name": "stderr",
          "output_type": "stream",
          "text": [
            "                                                              \r"
          ]
        },
        {
          "name": "stdout",
          "output_type": "stream",
          "text": [
            "Train Loss: 1.0169 | Accuracy: 77.53%\n",
            "Val   Loss: 0.8360 | Accuracy: 85.49%\n",
            "Saved best model.\n",
            "\n",
            "Epoch 68/200\n"
          ]
        },
        {
          "name": "stderr",
          "output_type": "stream",
          "text": [
            "                                                              \r"
          ]
        },
        {
          "name": "stdout",
          "output_type": "stream",
          "text": [
            "Train Loss: 1.0115 | Accuracy: 77.79%\n",
            "Val   Loss: 0.8577 | Accuracy: 84.59%\n",
            "No improvement for 1 epochs.\n",
            "\n",
            "Epoch 69/200\n"
          ]
        },
        {
          "name": "stderr",
          "output_type": "stream",
          "text": [
            "                                                              \r"
          ]
        },
        {
          "name": "stdout",
          "output_type": "stream",
          "text": [
            "Train Loss: 1.0110 | Accuracy: 78.06%\n",
            "Val   Loss: 0.8430 | Accuracy: 85.09%\n",
            "No improvement for 2 epochs.\n",
            "\n",
            "Epoch 70/200\n"
          ]
        },
        {
          "name": "stderr",
          "output_type": "stream",
          "text": [
            "                                                              \r"
          ]
        },
        {
          "name": "stdout",
          "output_type": "stream",
          "text": [
            "Train Loss: 1.0150 | Accuracy: 77.78%\n",
            "Val   Loss: 0.8557 | Accuracy: 84.57%\n",
            "No improvement for 3 epochs.\n",
            "\n",
            "Epoch 71/200\n"
          ]
        },
        {
          "name": "stderr",
          "output_type": "stream",
          "text": [
            "                                                              \r"
          ]
        },
        {
          "name": "stdout",
          "output_type": "stream",
          "text": [
            "Train Loss: 1.0080 | Accuracy: 77.93%\n",
            "Val   Loss: 0.8577 | Accuracy: 84.49%\n",
            "No improvement for 4 epochs.\n",
            "\n",
            "Epoch 72/200\n"
          ]
        },
        {
          "name": "stderr",
          "output_type": "stream",
          "text": [
            "                                                              \r"
          ]
        },
        {
          "name": "stdout",
          "output_type": "stream",
          "text": [
            "Train Loss: 1.0114 | Accuracy: 77.70%\n",
            "Val   Loss: 0.8594 | Accuracy: 84.94%\n",
            "No improvement for 5 epochs.\n",
            "\n",
            "Epoch 73/200\n"
          ]
        },
        {
          "name": "stderr",
          "output_type": "stream",
          "text": [
            "                                                              \r"
          ]
        },
        {
          "name": "stdout",
          "output_type": "stream",
          "text": [
            "Train Loss: 1.0040 | Accuracy: 78.22%\n",
            "Val   Loss: 0.8468 | Accuracy: 85.29%\n",
            "No improvement for 6 epochs.\n",
            "\n",
            "Epoch 74/200\n"
          ]
        },
        {
          "name": "stderr",
          "output_type": "stream",
          "text": [
            "                                                              \r"
          ]
        },
        {
          "name": "stdout",
          "output_type": "stream",
          "text": [
            "Train Loss: 1.0040 | Accuracy: 78.22%\n",
            "Val   Loss: 0.8285 | Accuracy: 85.97%\n",
            "Saved best model.\n",
            "\n",
            "Epoch 75/200\n"
          ]
        },
        {
          "name": "stderr",
          "output_type": "stream",
          "text": [
            "                                                              \r"
          ]
        },
        {
          "name": "stdout",
          "output_type": "stream",
          "text": [
            "Train Loss: 1.0029 | Accuracy: 78.24%\n",
            "Val   Loss: 0.8490 | Accuracy: 84.87%\n",
            "No improvement for 1 epochs.\n",
            "\n",
            "Epoch 76/200\n"
          ]
        },
        {
          "name": "stderr",
          "output_type": "stream",
          "text": [
            "                                                              \r"
          ]
        },
        {
          "name": "stdout",
          "output_type": "stream",
          "text": [
            "Train Loss: 1.0012 | Accuracy: 78.32%\n",
            "Val   Loss: 0.8438 | Accuracy: 85.27%\n",
            "No improvement for 2 epochs.\n",
            "\n",
            "Epoch 77/200\n"
          ]
        },
        {
          "name": "stderr",
          "output_type": "stream",
          "text": [
            "                                                              \r"
          ]
        },
        {
          "name": "stdout",
          "output_type": "stream",
          "text": [
            "Train Loss: 1.0036 | Accuracy: 78.10%\n",
            "Val   Loss: 0.8410 | Accuracy: 85.26%\n",
            "No improvement for 3 epochs.\n",
            "\n",
            "Epoch 78/200\n"
          ]
        },
        {
          "name": "stderr",
          "output_type": "stream",
          "text": [
            "                                                              \r"
          ]
        },
        {
          "name": "stdout",
          "output_type": "stream",
          "text": [
            "Train Loss: 0.9955 | Accuracy: 78.59%\n",
            "Val   Loss: 0.8266 | Accuracy: 85.94%\n",
            "No improvement for 4 epochs.\n",
            "\n",
            "Epoch 79/200\n"
          ]
        },
        {
          "name": "stderr",
          "output_type": "stream",
          "text": [
            "                                                              \r"
          ]
        },
        {
          "name": "stdout",
          "output_type": "stream",
          "text": [
            "Train Loss: 0.9967 | Accuracy: 78.37%\n",
            "Val   Loss: 0.8326 | Accuracy: 85.40%\n",
            "No improvement for 5 epochs.\n",
            "\n",
            "Epoch 80/200\n"
          ]
        },
        {
          "name": "stderr",
          "output_type": "stream",
          "text": [
            "                                                              \r"
          ]
        },
        {
          "name": "stdout",
          "output_type": "stream",
          "text": [
            "Train Loss: 0.9887 | Accuracy: 78.98%\n",
            "Val   Loss: 0.8594 | Accuracy: 84.22%\n",
            "No improvement for 6 epochs.\n",
            "\n",
            "Epoch 81/200\n"
          ]
        },
        {
          "name": "stderr",
          "output_type": "stream",
          "text": [
            "                                                              \r"
          ]
        },
        {
          "name": "stdout",
          "output_type": "stream",
          "text": [
            "Train Loss: 0.9941 | Accuracy: 78.63%\n",
            "Val   Loss: 0.8347 | Accuracy: 85.83%\n",
            "No improvement for 7 epochs.\n",
            "\n",
            "Epoch 82/200\n"
          ]
        },
        {
          "name": "stderr",
          "output_type": "stream",
          "text": [
            "                                                              \r"
          ]
        },
        {
          "name": "stdout",
          "output_type": "stream",
          "text": [
            "Train Loss: 0.9948 | Accuracy: 78.66%\n",
            "Val   Loss: 0.8280 | Accuracy: 85.76%\n",
            "No improvement for 8 epochs.\n",
            "\n",
            "Epoch 83/200\n"
          ]
        },
        {
          "name": "stderr",
          "output_type": "stream",
          "text": [
            "                                                              \r"
          ]
        },
        {
          "name": "stdout",
          "output_type": "stream",
          "text": [
            "Train Loss: 0.9953 | Accuracy: 78.54%\n",
            "Val   Loss: 0.8457 | Accuracy: 84.99%\n",
            "No improvement for 9 epochs.\n",
            "\n",
            "Epoch 84/200\n"
          ]
        },
        {
          "name": "stderr",
          "output_type": "stream",
          "text": [
            "                                                              \r"
          ]
        },
        {
          "name": "stdout",
          "output_type": "stream",
          "text": [
            "Train Loss: 0.9951 | Accuracy: 78.67%\n",
            "Val   Loss: 0.8563 | Accuracy: 84.70%\n",
            "No improvement for 10 epochs.\n",
            "\n",
            "Epoch 85/200\n"
          ]
        },
        {
          "name": "stderr",
          "output_type": "stream",
          "text": [
            "                                                              \r"
          ]
        },
        {
          "name": "stdout",
          "output_type": "stream",
          "text": [
            "Train Loss: 0.9851 | Accuracy: 78.85%\n",
            "Val   Loss: 0.8452 | Accuracy: 85.44%\n",
            "No improvement for 11 epochs.\n",
            "\n",
            "Epoch 86/200\n"
          ]
        },
        {
          "name": "stderr",
          "output_type": "stream",
          "text": [
            "                                                              \r"
          ]
        },
        {
          "name": "stdout",
          "output_type": "stream",
          "text": [
            "Train Loss: 0.9883 | Accuracy: 78.92%\n",
            "Val   Loss: 0.8230 | Accuracy: 86.47%\n",
            "Saved best model.\n",
            "\n",
            "Epoch 87/200\n"
          ]
        },
        {
          "name": "stderr",
          "output_type": "stream",
          "text": [
            "                                                              \r"
          ]
        },
        {
          "name": "stdout",
          "output_type": "stream",
          "text": [
            "Train Loss: 0.9891 | Accuracy: 78.77%\n",
            "Val   Loss: 0.8375 | Accuracy: 85.71%\n",
            "No improvement for 1 epochs.\n",
            "\n",
            "Epoch 88/200\n"
          ]
        },
        {
          "name": "stderr",
          "output_type": "stream",
          "text": [
            "                                                              \r"
          ]
        },
        {
          "name": "stdout",
          "output_type": "stream",
          "text": [
            "Train Loss: 0.9880 | Accuracy: 79.03%\n",
            "Val   Loss: 0.8295 | Accuracy: 85.96%\n",
            "No improvement for 2 epochs.\n",
            "\n",
            "Epoch 89/200\n"
          ]
        },
        {
          "name": "stderr",
          "output_type": "stream",
          "text": [
            "                                                              \r"
          ]
        },
        {
          "name": "stdout",
          "output_type": "stream",
          "text": [
            "Train Loss: 0.9885 | Accuracy: 78.87%\n",
            "Val   Loss: 0.8125 | Accuracy: 86.56%\n",
            "Saved best model.\n",
            "\n",
            "Epoch 90/200\n"
          ]
        },
        {
          "name": "stderr",
          "output_type": "stream",
          "text": [
            "                                                              \r"
          ]
        },
        {
          "name": "stdout",
          "output_type": "stream",
          "text": [
            "Train Loss: 0.9816 | Accuracy: 79.14%\n",
            "Val   Loss: 0.8411 | Accuracy: 85.29%\n",
            "No improvement for 1 epochs.\n",
            "\n",
            "Epoch 91/200\n"
          ]
        },
        {
          "name": "stderr",
          "output_type": "stream",
          "text": [
            "                                                              \r"
          ]
        },
        {
          "name": "stdout",
          "output_type": "stream",
          "text": [
            "Train Loss: 0.9839 | Accuracy: 79.01%\n",
            "Val   Loss: 0.8137 | Accuracy: 86.81%\n",
            "Saved best model.\n",
            "\n",
            "Epoch 92/200\n"
          ]
        },
        {
          "name": "stderr",
          "output_type": "stream",
          "text": [
            "                                                              \r"
          ]
        },
        {
          "name": "stdout",
          "output_type": "stream",
          "text": [
            "Train Loss: 0.9836 | Accuracy: 78.92%\n",
            "Val   Loss: 0.8312 | Accuracy: 86.13%\n",
            "No improvement for 1 epochs.\n",
            "\n",
            "Epoch 93/200\n"
          ]
        },
        {
          "name": "stderr",
          "output_type": "stream",
          "text": [
            "                                                              \r"
          ]
        },
        {
          "name": "stdout",
          "output_type": "stream",
          "text": [
            "Train Loss: 0.9794 | Accuracy: 79.50%\n",
            "Val   Loss: 0.8337 | Accuracy: 85.33%\n",
            "No improvement for 2 epochs.\n",
            "\n",
            "Epoch 94/200\n"
          ]
        },
        {
          "name": "stderr",
          "output_type": "stream",
          "text": [
            "                                                              \r"
          ]
        },
        {
          "name": "stdout",
          "output_type": "stream",
          "text": [
            "Train Loss: 0.9836 | Accuracy: 79.05%\n",
            "Val   Loss: 0.8302 | Accuracy: 85.78%\n",
            "No improvement for 3 epochs.\n",
            "\n",
            "Epoch 95/200\n"
          ]
        },
        {
          "name": "stderr",
          "output_type": "stream",
          "text": [
            "                                                              \r"
          ]
        },
        {
          "name": "stdout",
          "output_type": "stream",
          "text": [
            "Train Loss: 0.9819 | Accuracy: 79.21%\n",
            "Val   Loss: 0.8147 | Accuracy: 86.42%\n",
            "No improvement for 4 epochs.\n",
            "\n",
            "Epoch 96/200\n"
          ]
        },
        {
          "name": "stderr",
          "output_type": "stream",
          "text": [
            "                                                              \r"
          ]
        },
        {
          "name": "stdout",
          "output_type": "stream",
          "text": [
            "Train Loss: 0.9776 | Accuracy: 79.57%\n",
            "Val   Loss: 0.8109 | Accuracy: 86.58%\n",
            "No improvement for 5 epochs.\n",
            "\n",
            "Epoch 97/200\n"
          ]
        },
        {
          "name": "stderr",
          "output_type": "stream",
          "text": [
            "                                                              \r"
          ]
        },
        {
          "name": "stdout",
          "output_type": "stream",
          "text": [
            "Train Loss: 0.9780 | Accuracy: 79.54%\n",
            "Val   Loss: 0.8990 | Accuracy: 82.70%\n",
            "No improvement for 6 epochs.\n",
            "\n",
            "Epoch 98/200\n"
          ]
        },
        {
          "name": "stderr",
          "output_type": "stream",
          "text": [
            "                                                              \r"
          ]
        },
        {
          "name": "stdout",
          "output_type": "stream",
          "text": [
            "Train Loss: 0.9758 | Accuracy: 79.48%\n",
            "Val   Loss: 0.8501 | Accuracy: 84.93%\n",
            "No improvement for 7 epochs.\n",
            "\n",
            "Epoch 99/200\n"
          ]
        },
        {
          "name": "stderr",
          "output_type": "stream",
          "text": [
            "                                                              \r"
          ]
        },
        {
          "name": "stdout",
          "output_type": "stream",
          "text": [
            "Train Loss: 0.9788 | Accuracy: 79.29%\n",
            "Val   Loss: 0.8293 | Accuracy: 86.42%\n",
            "No improvement for 8 epochs.\n",
            "\n",
            "Epoch 100/200\n"
          ]
        },
        {
          "name": "stderr",
          "output_type": "stream",
          "text": [
            "                                                              \r"
          ]
        },
        {
          "name": "stdout",
          "output_type": "stream",
          "text": [
            "Train Loss: 0.9784 | Accuracy: 79.39%\n",
            "Val   Loss: 0.8173 | Accuracy: 86.45%\n",
            "No improvement for 9 epochs.\n",
            "\n",
            "Epoch 101/200\n"
          ]
        },
        {
          "name": "stderr",
          "output_type": "stream",
          "text": [
            "                                                              \r"
          ]
        },
        {
          "name": "stdout",
          "output_type": "stream",
          "text": [
            "Train Loss: 0.9758 | Accuracy: 79.66%\n",
            "Val   Loss: 0.8615 | Accuracy: 84.77%\n",
            "No improvement for 10 epochs.\n",
            "\n",
            "Epoch 102/200\n"
          ]
        },
        {
          "name": "stderr",
          "output_type": "stream",
          "text": [
            "                                                              \r"
          ]
        },
        {
          "name": "stdout",
          "output_type": "stream",
          "text": [
            "Train Loss: 0.9758 | Accuracy: 79.57%\n",
            "Val   Loss: 0.8238 | Accuracy: 86.02%\n",
            "No improvement for 11 epochs.\n",
            "\n",
            "Epoch 103/200\n"
          ]
        },
        {
          "name": "stderr",
          "output_type": "stream",
          "text": [
            "                                                              \r"
          ]
        },
        {
          "name": "stdout",
          "output_type": "stream",
          "text": [
            "Train Loss: 0.9778 | Accuracy: 79.43%\n",
            "Val   Loss: 0.8326 | Accuracy: 85.68%\n",
            "No improvement for 12 epochs.\n",
            "\n",
            "Epoch 104/200\n"
          ]
        },
        {
          "name": "stderr",
          "output_type": "stream",
          "text": [
            "                                                              \r"
          ]
        },
        {
          "name": "stdout",
          "output_type": "stream",
          "text": [
            "Train Loss: 0.9736 | Accuracy: 79.76%\n",
            "Val   Loss: 0.8458 | Accuracy: 85.01%\n",
            "No improvement for 13 epochs.\n",
            "\n",
            "Epoch 105/200\n"
          ]
        },
        {
          "name": "stderr",
          "output_type": "stream",
          "text": [
            "                                                              \r"
          ]
        },
        {
          "name": "stdout",
          "output_type": "stream",
          "text": [
            "Train Loss: 0.9731 | Accuracy: 79.62%\n",
            "Val   Loss: 0.8302 | Accuracy: 86.07%\n",
            "No improvement for 14 epochs.\n",
            "\n",
            "Epoch 106/200\n"
          ]
        },
        {
          "name": "stderr",
          "output_type": "stream",
          "text": [
            "                                                              \r"
          ]
        },
        {
          "name": "stdout",
          "output_type": "stream",
          "text": [
            "Train Loss: 0.9715 | Accuracy: 79.62%\n",
            "Val   Loss: 0.8182 | Accuracy: 86.36%\n",
            "No improvement for 15 epochs.\n",
            "\n",
            "Epoch 107/200\n"
          ]
        },
        {
          "name": "stderr",
          "output_type": "stream",
          "text": [
            "                                                              \r"
          ]
        },
        {
          "name": "stdout",
          "output_type": "stream",
          "text": [
            "Train Loss: 0.9690 | Accuracy: 79.76%\n",
            "Val   Loss: 0.8024 | Accuracy: 87.35%\n",
            "Saved best model.\n",
            "\n",
            "Epoch 108/200\n"
          ]
        },
        {
          "name": "stderr",
          "output_type": "stream",
          "text": [
            "                                                              \r"
          ]
        },
        {
          "name": "stdout",
          "output_type": "stream",
          "text": [
            "Train Loss: 0.9688 | Accuracy: 79.73%\n",
            "Val   Loss: 0.8355 | Accuracy: 86.03%\n",
            "No improvement for 1 epochs.\n",
            "\n",
            "Epoch 109/200\n"
          ]
        },
        {
          "name": "stderr",
          "output_type": "stream",
          "text": [
            "                                                              \r"
          ]
        },
        {
          "name": "stdout",
          "output_type": "stream",
          "text": [
            "Train Loss: 0.9642 | Accuracy: 80.10%\n",
            "Val   Loss: 0.8032 | Accuracy: 87.12%\n",
            "No improvement for 2 epochs.\n",
            "\n",
            "Epoch 110/200\n"
          ]
        },
        {
          "name": "stderr",
          "output_type": "stream",
          "text": [
            "                                                              \r"
          ]
        },
        {
          "name": "stdout",
          "output_type": "stream",
          "text": [
            "Train Loss: 0.9701 | Accuracy: 79.85%\n",
            "Val   Loss: 0.8194 | Accuracy: 86.33%\n",
            "No improvement for 3 epochs.\n",
            "\n",
            "Epoch 111/200\n"
          ]
        },
        {
          "name": "stderr",
          "output_type": "stream",
          "text": [
            "                                                              \r"
          ]
        },
        {
          "name": "stdout",
          "output_type": "stream",
          "text": [
            "Train Loss: 0.9646 | Accuracy: 80.12%\n",
            "Val   Loss: 0.8028 | Accuracy: 87.30%\n",
            "No improvement for 4 epochs.\n",
            "\n",
            "Epoch 112/200\n"
          ]
        },
        {
          "name": "stderr",
          "output_type": "stream",
          "text": [
            "                                                              \r"
          ]
        },
        {
          "name": "stdout",
          "output_type": "stream",
          "text": [
            "Train Loss: 0.9582 | Accuracy: 80.35%\n",
            "Val   Loss: 0.8058 | Accuracy: 87.05%\n",
            "No improvement for 5 epochs.\n",
            "\n",
            "Epoch 113/200\n"
          ]
        },
        {
          "name": "stderr",
          "output_type": "stream",
          "text": [
            "                                                              \r"
          ]
        },
        {
          "name": "stdout",
          "output_type": "stream",
          "text": [
            "Train Loss: 0.9631 | Accuracy: 80.01%\n",
            "Val   Loss: 0.8357 | Accuracy: 85.68%\n",
            "No improvement for 6 epochs.\n",
            "\n",
            "Epoch 114/200\n"
          ]
        },
        {
          "name": "stderr",
          "output_type": "stream",
          "text": [
            "                                                              \r"
          ]
        },
        {
          "name": "stdout",
          "output_type": "stream",
          "text": [
            "Train Loss: 0.9659 | Accuracy: 80.17%\n",
            "Val   Loss: 0.8252 | Accuracy: 86.00%\n",
            "No improvement for 7 epochs.\n",
            "\n",
            "Epoch 115/200\n"
          ]
        },
        {
          "name": "stderr",
          "output_type": "stream",
          "text": [
            "                                                              \r"
          ]
        },
        {
          "name": "stdout",
          "output_type": "stream",
          "text": [
            "Train Loss: 0.9624 | Accuracy: 80.17%\n",
            "Val   Loss: 0.8029 | Accuracy: 87.09%\n",
            "No improvement for 8 epochs.\n",
            "\n",
            "Epoch 116/200\n"
          ]
        },
        {
          "name": "stderr",
          "output_type": "stream",
          "text": [
            "                                                              \r"
          ]
        },
        {
          "name": "stdout",
          "output_type": "stream",
          "text": [
            "Train Loss: 0.9598 | Accuracy: 80.09%\n",
            "Val   Loss: 0.8054 | Accuracy: 86.86%\n",
            "No improvement for 9 epochs.\n",
            "\n",
            "Epoch 117/200\n"
          ]
        },
        {
          "name": "stderr",
          "output_type": "stream",
          "text": [
            "                                                              \r"
          ]
        },
        {
          "name": "stdout",
          "output_type": "stream",
          "text": [
            "Train Loss: 0.9626 | Accuracy: 80.11%\n",
            "Val   Loss: 0.8097 | Accuracy: 87.10%\n",
            "No improvement for 10 epochs.\n",
            "\n",
            "Epoch 118/200\n"
          ]
        },
        {
          "name": "stderr",
          "output_type": "stream",
          "text": [
            "                                                              \r"
          ]
        },
        {
          "name": "stdout",
          "output_type": "stream",
          "text": [
            "Train Loss: 0.9599 | Accuracy: 80.24%\n",
            "Val   Loss: 0.8279 | Accuracy: 86.01%\n",
            "No improvement for 11 epochs.\n",
            "\n",
            "Epoch 119/200\n"
          ]
        },
        {
          "name": "stderr",
          "output_type": "stream",
          "text": [
            "                                                              \r"
          ]
        },
        {
          "name": "stdout",
          "output_type": "stream",
          "text": [
            "Train Loss: 0.9604 | Accuracy: 80.23%\n",
            "Val   Loss: 0.7955 | Accuracy: 87.29%\n",
            "No improvement for 12 epochs.\n",
            "\n",
            "Epoch 120/200\n"
          ]
        },
        {
          "name": "stderr",
          "output_type": "stream",
          "text": [
            "                                                              \r"
          ]
        },
        {
          "name": "stdout",
          "output_type": "stream",
          "text": [
            "Train Loss: 0.9579 | Accuracy: 80.35%\n",
            "Val   Loss: 0.8142 | Accuracy: 86.76%\n",
            "No improvement for 13 epochs.\n",
            "\n",
            "Epoch 121/200\n"
          ]
        },
        {
          "name": "stderr",
          "output_type": "stream",
          "text": [
            "                                                              \r"
          ]
        },
        {
          "name": "stdout",
          "output_type": "stream",
          "text": [
            "Train Loss: 0.9597 | Accuracy: 80.17%\n",
            "Val   Loss: 0.8117 | Accuracy: 86.71%\n",
            "No improvement for 14 epochs.\n",
            "\n",
            "Epoch 122/200\n"
          ]
        },
        {
          "name": "stderr",
          "output_type": "stream",
          "text": [
            "                                                              \r"
          ]
        },
        {
          "name": "stdout",
          "output_type": "stream",
          "text": [
            "Train Loss: 0.9527 | Accuracy: 80.65%\n",
            "Val   Loss: 0.8434 | Accuracy: 85.63%\n",
            "No improvement for 15 epochs.\n",
            "\n",
            "Epoch 123/200\n"
          ]
        },
        {
          "name": "stderr",
          "output_type": "stream",
          "text": [
            "                                                              \r"
          ]
        },
        {
          "name": "stdout",
          "output_type": "stream",
          "text": [
            "Train Loss: 0.9545 | Accuracy: 80.44%\n",
            "Val   Loss: 0.8231 | Accuracy: 86.21%\n",
            "No improvement for 16 epochs.\n",
            "\n",
            "Epoch 124/200\n"
          ]
        },
        {
          "name": "stderr",
          "output_type": "stream",
          "text": [
            "                                                              \r"
          ]
        },
        {
          "name": "stdout",
          "output_type": "stream",
          "text": [
            "Train Loss: 0.9569 | Accuracy: 80.37%\n",
            "Val   Loss: 0.8296 | Accuracy: 85.95%\n",
            "No improvement for 17 epochs.\n",
            "\n",
            "Epoch 125/200\n"
          ]
        },
        {
          "name": "stderr",
          "output_type": "stream",
          "text": [
            "                                                              \r"
          ]
        },
        {
          "name": "stdout",
          "output_type": "stream",
          "text": [
            "Train Loss: 0.9575 | Accuracy: 80.35%\n",
            "Val   Loss: 0.7801 | Accuracy: 88.01%\n",
            "Saved best model.\n",
            "\n",
            "Epoch 126/200\n"
          ]
        },
        {
          "name": "stderr",
          "output_type": "stream",
          "text": [
            "                                                              \r"
          ]
        },
        {
          "name": "stdout",
          "output_type": "stream",
          "text": [
            "Train Loss: 0.9522 | Accuracy: 80.62%\n",
            "Val   Loss: 0.8151 | Accuracy: 86.75%\n",
            "No improvement for 1 epochs.\n",
            "\n",
            "Epoch 127/200\n"
          ]
        },
        {
          "name": "stderr",
          "output_type": "stream",
          "text": [
            "                                                              \r"
          ]
        },
        {
          "name": "stdout",
          "output_type": "stream",
          "text": [
            "Train Loss: 0.9539 | Accuracy: 80.40%\n",
            "Val   Loss: 0.8178 | Accuracy: 86.40%\n",
            "No improvement for 2 epochs.\n",
            "\n",
            "Epoch 128/200\n"
          ]
        },
        {
          "name": "stderr",
          "output_type": "stream",
          "text": [
            "                                                              \r"
          ]
        },
        {
          "name": "stdout",
          "output_type": "stream",
          "text": [
            "Train Loss: 0.9510 | Accuracy: 80.68%\n",
            "Val   Loss: 0.8036 | Accuracy: 87.00%\n",
            "No improvement for 3 epochs.\n",
            "\n",
            "Epoch 129/200\n"
          ]
        },
        {
          "name": "stderr",
          "output_type": "stream",
          "text": [
            "                                                              \r"
          ]
        },
        {
          "name": "stdout",
          "output_type": "stream",
          "text": [
            "Train Loss: 0.9492 | Accuracy: 80.83%\n",
            "Val   Loss: 0.8169 | Accuracy: 86.37%\n",
            "No improvement for 4 epochs.\n",
            "\n",
            "Epoch 130/200\n"
          ]
        },
        {
          "name": "stderr",
          "output_type": "stream",
          "text": [
            "                                                              \r"
          ]
        },
        {
          "name": "stdout",
          "output_type": "stream",
          "text": [
            "Train Loss: 0.9507 | Accuracy: 80.80%\n",
            "Val   Loss: 0.9062 | Accuracy: 82.86%\n",
            "No improvement for 5 epochs.\n",
            "\n",
            "Epoch 131/200\n"
          ]
        },
        {
          "name": "stderr",
          "output_type": "stream",
          "text": [
            "                                                              \r"
          ]
        },
        {
          "name": "stdout",
          "output_type": "stream",
          "text": [
            "Train Loss: 0.9531 | Accuracy: 80.43%\n",
            "Val   Loss: 0.8109 | Accuracy: 86.58%\n",
            "No improvement for 6 epochs.\n",
            "\n",
            "Epoch 132/200\n"
          ]
        },
        {
          "name": "stderr",
          "output_type": "stream",
          "text": [
            "                                                              \r"
          ]
        },
        {
          "name": "stdout",
          "output_type": "stream",
          "text": [
            "Train Loss: 0.9502 | Accuracy: 80.53%\n",
            "Val   Loss: 0.8396 | Accuracy: 85.39%\n",
            "No improvement for 7 epochs.\n",
            "\n",
            "Epoch 133/200\n"
          ]
        },
        {
          "name": "stderr",
          "output_type": "stream",
          "text": [
            "                                                              \r"
          ]
        },
        {
          "name": "stdout",
          "output_type": "stream",
          "text": [
            "Train Loss: 0.9524 | Accuracy: 80.66%\n",
            "Val   Loss: 0.8069 | Accuracy: 86.98%\n",
            "No improvement for 8 epochs.\n",
            "\n",
            "Epoch 134/200\n"
          ]
        },
        {
          "name": "stderr",
          "output_type": "stream",
          "text": [
            "                                                              \r"
          ]
        },
        {
          "name": "stdout",
          "output_type": "stream",
          "text": [
            "Train Loss: 0.9536 | Accuracy: 80.57%\n",
            "Val   Loss: 0.8191 | Accuracy: 86.55%\n",
            "No improvement for 9 epochs.\n",
            "\n",
            "Epoch 135/200\n"
          ]
        },
        {
          "name": "stderr",
          "output_type": "stream",
          "text": [
            "                                                              \r"
          ]
        },
        {
          "name": "stdout",
          "output_type": "stream",
          "text": [
            "Train Loss: 0.9508 | Accuracy: 80.62%\n",
            "Val   Loss: 0.8023 | Accuracy: 86.82%\n",
            "No improvement for 10 epochs.\n",
            "\n",
            "Epoch 136/200\n"
          ]
        },
        {
          "name": "stderr",
          "output_type": "stream",
          "text": [
            "                                                              \r"
          ]
        },
        {
          "name": "stdout",
          "output_type": "stream",
          "text": [
            "Train Loss: 0.9492 | Accuracy: 80.72%\n",
            "Val   Loss: 0.8092 | Accuracy: 86.50%\n",
            "No improvement for 11 epochs.\n",
            "\n",
            "Epoch 137/200\n"
          ]
        },
        {
          "name": "stderr",
          "output_type": "stream",
          "text": [
            "                                                              \r"
          ]
        },
        {
          "name": "stdout",
          "output_type": "stream",
          "text": [
            "Train Loss: 0.9449 | Accuracy: 80.85%\n",
            "Val   Loss: 0.8116 | Accuracy: 86.63%\n",
            "No improvement for 12 epochs.\n",
            "\n",
            "Epoch 138/200\n"
          ]
        },
        {
          "name": "stderr",
          "output_type": "stream",
          "text": [
            "                                                              \r"
          ]
        },
        {
          "name": "stdout",
          "output_type": "stream",
          "text": [
            "Train Loss: 0.9477 | Accuracy: 80.63%\n",
            "Val   Loss: 0.8623 | Accuracy: 84.57%\n",
            "No improvement for 13 epochs.\n",
            "\n",
            "Epoch 139/200\n"
          ]
        },
        {
          "name": "stderr",
          "output_type": "stream",
          "text": [
            "                                                              \r"
          ]
        },
        {
          "name": "stdout",
          "output_type": "stream",
          "text": [
            "Train Loss: 0.9452 | Accuracy: 80.98%\n",
            "Val   Loss: 0.8255 | Accuracy: 86.05%\n",
            "No improvement for 14 epochs.\n",
            "\n",
            "Epoch 140/200\n"
          ]
        },
        {
          "name": "stderr",
          "output_type": "stream",
          "text": [
            "                                                              \r"
          ]
        },
        {
          "name": "stdout",
          "output_type": "stream",
          "text": [
            "Train Loss: 0.9444 | Accuracy: 80.82%\n",
            "Val   Loss: 0.8046 | Accuracy: 86.94%\n",
            "No improvement for 15 epochs.\n",
            "\n",
            "Epoch 141/200\n"
          ]
        },
        {
          "name": "stderr",
          "output_type": "stream",
          "text": [
            "                                                              \r"
          ]
        },
        {
          "name": "stdout",
          "output_type": "stream",
          "text": [
            "Train Loss: 0.9456 | Accuracy: 80.93%\n",
            "Val   Loss: 0.8233 | Accuracy: 86.41%\n",
            "No improvement for 16 epochs.\n",
            "\n",
            "Epoch 142/200\n"
          ]
        },
        {
          "name": "stderr",
          "output_type": "stream",
          "text": [
            "                                                              \r"
          ]
        },
        {
          "name": "stdout",
          "output_type": "stream",
          "text": [
            "Train Loss: 0.9485 | Accuracy: 80.64%\n",
            "Val   Loss: 0.8087 | Accuracy: 86.67%\n",
            "No improvement for 17 epochs.\n",
            "\n",
            "Epoch 143/200\n"
          ]
        },
        {
          "name": "stderr",
          "output_type": "stream",
          "text": [
            "                                                              \r"
          ]
        },
        {
          "name": "stdout",
          "output_type": "stream",
          "text": [
            "Train Loss: 0.9460 | Accuracy: 80.81%\n",
            "Val   Loss: 0.8310 | Accuracy: 85.99%\n",
            "No improvement for 18 epochs.\n",
            "\n",
            "Epoch 144/200\n"
          ]
        },
        {
          "name": "stderr",
          "output_type": "stream",
          "text": [
            "                                                              \r"
          ]
        },
        {
          "name": "stdout",
          "output_type": "stream",
          "text": [
            "Train Loss: 0.9482 | Accuracy: 80.67%\n",
            "Val   Loss: 0.8221 | Accuracy: 85.87%\n",
            "No improvement for 19 epochs.\n",
            "\n",
            "Epoch 145/200\n"
          ]
        },
        {
          "name": "stderr",
          "output_type": "stream",
          "text": [
            "                                                              \r"
          ]
        },
        {
          "name": "stdout",
          "output_type": "stream",
          "text": [
            "Train Loss: 0.9423 | Accuracy: 80.94%\n",
            "Val   Loss: 0.8028 | Accuracy: 87.25%\n",
            "No improvement for 20 epochs.\n",
            "\n",
            "Epoch 146/200\n"
          ]
        },
        {
          "name": "stderr",
          "output_type": "stream",
          "text": [
            "                                                              \r"
          ]
        },
        {
          "name": "stdout",
          "output_type": "stream",
          "text": [
            "Train Loss: 0.9394 | Accuracy: 81.16%\n",
            "Val   Loss: 0.8044 | Accuracy: 86.92%\n",
            "No improvement for 21 epochs.\n",
            "\n",
            "Epoch 147/200\n"
          ]
        },
        {
          "name": "stderr",
          "output_type": "stream",
          "text": [
            "                                                              \r"
          ]
        },
        {
          "name": "stdout",
          "output_type": "stream",
          "text": [
            "Train Loss: 0.9457 | Accuracy: 80.80%\n",
            "Val   Loss: 0.8030 | Accuracy: 87.36%\n",
            "No improvement for 22 epochs.\n",
            "\n",
            "Epoch 148/200\n"
          ]
        },
        {
          "name": "stderr",
          "output_type": "stream",
          "text": [
            "                                                              \r"
          ]
        },
        {
          "name": "stdout",
          "output_type": "stream",
          "text": [
            "Train Loss: 0.9386 | Accuracy: 81.23%\n",
            "Val   Loss: 0.8072 | Accuracy: 87.11%\n",
            "No improvement for 23 epochs.\n",
            "\n",
            "Epoch 149/200\n"
          ]
        },
        {
          "name": "stderr",
          "output_type": "stream",
          "text": [
            "                                                              \r"
          ]
        },
        {
          "name": "stdout",
          "output_type": "stream",
          "text": [
            "Train Loss: 0.9411 | Accuracy: 80.93%\n",
            "Val   Loss: 0.8080 | Accuracy: 86.93%\n",
            "No improvement for 24 epochs.\n",
            "\n",
            "Epoch 150/200\n"
          ]
        },
        {
          "name": "stderr",
          "output_type": "stream",
          "text": [
            "                                                              \r"
          ]
        },
        {
          "name": "stdout",
          "output_type": "stream",
          "text": [
            "Train Loss: 0.9432 | Accuracy: 80.84%\n",
            "Val   Loss: 0.8234 | Accuracy: 86.00%\n",
            "No improvement for 25 epochs.\n",
            "\n",
            "Epoch 151/200\n"
          ]
        },
        {
          "name": "stderr",
          "output_type": "stream",
          "text": [
            "                                                              \r"
          ]
        },
        {
          "name": "stdout",
          "output_type": "stream",
          "text": [
            "Train Loss: 0.9359 | Accuracy: 81.17%\n",
            "Val   Loss: 0.7880 | Accuracy: 87.80%\n",
            "No improvement for 26 epochs.\n",
            "\n",
            "Epoch 152/200\n"
          ]
        },
        {
          "name": "stderr",
          "output_type": "stream",
          "text": [
            "                                                              \r"
          ]
        },
        {
          "name": "stdout",
          "output_type": "stream",
          "text": [
            "Train Loss: 0.9443 | Accuracy: 80.94%\n",
            "Val   Loss: 0.8594 | Accuracy: 84.74%\n",
            "No improvement for 27 epochs.\n",
            "\n",
            "Epoch 153/200\n"
          ]
        },
        {
          "name": "stderr",
          "output_type": "stream",
          "text": [
            "                                                              \r"
          ]
        },
        {
          "name": "stdout",
          "output_type": "stream",
          "text": [
            "Train Loss: 0.9365 | Accuracy: 81.04%\n",
            "Val   Loss: 0.8089 | Accuracy: 86.76%\n",
            "No improvement for 28 epochs.\n",
            "\n",
            "Epoch 154/200\n"
          ]
        },
        {
          "name": "stderr",
          "output_type": "stream",
          "text": [
            "                                                              \r"
          ]
        },
        {
          "name": "stdout",
          "output_type": "stream",
          "text": [
            "Train Loss: 0.9407 | Accuracy: 81.02%\n",
            "Val   Loss: 0.8143 | Accuracy: 86.81%\n",
            "No improvement for 29 epochs.\n",
            "\n",
            "Epoch 155/200\n"
          ]
        },
        {
          "name": "stderr",
          "output_type": "stream",
          "text": [
            "                                                           \r"
          ]
        },
        {
          "ename": "KeyboardInterrupt",
          "evalue": "",
          "output_type": "error",
          "traceback": [
            "\u001b[0;31m---------------------------------------------------------------------------\u001b[0m",
            "\u001b[0;31mKeyboardInterrupt\u001b[0m                         Traceback (most recent call last)",
            "Cell \u001b[0;32mIn[57], line 61\u001b[0m\n\u001b[1;32m     59\u001b[0m \u001b[38;5;28;01mfor\u001b[39;00m epoch \u001b[38;5;129;01min\u001b[39;00m \u001b[38;5;28mrange\u001b[39m(epochs):\n\u001b[1;32m     60\u001b[0m     \u001b[38;5;28mprint\u001b[39m(\u001b[38;5;124mf\u001b[39m\u001b[38;5;124m\"\u001b[39m\u001b[38;5;130;01m\\n\u001b[39;00m\u001b[38;5;124mEpoch \u001b[39m\u001b[38;5;132;01m{\u001b[39;00mepoch\u001b[38;5;241m+\u001b[39m\u001b[38;5;241m1\u001b[39m\u001b[38;5;132;01m}\u001b[39;00m\u001b[38;5;124m/\u001b[39m\u001b[38;5;132;01m{\u001b[39;00mepochs\u001b[38;5;132;01m}\u001b[39;00m\u001b[38;5;124m\"\u001b[39m)\n\u001b[0;32m---> 61\u001b[0m     train_loss, train_acc \u001b[38;5;241m=\u001b[39m \u001b[43mtrain\u001b[49m\u001b[43m(\u001b[49m\u001b[43mmodel\u001b[49m\u001b[43m,\u001b[49m\u001b[43m \u001b[49m\u001b[43mtrainloader\u001b[49m\u001b[43m,\u001b[49m\u001b[43m \u001b[49m\u001b[43mcriterion\u001b[49m\u001b[43m,\u001b[49m\u001b[43m \u001b[49m\u001b[43moptimizer\u001b[49m\u001b[43m,\u001b[49m\u001b[43m \u001b[49m\u001b[43mdevice\u001b[49m\u001b[43m)\u001b[49m\n\u001b[1;32m     62\u001b[0m     val_loss, val_acc \u001b[38;5;241m=\u001b[39m evaluate(model, testloader, criterion, device)\n\u001b[1;32m     65\u001b[0m     \u001b[38;5;66;03m# Log metrics\u001b[39;00m\n",
            "Cell \u001b[0;32mIn[57], line 32\u001b[0m, in \u001b[0;36mtrain\u001b[0;34m(model, loader, criterion, optimizer, device)\u001b[0m\n\u001b[1;32m     30\u001b[0m     _, predicted \u001b[38;5;241m=\u001b[39m outputs\u001b[38;5;241m.\u001b[39mmax(\u001b[38;5;241m1\u001b[39m)\n\u001b[1;32m     31\u001b[0m     total \u001b[38;5;241m+\u001b[39m\u001b[38;5;241m=\u001b[39m labels\u001b[38;5;241m.\u001b[39msize(\u001b[38;5;241m0\u001b[39m)\n\u001b[0;32m---> 32\u001b[0m     correct \u001b[38;5;241m+\u001b[39m\u001b[38;5;241m=\u001b[39m \u001b[43mpredicted\u001b[49m\u001b[38;5;241;43m.\u001b[39;49m\u001b[43meq\u001b[49m\u001b[43m(\u001b[49m\u001b[43mlabels\u001b[49m\u001b[43m)\u001b[49m\u001b[38;5;241m.\u001b[39msum()\u001b[38;5;241m.\u001b[39mitem()\n\u001b[1;32m     34\u001b[0m \u001b[38;5;28;01mreturn\u001b[39;00m running_loss \u001b[38;5;241m/\u001b[39m \u001b[38;5;28mlen\u001b[39m(loader), \u001b[38;5;241m100\u001b[39m \u001b[38;5;241m*\u001b[39m correct \u001b[38;5;241m/\u001b[39m total\n",
            "\u001b[0;31mKeyboardInterrupt\u001b[0m: "
          ]
        }
      ],
      "source": [
        "# Set up device \n",
        "device = torch.device(\"cuda\" if torch.cuda.is_available() else \"cpu\")\n",
        "\n",
        "# Save model\n",
        "model.to(device)\n",
        "\n",
        "# Log training \n",
        "train_losses, val_losses = [], []\n",
        "train_accuracies = []\n",
        "val_accuracies = []\n",
        "\n",
        "# Training and Validation Loops \n",
        "def train(model, loader, criterion, optimizer, device):\n",
        "    model.train()\n",
        "    running_loss = 0.0\n",
        "    correct = 0\n",
        "    total = 0\n",
        "\n",
        "    for inputs, labels in tqdm(loader, desc=\"Training\", leave=False):\n",
        "        inputs, labels = inputs.to(device), labels.to(device)\n",
        "\n",
        "        optimizer.zero_grad()\n",
        "        outputs = model(inputs)\n",
        "\n",
        "        loss = criterion(outputs, labels)\n",
        "        loss.backward()\n",
        "        optimizer.step()\n",
        "\n",
        "        running_loss += loss.item()\n",
        "        _, predicted = outputs.max(1)\n",
        "        total += labels.size(0)\n",
        "        correct += predicted.eq(labels).sum().item()\n",
        "\n",
        "    return running_loss / len(loader), 100 * correct / total\n",
        "\n",
        "def evaluate(model, loader, criterion, device):\n",
        "    model.eval()\n",
        "    total = 0\n",
        "    correct = 0\n",
        "    loss = 0.0\n",
        "\n",
        "    with torch.no_grad():\n",
        "        for inputs, labels in tqdm(loader, desc=\"Validating\", leave=False):\n",
        "            inputs, labels = inputs.to(device), labels.to(device)\n",
        "            outputs = model(inputs)\n",
        "            loss += criterion(outputs, labels).item()\n",
        "            _, predicted = outputs.max(1)\n",
        "            total += labels.size(0)\n",
        "            correct += predicted.eq(labels).sum().item()\n",
        "\n",
        "    return loss / len(loader), 100 * correct / total\n",
        "\n",
        "# Main Loop \n",
        "# patience = 20  # Number of epochs to wait for improvement\n",
        "early_stop_counter = 0 # Counter for early stopping\n",
        "epochs = 200\n",
        "best_acc = 0.0\n",
        "\n",
        "for epoch in range(epochs):\n",
        "    print(f\"\\nEpoch {epoch+1}/{epochs}\")\n",
        "    train_loss, train_acc = train(model, trainloader, criterion, optimizer, device)\n",
        "    val_loss, val_acc = evaluate(model, testloader, criterion, device)\n",
        "\n",
        "\n",
        "    # Log metrics\n",
        "    train_losses.append(train_loss)\n",
        "    val_losses.append(val_loss)\n",
        "    train_accuracies.append(train_acc)\n",
        "    val_accuracies.append(val_acc)\n",
        "\n",
        "    print(f\"Train Loss: {train_loss:.4f} | Accuracy: {train_acc:.2f}%\")\n",
        "    print(f\"Val   Loss: {val_loss:.4f} | Accuracy: {val_acc:.2f}%\")\n",
        "\n",
        "    # Save best model\n",
        "    if val_acc > best_acc:\n",
        "        best_acc = val_acc\n",
        "        early_stop_counter=0\n",
        "        torch.save(model.state_dict(), \"best_model.pth\")\n",
        "        print(\"Saved best model.\")\n",
        "    else:\n",
        "        early_stop_counter += 1\n",
        "        print(f\"No improvement for {early_stop_counter} epochs.\")\n",
        "\n",
        "    # if early_stop_counter >= patience:\n",
        "    #     print(f\"Early stopping triggered after {epoch+1} epochs.\")\n",
        "    #     break\n",
        "print(\"\\nTraining Complete\")\n",
        "\n",
        "# Print Final Averages \n",
        "avg_train_loss = sum(train_losses) / len(train_losses)\n",
        "avg_val_loss = sum(val_losses) / len(val_losses)\n",
        "avg_train_acc = sum(train_accuracies) / len(train_accuracies)\n",
        "avg_val_acc = sum(val_accuracies) / len(val_accuracies)\n",
        "\n",
        "print(\"\\nFinal Averages Over All Epochs\")\n",
        "print(f\"Average Train Loss: {avg_train_loss:.4f}\")\n",
        "print(f\"Average Train Accuracy: {avg_train_acc:.2f}%\")\n",
        "print(f\"Average Val   Loss: {avg_val_loss:.4f}\")\n",
        "print(f\"Average Val   Accuracy: {avg_val_acc:.2f}%\")\n",
        "\n",
        "\n",
        "# Plot results\n",
        "\n",
        "# Plot Loss\n",
        "plt.figure()\n",
        "plt.plot(train_losses, label='Train Loss')\n",
        "plt.plot(val_losses, label='Validation Loss')\n",
        "plt.title(\"Loss Curve\")\n",
        "plt.xlabel(\"Epoch\")\n",
        "plt.ylabel(\"Loss\")\n",
        "plt.legend()\n",
        "plt.grid()\n",
        "plt.savefig(\"loss_curve.png\")\n",
        "\n",
        "# Plot Accuracy\n",
        "plt.figure()\n",
        "plt.plot(train_accuracies, label='Train Accuracy')\n",
        "plt.plot(val_accuracies, label='Validation Accuracy')\n",
        "plt.title(\"Accuracy Curve\")\n",
        "plt.xlabel(\"Epoch\")\n",
        "plt.ylabel(\"Accuracy (%)\")\n",
        "plt.legend()\n",
        "plt.grid()\n",
        "plt.savefig(\"accuracy_curve.png\")\n",
        "\n",
        "print(\"Plots saved: loss_curve.png and accuracy_curve.png\")\n"
      ]
    }
  ],
  "metadata": {
    "accelerator": "GPU",
    "colab": {
      "gpuType": "T4",
      "provenance": []
    },
    "kernelspec": {
      "display_name": "Python 3 (ipykernel)",
      "language": "python",
      "name": "python3"
    },
    "language_info": {
      "codemirror_mode": {
        "name": "ipython",
        "version": 3
      },
      "file_extension": ".py",
      "mimetype": "text/x-python",
      "name": "python",
      "nbconvert_exporter": "python",
      "pygments_lexer": "ipython3",
      "version": "3.11.7"
    }
  },
  "nbformat": 4,
  "nbformat_minor": 0
}
