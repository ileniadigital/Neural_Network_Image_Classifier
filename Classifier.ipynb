{
  "cells": [
    {
      "cell_type": "markdown",
      "metadata": {
        "id": "R-ugYIZG_vwU"
      },
      "source": [
        "# Read dataset and create data loaders"
      ]
    },
    {
      "cell_type": "code",
      "execution_count": 80,
      "metadata": {
        "id": "sUdX_1lQ7Zf8"
      },
      "outputs": [],
      "source": [
        "# Import torch and CIFAR dataset\n",
        "import torch\n",
        "import torch.nn as nn\n",
        "import torchvision\n",
        "import torchvision.transforms as transforms\n",
        "from torch.utils.data import DataLoader\n",
        "from tqdm import tqdm\n",
        "import torch.optim as optim\n",
        "import torch.nn.functional as F\n",
        "from torch.optim.lr_scheduler import CosineAnnealingLR\n",
        "\n",
        "# Import matplotlib and numpy for graphs\n",
        "import matplotlib.pyplot as plt\n",
        "import numpy as np\n"
      ]
    },
    {
      "cell_type": "code",
      "execution_count": 81,
      "metadata": {
        "id": "Dy0dXGIAAs-N"
      },
      "outputs": [
        {
          "name": "stdout",
          "output_type": "stream",
          "text": [
            "Batch size: 64\n",
            "Files already downloaded and verified\n",
            "Files already downloaded and verified\n"
          ]
        }
      ],
      "source": [
        "'''\n",
        "Import CIFAR dataset, define labels and load training and validation dataset\n",
        "Reference for loading dataset: https://pytorch.org/tutorials/beginner/blitz/cifar10_tutorial.html\n",
        "Reference for augmentation: https://pytorch.org/vision/stable/transforms.html\n",
        "'''\n",
        "batch_size=64 \n",
        "print('Batch size:', batch_size)\n",
        "\n",
        "# Normalisation and std values for RGB in dataset\n",
        "mean = [0.485, 0.456, 0.406]\n",
        "std = [0.229, 0.224, 0.225]\n",
        "\n",
        "# Data augmentation for training set\n",
        "transform_train = transforms.Compose([\n",
        "    transforms.RandomCrop(32, padding=4),  # Randomly crop the image with padding\n",
        "    transforms.RandomHorizontalFlip(),    # Randomly flip the image horizontally\n",
        "    transforms.ColorJitter(brightness=0.2, contrast=0.2, saturation=0.2, hue=0.1),  # Adjust brightness, contrast, saturation, and hue\n",
        "    transforms.RandomRotation(15),        # Randomly rotate the image by max 15 degrees\n",
        "    transforms.RandomAffine(degrees=10, translate=(0.1, 0.1)),  # Randomly translate the image\n",
        "    transforms.ToTensor(),                # Convert image to tensor\n",
        "    transforms.Normalize(mean=mean, std=std),  # Normalize with mean and std values\n",
        "    transforms.RandomErasing(p=0.5, scale=(0.02, 0.3))  # Randomly erase a portion of the image\n",
        "])\n",
        "\n",
        "# Validation set (no augmentation)\n",
        "transform_test = transforms.Compose([\n",
        "    transforms.ToTensor(),\n",
        "    transforms.Normalize(mean=mean, std=std)  # Normalize with mean and std values\n",
        "])\n",
        "\n",
        "# Load training and testing datasets\n",
        "trainset = torchvision.datasets.CIFAR10(root='./data', train=True, download=True, transform=transform_train)\n",
        "trainloader = torch.utils.data.DataLoader(trainset, batch_size=batch_size, shuffle=True, num_workers=2)\n",
        "\n",
        "testset = torchvision.datasets.CIFAR10(root='./data', train=False, download=True, transform=transform_test)\n",
        "testloader = torch.utils.data.DataLoader(testset, batch_size=batch_size, shuffle=False, num_workers=2)\n",
        "\n",
        "# Define labels\n",
        "classes = ('plane', 'car', 'bird', 'cat',\n",
        "           'deer', 'dog', 'frog', 'horse', 'ship', 'lorry')"
      ]
    },
    {
      "cell_type": "code",
      "execution_count": 82,
      "metadata": {
        "id": "ejYbu1lREwwA"
      },
      "outputs": [],
      "source": [
        "# # From the PyTorch's tutorial on image classification\n",
        "# import matplotlib.pyplot as plt\n",
        "# import numpy as np\n",
        "\n",
        "# def imshow(img):\n",
        "#     '''\n",
        "#     Show an image\n",
        "#     Input: image file to show\n",
        "#     Output: image\n",
        "#     '''\n",
        "#     img = img / 2 + 0.5     # unnormalize\n",
        "#     npimg = img.numpy()\n",
        "#     plt.imshow(np.transpose(npimg, (1, 2, 0)))\n",
        "#     plt.show()\n",
        "\n",
        "# # Get random training images\n",
        "# dataiter = iter(trainloader)\n",
        "# images, labels = next(dataiter)\n",
        "\n",
        "# # Show images\n",
        "# imshow(torchvision.utils.make_grid(images))\n",
        "# # Print labels\n",
        "# print(' '.join(f'{classes[labels[j]]:5s}' for j in range(batch_size)))"
      ]
    },
    {
      "cell_type": "markdown",
      "metadata": {
        "id": "28nn7m9c_1AK"
      },
      "source": [
        "# Main model\n",
        "Divided as such:\n",
        "\n",
        "\n",
        "*   **Stem**: takes the images as inputs, extracts features from them\n",
        "*   **Backbone**: made up of *K* branches, made up of an expert branch\n",
        "*   **Classifier**: takes input from the last block\n",
        "*   **Model**: wraps all together\n",
        "\n",
        "\n",
        "\n",
        "\n",
        "\n"
      ]
    },
    {
      "cell_type": "markdown",
      "metadata": {
        "id": "BjsIHiWpC7ir"
      },
      "source": [
        "## Stem\n",
        "*   Takes images as inputs\n",
        "*   Extracts a feature representation from them"
      ]
    },
    {
      "cell_type": "code",
      "execution_count": 83,
      "metadata": {
        "id": "GPmPcMg3MKuo"
      },
      "outputs": [],
      "source": [
        "class Stem(nn.Module):\n",
        "  '''\n",
        "  Extract features using a Resnet-18 stem\n",
        "  Reference: Week 09 Lab\n",
        "  '''\n",
        "  def __init__(self, input_channels, middle_channels, output_channels):\n",
        "     super(Stem,self).__init__()\n",
        "     # Default parameters\n",
        "     kernel_size=3\n",
        "     stride=1\n",
        "     padding=1\n",
        "     \n",
        "     # Combine multiple layers\n",
        "     self.stem = nn.Sequential(\n",
        "       nn.Conv2d(input_channels, middle_channels, kernel_size = kernel_size, stride = stride, padding = padding),\n",
        "       nn.BatchNorm2d(middle_channels), \n",
        "       nn.ReLU(inplace=True),\n",
        "       nn.Conv2d(middle_channels, middle_channels,kernel_size = kernel_size, stride = stride, padding = padding),\n",
        "       nn.BatchNorm2d(middle_channels),\n",
        "       nn.ReLU(inplace=True),\n",
        "       nn.MaxPool2d(2), # Half the size of the image\n",
        "       nn.Conv2d(middle_channels, output_channels, kernel_size = kernel_size, stride = stride, padding = padding),\n",
        "       nn.BatchNorm2d(output_channels),\n",
        "       nn.ReLU(inplace=True),\n",
        "       nn.MaxPool2d(2) # Half the size of the image\n",
        "       )\n",
        "\n",
        "  def forward(self,x):\n",
        "    x = self.stem(x)\n",
        "    return x"
      ]
    },
    {
      "cell_type": "markdown",
      "metadata": {
        "id": "teldaHE3NAuT"
      },
      "source": [
        "## Block"
      ]
    },
    {
      "cell_type": "code",
      "execution_count": 84,
      "metadata": {
        "id": "q50v5kSs9Lbc"
      },
      "outputs": [],
      "source": [
        "class ExpertBranch(nn.Module):\n",
        "  '''\n",
        "  Expert branch predicting vector a with K elements from input tensor X\n",
        "  '''\n",
        "  def __init__(self, input_channels, k, r):\n",
        "    super(ExpertBranch,self).__init__()\n",
        "    # Spatially pool x\n",
        "    self.pool= nn.AdaptiveAvgPool2d(1)\n",
        "    #Forward through fc1, reducing by r\n",
        "    self.fc1= nn.Linear(input_channels, input_channels//r)\n",
        "    # Activation function ReLu\n",
        "    self.relu= nn.ReLU()\n",
        "    # Forward through fc2\n",
        "    self.fc2= nn.Linear(input_channels//r,k)\n",
        "\n",
        "  def forward(self,x):\n",
        "    # Spatially pool X\n",
        "    x = self.pool(x)\n",
        "    # Forward through fc1, reducing by r\n",
        "    x= x.squeeze(-1).squeeze(-1)\n",
        "    x = self.fc1(x)\n",
        "    # Processed through non-linear activation g\n",
        "    x = F.relu(x)\n",
        "    # Pass through fc2\n",
        "    x = self.fc2(x)\n",
        "    # Forward with softmax\n",
        "    x = F.softmax(x,dim=1)\n",
        "    return x"
      ]
    },
    {
      "cell_type": "code",
      "execution_count": 85,
      "metadata": {
        "id": "xUNibZ2FNE3V"
      },
      "outputs": [],
      "source": [
        "class Block(nn.Module):\n",
        "  '''\n",
        "  Block\n",
        "  '''\n",
        "  def __init__(self, input_channels, output_channels, k, r, num_convs_per_path=2):\n",
        "    super(Block, self).__init__()\n",
        "    # Default parameters\n",
        "    kernel_size=3\n",
        "    stride=1\n",
        "    padding=1\n",
        "\n",
        "    # Set k and expert branch\n",
        "    self.k= k\n",
        "    self.expertBranch = ExpertBranch(input_channels, k=k, r=r)\n",
        "\n",
        "    # Input from first block\n",
        "    # Input from previous block for rest\n",
        "    # Generate vector a with K elements from X as a= E(X)\n",
        "    # Create K convolutional layers\n",
        "    # self.convs= nn.ModuleList([\n",
        "    #     nn.Conv2d(input_channels, output_channels, kernel_size=kernel_size, stride= stride, padding=padding)\n",
        "    #     for _ in range(k)\n",
        "    # ])\n",
        "\n",
        "    # num_convs_per_path = 23 # Number of conv layers in each path\n",
        "    self.conv_paths = nn.ModuleList()\n",
        "    for _ in range(k):\n",
        "        conv_stack = []\n",
        "        # First conv in stack: input_channels → output_channels\n",
        "        conv_stack.append(nn.Conv2d(input_channels, output_channels, kernel_size=3, padding=1))\n",
        "        conv_stack.append(nn.BatchNorm2d(output_channels))\n",
        "        conv_stack.append(nn.ReLU(inplace=True))\n",
        "        \n",
        "        # Additional convs in stack: output_channels → output_channels\n",
        "        for _ in range(num_convs_per_path - 1):\n",
        "            conv_stack.append(nn.Conv2d(output_channels, output_channels, kernel_size=3, padding=1))\n",
        "            conv_stack.append(nn.BatchNorm2d(output_channels))\n",
        "            conv_stack.append(nn.ReLU(inplace=True))\n",
        "        \n",
        "        self.conv_paths.append(nn.Sequential(*conv_stack))\n",
        "    \n",
        "    # Optional 1x1 conv for identity shortcut if dimensions don't match\n",
        "    self.use_shortcut = (input_channels != output_channels)\n",
        "    if self.use_shortcut:\n",
        "        self.shortcut = nn.Sequential(\n",
        "            nn.Conv2d(input_channels, output_channels, kernel_size=1, stride=1, bias=False),\n",
        "            nn.BatchNorm2d(output_channels)\n",
        "        )\n",
        "\n",
        "  def forward(self,x):\n",
        "    identity= x\n",
        "    # Vector a from expert branch\n",
        "    a = self.expertBranch(x)\n",
        "    # Convolutional layers \n",
        "    # conv_outputs = [conv(x) for conv in self.convs]\n",
        "    # stacked = torch.stack(conv_outputs, dim=1)\n",
        "    # # Create vector O\n",
        "    # a= a.view(a.size(0), self.k, 1,1,1)\n",
        "\n",
        "    # out = (a* stacked).sum(dim=1)\n",
        "\n",
        "    # Apply each VGG-style conv path to the input\n",
        "    path_outputs = [path(x) for path in self.conv_paths]\n",
        "    \n",
        "    # Stack and weight the path outputs using vector a\n",
        "    stacked = torch.stack(path_outputs, dim=1)\n",
        "    a = a.view(a.size(0), self.k, 1, 1, 1)  # Reshape for broadcasting\n",
        "    out = (a * stacked).sum(dim=1)\n",
        "    \n",
        "    # Apply skip connection with dimension adjustment if needed\n",
        "    if self.use_shortcut:\n",
        "        identity = self.shortcut(identity)\n",
        "    # Skip connection to stablise gradient descent\n",
        "    out += identity\n",
        "    out = F.relu(out) # activation after skip\n",
        "\n",
        "    return out"
      ]
    },
    {
      "cell_type": "markdown",
      "metadata": {
        "id": "NatobdwZM-dN"
      },
      "source": [
        "## Backbone"
      ]
    },
    {
      "cell_type": "code",
      "execution_count": 86,
      "metadata": {
        "id": "2uZ7am7LOxUi"
      },
      "outputs": [],
      "source": [
        "# class Backbone(nn.Module):\n",
        "#   '''\n",
        "#   N blocks\n",
        "#   '''\n",
        "#   def __init__(self, input_channels, hidden_channels, num_blocks, k, r):\n",
        "#     super(Backbone, self).__init__()\n",
        "#     self.blocks= nn.ModuleList()\n",
        "\n",
        "#     # First block takes input from stem\n",
        "#     self.blocks.append(Block(input_channels, hidden_channels, k=k, r=r))\n",
        "\n",
        "#     # Rest of blocks take input form previous block\n",
        "#     for _ in range(1, num_blocks):\n",
        "#       self.blocks.append(Block(hidden_channels, hidden_channels, k=k, r=r))\n",
        "\n",
        "#   def forward(self, x):\n",
        "#     for idx, block in enumerate(self.blocks):\n",
        "#       x = block(x)\n",
        "#     return x"
      ]
    },
    {
      "cell_type": "code",
      "execution_count": 87,
      "metadata": {},
      "outputs": [],
      "source": [
        "class Backbone(nn.Module):\n",
        "    '''\n",
        "    Backbone with N number of blocks\n",
        "    '''\n",
        "    def __init__(self, input_channels, hidden_channels, num_blocks, k, r):\n",
        "        super(Backbone, self).__init__()\n",
        "        \n",
        "        blocks = []\n",
        "        channels = [input_channels] + [hidden_channels*(2**i) for i in range(num_blocks)]\n",
        "        \n",
        "        for i in range(num_blocks):\n",
        "            # Add VGG-style expert block\n",
        "            blocks.append(\n",
        "                Block(\n",
        "                    input_channels=channels[i],\n",
        "                    output_channels=channels[i+1],\n",
        "                    k=k,\n",
        "                    r=r,\n",
        "                    num_convs_per_path=2 if i < 2 else 3  # VGG uses 2 convs in early blocks, 3 in later ones\n",
        "                )\n",
        "            )\n",
        "            \n",
        "            # Add pooling layer after each block except the last one\n",
        "            if i < 2:\n",
        "                blocks.append(nn.MaxPool2d(kernel_size=2, stride=2))\n",
        "        \n",
        "        self.backbone = nn.Sequential(*blocks)\n",
        "    \n",
        "    def forward(self, x):\n",
        "        return self.backbone(x)"
      ]
    },
    {
      "cell_type": "markdown",
      "metadata": {
        "id": "Zgi2QD7KNC9v"
      },
      "source": [
        "## Classifier"
      ]
    },
    {
      "cell_type": "code",
      "execution_count": 88,
      "metadata": {
        "id": "t8QmbjyB4feJ"
      },
      "outputs": [],
      "source": [
        "class Classifier(nn.Module):\n",
        "  def __init__(self, input_channels, num_classes, use_mlp):\n",
        "    super(Classifier,self).__init__()\n",
        "    # Default parameters\n",
        "    dropout_rate=0.3\n",
        "    # Spatially pool\n",
        "    self.pool = nn.AdaptiveAvgPool2d(1)\n",
        "    self.use_mlp= use_mlp\n",
        "\n",
        "    if use_mlp:\n",
        "      self.classifier= nn.Sequential(\n",
        "          nn.Linear(input_channels, input_channels*2),\n",
        "          nn.ReLU(),\n",
        "          nn.Dropout(dropout_rate), # Deeper network with 3 layers\n",
        "          nn.Linear(input_channels*2, input_channels),\n",
        "          nn.ReLU(),\n",
        "          nn.Dropout(dropout_rate),\n",
        "          nn.Linear(input_channels, num_classes)\n",
        "      )\n",
        "    else:\n",
        "      self.classifier= nn.Linear(input_channels, num_classes)\n",
        "\n",
        "  def forward(self, x):\n",
        "    x = self.pool(x).squeeze(-1).squeeze(-1)\n",
        "    out = self.classifier(x)\n",
        "    return out\n"
      ]
    },
    {
      "cell_type": "markdown",
      "metadata": {
        "id": "ySRxujey4gN3"
      },
      "source": [
        "# Model"
      ]
    },
    {
      "cell_type": "code",
      "execution_count": 89,
      "metadata": {
        "id": "YY9DBSBo4jpP"
      },
      "outputs": [],
      "source": [
        "# class Model(nn.Module):\n",
        "#   def __init__(self, input_channels, output_channels, middle_channels, hidden_channels, num_blocks, k, r, num_classes, use_mlp):\n",
        "#     super(Model, self).__init__()\n",
        "#     # Call stem\n",
        "#     self.stem= Stem(\n",
        "#       input_channels=input_channels,\n",
        "#       middle_channels=middle_channels,\n",
        "#       output_channels=output_channels\n",
        "#     )\n",
        "#     # Call backbone\n",
        "#     self.backbone= Backbone(\n",
        "#       input_channels=output_channels, \n",
        "#       hidden_channels= hidden_channels, \n",
        "#       num_blocks=num_blocks,\n",
        "#       k=k, \n",
        "#       r=r)\n",
        "#     # Call classifier\n",
        "#     self.classifier= Classifier(\n",
        "#       input_channels=hidden_channels, \n",
        "#       num_classes=num_classes,\n",
        "#       use_mlp= use_mlp)\n",
        "\n",
        "#   def forward(self,x):\n",
        "#     x= self.stem(x)\n",
        "#     x= self.backbone(x)\n",
        "#     x= self.classifier(x)\n",
        "#     return x"
      ]
    },
    {
      "cell_type": "code",
      "execution_count": 90,
      "metadata": {},
      "outputs": [],
      "source": [
        "class Model(nn.Module):\n",
        "    def __init__(self, input_channels, output_channels, middle_channels, hidden_channels, num_blocks, k, r, num_classes, use_mlp):\n",
        "        super(Model, self).__init__()\n",
        "        \n",
        "        # Keep your existing stem\n",
        "        self.stem = Stem(\n",
        "            input_channels=input_channels,\n",
        "            middle_channels=middle_channels,\n",
        "            output_channels=output_channels\n",
        "        )\n",
        "        \n",
        "        # Use VGG-style backbone with expert blocks\n",
        "        self.backbone = Backbone(\n",
        "            input_channels=output_channels,\n",
        "            hidden_channels=hidden_channels,\n",
        "            num_blocks=num_blocks,\n",
        "            k=k,\n",
        "            r=r\n",
        "        )\n",
        "        \n",
        "        # Calculate the output channels from the backbone\n",
        "        final_channels = hidden_channels * (2**(num_blocks-1))\n",
        "        \n",
        "        # Classifier remains the same\n",
        "        self.classifier = Classifier(\n",
        "            input_channels=final_channels,\n",
        "            num_classes=num_classes,\n",
        "            use_mlp=use_mlp\n",
        "        )\n",
        "    \n",
        "    def forward(self, x):\n",
        "        x = self.stem(x)\n",
        "        x = self.backbone(x)\n",
        "        x = self.classifier(x)\n",
        "        return x"
      ]
    },
    {
      "cell_type": "markdown",
      "metadata": {
        "id": "tC2qAy2b_3KO"
      },
      "source": [
        "# Create the loss and optmiser\n"
      ]
    },
    {
      "cell_type": "code",
      "execution_count": null,
      "metadata": {
        "id": "DGJbtSC3EcHy"
      },
      "outputs": [],
      "source": [
        "# model = Model(\n",
        "#     input_channels=3,\n",
        "#     output_channels=128,\n",
        "#     middle_channels=64,\n",
        "#     hidden_channels=128,\n",
        "#     num_blocks=7,\n",
        "#     k=4,\n",
        "#     r=8,\n",
        "#     num_classes=10,\n",
        "#     use_mlp=True\n",
        "# )\n",
        "\n",
        "model = Model(\n",
        "    input_channels=3,\n",
        "    output_channels=64,\n",
        "    middle_channels=32,\n",
        "    hidden_channels=128,  # Start with 64 channels and double after each block\n",
        "    num_blocks=4,        # 4-5 blocks is typical for VGG\n",
        "    k=8,                 # Keep your expert branches\n",
        "    r=8,\n",
        "    num_classes=10,\n",
        "    use_mlp=True\n",
        ")\n",
        "# Weight Initialisation using He initialisation\n",
        "def init_weights(m):\n",
        "    if isinstance(m, nn.Conv2d):\n",
        "        nn.init.kaiming_normal_(m.weight, mode='fan_out', nonlinearity='relu')\n",
        "    elif isinstance(m, nn.BatchNorm2d):\n",
        "        nn.init.constant_(m.weight, 1)\n",
        "        nn.init.constant_(m.bias, 0)\n",
        "    elif isinstance(m, nn.Linear):\n",
        "        nn.init.kaiming_normal_(m.weight)\n",
        "        if m.bias is not None:\n",
        "            nn.init.constant_(m.bias, 0)\n",
        "\n",
        "model.apply(init_weights)\n",
        "\n",
        "criterion = nn.CrossEntropyLoss(label_smoothing=0.1) # Label smoothing to reduce overfitting\n",
        "# optimizer = optim.SGD(model.parameters(), lr=0.01, weight_decay=5e-4, momentum=0.9, nesterov=True)\n",
        "optimizer = optim.AdamW(model.parameters(), lr=0.0001, weight_decay=1e-4)\n",
        "# scheduler= torch.optim.lr_scheduler.CosineAnnealingLR(optimizer, T_max=200, eta_min=0.00001) # Learning rate scheduler\n",
        "scheduler = CosineAnnealingLR(optimizer, T_max=200)"
      ]
    },
    {
      "cell_type": "markdown",
      "metadata": {
        "id": "VlNFWcuJ_8dY"
      },
      "source": [
        "# Training & Testing"
      ]
    },
    {
      "cell_type": "code",
      "execution_count": 92,
      "metadata": {
        "colab": {
          "base_uri": "https://localhost:8080/"
        },
        "id": "JdK9bHyHRaVt",
        "outputId": "f59cac49-555d-4148-9435-d29fb3076c79"
      },
      "outputs": [
        {
          "name": "stdout",
          "output_type": "stream",
          "text": [
            "\n",
            "Epoch 1/200\n"
          ]
        },
        {
          "name": "stderr",
          "output_type": "stream",
          "text": [
            "                                                             \r"
          ]
        },
        {
          "name": "stdout",
          "output_type": "stream",
          "text": [
            "Train Loss: 1.9769 | Accuracy: 31.27%\n",
            "Val   Loss: 1.6782 | Accuracy: 44.41%\n",
            "Saved best model.\n",
            "\n",
            "Epoch 2/200\n"
          ]
        },
        {
          "name": "stderr",
          "output_type": "stream",
          "text": [
            "                                                             \r"
          ]
        },
        {
          "name": "stdout",
          "output_type": "stream",
          "text": [
            "Train Loss: 1.7573 | Accuracy: 41.51%\n",
            "Val   Loss: 1.5621 | Accuracy: 49.81%\n",
            "Saved best model.\n",
            "\n",
            "Epoch 3/200\n"
          ]
        },
        {
          "name": "stderr",
          "output_type": "stream",
          "text": [
            "                                                             \r"
          ]
        },
        {
          "name": "stdout",
          "output_type": "stream",
          "text": [
            "Train Loss: 1.6666 | Accuracy: 46.02%\n",
            "Val   Loss: 1.4814 | Accuracy: 54.35%\n",
            "Saved best model.\n",
            "\n",
            "Epoch 4/200\n"
          ]
        },
        {
          "name": "stderr",
          "output_type": "stream",
          "text": [
            "                                                             \r"
          ]
        },
        {
          "name": "stdout",
          "output_type": "stream",
          "text": [
            "Train Loss: 1.6041 | Accuracy: 49.17%\n",
            "Val   Loss: 1.4184 | Accuracy: 57.49%\n",
            "Saved best model.\n",
            "\n",
            "Epoch 5/200\n"
          ]
        },
        {
          "name": "stderr",
          "output_type": "stream",
          "text": [
            "                                                             \r"
          ]
        },
        {
          "name": "stdout",
          "output_type": "stream",
          "text": [
            "Train Loss: 1.5533 | Accuracy: 51.91%\n",
            "Val   Loss: 1.3355 | Accuracy: 62.17%\n",
            "Saved best model.\n",
            "\n",
            "Epoch 6/200\n"
          ]
        },
        {
          "name": "stderr",
          "output_type": "stream",
          "text": [
            "                                                             \r"
          ]
        },
        {
          "name": "stdout",
          "output_type": "stream",
          "text": [
            "Train Loss: 1.5174 | Accuracy: 53.85%\n",
            "Val   Loss: 1.3112 | Accuracy: 63.26%\n",
            "Saved best model.\n",
            "\n",
            "Epoch 7/200\n"
          ]
        },
        {
          "name": "stderr",
          "output_type": "stream",
          "text": [
            "                                                             \r"
          ]
        },
        {
          "name": "stdout",
          "output_type": "stream",
          "text": [
            "Train Loss: 1.4806 | Accuracy: 55.58%\n",
            "Val   Loss: 1.2683 | Accuracy: 65.76%\n",
            "Saved best model.\n",
            "\n",
            "Epoch 8/200\n"
          ]
        },
        {
          "name": "stderr",
          "output_type": "stream",
          "text": [
            "                                                             \r"
          ]
        },
        {
          "name": "stdout",
          "output_type": "stream",
          "text": [
            "Train Loss: 1.4483 | Accuracy: 57.16%\n",
            "Val   Loss: 1.2394 | Accuracy: 66.90%\n",
            "Saved best model.\n",
            "\n",
            "Epoch 9/200\n"
          ]
        },
        {
          "name": "stderr",
          "output_type": "stream",
          "text": [
            "                                                             \r"
          ]
        },
        {
          "name": "stdout",
          "output_type": "stream",
          "text": [
            "Train Loss: 1.4161 | Accuracy: 58.90%\n",
            "Val   Loss: 1.2168 | Accuracy: 67.35%\n",
            "Saved best model.\n",
            "\n",
            "Epoch 10/200\n"
          ]
        },
        {
          "name": "stderr",
          "output_type": "stream",
          "text": [
            "                                                             \r"
          ]
        },
        {
          "name": "stdout",
          "output_type": "stream",
          "text": [
            "Train Loss: 1.3873 | Accuracy: 60.23%\n",
            "Val   Loss: 1.1941 | Accuracy: 69.16%\n",
            "Saved best model.\n",
            "\n",
            "Epoch 11/200\n"
          ]
        },
        {
          "name": "stderr",
          "output_type": "stream",
          "text": [
            "                                                             \r"
          ]
        },
        {
          "name": "stdout",
          "output_type": "stream",
          "text": [
            "Train Loss: 1.3698 | Accuracy: 60.83%\n",
            "Val   Loss: 1.1589 | Accuracy: 70.47%\n",
            "Saved best model.\n",
            "\n",
            "Epoch 12/200\n"
          ]
        },
        {
          "name": "stderr",
          "output_type": "stream",
          "text": [
            "                                                             \r"
          ]
        },
        {
          "name": "stdout",
          "output_type": "stream",
          "text": [
            "Train Loss: 1.3396 | Accuracy: 62.47%\n",
            "Val   Loss: 1.1451 | Accuracy: 71.60%\n",
            "Saved best model.\n",
            "\n",
            "Epoch 13/200\n"
          ]
        },
        {
          "name": "stderr",
          "output_type": "stream",
          "text": [
            "                                                             \r"
          ]
        },
        {
          "name": "stdout",
          "output_type": "stream",
          "text": [
            "Train Loss: 1.3204 | Accuracy: 63.11%\n",
            "Val   Loss: 1.1173 | Accuracy: 72.39%\n",
            "Saved best model.\n",
            "\n",
            "Epoch 14/200\n"
          ]
        },
        {
          "name": "stderr",
          "output_type": "stream",
          "text": [
            "                                                             \r"
          ]
        },
        {
          "name": "stdout",
          "output_type": "stream",
          "text": [
            "Train Loss: 1.3021 | Accuracy: 64.28%\n",
            "Val   Loss: 1.0941 | Accuracy: 73.74%\n",
            "Saved best model.\n",
            "\n",
            "Epoch 15/200\n"
          ]
        },
        {
          "name": "stderr",
          "output_type": "stream",
          "text": [
            "                                                             \r"
          ]
        },
        {
          "name": "stdout",
          "output_type": "stream",
          "text": [
            "Train Loss: 1.2841 | Accuracy: 65.06%\n",
            "Val   Loss: 1.0835 | Accuracy: 74.22%\n",
            "Saved best model.\n",
            "\n",
            "Epoch 16/200\n"
          ]
        },
        {
          "name": "stderr",
          "output_type": "stream",
          "text": [
            "                                                             \r"
          ]
        },
        {
          "name": "stdout",
          "output_type": "stream",
          "text": [
            "Train Loss: 1.2702 | Accuracy: 65.48%\n",
            "Val   Loss: 1.0765 | Accuracy: 74.28%\n",
            "Saved best model.\n",
            "\n",
            "Epoch 17/200\n"
          ]
        },
        {
          "name": "stderr",
          "output_type": "stream",
          "text": [
            "                                                             \r"
          ]
        },
        {
          "name": "stdout",
          "output_type": "stream",
          "text": [
            "Train Loss: 1.2525 | Accuracy: 66.31%\n",
            "Val   Loss: 1.0865 | Accuracy: 73.78%\n",
            "No improvement for 1 epochs.\n",
            "\n",
            "Epoch 18/200\n"
          ]
        },
        {
          "name": "stderr",
          "output_type": "stream",
          "text": [
            "                                                             \r"
          ]
        },
        {
          "name": "stdout",
          "output_type": "stream",
          "text": [
            "Train Loss: 1.2448 | Accuracy: 66.98%\n",
            "Val   Loss: 1.0459 | Accuracy: 75.94%\n",
            "Saved best model.\n",
            "\n",
            "Epoch 19/200\n"
          ]
        },
        {
          "name": "stderr",
          "output_type": "stream",
          "text": [
            "                                                             \r"
          ]
        },
        {
          "name": "stdout",
          "output_type": "stream",
          "text": [
            "Train Loss: 1.2242 | Accuracy: 67.98%\n",
            "Val   Loss: 1.0398 | Accuracy: 76.06%\n",
            "Saved best model.\n",
            "\n",
            "Epoch 20/200\n"
          ]
        },
        {
          "name": "stderr",
          "output_type": "stream",
          "text": [
            "                                                             \r"
          ]
        },
        {
          "name": "stdout",
          "output_type": "stream",
          "text": [
            "Train Loss: 1.2190 | Accuracy: 68.08%\n",
            "Val   Loss: 1.0120 | Accuracy: 77.29%\n",
            "Saved best model.\n",
            "\n",
            "Epoch 21/200\n"
          ]
        },
        {
          "name": "stderr",
          "output_type": "stream",
          "text": [
            "                                                             \r"
          ]
        },
        {
          "name": "stdout",
          "output_type": "stream",
          "text": [
            "Train Loss: 1.2035 | Accuracy: 68.75%\n",
            "Val   Loss: 1.0062 | Accuracy: 78.06%\n",
            "Saved best model.\n",
            "\n",
            "Epoch 22/200\n"
          ]
        },
        {
          "name": "stderr",
          "output_type": "stream",
          "text": [
            "                                                             \r"
          ]
        },
        {
          "name": "stdout",
          "output_type": "stream",
          "text": [
            "Train Loss: 1.1907 | Accuracy: 69.41%\n",
            "Val   Loss: 1.0054 | Accuracy: 78.01%\n",
            "No improvement for 1 epochs.\n",
            "\n",
            "Epoch 23/200\n"
          ]
        },
        {
          "name": "stderr",
          "output_type": "stream",
          "text": [
            "                                                             \r"
          ]
        },
        {
          "name": "stdout",
          "output_type": "stream",
          "text": [
            "Train Loss: 1.1783 | Accuracy: 70.06%\n",
            "Val   Loss: 1.0052 | Accuracy: 77.86%\n",
            "No improvement for 2 epochs.\n",
            "\n",
            "Epoch 24/200\n"
          ]
        },
        {
          "name": "stderr",
          "output_type": "stream",
          "text": [
            "                                                             \r"
          ]
        },
        {
          "name": "stdout",
          "output_type": "stream",
          "text": [
            "Train Loss: 1.1686 | Accuracy: 70.58%\n",
            "Val   Loss: 0.9984 | Accuracy: 78.28%\n",
            "Saved best model.\n",
            "\n",
            "Epoch 25/200\n"
          ]
        },
        {
          "name": "stderr",
          "output_type": "stream",
          "text": [
            "                                                             \r"
          ]
        },
        {
          "name": "stdout",
          "output_type": "stream",
          "text": [
            "Train Loss: 1.1592 | Accuracy: 70.90%\n",
            "Val   Loss: 0.9716 | Accuracy: 79.53%\n",
            "Saved best model.\n",
            "\n",
            "Epoch 26/200\n"
          ]
        },
        {
          "name": "stderr",
          "output_type": "stream",
          "text": [
            "                                                             \r"
          ]
        },
        {
          "name": "stdout",
          "output_type": "stream",
          "text": [
            "Train Loss: 1.1509 | Accuracy: 71.02%\n",
            "Val   Loss: 0.9728 | Accuracy: 79.14%\n",
            "No improvement for 1 epochs.\n",
            "\n",
            "Epoch 27/200\n"
          ]
        },
        {
          "name": "stderr",
          "output_type": "stream",
          "text": [
            "                                                             \r"
          ]
        },
        {
          "name": "stdout",
          "output_type": "stream",
          "text": [
            "Train Loss: 1.1392 | Accuracy: 71.93%\n",
            "Val   Loss: 0.9741 | Accuracy: 79.20%\n",
            "No improvement for 2 epochs.\n",
            "\n",
            "Epoch 28/200\n"
          ]
        },
        {
          "name": "stderr",
          "output_type": "stream",
          "text": [
            "                                                             \r"
          ]
        },
        {
          "name": "stdout",
          "output_type": "stream",
          "text": [
            "Train Loss: 1.1378 | Accuracy: 71.77%\n",
            "Val   Loss: 0.9752 | Accuracy: 78.96%\n",
            "No improvement for 3 epochs.\n",
            "\n",
            "Epoch 29/200\n"
          ]
        },
        {
          "name": "stderr",
          "output_type": "stream",
          "text": [
            "                                                             \r"
          ]
        },
        {
          "name": "stdout",
          "output_type": "stream",
          "text": [
            "Train Loss: 1.1221 | Accuracy: 72.71%\n",
            "Val   Loss: 0.9781 | Accuracy: 78.94%\n",
            "No improvement for 4 epochs.\n",
            "\n",
            "Epoch 30/200\n"
          ]
        },
        {
          "name": "stderr",
          "output_type": "stream",
          "text": [
            "                                                             \r"
          ]
        },
        {
          "name": "stdout",
          "output_type": "stream",
          "text": [
            "Train Loss: 1.1170 | Accuracy: 72.73%\n",
            "Val   Loss: 0.9473 | Accuracy: 80.22%\n",
            "Saved best model.\n",
            "\n",
            "Epoch 31/200\n"
          ]
        },
        {
          "name": "stderr",
          "output_type": "stream",
          "text": [
            "                                                             \r"
          ]
        },
        {
          "name": "stdout",
          "output_type": "stream",
          "text": [
            "Train Loss: 1.1101 | Accuracy: 73.09%\n",
            "Val   Loss: 0.9490 | Accuracy: 80.22%\n",
            "No improvement for 1 epochs.\n",
            "\n",
            "Epoch 32/200\n"
          ]
        },
        {
          "name": "stderr",
          "output_type": "stream",
          "text": [
            "                                                             \r"
          ]
        },
        {
          "name": "stdout",
          "output_type": "stream",
          "text": [
            "Train Loss: 1.1005 | Accuracy: 73.64%\n",
            "Val   Loss: 0.9465 | Accuracy: 81.01%\n",
            "Saved best model.\n",
            "\n",
            "Epoch 33/200\n"
          ]
        },
        {
          "name": "stderr",
          "output_type": "stream",
          "text": [
            "                                                             \r"
          ]
        },
        {
          "name": "stdout",
          "output_type": "stream",
          "text": [
            "Train Loss: 1.0973 | Accuracy: 73.49%\n",
            "Val   Loss: 0.9164 | Accuracy: 81.77%\n",
            "Saved best model.\n",
            "\n",
            "Epoch 34/200\n"
          ]
        },
        {
          "name": "stderr",
          "output_type": "stream",
          "text": [
            "                                                             \r"
          ]
        },
        {
          "name": "stdout",
          "output_type": "stream",
          "text": [
            "Train Loss: 1.0887 | Accuracy: 73.90%\n",
            "Val   Loss: 0.9376 | Accuracy: 80.71%\n",
            "No improvement for 1 epochs.\n",
            "\n",
            "Epoch 35/200\n"
          ]
        },
        {
          "name": "stderr",
          "output_type": "stream",
          "text": [
            "                                                             \r"
          ]
        },
        {
          "name": "stdout",
          "output_type": "stream",
          "text": [
            "Train Loss: 1.0838 | Accuracy: 74.23%\n",
            "Val   Loss: 0.9185 | Accuracy: 81.98%\n",
            "Saved best model.\n",
            "\n",
            "Epoch 36/200\n"
          ]
        },
        {
          "name": "stderr",
          "output_type": "stream",
          "text": [
            "                                                             \r"
          ]
        },
        {
          "name": "stdout",
          "output_type": "stream",
          "text": [
            "Train Loss: 1.0749 | Accuracy: 74.55%\n",
            "Val   Loss: 0.9180 | Accuracy: 82.04%\n",
            "Saved best model.\n",
            "\n",
            "Epoch 37/200\n"
          ]
        },
        {
          "name": "stderr",
          "output_type": "stream",
          "text": [
            "                                                             \r"
          ]
        },
        {
          "name": "stdout",
          "output_type": "stream",
          "text": [
            "Train Loss: 1.0660 | Accuracy: 75.13%\n",
            "Val   Loss: 0.9361 | Accuracy: 81.09%\n",
            "No improvement for 1 epochs.\n",
            "\n",
            "Epoch 38/200\n"
          ]
        },
        {
          "name": "stderr",
          "output_type": "stream",
          "text": [
            "                                                             \r"
          ]
        },
        {
          "name": "stdout",
          "output_type": "stream",
          "text": [
            "Train Loss: 1.0594 | Accuracy: 75.37%\n",
            "Val   Loss: 0.9197 | Accuracy: 82.11%\n",
            "Saved best model.\n",
            "\n",
            "Epoch 39/200\n"
          ]
        },
        {
          "name": "stderr",
          "output_type": "stream",
          "text": [
            "                                                             \r"
          ]
        },
        {
          "name": "stdout",
          "output_type": "stream",
          "text": [
            "Train Loss: 1.0545 | Accuracy: 75.52%\n",
            "Val   Loss: 0.9106 | Accuracy: 82.44%\n",
            "Saved best model.\n",
            "\n",
            "Epoch 40/200\n"
          ]
        },
        {
          "name": "stderr",
          "output_type": "stream",
          "text": [
            "                                                             \r"
          ]
        },
        {
          "name": "stdout",
          "output_type": "stream",
          "text": [
            "Train Loss: 1.0490 | Accuracy: 75.99%\n",
            "Val   Loss: 0.8974 | Accuracy: 82.66%\n",
            "Saved best model.\n",
            "\n",
            "Epoch 41/200\n"
          ]
        },
        {
          "name": "stderr",
          "output_type": "stream",
          "text": [
            "                                                             \r"
          ]
        },
        {
          "name": "stdout",
          "output_type": "stream",
          "text": [
            "Train Loss: 1.0442 | Accuracy: 76.13%\n",
            "Val   Loss: 0.8973 | Accuracy: 82.80%\n",
            "Saved best model.\n",
            "\n",
            "Epoch 42/200\n"
          ]
        },
        {
          "name": "stderr",
          "output_type": "stream",
          "text": [
            "                                                             \r"
          ]
        },
        {
          "name": "stdout",
          "output_type": "stream",
          "text": [
            "Train Loss: 1.0400 | Accuracy: 76.47%\n",
            "Val   Loss: 0.8930 | Accuracy: 83.49%\n",
            "Saved best model.\n",
            "\n",
            "Epoch 43/200\n"
          ]
        },
        {
          "name": "stderr",
          "output_type": "stream",
          "text": [
            "                                                             \r"
          ]
        },
        {
          "name": "stdout",
          "output_type": "stream",
          "text": [
            "Train Loss: 1.0401 | Accuracy: 76.45%\n",
            "Val   Loss: 0.8887 | Accuracy: 83.57%\n",
            "Saved best model.\n",
            "\n",
            "Epoch 44/200\n"
          ]
        },
        {
          "name": "stderr",
          "output_type": "stream",
          "text": [
            "                                                             \r"
          ]
        },
        {
          "name": "stdout",
          "output_type": "stream",
          "text": [
            "Train Loss: 1.0253 | Accuracy: 76.90%\n",
            "Val   Loss: 0.8964 | Accuracy: 82.99%\n",
            "No improvement for 1 epochs.\n",
            "\n",
            "Epoch 45/200\n"
          ]
        },
        {
          "name": "stderr",
          "output_type": "stream",
          "text": [
            "                                                             \r"
          ]
        },
        {
          "name": "stdout",
          "output_type": "stream",
          "text": [
            "Train Loss: 1.0222 | Accuracy: 77.32%\n",
            "Val   Loss: 0.8777 | Accuracy: 83.78%\n",
            "Saved best model.\n",
            "\n",
            "Epoch 46/200\n"
          ]
        },
        {
          "name": "stderr",
          "output_type": "stream",
          "text": [
            "                                                             \r"
          ]
        },
        {
          "name": "stdout",
          "output_type": "stream",
          "text": [
            "Train Loss: 1.0149 | Accuracy: 77.43%\n",
            "Val   Loss: 0.8913 | Accuracy: 83.17%\n",
            "No improvement for 1 epochs.\n",
            "\n",
            "Epoch 47/200\n"
          ]
        },
        {
          "name": "stderr",
          "output_type": "stream",
          "text": [
            "                                                             \r"
          ]
        },
        {
          "name": "stdout",
          "output_type": "stream",
          "text": [
            "Train Loss: 1.0146 | Accuracy: 77.47%\n",
            "Val   Loss: 0.8806 | Accuracy: 83.85%\n",
            "Saved best model.\n",
            "\n",
            "Epoch 48/200\n"
          ]
        },
        {
          "name": "stderr",
          "output_type": "stream",
          "text": [
            "                                                             \r"
          ]
        },
        {
          "name": "stdout",
          "output_type": "stream",
          "text": [
            "Train Loss: 1.0088 | Accuracy: 77.79%\n",
            "Val   Loss: 0.8892 | Accuracy: 83.16%\n",
            "No improvement for 1 epochs.\n",
            "\n",
            "Epoch 49/200\n"
          ]
        },
        {
          "name": "stderr",
          "output_type": "stream",
          "text": [
            "                                                             \r"
          ]
        },
        {
          "name": "stdout",
          "output_type": "stream",
          "text": [
            "Train Loss: 1.0031 | Accuracy: 78.05%\n",
            "Val   Loss: 0.8768 | Accuracy: 83.74%\n",
            "No improvement for 2 epochs.\n",
            "\n",
            "Epoch 50/200\n"
          ]
        },
        {
          "name": "stderr",
          "output_type": "stream",
          "text": [
            "                                                             \r"
          ]
        },
        {
          "name": "stdout",
          "output_type": "stream",
          "text": [
            "Train Loss: 0.9964 | Accuracy: 78.26%\n",
            "Val   Loss: 0.8675 | Accuracy: 84.12%\n",
            "Saved best model.\n",
            "\n",
            "Epoch 51/200\n"
          ]
        },
        {
          "name": "stderr",
          "output_type": "stream",
          "text": [
            "                                                             \r"
          ]
        },
        {
          "name": "stdout",
          "output_type": "stream",
          "text": [
            "Train Loss: 0.9940 | Accuracy: 78.45%\n",
            "Val   Loss: 0.8703 | Accuracy: 84.19%\n",
            "Saved best model.\n",
            "\n",
            "Epoch 52/200\n"
          ]
        },
        {
          "name": "stderr",
          "output_type": "stream",
          "text": [
            "                                                             \r"
          ]
        },
        {
          "name": "stdout",
          "output_type": "stream",
          "text": [
            "Train Loss: 0.9869 | Accuracy: 78.77%\n",
            "Val   Loss: 0.8773 | Accuracy: 83.95%\n",
            "No improvement for 1 epochs.\n",
            "\n",
            "Epoch 53/200\n"
          ]
        },
        {
          "name": "stderr",
          "output_type": "stream",
          "text": [
            "                                                             \r"
          ]
        },
        {
          "name": "stdout",
          "output_type": "stream",
          "text": [
            "Train Loss: 0.9837 | Accuracy: 78.80%\n",
            "Val   Loss: 0.8617 | Accuracy: 84.33%\n",
            "Saved best model.\n",
            "\n",
            "Epoch 54/200\n"
          ]
        },
        {
          "name": "stderr",
          "output_type": "stream",
          "text": [
            "                                                             \r"
          ]
        },
        {
          "name": "stdout",
          "output_type": "stream",
          "text": [
            "Train Loss: 0.9768 | Accuracy: 79.10%\n",
            "Val   Loss: 0.8699 | Accuracy: 84.57%\n",
            "Saved best model.\n",
            "\n",
            "Epoch 55/200\n"
          ]
        },
        {
          "name": "stderr",
          "output_type": "stream",
          "text": [
            "                                                             \r"
          ]
        },
        {
          "name": "stdout",
          "output_type": "stream",
          "text": [
            "Train Loss: 0.9759 | Accuracy: 79.09%\n",
            "Val   Loss: 0.8818 | Accuracy: 84.12%\n",
            "No improvement for 1 epochs.\n",
            "\n",
            "Epoch 56/200\n"
          ]
        },
        {
          "name": "stderr",
          "output_type": "stream",
          "text": [
            "                                                             \r"
          ]
        },
        {
          "name": "stdout",
          "output_type": "stream",
          "text": [
            "Train Loss: 0.9694 | Accuracy: 79.50%\n",
            "Val   Loss: 0.8756 | Accuracy: 84.13%\n",
            "No improvement for 2 epochs.\n",
            "\n",
            "Epoch 57/200\n"
          ]
        },
        {
          "name": "stderr",
          "output_type": "stream",
          "text": [
            "                                                             \r"
          ]
        },
        {
          "name": "stdout",
          "output_type": "stream",
          "text": [
            "Train Loss: 0.9631 | Accuracy: 79.59%\n",
            "Val   Loss: 0.8756 | Accuracy: 83.96%\n",
            "No improvement for 3 epochs.\n",
            "\n",
            "Epoch 58/200\n"
          ]
        },
        {
          "name": "stderr",
          "output_type": "stream",
          "text": [
            "                                                             \r"
          ]
        },
        {
          "name": "stdout",
          "output_type": "stream",
          "text": [
            "Train Loss: 0.9570 | Accuracy: 80.11%\n",
            "Val   Loss: 0.8607 | Accuracy: 84.59%\n",
            "Saved best model.\n",
            "\n",
            "Epoch 59/200\n"
          ]
        },
        {
          "name": "stderr",
          "output_type": "stream",
          "text": [
            "                                                             \r"
          ]
        },
        {
          "name": "stdout",
          "output_type": "stream",
          "text": [
            "Train Loss: 0.9559 | Accuracy: 80.05%\n",
            "Val   Loss: 0.8640 | Accuracy: 84.76%\n",
            "Saved best model.\n",
            "\n",
            "Epoch 60/200\n"
          ]
        },
        {
          "name": "stderr",
          "output_type": "stream",
          "text": [
            "                                                             \r"
          ]
        },
        {
          "name": "stdout",
          "output_type": "stream",
          "text": [
            "Train Loss: 0.9501 | Accuracy: 80.23%\n",
            "Val   Loss: 0.8682 | Accuracy: 84.31%\n",
            "No improvement for 1 epochs.\n",
            "\n",
            "Epoch 61/200\n"
          ]
        },
        {
          "name": "stderr",
          "output_type": "stream",
          "text": [
            "                                                             \r"
          ]
        },
        {
          "name": "stdout",
          "output_type": "stream",
          "text": [
            "Train Loss: 0.9457 | Accuracy: 80.43%\n",
            "Val   Loss: 0.8583 | Accuracy: 85.11%\n",
            "Saved best model.\n",
            "\n",
            "Epoch 62/200\n"
          ]
        },
        {
          "name": "stderr",
          "output_type": "stream",
          "text": [
            "                                                             \r"
          ]
        },
        {
          "name": "stdout",
          "output_type": "stream",
          "text": [
            "Train Loss: 0.9466 | Accuracy: 80.62%\n",
            "Val   Loss: 0.8514 | Accuracy: 85.31%\n",
            "Saved best model.\n",
            "\n",
            "Epoch 63/200\n"
          ]
        },
        {
          "name": "stderr",
          "output_type": "stream",
          "text": [
            "                                                             \r"
          ]
        },
        {
          "name": "stdout",
          "output_type": "stream",
          "text": [
            "Train Loss: 0.9398 | Accuracy: 80.68%\n",
            "Val   Loss: 0.8536 | Accuracy: 85.19%\n",
            "No improvement for 1 epochs.\n",
            "\n",
            "Epoch 64/200\n"
          ]
        },
        {
          "name": "stderr",
          "output_type": "stream",
          "text": [
            "                                                             \r"
          ]
        },
        {
          "name": "stdout",
          "output_type": "stream",
          "text": [
            "Train Loss: 0.9363 | Accuracy: 80.87%\n",
            "Val   Loss: 0.8433 | Accuracy: 85.73%\n",
            "Saved best model.\n",
            "\n",
            "Epoch 65/200\n"
          ]
        },
        {
          "name": "stderr",
          "output_type": "stream",
          "text": [
            "                                                             \r"
          ]
        },
        {
          "name": "stdout",
          "output_type": "stream",
          "text": [
            "Train Loss: 0.9331 | Accuracy: 80.99%\n",
            "Val   Loss: 0.8466 | Accuracy: 85.47%\n",
            "No improvement for 1 epochs.\n",
            "\n",
            "Epoch 66/200\n"
          ]
        },
        {
          "name": "stderr",
          "output_type": "stream",
          "text": [
            "                                                             \r"
          ]
        },
        {
          "name": "stdout",
          "output_type": "stream",
          "text": [
            "Train Loss: 0.9257 | Accuracy: 81.44%\n",
            "Val   Loss: 0.8471 | Accuracy: 85.32%\n",
            "No improvement for 2 epochs.\n",
            "\n",
            "Epoch 67/200\n"
          ]
        },
        {
          "name": "stderr",
          "output_type": "stream",
          "text": [
            "                                                             \r"
          ]
        },
        {
          "name": "stdout",
          "output_type": "stream",
          "text": [
            "Train Loss: 0.9288 | Accuracy: 81.33%\n",
            "Val   Loss: 0.8538 | Accuracy: 85.25%\n",
            "No improvement for 3 epochs.\n",
            "\n",
            "Epoch 68/200\n"
          ]
        },
        {
          "name": "stderr",
          "output_type": "stream",
          "text": [
            "                                                             \r"
          ]
        },
        {
          "name": "stdout",
          "output_type": "stream",
          "text": [
            "Train Loss: 0.9225 | Accuracy: 81.66%\n",
            "Val   Loss: 0.8514 | Accuracy: 85.25%\n",
            "No improvement for 4 epochs.\n",
            "\n",
            "Epoch 69/200\n"
          ]
        },
        {
          "name": "stderr",
          "output_type": "stream",
          "text": [
            "                                                             \r"
          ]
        },
        {
          "name": "stdout",
          "output_type": "stream",
          "text": [
            "Train Loss: 0.9143 | Accuracy: 81.79%\n",
            "Val   Loss: 0.8483 | Accuracy: 85.50%\n",
            "No improvement for 5 epochs.\n",
            "\n",
            "Epoch 70/200\n"
          ]
        },
        {
          "name": "stderr",
          "output_type": "stream",
          "text": [
            "                                                             \r"
          ]
        },
        {
          "name": "stdout",
          "output_type": "stream",
          "text": [
            "Train Loss: 0.9155 | Accuracy: 81.87%\n",
            "Val   Loss: 0.8494 | Accuracy: 85.28%\n",
            "No improvement for 6 epochs.\n",
            "\n",
            "Epoch 71/200\n"
          ]
        },
        {
          "name": "stderr",
          "output_type": "stream",
          "text": [
            "                                                             \r"
          ]
        },
        {
          "name": "stdout",
          "output_type": "stream",
          "text": [
            "Train Loss: 0.9127 | Accuracy: 81.97%\n",
            "Val   Loss: 0.8480 | Accuracy: 85.68%\n",
            "No improvement for 7 epochs.\n",
            "\n",
            "Epoch 72/200\n"
          ]
        },
        {
          "name": "stderr",
          "output_type": "stream",
          "text": [
            "                                                             \r"
          ]
        },
        {
          "name": "stdout",
          "output_type": "stream",
          "text": [
            "Train Loss: 0.9108 | Accuracy: 81.97%\n",
            "Val   Loss: 0.8368 | Accuracy: 85.94%\n",
            "Saved best model.\n",
            "\n",
            "Epoch 73/200\n"
          ]
        },
        {
          "name": "stderr",
          "output_type": "stream",
          "text": [
            "                                                             \r"
          ]
        },
        {
          "name": "stdout",
          "output_type": "stream",
          "text": [
            "Train Loss: 0.9060 | Accuracy: 82.32%\n",
            "Val   Loss: 0.8403 | Accuracy: 85.49%\n",
            "No improvement for 1 epochs.\n",
            "\n",
            "Epoch 74/200\n"
          ]
        },
        {
          "name": "stderr",
          "output_type": "stream",
          "text": [
            "                                                             \r"
          ]
        },
        {
          "name": "stdout",
          "output_type": "stream",
          "text": [
            "Train Loss: 0.9006 | Accuracy: 82.44%\n",
            "Val   Loss: 0.8312 | Accuracy: 86.11%\n",
            "Saved best model.\n",
            "\n",
            "Epoch 75/200\n"
          ]
        },
        {
          "name": "stderr",
          "output_type": "stream",
          "text": [
            "                                                             \r"
          ]
        },
        {
          "name": "stdout",
          "output_type": "stream",
          "text": [
            "Train Loss: 0.8969 | Accuracy: 82.84%\n",
            "Val   Loss: 0.8391 | Accuracy: 85.73%\n",
            "No improvement for 1 epochs.\n",
            "\n",
            "Epoch 76/200\n"
          ]
        },
        {
          "name": "stderr",
          "output_type": "stream",
          "text": [
            "                                                             \r"
          ]
        },
        {
          "name": "stdout",
          "output_type": "stream",
          "text": [
            "Train Loss: 0.8941 | Accuracy: 82.75%\n",
            "Val   Loss: 0.8470 | Accuracy: 85.85%\n",
            "No improvement for 2 epochs.\n",
            "\n",
            "Epoch 77/200\n"
          ]
        },
        {
          "name": "stderr",
          "output_type": "stream",
          "text": [
            "                                                             \r"
          ]
        },
        {
          "name": "stdout",
          "output_type": "stream",
          "text": [
            "Train Loss: 0.8902 | Accuracy: 82.90%\n",
            "Val   Loss: 0.8566 | Accuracy: 85.11%\n",
            "No improvement for 3 epochs.\n",
            "\n",
            "Epoch 78/200\n"
          ]
        },
        {
          "name": "stderr",
          "output_type": "stream",
          "text": [
            "                                                             \r"
          ]
        },
        {
          "name": "stdout",
          "output_type": "stream",
          "text": [
            "Train Loss: 0.8879 | Accuracy: 83.25%\n",
            "Val   Loss: 0.8569 | Accuracy: 85.37%\n",
            "No improvement for 4 epochs.\n",
            "\n",
            "Epoch 79/200\n"
          ]
        },
        {
          "name": "stderr",
          "output_type": "stream",
          "text": [
            "                                                             \r"
          ]
        },
        {
          "name": "stdout",
          "output_type": "stream",
          "text": [
            "Train Loss: 0.8821 | Accuracy: 83.43%\n",
            "Val   Loss: 0.8398 | Accuracy: 85.94%\n",
            "No improvement for 5 epochs.\n",
            "\n",
            "Epoch 80/200\n"
          ]
        },
        {
          "name": "stderr",
          "output_type": "stream",
          "text": [
            "                                                             \r"
          ]
        },
        {
          "name": "stdout",
          "output_type": "stream",
          "text": [
            "Train Loss: 0.8778 | Accuracy: 83.57%\n",
            "Val   Loss: 0.8360 | Accuracy: 86.16%\n",
            "Saved best model.\n",
            "\n",
            "Epoch 81/200\n"
          ]
        },
        {
          "name": "stderr",
          "output_type": "stream",
          "text": [
            "                                                             \r"
          ]
        },
        {
          "name": "stdout",
          "output_type": "stream",
          "text": [
            "Train Loss: 0.8725 | Accuracy: 83.81%\n",
            "Val   Loss: 0.8587 | Accuracy: 85.56%\n",
            "No improvement for 1 epochs.\n",
            "\n",
            "Epoch 82/200\n"
          ]
        },
        {
          "name": "stderr",
          "output_type": "stream",
          "text": [
            "                                                             \r"
          ]
        },
        {
          "name": "stdout",
          "output_type": "stream",
          "text": [
            "Train Loss: 0.8738 | Accuracy: 83.65%\n",
            "Val   Loss: 0.8419 | Accuracy: 85.99%\n",
            "No improvement for 2 epochs.\n",
            "\n",
            "Epoch 83/200\n"
          ]
        },
        {
          "name": "stderr",
          "output_type": "stream",
          "text": [
            "                                                             \r"
          ]
        },
        {
          "name": "stdout",
          "output_type": "stream",
          "text": [
            "Train Loss: 0.8707 | Accuracy: 83.91%\n",
            "Val   Loss: 0.8395 | Accuracy: 85.63%\n",
            "No improvement for 3 epochs.\n",
            "\n",
            "Epoch 84/200\n"
          ]
        },
        {
          "name": "stderr",
          "output_type": "stream",
          "text": [
            "                                                             \r"
          ]
        },
        {
          "name": "stdout",
          "output_type": "stream",
          "text": [
            "Train Loss: 0.8673 | Accuracy: 84.13%\n",
            "Val   Loss: 0.8283 | Accuracy: 86.12%\n",
            "No improvement for 4 epochs.\n",
            "\n",
            "Epoch 85/200\n"
          ]
        },
        {
          "name": "stderr",
          "output_type": "stream",
          "text": [
            "                                                             \r"
          ]
        },
        {
          "name": "stdout",
          "output_type": "stream",
          "text": [
            "Train Loss: 0.8690 | Accuracy: 84.05%\n",
            "Val   Loss: 0.8324 | Accuracy: 86.18%\n",
            "Saved best model.\n",
            "\n",
            "Epoch 86/200\n"
          ]
        },
        {
          "name": "stderr",
          "output_type": "stream",
          "text": [
            "                                                             \r"
          ]
        },
        {
          "name": "stdout",
          "output_type": "stream",
          "text": [
            "Train Loss: 0.8627 | Accuracy: 84.09%\n",
            "Val   Loss: 0.8285 | Accuracy: 86.26%\n",
            "Saved best model.\n",
            "\n",
            "Epoch 87/200\n"
          ]
        },
        {
          "name": "stderr",
          "output_type": "stream",
          "text": [
            "                                                             \r"
          ]
        },
        {
          "name": "stdout",
          "output_type": "stream",
          "text": [
            "Train Loss: 0.8585 | Accuracy: 84.39%\n",
            "Val   Loss: 0.8414 | Accuracy: 86.04%\n",
            "No improvement for 1 epochs.\n",
            "\n",
            "Epoch 88/200\n"
          ]
        },
        {
          "name": "stderr",
          "output_type": "stream",
          "text": [
            "                                                             \r"
          ]
        },
        {
          "name": "stdout",
          "output_type": "stream",
          "text": [
            "Train Loss: 0.8571 | Accuracy: 84.45%\n",
            "Val   Loss: 0.8358 | Accuracy: 85.91%\n",
            "No improvement for 2 epochs.\n",
            "\n",
            "Epoch 89/200\n"
          ]
        },
        {
          "name": "stderr",
          "output_type": "stream",
          "text": [
            "                                                             \r"
          ]
        },
        {
          "name": "stdout",
          "output_type": "stream",
          "text": [
            "Train Loss: 0.8538 | Accuracy: 84.58%\n",
            "Val   Loss: 0.8323 | Accuracy: 86.35%\n",
            "Saved best model.\n",
            "\n",
            "Epoch 90/200\n"
          ]
        },
        {
          "name": "stderr",
          "output_type": "stream",
          "text": [
            "                                                             \r"
          ]
        },
        {
          "name": "stdout",
          "output_type": "stream",
          "text": [
            "Train Loss: 0.8552 | Accuracy: 84.65%\n",
            "Val   Loss: 0.8344 | Accuracy: 86.17%\n",
            "No improvement for 1 epochs.\n",
            "\n",
            "Epoch 91/200\n"
          ]
        },
        {
          "name": "stderr",
          "output_type": "stream",
          "text": [
            "                                                             \r"
          ]
        },
        {
          "name": "stdout",
          "output_type": "stream",
          "text": [
            "Train Loss: 0.8488 | Accuracy: 84.89%\n",
            "Val   Loss: 0.8258 | Accuracy: 86.52%\n",
            "Saved best model.\n",
            "\n",
            "Epoch 92/200\n"
          ]
        },
        {
          "name": "stderr",
          "output_type": "stream",
          "text": [
            "                                                             \r"
          ]
        },
        {
          "name": "stdout",
          "output_type": "stream",
          "text": [
            "Train Loss: 0.8415 | Accuracy: 85.28%\n",
            "Val   Loss: 0.8342 | Accuracy: 86.04%\n",
            "No improvement for 1 epochs.\n",
            "\n",
            "Epoch 93/200\n"
          ]
        },
        {
          "name": "stderr",
          "output_type": "stream",
          "text": [
            "                                                             \r"
          ]
        },
        {
          "name": "stdout",
          "output_type": "stream",
          "text": [
            "Train Loss: 0.8463 | Accuracy: 84.98%\n",
            "Val   Loss: 0.8272 | Accuracy: 86.35%\n",
            "No improvement for 2 epochs.\n",
            "\n",
            "Epoch 94/200\n"
          ]
        },
        {
          "name": "stderr",
          "output_type": "stream",
          "text": [
            "                                                             \r"
          ]
        },
        {
          "name": "stdout",
          "output_type": "stream",
          "text": [
            "Train Loss: 0.8404 | Accuracy: 85.16%\n",
            "Val   Loss: 0.8264 | Accuracy: 86.47%\n",
            "No improvement for 3 epochs.\n",
            "\n",
            "Epoch 95/200\n"
          ]
        },
        {
          "name": "stderr",
          "output_type": "stream",
          "text": [
            "                                                             \r"
          ]
        },
        {
          "name": "stdout",
          "output_type": "stream",
          "text": [
            "Train Loss: 0.8385 | Accuracy: 85.26%\n",
            "Val   Loss: 0.8353 | Accuracy: 85.72%\n",
            "No improvement for 4 epochs.\n",
            "\n",
            "Epoch 96/200\n"
          ]
        },
        {
          "name": "stderr",
          "output_type": "stream",
          "text": [
            "                                                             \r"
          ]
        },
        {
          "name": "stdout",
          "output_type": "stream",
          "text": [
            "Train Loss: 0.8330 | Accuracy: 85.59%\n",
            "Val   Loss: 0.8271 | Accuracy: 86.42%\n",
            "No improvement for 5 epochs.\n",
            "\n",
            "Epoch 97/200\n"
          ]
        },
        {
          "name": "stderr",
          "output_type": "stream",
          "text": [
            "                                                             \r"
          ]
        },
        {
          "name": "stdout",
          "output_type": "stream",
          "text": [
            "Train Loss: 0.8340 | Accuracy: 85.49%\n",
            "Val   Loss: 0.8404 | Accuracy: 86.47%\n",
            "No improvement for 6 epochs.\n",
            "\n",
            "Epoch 98/200\n"
          ]
        },
        {
          "name": "stderr",
          "output_type": "stream",
          "text": [
            "                                                             \r"
          ]
        },
        {
          "name": "stdout",
          "output_type": "stream",
          "text": [
            "Train Loss: 0.8306 | Accuracy: 85.54%\n",
            "Val   Loss: 0.8236 | Accuracy: 86.72%\n",
            "Saved best model.\n",
            "\n",
            "Epoch 99/200\n"
          ]
        },
        {
          "name": "stderr",
          "output_type": "stream",
          "text": [
            "                                                             \r"
          ]
        },
        {
          "name": "stdout",
          "output_type": "stream",
          "text": [
            "Train Loss: 0.8276 | Accuracy: 85.67%\n",
            "Val   Loss: 0.8280 | Accuracy: 86.32%\n",
            "No improvement for 1 epochs.\n",
            "\n",
            "Epoch 100/200\n"
          ]
        },
        {
          "name": "stderr",
          "output_type": "stream",
          "text": [
            "                                                             \r"
          ]
        },
        {
          "name": "stdout",
          "output_type": "stream",
          "text": [
            "Train Loss: 0.8260 | Accuracy: 85.83%\n",
            "Val   Loss: 0.8296 | Accuracy: 86.58%\n",
            "No improvement for 2 epochs.\n",
            "\n",
            "Epoch 101/200\n"
          ]
        },
        {
          "name": "stderr",
          "output_type": "stream",
          "text": [
            "                                                             \r"
          ]
        },
        {
          "name": "stdout",
          "output_type": "stream",
          "text": [
            "Train Loss: 0.8235 | Accuracy: 85.90%\n",
            "Val   Loss: 0.8232 | Accuracy: 86.75%\n",
            "Saved best model.\n",
            "\n",
            "Epoch 102/200\n"
          ]
        },
        {
          "name": "stderr",
          "output_type": "stream",
          "text": [
            "                                                             \r"
          ]
        },
        {
          "name": "stdout",
          "output_type": "stream",
          "text": [
            "Train Loss: 0.8194 | Accuracy: 86.25%\n",
            "Val   Loss: 0.8314 | Accuracy: 86.42%\n",
            "No improvement for 1 epochs.\n",
            "\n",
            "Epoch 103/200\n"
          ]
        },
        {
          "name": "stderr",
          "output_type": "stream",
          "text": [
            "                                                             \r"
          ]
        },
        {
          "name": "stdout",
          "output_type": "stream",
          "text": [
            "Train Loss: 0.8183 | Accuracy: 86.30%\n",
            "Val   Loss: 0.8298 | Accuracy: 86.30%\n",
            "No improvement for 2 epochs.\n",
            "\n",
            "Epoch 104/200\n"
          ]
        },
        {
          "name": "stderr",
          "output_type": "stream",
          "text": [
            "                                                             \r"
          ]
        },
        {
          "name": "stdout",
          "output_type": "stream",
          "text": [
            "Train Loss: 0.8195 | Accuracy: 86.25%\n",
            "Val   Loss: 0.8236 | Accuracy: 86.57%\n",
            "No improvement for 3 epochs.\n",
            "\n",
            "Epoch 105/200\n"
          ]
        },
        {
          "name": "stderr",
          "output_type": "stream",
          "text": [
            "                                                             \r"
          ]
        },
        {
          "name": "stdout",
          "output_type": "stream",
          "text": [
            "Train Loss: 0.8115 | Accuracy: 86.36%\n",
            "Val   Loss: 0.8228 | Accuracy: 86.79%\n",
            "Saved best model.\n",
            "\n",
            "Epoch 106/200\n"
          ]
        },
        {
          "name": "stderr",
          "output_type": "stream",
          "text": [
            "                                                             \r"
          ]
        },
        {
          "name": "stdout",
          "output_type": "stream",
          "text": [
            "Train Loss: 0.8120 | Accuracy: 86.43%\n",
            "Val   Loss: 0.8360 | Accuracy: 85.98%\n",
            "No improvement for 1 epochs.\n",
            "\n",
            "Epoch 107/200\n"
          ]
        },
        {
          "name": "stderr",
          "output_type": "stream",
          "text": [
            "                                                             \r"
          ]
        },
        {
          "name": "stdout",
          "output_type": "stream",
          "text": [
            "Train Loss: 0.8091 | Accuracy: 86.74%\n",
            "Val   Loss: 0.8343 | Accuracy: 86.40%\n",
            "No improvement for 2 epochs.\n",
            "\n",
            "Epoch 108/200\n"
          ]
        },
        {
          "name": "stderr",
          "output_type": "stream",
          "text": [
            "                                                             \r"
          ]
        },
        {
          "name": "stdout",
          "output_type": "stream",
          "text": [
            "Train Loss: 0.8050 | Accuracy: 86.73%\n",
            "Val   Loss: 0.8231 | Accuracy: 86.94%\n",
            "Saved best model.\n",
            "\n",
            "Epoch 109/200\n"
          ]
        },
        {
          "name": "stderr",
          "output_type": "stream",
          "text": [
            "                                                             \r"
          ]
        },
        {
          "name": "stdout",
          "output_type": "stream",
          "text": [
            "Train Loss: 0.7994 | Accuracy: 86.78%\n",
            "Val   Loss: 0.8211 | Accuracy: 86.73%\n",
            "No improvement for 1 epochs.\n",
            "\n",
            "Epoch 110/200\n"
          ]
        },
        {
          "name": "stderr",
          "output_type": "stream",
          "text": [
            "                                                             \r"
          ]
        },
        {
          "name": "stdout",
          "output_type": "stream",
          "text": [
            "Train Loss: 0.7997 | Accuracy: 86.99%\n",
            "Val   Loss: 0.8296 | Accuracy: 86.51%\n",
            "No improvement for 2 epochs.\n",
            "\n",
            "Epoch 111/200\n"
          ]
        },
        {
          "name": "stderr",
          "output_type": "stream",
          "text": [
            "                                                             \r"
          ]
        },
        {
          "name": "stdout",
          "output_type": "stream",
          "text": [
            "Train Loss: 0.7990 | Accuracy: 86.98%\n",
            "Val   Loss: 0.8399 | Accuracy: 86.44%\n",
            "No improvement for 3 epochs.\n",
            "\n",
            "Epoch 112/200\n"
          ]
        },
        {
          "name": "stderr",
          "output_type": "stream",
          "text": [
            "                                                             \r"
          ]
        },
        {
          "name": "stdout",
          "output_type": "stream",
          "text": [
            "Train Loss: 0.7955 | Accuracy: 87.19%\n",
            "Val   Loss: 0.8242 | Accuracy: 86.77%\n",
            "No improvement for 4 epochs.\n",
            "\n",
            "Epoch 113/200\n"
          ]
        },
        {
          "name": "stderr",
          "output_type": "stream",
          "text": [
            "                                                             \r"
          ]
        },
        {
          "name": "stdout",
          "output_type": "stream",
          "text": [
            "Train Loss: 0.7969 | Accuracy: 87.13%\n",
            "Val   Loss: 0.8158 | Accuracy: 87.04%\n",
            "Saved best model.\n",
            "\n",
            "Epoch 114/200\n"
          ]
        },
        {
          "name": "stderr",
          "output_type": "stream",
          "text": [
            "                                                             \r"
          ]
        },
        {
          "name": "stdout",
          "output_type": "stream",
          "text": [
            "Train Loss: 0.7908 | Accuracy: 87.59%\n",
            "Val   Loss: 0.8492 | Accuracy: 85.70%\n",
            "No improvement for 1 epochs.\n",
            "\n",
            "Epoch 115/200\n"
          ]
        },
        {
          "name": "stderr",
          "output_type": "stream",
          "text": [
            "                                                             \r"
          ]
        },
        {
          "name": "stdout",
          "output_type": "stream",
          "text": [
            "Train Loss: 0.7871 | Accuracy: 87.50%\n",
            "Val   Loss: 0.8294 | Accuracy: 86.92%\n",
            "No improvement for 2 epochs.\n",
            "\n",
            "Epoch 116/200\n"
          ]
        },
        {
          "name": "stderr",
          "output_type": "stream",
          "text": [
            "                                                             \r"
          ]
        },
        {
          "name": "stdout",
          "output_type": "stream",
          "text": [
            "Train Loss: 0.7835 | Accuracy: 87.59%\n",
            "Val   Loss: 0.8144 | Accuracy: 87.11%\n",
            "Saved best model.\n",
            "\n",
            "Epoch 117/200\n"
          ]
        },
        {
          "name": "stderr",
          "output_type": "stream",
          "text": [
            "                                                             \r"
          ]
        },
        {
          "name": "stdout",
          "output_type": "stream",
          "text": [
            "Train Loss: 0.7838 | Accuracy: 87.77%\n",
            "Val   Loss: 0.8160 | Accuracy: 87.14%\n",
            "Saved best model.\n",
            "\n",
            "Epoch 118/200\n"
          ]
        },
        {
          "name": "stderr",
          "output_type": "stream",
          "text": [
            "                                                             \r"
          ]
        },
        {
          "name": "stdout",
          "output_type": "stream",
          "text": [
            "Train Loss: 0.7861 | Accuracy: 87.55%\n",
            "Val   Loss: 0.8136 | Accuracy: 87.40%\n",
            "Saved best model.\n",
            "\n",
            "Epoch 119/200\n"
          ]
        },
        {
          "name": "stderr",
          "output_type": "stream",
          "text": [
            "                                                             \r"
          ]
        },
        {
          "name": "stdout",
          "output_type": "stream",
          "text": [
            "Train Loss: 0.7794 | Accuracy: 87.90%\n",
            "Val   Loss: 0.8282 | Accuracy: 86.93%\n",
            "No improvement for 1 epochs.\n",
            "\n",
            "Epoch 120/200\n"
          ]
        },
        {
          "name": "stderr",
          "output_type": "stream",
          "text": [
            "                                                             \r"
          ]
        },
        {
          "name": "stdout",
          "output_type": "stream",
          "text": [
            "Train Loss: 0.7777 | Accuracy: 88.00%\n",
            "Val   Loss: 0.8242 | Accuracy: 87.06%\n",
            "No improvement for 2 epochs.\n",
            "\n",
            "Epoch 121/200\n"
          ]
        },
        {
          "name": "stderr",
          "output_type": "stream",
          "text": [
            "                                                             \r"
          ]
        },
        {
          "name": "stdout",
          "output_type": "stream",
          "text": [
            "Train Loss: 0.7772 | Accuracy: 88.05%\n",
            "Val   Loss: 0.8330 | Accuracy: 86.65%\n",
            "No improvement for 3 epochs.\n",
            "\n",
            "Epoch 122/200\n"
          ]
        },
        {
          "name": "stderr",
          "output_type": "stream",
          "text": [
            "                                                             \r"
          ]
        },
        {
          "name": "stdout",
          "output_type": "stream",
          "text": [
            "Train Loss: 0.7799 | Accuracy: 87.80%\n",
            "Val   Loss: 0.8273 | Accuracy: 86.71%\n",
            "No improvement for 4 epochs.\n",
            "\n",
            "Epoch 123/200\n"
          ]
        },
        {
          "name": "stderr",
          "output_type": "stream",
          "text": [
            "                                                             \r"
          ]
        },
        {
          "name": "stdout",
          "output_type": "stream",
          "text": [
            "Train Loss: 0.7701 | Accuracy: 88.28%\n",
            "Val   Loss: 0.8306 | Accuracy: 86.64%\n",
            "No improvement for 5 epochs.\n",
            "\n",
            "Epoch 124/200\n"
          ]
        },
        {
          "name": "stderr",
          "output_type": "stream",
          "text": [
            "                                                             \r"
          ]
        },
        {
          "name": "stdout",
          "output_type": "stream",
          "text": [
            "Train Loss: 0.7692 | Accuracy: 88.31%\n",
            "Val   Loss: 0.8308 | Accuracy: 86.91%\n",
            "No improvement for 6 epochs.\n",
            "\n",
            "Epoch 125/200\n"
          ]
        },
        {
          "name": "stderr",
          "output_type": "stream",
          "text": [
            "                                                             \r"
          ]
        },
        {
          "name": "stdout",
          "output_type": "stream",
          "text": [
            "Train Loss: 0.7670 | Accuracy: 88.53%\n",
            "Val   Loss: 0.8232 | Accuracy: 87.08%\n",
            "No improvement for 7 epochs.\n",
            "\n",
            "Epoch 126/200\n"
          ]
        },
        {
          "name": "stderr",
          "output_type": "stream",
          "text": [
            "                                                             \r"
          ]
        },
        {
          "name": "stdout",
          "output_type": "stream",
          "text": [
            "Train Loss: 0.7661 | Accuracy: 88.45%\n",
            "Val   Loss: 0.8342 | Accuracy: 86.40%\n",
            "No improvement for 8 epochs.\n",
            "\n",
            "Epoch 127/200\n"
          ]
        },
        {
          "name": "stderr",
          "output_type": "stream",
          "text": [
            "                                                             \r"
          ]
        },
        {
          "name": "stdout",
          "output_type": "stream",
          "text": [
            "Train Loss: 0.7666 | Accuracy: 88.37%\n",
            "Val   Loss: 0.8316 | Accuracy: 86.66%\n",
            "No improvement for 9 epochs.\n",
            "\n",
            "Epoch 128/200\n"
          ]
        },
        {
          "name": "stderr",
          "output_type": "stream",
          "text": [
            "                                                             \r"
          ]
        },
        {
          "name": "stdout",
          "output_type": "stream",
          "text": [
            "Train Loss: 0.7674 | Accuracy: 88.53%\n",
            "Val   Loss: 0.8375 | Accuracy: 86.52%\n",
            "No improvement for 10 epochs.\n",
            "Early stopping triggered after 128 epochs.\n",
            "\n",
            "Training Complete\n",
            "\n",
            "Final Averages Over All Epochs\n",
            "Average Train Loss: 1.0027\n",
            "Average Train Accuracy: 77.79%\n",
            "Average Val   Loss: 0.9218\n",
            "Average Val   Accuracy: 81.91%\n",
            "Plots saved: loss_curve.png and accuracy_curve.png\n"
          ]
        },
        {
          "data": {
            "image/png": "[encoded data removed]",
            "text/plain": [
              "<Figure size 640x480 with 1 Axes>"
            ]
          },
          "metadata": {},
          "output_type": "display_data"
        },
        {
          "data": {
            "image/png": "[encoded data removed]",
            "text/plain": [
              "<Figure size 640x480 with 1 Axes>"
            ]
          },
          "metadata": {},
          "output_type": "display_data"
        }
      ],
      "source": [
        "# Set up device \n",
        "device = torch.device(\"cuda\" if torch.cuda.is_available() else \"cpu\")\n",
        "\n",
        "# Save model\n",
        "model.to(device)\n",
        "\n",
        "# Log training \n",
        "train_losses, val_losses = [], []\n",
        "train_accuracies = []\n",
        "val_accuracies = []\n",
        "\n",
        "# Training and Validation Loops \n",
        "def train(model, loader, criterion, optimizer, device):\n",
        "    model.train()\n",
        "    running_loss = 0.0\n",
        "    correct = 0\n",
        "    total = 0\n",
        "\n",
        "    for inputs, labels in tqdm(loader, desc=\"Training\", leave=False):\n",
        "        inputs, labels = inputs.to(device), labels.to(device)\n",
        "\n",
        "        optimizer.zero_grad()\n",
        "        outputs = model(inputs)\n",
        "\n",
        "        loss = criterion(outputs, labels)\n",
        "        loss.backward()\n",
        "        optimizer.step()\n",
        "        # scheduler.step()\n",
        "\n",
        "        running_loss += loss.item()\n",
        "        _, predicted = outputs.max(1)\n",
        "        total += labels.size(0)\n",
        "        correct += predicted.eq(labels).sum().item()\n",
        "\n",
        "    return running_loss / len(loader), 100 * correct / total\n",
        "\n",
        "def evaluate(model, loader, criterion, device):\n",
        "    model.eval()\n",
        "    total = 0\n",
        "    correct = 0\n",
        "    loss = 0.0\n",
        "\n",
        "    with torch.no_grad():\n",
        "        for inputs, labels in tqdm(loader, desc=\"Validating\", leave=False):\n",
        "            inputs, labels = inputs.to(device), labels.to(device)\n",
        "            outputs = model(inputs)\n",
        "            loss += criterion(outputs, labels).item()\n",
        "            _, predicted = outputs.max(1)\n",
        "            total += labels.size(0)\n",
        "            correct += predicted.eq(labels).sum().item()\n",
        "\n",
        "    return loss / len(loader), 100 * correct / total\n",
        "\n",
        "# Main Loop \n",
        "patience = 10  # Number of epochs to wait for improvement\n",
        "early_stop_counter = 0 # Counter for early stopping\n",
        "epochs = 200\n",
        "best_acc = 0.0\n",
        "\n",
        "for epoch in range(epochs):\n",
        "    print(f\"\\nEpoch {epoch+1}/{epochs}\")\n",
        "    train_loss, train_acc = train(model, trainloader, criterion, optimizer, device)\n",
        "    val_loss, val_acc = evaluate(model, testloader, criterion, device)\n",
        "\n",
        "\n",
        "    # Log metrics\n",
        "    train_losses.append(train_loss)\n",
        "    val_losses.append(val_loss)\n",
        "    train_accuracies.append(train_acc)\n",
        "    val_accuracies.append(val_acc)\n",
        "\n",
        "    print(f\"Train Loss: {train_loss:.4f} | Accuracy: {train_acc:.2f}%\")\n",
        "    print(f\"Val   Loss: {val_loss:.4f} | Accuracy: {val_acc:.2f}%\")\n",
        "\n",
        "    # Save best model\n",
        "    if val_acc > best_acc:\n",
        "        best_acc = val_acc\n",
        "        early_stop_counter=0\n",
        "        torch.save(model.state_dict(), \"best_model.pth\")\n",
        "        # scheduler.step(val_loss)\n",
        "        print(\"Saved best model.\")\n",
        "    else:\n",
        "        early_stop_counter += 1\n",
        "        print(f\"No improvement for {early_stop_counter} epochs.\")\n",
        "\n",
        "    if early_stop_counter >= patience:\n",
        "        print(f\"Early stopping triggered after {epoch+1} epochs.\")\n",
        "        break\n",
        "print(\"\\nTraining Complete\")\n",
        "\n",
        "# Print Final Averages \n",
        "avg_train_loss = sum(train_losses) / len(train_losses)\n",
        "avg_val_loss = sum(val_losses) / len(val_losses)\n",
        "avg_train_acc = sum(train_accuracies) / len(train_accuracies)\n",
        "avg_val_acc = sum(val_accuracies) / len(val_accuracies)\n",
        "\n",
        "print(\"\\nFinal Averages Over All Epochs\")\n",
        "print(f\"Average Train Loss: {avg_train_loss:.4f}\")\n",
        "print(f\"Average Train Accuracy: {avg_train_acc:.2f}%\")\n",
        "print(f\"Average Val   Loss: {avg_val_loss:.4f}\")\n",
        "print(f\"Average Val   Accuracy: {avg_val_acc:.2f}%\")\n",
        "\n",
        "\n",
        "# Plot results\n",
        "\n",
        "# Plot Loss\n",
        "plt.figure()\n",
        "plt.plot(train_losses, label='Train Loss')\n",
        "plt.plot(val_losses, label='Validation Loss')\n",
        "plt.title(\"Loss Curve\")\n",
        "plt.xlabel(\"Epoch\")\n",
        "plt.ylabel(\"Loss\")\n",
        "plt.legend()\n",
        "plt.grid()\n",
        "plt.savefig(\"loss_curve.png\")\n",
        "\n",
        "# Plot Accuracy\n",
        "plt.figure()\n",
        "plt.plot(train_accuracies, label='Train Accuracy')\n",
        "plt.plot(val_accuracies, label='Validation Accuracy')\n",
        "plt.title(\"Accuracy Curve\")\n",
        "plt.xlabel(\"Epoch\")\n",
        "plt.ylabel(\"Accuracy (%)\")\n",
        "plt.legend()\n",
        "plt.grid()\n",
        "plt.savefig(\"accuracy_curve.png\")\n",
        "\n",
        "print(\"Plots saved: loss_curve.png and accuracy_curve.png\")\n"
      ]
    }
  ],
  "metadata": {
    "accelerator": "GPU",
    "colab": {
      "gpuType": "T4",
      "provenance": []
    },
    "kernelspec": {
      "display_name": "Python 3 (ipykernel)",
      "language": "python",
      "name": "python3"
    },
    "language_info": {
      "codemirror_mode": {
        "name": "ipython",
        "version": 3
      },
      "file_extension": ".py",
      "mimetype": "text/x-python",
      "name": "python",
      "nbconvert_exporter": "python",
      "pygments_lexer": "ipython3",
      "version": "3.11.7"
    }
  },
  "nbformat": 4,
  "nbformat_minor": 0
}
