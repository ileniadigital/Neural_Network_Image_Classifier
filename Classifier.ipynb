{
  "cells": [
    {
      "cell_type": "markdown",
      "metadata": {
        "id": "R-ugYIZG_vwU"
      },
      "source": [
        "# Read dataset and create data loaders"
      ]
    },
    {
      "cell_type": "code",
      "execution_count": 123,
      "metadata": {
        "id": "sUdX_1lQ7Zf8"
      },
      "outputs": [],
      "source": [
        "# Import torch and CIFAR dataset\n",
        "import torch\n",
        "import torch.nn as nn\n",
        "import torchvision\n",
        "import torchvision.transforms as transforms\n",
        "from torch.utils.data import DataLoader\n",
        "from tqdm import tqdm\n",
        "import torch.optim as optim\n",
        "import torch.nn.functional as F\n",
        "from torch.optim.lr_scheduler import CosineAnnealingLR\n",
        "\n",
        "# Import matplotlib and numpy for graphs\n",
        "import matplotlib.pyplot as plt\n",
        "import numpy as np\n"
      ]
    },
    {
      "cell_type": "code",
      "execution_count": 124,
      "metadata": {
        "id": "Dy0dXGIAAs-N"
      },
      "outputs": [
        {
          "name": "stdout",
          "output_type": "stream",
          "text": [
            "Batch size: 64\n",
            "Files already downloaded and verified\n",
            "Files already downloaded and verified\n"
          ]
        }
      ],
      "source": [
        "'''\n",
        "Import CIFAR dataset, define labels and load training and validation dataset\n",
        "Reference for loading dataset: https://pytorch.org/tutorials/beginner/blitz/cifar10_tutorial.html\n",
        "Reference for augmentation: https://pytorch.org/vision/stable/transforms.html\n",
        "'''\n",
        "batch_size=64 \n",
        "print('Batch size:', batch_size)\n",
        "\n",
        "# Normalisation and std values for RGB in dataset\n",
        "mean = [0.485, 0.456, 0.406]\n",
        "std = [0.229, 0.224, 0.225]\n",
        "\n",
        "# Data augmentation for training set\n",
        "transform_train = transforms.Compose([\n",
        "    transforms.RandomCrop(32, padding=4),  # Randomly crop the image with padding\n",
        "    transforms.RandomHorizontalFlip(),    # Randomly flip the image horizontally\n",
        "    transforms.ColorJitter(brightness=0.5, contrast=0.4, saturation=0.5, hue=0.2),  # Adjust brightness, contrast, saturation, and hue\n",
        "    transforms.RandomRotation(20),        # Randomly rotate the image by max 15 degrees\n",
        "    transforms.RandomAffine(degrees=15, translate=(0.1, 0.1)),  # Randomly translate the image\n",
        "    transforms.ToTensor(),                # Convert image to tensor\n",
        "    transforms.Normalize(mean=mean, std=std),  # Normalize with mean and std values\n",
        "    transforms.RandomErasing(p=0.5, scale=(0.02, 0.5)),  # Randomly erase a portion of the image\n",
        "])\n",
        "\n",
        "# Validation set (no augmentation)\n",
        "transform_test = transforms.Compose([\n",
        "    transforms.ToTensor(),\n",
        "    transforms.Normalize(mean=mean, std=std)  # Normalize with mean and std values\n",
        "])\n",
        "\n",
        "# Load training and testing datasets\n",
        "trainset = torchvision.datasets.CIFAR10(root='./data', train=True, download=True, transform=transform_train)\n",
        "trainloader = torch.utils.data.DataLoader(trainset, batch_size=batch_size, shuffle=True, num_workers=2)\n",
        "\n",
        "testset = torchvision.datasets.CIFAR10(root='./data', train=False, download=True, transform=transform_test)\n",
        "testloader = torch.utils.data.DataLoader(testset, batch_size=batch_size, shuffle=False, num_workers=2)\n",
        "\n",
        "# Define labels\n",
        "classes = ('plane', 'car', 'bird', 'cat',\n",
        "           'deer', 'dog', 'frog', 'horse', 'ship', 'lorry')"
      ]
    },
    {
      "cell_type": "code",
      "execution_count": 125,
      "metadata": {
        "id": "ejYbu1lREwwA"
      },
      "outputs": [],
      "source": [
        "# # From the PyTorch's tutorial on image classification\n",
        "# import matplotlib.pyplot as plt\n",
        "# import numpy as np\n",
        "\n",
        "# def imshow(img):\n",
        "#     '''\n",
        "#     Show an image\n",
        "#     Input: image file to show\n",
        "#     Output: image\n",
        "#     '''\n",
        "#     img = img / 2 + 0.5     # unnormalize\n",
        "#     npimg = img.numpy()\n",
        "#     plt.imshow(np.transpose(npimg, (1, 2, 0)))\n",
        "#     plt.show()\n",
        "\n",
        "# # Get random training images\n",
        "# dataiter = iter(trainloader)\n",
        "# images, labels = next(dataiter)\n",
        "\n",
        "# # Show images\n",
        "# imshow(torchvision.utils.make_grid(images))\n",
        "# # Print labels\n",
        "# print(' '.join(f'{classes[labels[j]]:5s}' for j in range(batch_size)))"
      ]
    },
    {
      "cell_type": "markdown",
      "metadata": {
        "id": "28nn7m9c_1AK"
      },
      "source": [
        "# Main model\n",
        "Divided as such:\n",
        "\n",
        "\n",
        "*   **Stem**: takes the images as inputs, extracts features from them\n",
        "*   **Backbone**: made up of *K* branches, made up of an expert branch\n",
        "*   **Classifier**: takes input from the last block\n",
        "*   **Model**: wraps all together\n",
        "\n",
        "\n",
        "\n",
        "\n",
        "\n"
      ]
    },
    {
      "cell_type": "markdown",
      "metadata": {
        "id": "BjsIHiWpC7ir"
      },
      "source": [
        "## Stem\n",
        "*   Takes images as inputs\n",
        "*   Extracts a feature representation from them"
      ]
    },
    {
      "cell_type": "code",
      "execution_count": 126,
      "metadata": {
        "id": "GPmPcMg3MKuo"
      },
      "outputs": [],
      "source": [
        "class Stem(nn.Module):\n",
        "  '''\n",
        "  Extract features using a Resnet-18 stem\n",
        "  Reference: Week 09 Lab\n",
        "  '''\n",
        "  def __init__(self, input_channels, middle_channels, output_channels):\n",
        "     super(Stem,self).__init__()\n",
        "     # Default parameters\n",
        "     kernel_size=3\n",
        "     stride=1\n",
        "     padding=1\n",
        "     \n",
        "     # Combine multiple layers\n",
        "     self.stem = nn.Sequential(\n",
        "       nn.Conv2d(input_channels, middle_channels, kernel_size = kernel_size, stride = stride, padding = padding),\n",
        "       nn.BatchNorm2d(middle_channels), \n",
        "       nn.ReLU(inplace=True),\n",
        "       nn.Conv2d(middle_channels, middle_channels,kernel_size = kernel_size, stride = stride, padding = padding),\n",
        "       nn.BatchNorm2d(middle_channels),\n",
        "       nn.ReLU(inplace=True),\n",
        "       nn.MaxPool2d(2), # Half the size of the image\n",
        "       nn.Conv2d(middle_channels, output_channels, kernel_size = kernel_size, stride = stride, padding = padding),\n",
        "       nn.BatchNorm2d(output_channels),\n",
        "       nn.ReLU(inplace=True),\n",
        "       nn.MaxPool2d(2) # Half the size of the image\n",
        "       )\n",
        "\n",
        "  def forward(self,x):\n",
        "    x = self.stem(x)\n",
        "    return x"
      ]
    },
    {
      "cell_type": "markdown",
      "metadata": {
        "id": "teldaHE3NAuT"
      },
      "source": [
        "## Block"
      ]
    },
    {
      "cell_type": "code",
      "execution_count": 127,
      "metadata": {
        "id": "q50v5kSs9Lbc"
      },
      "outputs": [],
      "source": [
        "class ExpertBranch(nn.Module):\n",
        "  '''\n",
        "  Expert branch predicting vector a with K elements from input tensor X\n",
        "  '''\n",
        "  def __init__(self, input_channels, k, r):\n",
        "    super(ExpertBranch,self).__init__()\n",
        "    # Spatially pool x\n",
        "    self.pool= nn.AdaptiveAvgPool2d(1)\n",
        "    #Forward through fc1, reducing by r\n",
        "    self.fc1= nn.Linear(input_channels, input_channels//r)\n",
        "    # Activation function ReLu\n",
        "    self.relu= nn.ReLU()\n",
        "    # Forward through fc2\n",
        "    self.fc2= nn.Linear(input_channels//r,k)\n",
        "\n",
        "  def forward(self,x):\n",
        "    # Spatially pool X\n",
        "    x = self.pool(x)\n",
        "    # Forward through fc1, reducing by r\n",
        "    x= x.squeeze(-1).squeeze(-1)\n",
        "    x = self.fc1(x)\n",
        "    # Processed through non-linear activation g\n",
        "    x = F.relu(x)\n",
        "    # Pass through fc2\n",
        "    x = self.fc2(x)\n",
        "    # Forward with softmax\n",
        "    x = F.softmax(x,dim=1)\n",
        "    return x"
      ]
    },
    {
      "cell_type": "code",
      "execution_count": 128,
      "metadata": {
        "id": "xUNibZ2FNE3V"
      },
      "outputs": [],
      "source": [
        "class Block(nn.Module):\n",
        "  '''\n",
        "  Block\n",
        "  '''\n",
        "  def __init__(self, input_channels, output_channels, k, r, num_convs_per_path=2):\n",
        "    super(Block, self).__init__()\n",
        "    # Default parameters\n",
        "    kernel_size=3\n",
        "    stride=1\n",
        "    padding=1\n",
        "\n",
        "    # Set k and expert branch\n",
        "    self.k= k\n",
        "    self.expertBranch = ExpertBranch(input_channels, k=k, r=r)\n",
        "\n",
        "    # Input from first block\n",
        "    # Input from previous block for rest\n",
        "    # Generate vector a with K elements from X as a= E(X)\n",
        "    # Create K convolutional layers\n",
        "    # self.convs= nn.ModuleList([\n",
        "    #     nn.Conv2d(input_channels, output_channels, kernel_size=kernel_size, stride= stride, padding=padding)\n",
        "    #     for _ in range(k)\n",
        "    # ])\n",
        "\n",
        "    # num_convs_per_path = 23 # Number of conv layers in each path\n",
        "    self.conv_paths = nn.ModuleList()\n",
        "    for _ in range(k):\n",
        "        conv_stack = []\n",
        "        # First conv in stack: input_channels → output_channels\n",
        "        conv_stack.append(nn.Conv2d(input_channels, output_channels, kernel_size=3, padding=1))\n",
        "        conv_stack.append(nn.BatchNorm2d(output_channels))\n",
        "        conv_stack.append(nn.ReLU(inplace=True))\n",
        "        \n",
        "        # Additional convs in stack: output_channels → output_channels\n",
        "        for _ in range(num_convs_per_path - 1):\n",
        "            conv_stack.append(nn.Conv2d(output_channels, output_channels, kernel_size=3, padding=1))\n",
        "            conv_stack.append(nn.BatchNorm2d(output_channels))\n",
        "            conv_stack.append(nn.ReLU(inplace=True))\n",
        "        \n",
        "        self.conv_paths.append(nn.Sequential(*conv_stack))\n",
        "    \n",
        "    # Optional 1x1 conv for identity shortcut if dimensions don't match\n",
        "    self.use_shortcut = (input_channels != output_channels)\n",
        "    if self.use_shortcut:\n",
        "        self.shortcut = nn.Sequential(\n",
        "            nn.Conv2d(input_channels, output_channels, kernel_size=1, stride=1, bias=False),\n",
        "            nn.BatchNorm2d(output_channels)\n",
        "        )\n",
        "\n",
        "  def forward(self,x):\n",
        "    identity= x\n",
        "    # Vector a from expert branch\n",
        "    a = self.expertBranch(x)\n",
        "    # Convolutional layers \n",
        "    # conv_outputs = [conv(x) for conv in self.convs]\n",
        "    # stacked = torch.stack(conv_outputs, dim=1)\n",
        "    # # Create vector O\n",
        "    # a= a.view(a.size(0), self.k, 1,1,1)\n",
        "\n",
        "    # out = (a* stacked).sum(dim=1)\n",
        "\n",
        "    # Apply each VGG-style conv path to the input\n",
        "    path_outputs = [path(x) for path in self.conv_paths]\n",
        "    \n",
        "    # Stack and weight the path outputs using vector a\n",
        "    stacked = torch.stack(path_outputs, dim=1)\n",
        "    a = a.view(a.size(0), self.k, 1, 1, 1)  # Reshape for broadcasting\n",
        "    out = (a * stacked).sum(dim=1)\n",
        "    \n",
        "    # Apply skip connection with dimension adjustment if needed\n",
        "    if self.use_shortcut:\n",
        "        identity = self.shortcut(identity)\n",
        "    # Skip connection to stablise gradient descent\n",
        "    out += identity\n",
        "    out = F.relu(out) # activation after skip\n",
        "\n",
        "    return out"
      ]
    },
    {
      "cell_type": "markdown",
      "metadata": {
        "id": "NatobdwZM-dN"
      },
      "source": [
        "## Backbone"
      ]
    },
    {
      "cell_type": "code",
      "execution_count": 129,
      "metadata": {
        "id": "2uZ7am7LOxUi"
      },
      "outputs": [],
      "source": [
        "# class Backbone(nn.Module):\n",
        "#   '''\n",
        "#   N blocks\n",
        "#   '''\n",
        "#   def __init__(self, input_channels, hidden_channels, num_blocks, k, r):\n",
        "#     super(Backbone, self).__init__()\n",
        "#     self.blocks= nn.ModuleList()\n",
        "\n",
        "#     # First block takes input from stem\n",
        "#     self.blocks.append(Block(input_channels, hidden_channels, k=k, r=r))\n",
        "\n",
        "#     # Rest of blocks take input form previous block\n",
        "#     for _ in range(1, num_blocks):\n",
        "#       self.blocks.append(Block(hidden_channels, hidden_channels, k=k, r=r))\n",
        "\n",
        "#   def forward(self, x):\n",
        "#     for idx, block in enumerate(self.blocks):\n",
        "#       x = block(x)\n",
        "#     return x"
      ]
    },
    {
      "cell_type": "code",
      "execution_count": 130,
      "metadata": {},
      "outputs": [],
      "source": [
        "class Backbone(nn.Module):\n",
        "    '''\n",
        "    Backbone with N number of blocks\n",
        "    '''\n",
        "    def __init__(self, input_channels, hidden_channels, num_blocks, k, r):\n",
        "        super(Backbone, self).__init__()\n",
        "        \n",
        "        blocks = []\n",
        "        channels = [input_channels] + [hidden_channels*(2**i) for i in range(num_blocks)]\n",
        "        \n",
        "        for i in range(num_blocks):\n",
        "            # Add VGG-style expert block\n",
        "            blocks.append(\n",
        "                Block(\n",
        "                    input_channels=channels[i],\n",
        "                    output_channels=channels[i+1],\n",
        "                    k=k,\n",
        "                    r=r,\n",
        "                    num_convs_per_path=2 if i < 2 else 3  # VGG uses 2 convs in early blocks, 3 in later ones\n",
        "                )\n",
        "            )\n",
        "            \n",
        "            # Add pooling layer after each block except the last one\n",
        "            if i < 2:\n",
        "                blocks.append(nn.MaxPool2d(kernel_size=2, stride=2))\n",
        "        \n",
        "        self.backbone = nn.Sequential(*blocks)\n",
        "    \n",
        "    def forward(self, x):\n",
        "        return self.backbone(x)"
      ]
    },
    {
      "cell_type": "markdown",
      "metadata": {
        "id": "Zgi2QD7KNC9v"
      },
      "source": [
        "## Classifier"
      ]
    },
    {
      "cell_type": "code",
      "execution_count": 131,
      "metadata": {
        "id": "t8QmbjyB4feJ"
      },
      "outputs": [],
      "source": [
        "class Classifier(nn.Module):\n",
        "  def __init__(self, input_channels, num_classes, use_mlp):\n",
        "    super(Classifier,self).__init__()\n",
        "    # Default parameters\n",
        "    dropout_rate=0.5\n",
        "    # Spatially pool\n",
        "    self.pool = nn.AdaptiveAvgPool2d(1)\n",
        "    self.use_mlp= use_mlp\n",
        "\n",
        "    if use_mlp:\n",
        "      self.classifier= nn.Sequential(\n",
        "          nn.Linear(input_channels, input_channels*2),\n",
        "          nn.ReLU(),\n",
        "          nn.Dropout(dropout_rate), # Deeper network with 3 layers\n",
        "          nn.Linear(input_channels*2, input_channels),\n",
        "          nn.ReLU(),\n",
        "          nn.Dropout(dropout_rate),\n",
        "          nn.Linear(input_channels, num_classes)\n",
        "      )\n",
        "    else:\n",
        "      self.classifier= nn.Linear(input_channels, num_classes)\n",
        "\n",
        "  def forward(self, x):\n",
        "    x = self.pool(x).squeeze(-1).squeeze(-1)\n",
        "    out = self.classifier(x)\n",
        "    return out\n"
      ]
    },
    {
      "cell_type": "markdown",
      "metadata": {
        "id": "ySRxujey4gN3"
      },
      "source": [
        "# Model"
      ]
    },
    {
      "cell_type": "code",
      "execution_count": 132,
      "metadata": {
        "id": "YY9DBSBo4jpP"
      },
      "outputs": [],
      "source": [
        "# class Model(nn.Module):\n",
        "#   def __init__(self, input_channels, output_channels, middle_channels, hidden_channels, num_blocks, k, r, num_classes, use_mlp):\n",
        "#     super(Model, self).__init__()\n",
        "#     # Call stem\n",
        "#     self.stem= Stem(\n",
        "#       input_channels=input_channels,\n",
        "#       middle_channels=middle_channels,\n",
        "#       output_channels=output_channels\n",
        "#     )\n",
        "#     # Call backbone\n",
        "#     self.backbone= Backbone(\n",
        "#       input_channels=output_channels, \n",
        "#       hidden_channels= hidden_channels, \n",
        "#       num_blocks=num_blocks,\n",
        "#       k=k, \n",
        "#       r=r)\n",
        "#     # Call classifier\n",
        "#     self.classifier= Classifier(\n",
        "#       input_channels=hidden_channels, \n",
        "#       num_classes=num_classes,\n",
        "#       use_mlp= use_mlp)\n",
        "\n",
        "#   def forward(self,x):\n",
        "#     x= self.stem(x)\n",
        "#     x= self.backbone(x)\n",
        "#     x= self.classifier(x)\n",
        "#     return x"
      ]
    },
    {
      "cell_type": "code",
      "execution_count": 133,
      "metadata": {},
      "outputs": [],
      "source": [
        "class Model(nn.Module):\n",
        "    def __init__(self, input_channels, output_channels, middle_channels, hidden_channels, num_blocks, k, r, num_classes, use_mlp):\n",
        "        super(Model, self).__init__()\n",
        "        \n",
        "        # Keep your existing stem\n",
        "        self.stem = Stem(\n",
        "            input_channels=input_channels,\n",
        "            middle_channels=middle_channels,\n",
        "            output_channels=output_channels\n",
        "        )\n",
        "        \n",
        "        # Use VGG-style backbone with expert blocks\n",
        "        self.backbone = Backbone(\n",
        "            input_channels=output_channels,\n",
        "            hidden_channels=hidden_channels,\n",
        "            num_blocks=num_blocks,\n",
        "            k=k,\n",
        "            r=r\n",
        "        )\n",
        "        \n",
        "        # Calculate the output channels from the backbone\n",
        "        final_channels = hidden_channels * (2**(num_blocks-1))\n",
        "        \n",
        "        # Classifier remains the same\n",
        "        self.classifier = Classifier(\n",
        "            input_channels=final_channels,\n",
        "            num_classes=num_classes,\n",
        "            use_mlp=use_mlp\n",
        "        )\n",
        "    \n",
        "    def forward(self, x):\n",
        "        x = self.stem(x)\n",
        "        x = self.backbone(x)\n",
        "        x = self.classifier(x)\n",
        "        return x"
      ]
    },
    {
      "cell_type": "markdown",
      "metadata": {
        "id": "tC2qAy2b_3KO"
      },
      "source": [
        "# Create the loss and optmiser\n"
      ]
    },
    {
      "cell_type": "code",
      "execution_count": 134,
      "metadata": {
        "id": "DGJbtSC3EcHy"
      },
      "outputs": [],
      "source": [
        "# model = Model(\n",
        "#     input_channels=3,\n",
        "#     output_channels=128,\n",
        "#     middle_channels=64,\n",
        "#     hidden_channels=128,\n",
        "#     num_blocks=7,\n",
        "#     k=4,\n",
        "#     r=8,\n",
        "#     num_classes=10,\n",
        "#     use_mlp=True\n",
        "# )\n",
        "\n",
        "model = Model(\n",
        "    input_channels=3,\n",
        "    output_channels=64,\n",
        "    middle_channels=32,\n",
        "    hidden_channels=128,  # Start with 64 channels and double after each block\n",
        "    num_blocks=5,        # 4-5 blocks is typical for VGG\n",
        "    k=8,                 # Keep your expert branches\n",
        "    r=8,\n",
        "    num_classes=10,\n",
        "    use_mlp=True\n",
        ")\n",
        "# Weight Initialisation using He initialisation\n",
        "def init_weights(m):\n",
        "    if isinstance(m, nn.Conv2d):\n",
        "        nn.init.kaiming_normal_(m.weight, mode='fan_out', nonlinearity='relu')\n",
        "    elif isinstance(m, nn.BatchNorm2d):\n",
        "        nn.init.constant_(m.weight, 1)\n",
        "        nn.init.constant_(m.bias, 0)\n",
        "    elif isinstance(m, nn.Linear):\n",
        "        nn.init.kaiming_normal_(m.weight)\n",
        "        if m.bias is not None:\n",
        "            nn.init.constant_(m.bias, 0)\n",
        "\n",
        "model.apply(init_weights)\n",
        "\n",
        "criterion = nn.CrossEntropyLoss(label_smoothing=0.1) # Label smoothing to reduce overfitting\n",
        "# optimizer = optim.SGD(model.parameters(), lr=0.01, weight_decay=5e-4, momentum=0.9, nesterov=True)\n",
        "optimizer = optim.AdamW(model.parameters(), lr=0.0001, weight_decay=1e-4)\n",
        "# scheduler= torch.optim.lr_scheduler.CosineAnnealingLR(optimizer, T_max=200, eta_min=0.00001) # Learning rate scheduler\n",
        "scheduler = CosineAnnealingLR(optimizer, T_max=200)"
      ]
    },
    {
      "cell_type": "markdown",
      "metadata": {
        "id": "VlNFWcuJ_8dY"
      },
      "source": [
        "# Training & Testing"
      ]
    },
    {
      "cell_type": "code",
      "execution_count": null,
      "metadata": {
        "colab": {
          "base_uri": "https://localhost:8080/"
        },
        "id": "JdK9bHyHRaVt",
        "outputId": "f59cac49-555d-4148-9435-d29fb3076c79"
      },
      "outputs": [
        {
          "name": "stdout",
          "output_type": "stream",
          "text": [
            "\n",
            "Epoch 1/200\n"
          ]
        },
        {
          "name": "stderr",
          "output_type": "stream",
          "text": [
            "                                                             \r"
          ]
        },
        {
          "name": "stdout",
          "output_type": "stream",
          "text": [
            "Train Loss: 2.2091 | Accuracy: 22.32%\n",
            "Val   Loss: 1.8191 | Accuracy: 37.60%\n",
            "Saved best model.\n",
            "\n",
            "Epoch 2/200\n"
          ]
        },
        {
          "name": "stderr",
          "output_type": "stream",
          "text": [
            "                                                             \r"
          ]
        },
        {
          "name": "stdout",
          "output_type": "stream",
          "text": [
            "Train Loss: 1.9484 | Accuracy: 31.54%\n",
            "Val   Loss: 1.6616 | Accuracy: 43.83%\n",
            "Saved best model.\n",
            "\n",
            "Epoch 3/200\n"
          ]
        },
        {
          "name": "stderr",
          "output_type": "stream",
          "text": [
            "                                                             \r"
          ]
        },
        {
          "name": "stdout",
          "output_type": "stream",
          "text": [
            "Train Loss: 1.8697 | Accuracy: 36.03%\n",
            "Val   Loss: 1.6215 | Accuracy: 46.52%\n",
            "Saved best model.\n",
            "\n",
            "Epoch 4/200\n"
          ]
        },
        {
          "name": "stderr",
          "output_type": "stream",
          "text": [
            "                                                             \r"
          ]
        },
        {
          "name": "stdout",
          "output_type": "stream",
          "text": [
            "Train Loss: 1.8093 | Accuracy: 39.14%\n",
            "Val   Loss: 1.5652 | Accuracy: 51.29%\n",
            "Saved best model.\n",
            "\n",
            "Epoch 5/200\n"
          ]
        },
        {
          "name": "stderr",
          "output_type": "stream",
          "text": [
            "                                                             \r"
          ]
        },
        {
          "name": "stdout",
          "output_type": "stream",
          "text": [
            "Train Loss: 1.7683 | Accuracy: 41.38%\n",
            "Val   Loss: 1.4845 | Accuracy: 55.28%\n",
            "Saved best model.\n",
            "\n",
            "Epoch 6/200\n"
          ]
        },
        {
          "name": "stderr",
          "output_type": "stream",
          "text": [
            "                                                             \r"
          ]
        },
        {
          "name": "stdout",
          "output_type": "stream",
          "text": [
            "Train Loss: 1.7295 | Accuracy: 43.24%\n",
            "Val   Loss: 1.4626 | Accuracy: 55.89%\n",
            "Saved best model.\n",
            "\n",
            "Epoch 7/200\n"
          ]
        },
        {
          "name": "stderr",
          "output_type": "stream",
          "text": [
            "                                                             \r"
          ]
        },
        {
          "name": "stdout",
          "output_type": "stream",
          "text": [
            "Train Loss: 1.6963 | Accuracy: 45.06%\n",
            "Val   Loss: 1.4505 | Accuracy: 55.94%\n",
            "Saved best model.\n",
            "\n",
            "Epoch 8/200\n"
          ]
        },
        {
          "name": "stderr",
          "output_type": "stream",
          "text": [
            "                                                             \r"
          ]
        },
        {
          "name": "stdout",
          "output_type": "stream",
          "text": [
            "Train Loss: 1.6622 | Accuracy: 47.11%\n",
            "Val   Loss: 1.3969 | Accuracy: 61.56%\n",
            "Saved best model.\n",
            "\n",
            "Epoch 9/200\n"
          ]
        },
        {
          "name": "stderr",
          "output_type": "stream",
          "text": [
            "                                                             \r"
          ]
        },
        {
          "name": "stdout",
          "output_type": "stream",
          "text": [
            "Train Loss: 1.6367 | Accuracy: 48.59%\n",
            "Val   Loss: 1.3451 | Accuracy: 62.66%\n",
            "Saved best model.\n",
            "\n",
            "Epoch 10/200\n"
          ]
        },
        {
          "name": "stderr",
          "output_type": "stream",
          "text": [
            "                                                             \r"
          ]
        },
        {
          "name": "stdout",
          "output_type": "stream",
          "text": [
            "Train Loss: 1.6109 | Accuracy: 49.80%\n",
            "Val   Loss: 1.3900 | Accuracy: 59.04%\n",
            "No improvement for 1 epochs.\n",
            "\n",
            "Epoch 11/200\n"
          ]
        },
        {
          "name": "stderr",
          "output_type": "stream",
          "text": [
            "                                                             \r"
          ]
        },
        {
          "name": "stdout",
          "output_type": "stream",
          "text": [
            "Train Loss: 1.5871 | Accuracy: 50.89%\n",
            "Val   Loss: 1.3342 | Accuracy: 64.37%\n",
            "Saved best model.\n",
            "\n",
            "Epoch 12/200\n"
          ]
        },
        {
          "name": "stderr",
          "output_type": "stream",
          "text": [
            "                                                             \r"
          ]
        },
        {
          "name": "stdout",
          "output_type": "stream",
          "text": [
            "Train Loss: 1.5668 | Accuracy: 51.92%\n",
            "Val   Loss: 1.3058 | Accuracy: 64.57%\n",
            "Saved best model.\n",
            "\n",
            "Epoch 13/200\n"
          ]
        },
        {
          "name": "stderr",
          "output_type": "stream",
          "text": [
            "                                                             \r"
          ]
        },
        {
          "name": "stdout",
          "output_type": "stream",
          "text": [
            "Train Loss: 1.5432 | Accuracy: 52.89%\n",
            "Val   Loss: 1.2631 | Accuracy: 66.75%\n",
            "Saved best model.\n",
            "\n",
            "Epoch 14/200\n"
          ]
        },
        {
          "name": "stderr",
          "output_type": "stream",
          "text": [
            "                                                             \r"
          ]
        },
        {
          "name": "stdout",
          "output_type": "stream",
          "text": [
            "Train Loss: 1.5270 | Accuracy: 53.72%\n",
            "Val   Loss: 1.2564 | Accuracy: 67.28%\n",
            "Saved best model.\n",
            "\n",
            "Epoch 15/200\n"
          ]
        },
        {
          "name": "stderr",
          "output_type": "stream",
          "text": [
            "                                                             \r"
          ]
        },
        {
          "name": "stdout",
          "output_type": "stream",
          "text": [
            "Train Loss: 1.5087 | Accuracy: 54.66%\n",
            "Val   Loss: 1.2289 | Accuracy: 69.41%\n",
            "Saved best model.\n",
            "\n",
            "Epoch 16/200\n"
          ]
        },
        {
          "name": "stderr",
          "output_type": "stream",
          "text": [
            "                                                             \r"
          ]
        },
        {
          "name": "stdout",
          "output_type": "stream",
          "text": [
            "Train Loss: 1.4901 | Accuracy: 55.63%\n",
            "Val   Loss: 1.2186 | Accuracy: 69.46%\n",
            "Saved best model.\n",
            "\n",
            "Epoch 17/200\n"
          ]
        },
        {
          "name": "stderr",
          "output_type": "stream",
          "text": [
            "                                                             \r"
          ]
        },
        {
          "name": "stdout",
          "output_type": "stream",
          "text": [
            "Train Loss: 1.4765 | Accuracy: 56.32%\n",
            "Val   Loss: 1.2035 | Accuracy: 70.81%\n",
            "Saved best model.\n",
            "\n",
            "Epoch 18/200\n"
          ]
        },
        {
          "name": "stderr",
          "output_type": "stream",
          "text": [
            "                                                             \r"
          ]
        },
        {
          "name": "stdout",
          "output_type": "stream",
          "text": [
            "Train Loss: 1.4577 | Accuracy: 57.31%\n",
            "Val   Loss: 1.1887 | Accuracy: 70.76%\n",
            "No improvement for 1 epochs.\n",
            "\n",
            "Epoch 19/200\n"
          ]
        },
        {
          "name": "stderr",
          "output_type": "stream",
          "text": [
            "                                                             \r"
          ]
        },
        {
          "name": "stdout",
          "output_type": "stream",
          "text": [
            "Train Loss: 1.4494 | Accuracy: 57.52%\n",
            "Val   Loss: 1.1688 | Accuracy: 71.81%\n",
            "Saved best model.\n",
            "\n",
            "Epoch 20/200\n"
          ]
        },
        {
          "name": "stderr",
          "output_type": "stream",
          "text": [
            "                                                             \r"
          ]
        },
        {
          "name": "stdout",
          "output_type": "stream",
          "text": [
            "Train Loss: 1.4290 | Accuracy: 58.47%\n",
            "Val   Loss: 1.1753 | Accuracy: 71.44%\n",
            "No improvement for 1 epochs.\n",
            "\n",
            "Epoch 21/200\n"
          ]
        },
        {
          "name": "stderr",
          "output_type": "stream",
          "text": [
            "                                                             \r"
          ]
        },
        {
          "name": "stdout",
          "output_type": "stream",
          "text": [
            "Train Loss: 1.4156 | Accuracy: 59.29%\n",
            "Val   Loss: 1.1453 | Accuracy: 73.63%\n",
            "Saved best model.\n",
            "\n",
            "Epoch 22/200\n"
          ]
        },
        {
          "name": "stderr",
          "output_type": "stream",
          "text": [
            "                                                             \r"
          ]
        },
        {
          "name": "stdout",
          "output_type": "stream",
          "text": [
            "Train Loss: 1.4043 | Accuracy: 59.76%\n",
            "Val   Loss: 1.1385 | Accuracy: 73.46%\n",
            "No improvement for 1 epochs.\n",
            "\n",
            "Epoch 23/200\n"
          ]
        },
        {
          "name": "stderr",
          "output_type": "stream",
          "text": [
            "                                                             \r"
          ]
        },
        {
          "name": "stdout",
          "output_type": "stream",
          "text": [
            "Train Loss: 1.3975 | Accuracy: 59.90%\n",
            "Val   Loss: 1.1278 | Accuracy: 74.46%\n",
            "Saved best model.\n",
            "\n",
            "Epoch 24/200\n"
          ]
        },
        {
          "name": "stderr",
          "output_type": "stream",
          "text": [
            "                                                             \r"
          ]
        },
        {
          "name": "stdout",
          "output_type": "stream",
          "text": [
            "Train Loss: 1.3899 | Accuracy: 60.55%\n",
            "Val   Loss: 1.1168 | Accuracy: 74.17%\n",
            "No improvement for 1 epochs.\n",
            "\n",
            "Epoch 25/200\n"
          ]
        },
        {
          "name": "stderr",
          "output_type": "stream",
          "text": [
            "                                                             \r"
          ]
        },
        {
          "name": "stdout",
          "output_type": "stream",
          "text": [
            "Train Loss: 1.3776 | Accuracy: 60.95%\n",
            "Val   Loss: 1.1150 | Accuracy: 75.18%\n",
            "Saved best model.\n",
            "\n",
            "Epoch 26/200\n"
          ]
        },
        {
          "name": "stderr",
          "output_type": "stream",
          "text": [
            "                                                             \r"
          ]
        },
        {
          "name": "stdout",
          "output_type": "stream",
          "text": [
            "Train Loss: 1.3684 | Accuracy: 61.52%\n",
            "Val   Loss: 1.1021 | Accuracy: 75.76%\n",
            "Saved best model.\n",
            "\n",
            "Epoch 27/200\n"
          ]
        },
        {
          "name": "stderr",
          "output_type": "stream",
          "text": [
            "                                                             \r"
          ]
        },
        {
          "name": "stdout",
          "output_type": "stream",
          "text": [
            "Train Loss: 1.3594 | Accuracy: 61.87%\n",
            "Val   Loss: 1.1071 | Accuracy: 75.19%\n",
            "No improvement for 1 epochs.\n",
            "\n",
            "Epoch 28/200\n"
          ]
        },
        {
          "name": "stderr",
          "output_type": "stream",
          "text": [
            "                                                             \r"
          ]
        },
        {
          "name": "stdout",
          "output_type": "stream",
          "text": [
            "Train Loss: 1.3449 | Accuracy: 62.49%\n",
            "Val   Loss: 1.0812 | Accuracy: 76.79%\n",
            "Saved best model.\n",
            "\n",
            "Epoch 29/200\n"
          ]
        },
        {
          "name": "stderr",
          "output_type": "stream",
          "text": [
            "                                                             \r"
          ]
        },
        {
          "name": "stdout",
          "output_type": "stream",
          "text": [
            "Train Loss: 1.3395 | Accuracy: 62.91%\n",
            "Val   Loss: 1.0989 | Accuracy: 76.18%\n",
            "No improvement for 1 epochs.\n",
            "\n",
            "Epoch 30/200\n"
          ]
        },
        {
          "name": "stderr",
          "output_type": "stream",
          "text": [
            "                                                             \r"
          ]
        },
        {
          "name": "stdout",
          "output_type": "stream",
          "text": [
            "Train Loss: 1.3360 | Accuracy: 63.27%\n",
            "Val   Loss: 1.0854 | Accuracy: 76.60%\n",
            "No improvement for 2 epochs.\n",
            "\n",
            "Epoch 31/200\n"
          ]
        },
        {
          "name": "stderr",
          "output_type": "stream",
          "text": [
            "                                                             \r"
          ]
        },
        {
          "name": "stdout",
          "output_type": "stream",
          "text": [
            "Train Loss: 1.3227 | Accuracy: 63.67%\n",
            "Val   Loss: 1.0634 | Accuracy: 77.50%\n",
            "Saved best model.\n",
            "\n",
            "Epoch 32/200\n"
          ]
        },
        {
          "name": "stderr",
          "output_type": "stream",
          "text": [
            "                                                             \r"
          ]
        },
        {
          "name": "stdout",
          "output_type": "stream",
          "text": [
            "Train Loss: 1.3143 | Accuracy: 64.14%\n",
            "Val   Loss: 1.0523 | Accuracy: 78.71%\n",
            "Saved best model.\n",
            "\n",
            "Epoch 33/200\n"
          ]
        },
        {
          "name": "stderr",
          "output_type": "stream",
          "text": [
            "                                                             \r"
          ]
        },
        {
          "name": "stdout",
          "output_type": "stream",
          "text": [
            "Train Loss: 1.3049 | Accuracy: 64.49%\n",
            "Val   Loss: 1.0754 | Accuracy: 77.29%\n",
            "No improvement for 1 epochs.\n",
            "\n",
            "Epoch 34/200\n"
          ]
        },
        {
          "name": "stderr",
          "output_type": "stream",
          "text": [
            "                                                             \r"
          ]
        },
        {
          "name": "stdout",
          "output_type": "stream",
          "text": [
            "Train Loss: 1.3029 | Accuracy: 64.32%\n",
            "Val   Loss: 1.0591 | Accuracy: 78.07%\n",
            "No improvement for 2 epochs.\n",
            "\n",
            "Epoch 35/200\n"
          ]
        },
        {
          "name": "stderr",
          "output_type": "stream",
          "text": [
            "                                                             \r"
          ]
        },
        {
          "name": "stdout",
          "output_type": "stream",
          "text": [
            "Train Loss: 1.2889 | Accuracy: 65.02%\n",
            "Val   Loss: 1.0522 | Accuracy: 78.11%\n",
            "No improvement for 3 epochs.\n",
            "\n",
            "Epoch 36/200\n"
          ]
        },
        {
          "name": "stderr",
          "output_type": "stream",
          "text": [
            "                                                             \r"
          ]
        },
        {
          "name": "stdout",
          "output_type": "stream",
          "text": [
            "Train Loss: 1.2854 | Accuracy: 65.20%\n",
            "Val   Loss: 1.0348 | Accuracy: 78.52%\n",
            "No improvement for 4 epochs.\n",
            "\n",
            "Epoch 37/200\n"
          ]
        },
        {
          "name": "stderr",
          "output_type": "stream",
          "text": [
            "                                                             \r"
          ]
        },
        {
          "name": "stdout",
          "output_type": "stream",
          "text": [
            "Train Loss: 1.2810 | Accuracy: 65.63%\n",
            "Val   Loss: 1.0427 | Accuracy: 79.28%\n",
            "Saved best model.\n",
            "\n",
            "Epoch 38/200\n"
          ]
        },
        {
          "name": "stderr",
          "output_type": "stream",
          "text": [
            "                                                             \r"
          ]
        },
        {
          "name": "stdout",
          "output_type": "stream",
          "text": [
            "Train Loss: 1.2715 | Accuracy: 66.04%\n",
            "Val   Loss: 1.0509 | Accuracy: 79.14%\n",
            "No improvement for 1 epochs.\n",
            "\n",
            "Epoch 39/200\n"
          ]
        },
        {
          "name": "stderr",
          "output_type": "stream",
          "text": [
            "                                                             \r"
          ]
        },
        {
          "name": "stdout",
          "output_type": "stream",
          "text": [
            "Train Loss: 1.2661 | Accuracy: 66.34%\n",
            "Val   Loss: 1.0329 | Accuracy: 78.78%\n",
            "No improvement for 2 epochs.\n",
            "\n",
            "Epoch 40/200\n"
          ]
        },
        {
          "name": "stderr",
          "output_type": "stream",
          "text": [
            "                                                             \r"
          ]
        },
        {
          "name": "stdout",
          "output_type": "stream",
          "text": [
            "Train Loss: 1.2630 | Accuracy: 66.53%\n",
            "Val   Loss: 1.0252 | Accuracy: 79.06%\n",
            "No improvement for 3 epochs.\n",
            "\n",
            "Epoch 41/200\n"
          ]
        },
        {
          "name": "stderr",
          "output_type": "stream",
          "text": [
            "                                                             \r"
          ]
        },
        {
          "name": "stdout",
          "output_type": "stream",
          "text": [
            "Train Loss: 1.2539 | Accuracy: 66.74%\n",
            "Val   Loss: 1.0263 | Accuracy: 79.70%\n",
            "Saved best model.\n",
            "\n",
            "Epoch 42/200\n"
          ]
        },
        {
          "name": "stderr",
          "output_type": "stream",
          "text": [
            "                                                             \r"
          ]
        },
        {
          "name": "stdout",
          "output_type": "stream",
          "text": [
            "Train Loss: 1.2512 | Accuracy: 67.06%\n",
            "Val   Loss: 1.0112 | Accuracy: 79.57%\n",
            "No improvement for 1 epochs.\n",
            "\n",
            "Epoch 43/200\n"
          ]
        },
        {
          "name": "stderr",
          "output_type": "stream",
          "text": [
            "                                                             \r"
          ]
        },
        {
          "name": "stdout",
          "output_type": "stream",
          "text": [
            "Train Loss: 1.2409 | Accuracy: 67.30%\n",
            "Val   Loss: 1.0217 | Accuracy: 79.41%\n",
            "No improvement for 2 epochs.\n",
            "\n",
            "Epoch 44/200\n"
          ]
        },
        {
          "name": "stderr",
          "output_type": "stream",
          "text": [
            "                                                             \r"
          ]
        },
        {
          "name": "stdout",
          "output_type": "stream",
          "text": [
            "Train Loss: 1.2337 | Accuracy: 67.76%\n",
            "Val   Loss: 1.0226 | Accuracy: 80.49%\n",
            "Saved best model.\n",
            "\n",
            "Epoch 45/200\n"
          ]
        },
        {
          "name": "stderr",
          "output_type": "stream",
          "text": [
            "                                                             \r"
          ]
        },
        {
          "name": "stdout",
          "output_type": "stream",
          "text": [
            "Train Loss: 1.2364 | Accuracy: 67.50%\n",
            "Val   Loss: 0.9773 | Accuracy: 80.70%\n",
            "Saved best model.\n",
            "\n",
            "Epoch 46/200\n"
          ]
        },
        {
          "name": "stderr",
          "output_type": "stream",
          "text": [
            "                                                             \r"
          ]
        },
        {
          "name": "stdout",
          "output_type": "stream",
          "text": [
            "Train Loss: 1.2312 | Accuracy: 68.06%\n",
            "Val   Loss: 1.0229 | Accuracy: 78.76%\n",
            "No improvement for 1 epochs.\n",
            "\n",
            "Epoch 47/200\n"
          ]
        },
        {
          "name": "stderr",
          "output_type": "stream",
          "text": [
            "                                                             \r"
          ]
        },
        {
          "name": "stdout",
          "output_type": "stream",
          "text": [
            "Train Loss: 1.2191 | Accuracy: 68.47%\n",
            "Val   Loss: 1.0131 | Accuracy: 80.00%\n",
            "No improvement for 2 epochs.\n",
            "\n",
            "Epoch 48/200\n"
          ]
        },
        {
          "name": "stderr",
          "output_type": "stream",
          "text": [
            "                                                             \r"
          ]
        },
        {
          "name": "stdout",
          "output_type": "stream",
          "text": [
            "Train Loss: 1.2170 | Accuracy: 68.55%\n",
            "Val   Loss: 0.9941 | Accuracy: 80.39%\n",
            "No improvement for 3 epochs.\n",
            "\n",
            "Epoch 49/200\n"
          ]
        },
        {
          "name": "stderr",
          "output_type": "stream",
          "text": [
            "                                                             \r"
          ]
        },
        {
          "name": "stdout",
          "output_type": "stream",
          "text": [
            "Train Loss: 1.2130 | Accuracy: 68.80%\n",
            "Val   Loss: 0.9896 | Accuracy: 80.19%\n",
            "No improvement for 4 epochs.\n",
            "\n",
            "Epoch 50/200\n"
          ]
        },
        {
          "name": "stderr",
          "output_type": "stream",
          "text": [
            "                                                             \r"
          ]
        },
        {
          "name": "stdout",
          "output_type": "stream",
          "text": [
            "Train Loss: 1.2089 | Accuracy: 68.93%\n",
            "Val   Loss: 0.9891 | Accuracy: 80.62%\n",
            "No improvement for 5 epochs.\n",
            "\n",
            "Epoch 51/200\n"
          ]
        },
        {
          "name": "stderr",
          "output_type": "stream",
          "text": [
            "                                                             \r"
          ]
        },
        {
          "name": "stdout",
          "output_type": "stream",
          "text": [
            "Train Loss: 1.2021 | Accuracy: 69.28%\n",
            "Val   Loss: 0.9916 | Accuracy: 80.83%\n",
            "Saved best model.\n",
            "\n",
            "Epoch 52/200\n"
          ]
        },
        {
          "name": "stderr",
          "output_type": "stream",
          "text": [
            "                                                             \r"
          ]
        },
        {
          "name": "stdout",
          "output_type": "stream",
          "text": [
            "Train Loss: 1.1921 | Accuracy: 69.58%\n",
            "Val   Loss: 1.0104 | Accuracy: 80.49%\n",
            "No improvement for 1 epochs.\n",
            "\n",
            "Epoch 53/200\n"
          ]
        },
        {
          "name": "stderr",
          "output_type": "stream",
          "text": [
            "                                                             \r"
          ]
        },
        {
          "name": "stdout",
          "output_type": "stream",
          "text": [
            "Train Loss: 1.1934 | Accuracy: 69.64%\n",
            "Val   Loss: 0.9867 | Accuracy: 81.61%\n",
            "Saved best model.\n",
            "\n",
            "Epoch 54/200\n"
          ]
        },
        {
          "name": "stderr",
          "output_type": "stream",
          "text": [
            "                                                             \r"
          ]
        },
        {
          "name": "stdout",
          "output_type": "stream",
          "text": [
            "Train Loss: 1.1939 | Accuracy: 69.56%\n",
            "Val   Loss: 0.9823 | Accuracy: 81.80%\n",
            "Saved best model.\n",
            "\n",
            "Epoch 55/200\n"
          ]
        },
        {
          "name": "stderr",
          "output_type": "stream",
          "text": [
            "                                                             \r"
          ]
        },
        {
          "name": "stdout",
          "output_type": "stream",
          "text": [
            "Train Loss: 1.1832 | Accuracy: 69.96%\n",
            "Val   Loss: 0.9739 | Accuracy: 81.99%\n",
            "Saved best model.\n",
            "\n",
            "Epoch 56/200\n"
          ]
        },
        {
          "name": "stderr",
          "output_type": "stream",
          "text": [
            "                                                             \r"
          ]
        },
        {
          "name": "stdout",
          "output_type": "stream",
          "text": [
            "Train Loss: 1.1828 | Accuracy: 70.05%\n",
            "Val   Loss: 0.9853 | Accuracy: 81.91%\n",
            "No improvement for 1 epochs.\n",
            "\n",
            "Epoch 57/200\n"
          ]
        },
        {
          "name": "stderr",
          "output_type": "stream",
          "text": [
            "                                                             \r"
          ]
        },
        {
          "name": "stdout",
          "output_type": "stream",
          "text": [
            "Train Loss: 1.1733 | Accuracy: 70.47%\n",
            "Val   Loss: 0.9817 | Accuracy: 81.93%\n",
            "No improvement for 2 epochs.\n",
            "\n",
            "Epoch 58/200\n"
          ]
        },
        {
          "name": "stderr",
          "output_type": "stream",
          "text": [
            "                                                             \r"
          ]
        },
        {
          "name": "stdout",
          "output_type": "stream",
          "text": [
            "Train Loss: 1.1724 | Accuracy: 70.55%\n",
            "Val   Loss: 0.9634 | Accuracy: 82.35%\n",
            "Saved best model.\n",
            "\n",
            "Epoch 59/200\n"
          ]
        },
        {
          "name": "stderr",
          "output_type": "stream",
          "text": [
            "                                                             \r"
          ]
        },
        {
          "name": "stdout",
          "output_type": "stream",
          "text": [
            "Train Loss: 1.1698 | Accuracy: 70.53%\n",
            "Val   Loss: 0.9716 | Accuracy: 82.90%\n",
            "Saved best model.\n",
            "\n",
            "Epoch 60/200\n"
          ]
        },
        {
          "name": "stderr",
          "output_type": "stream",
          "text": [
            "                                                             \r"
          ]
        },
        {
          "name": "stdout",
          "output_type": "stream",
          "text": [
            "Train Loss: 1.1615 | Accuracy: 70.82%\n",
            "Val   Loss: 0.9835 | Accuracy: 81.88%\n",
            "No improvement for 1 epochs.\n",
            "\n",
            "Epoch 61/200\n"
          ]
        },
        {
          "name": "stderr",
          "output_type": "stream",
          "text": [
            "                                                             \r"
          ]
        },
        {
          "name": "stdout",
          "output_type": "stream",
          "text": [
            "Train Loss: 1.1602 | Accuracy: 70.93%\n",
            "Val   Loss: 0.9652 | Accuracy: 82.17%\n",
            "No improvement for 2 epochs.\n",
            "\n",
            "Epoch 62/200\n"
          ]
        },
        {
          "name": "stderr",
          "output_type": "stream",
          "text": [
            "                                                             \r"
          ]
        },
        {
          "name": "stdout",
          "output_type": "stream",
          "text": [
            "Train Loss: 1.1581 | Accuracy: 71.14%\n",
            "Val   Loss: 0.9402 | Accuracy: 82.70%\n",
            "No improvement for 3 epochs.\n",
            "\n",
            "Epoch 63/200\n"
          ]
        },
        {
          "name": "stderr",
          "output_type": "stream",
          "text": [
            "                                                             \r"
          ]
        },
        {
          "name": "stdout",
          "output_type": "stream",
          "text": [
            "Train Loss: 1.1471 | Accuracy: 71.67%\n",
            "Val   Loss: 0.9638 | Accuracy: 82.68%\n",
            "No improvement for 4 epochs.\n",
            "\n",
            "Epoch 64/200\n"
          ]
        },
        {
          "name": "stderr",
          "output_type": "stream",
          "text": [
            "                                                             \r"
          ]
        },
        {
          "name": "stdout",
          "output_type": "stream",
          "text": [
            "Train Loss: 1.1482 | Accuracy: 71.43%\n",
            "Val   Loss: 0.9463 | Accuracy: 82.69%\n",
            "No improvement for 5 epochs.\n",
            "\n",
            "Epoch 65/200\n"
          ]
        },
        {
          "name": "stderr",
          "output_type": "stream",
          "text": [
            "                                                             \r"
          ]
        },
        {
          "name": "stdout",
          "output_type": "stream",
          "text": [
            "Train Loss: 1.1471 | Accuracy: 71.65%\n",
            "Val   Loss: 0.9463 | Accuracy: 83.06%\n",
            "Saved best model.\n",
            "\n",
            "Epoch 66/200\n"
          ]
        },
        {
          "name": "stderr",
          "output_type": "stream",
          "text": [
            "                                                             \r"
          ]
        },
        {
          "name": "stdout",
          "output_type": "stream",
          "text": [
            "Train Loss: 1.1434 | Accuracy: 71.80%\n",
            "Val   Loss: 0.9704 | Accuracy: 82.65%\n",
            "No improvement for 1 epochs.\n",
            "\n",
            "Epoch 67/200\n"
          ]
        },
        {
          "name": "stderr",
          "output_type": "stream",
          "text": [
            "                                                             \r"
          ]
        },
        {
          "name": "stdout",
          "output_type": "stream",
          "text": [
            "Train Loss: 1.1342 | Accuracy: 72.22%\n",
            "Val   Loss: 0.9581 | Accuracy: 82.90%\n",
            "No improvement for 2 epochs.\n",
            "\n",
            "Epoch 68/200\n"
          ]
        },
        {
          "name": "stderr",
          "output_type": "stream",
          "text": [
            "                                                             \r"
          ]
        },
        {
          "name": "stdout",
          "output_type": "stream",
          "text": [
            "Train Loss: 1.1353 | Accuracy: 72.23%\n",
            "Val   Loss: 0.9430 | Accuracy: 83.21%\n",
            "Saved best model.\n",
            "\n",
            "Epoch 69/200\n"
          ]
        },
        {
          "name": "stderr",
          "output_type": "stream",
          "text": [
            "                                                             \r"
          ]
        },
        {
          "name": "stdout",
          "output_type": "stream",
          "text": [
            "Train Loss: 1.1264 | Accuracy: 72.41%\n",
            "Val   Loss: 0.9430 | Accuracy: 83.15%\n",
            "No improvement for 1 epochs.\n",
            "\n",
            "Epoch 70/200\n"
          ]
        },
        {
          "name": "stderr",
          "output_type": "stream",
          "text": [
            "                                                             \r"
          ]
        },
        {
          "name": "stdout",
          "output_type": "stream",
          "text": [
            "Train Loss: 1.1227 | Accuracy: 72.67%\n",
            "Val   Loss: 0.9500 | Accuracy: 82.28%\n",
            "No improvement for 2 epochs.\n",
            "\n",
            "Epoch 71/200\n"
          ]
        },
        {
          "name": "stderr",
          "output_type": "stream",
          "text": [
            "                                                             \r"
          ]
        },
        {
          "name": "stdout",
          "output_type": "stream",
          "text": [
            "Train Loss: 1.1253 | Accuracy: 72.37%\n",
            "Val   Loss: 0.9505 | Accuracy: 83.40%\n",
            "Saved best model.\n",
            "\n",
            "Epoch 72/200\n"
          ]
        },
        {
          "name": "stderr",
          "output_type": "stream",
          "text": [
            "                                                             \r"
          ]
        },
        {
          "name": "stdout",
          "output_type": "stream",
          "text": [
            "Train Loss: 1.1198 | Accuracy: 73.09%\n",
            "Val   Loss: 0.9608 | Accuracy: 82.99%\n",
            "No improvement for 1 epochs.\n",
            "\n",
            "Epoch 73/200\n"
          ]
        },
        {
          "name": "stderr",
          "output_type": "stream",
          "text": [
            "                                                             \r"
          ]
        },
        {
          "name": "stdout",
          "output_type": "stream",
          "text": [
            "Train Loss: 1.1152 | Accuracy: 73.08%\n",
            "Val   Loss: 0.9785 | Accuracy: 82.70%\n",
            "No improvement for 2 epochs.\n",
            "\n",
            "Epoch 74/200\n"
          ]
        },
        {
          "name": "stderr",
          "output_type": "stream",
          "text": [
            "                                                             \r"
          ]
        },
        {
          "name": "stdout",
          "output_type": "stream",
          "text": [
            "Train Loss: 1.1147 | Accuracy: 72.88%\n",
            "Val   Loss: 0.9339 | Accuracy: 83.53%\n",
            "Saved best model.\n",
            "\n",
            "Epoch 75/200\n"
          ]
        },
        {
          "name": "stderr",
          "output_type": "stream",
          "text": [
            "                                                             \r"
          ]
        },
        {
          "name": "stdout",
          "output_type": "stream",
          "text": [
            "Train Loss: 1.1121 | Accuracy: 72.89%\n",
            "Val   Loss: 0.9209 | Accuracy: 83.79%\n",
            "Saved best model.\n",
            "\n",
            "Epoch 76/200\n"
          ]
        },
        {
          "name": "stderr",
          "output_type": "stream",
          "text": [
            "                                                             \r"
          ]
        },
        {
          "name": "stdout",
          "output_type": "stream",
          "text": [
            "Train Loss: 1.1043 | Accuracy: 73.43%\n",
            "Val   Loss: 0.9390 | Accuracy: 83.99%\n",
            "Saved best model.\n",
            "\n",
            "Epoch 77/200\n"
          ]
        },
        {
          "name": "stderr",
          "output_type": "stream",
          "text": [
            "                                                             \r"
          ]
        },
        {
          "name": "stdout",
          "output_type": "stream",
          "text": [
            "Train Loss: 1.1042 | Accuracy: 73.38%\n",
            "Val   Loss: 0.9196 | Accuracy: 83.20%\n",
            "No improvement for 1 epochs.\n",
            "\n",
            "Epoch 78/200\n"
          ]
        },
        {
          "name": "stderr",
          "output_type": "stream",
          "text": [
            "                                                             \r"
          ]
        },
        {
          "name": "stdout",
          "output_type": "stream",
          "text": [
            "Train Loss: 1.1008 | Accuracy: 73.84%\n",
            "Val   Loss: 0.9441 | Accuracy: 83.30%\n",
            "No improvement for 2 epochs.\n",
            "\n",
            "Epoch 79/200\n"
          ]
        },
        {
          "name": "stderr",
          "output_type": "stream",
          "text": [
            "                                                             \r"
          ]
        },
        {
          "name": "stdout",
          "output_type": "stream",
          "text": [
            "Train Loss: 1.0957 | Accuracy: 74.00%\n",
            "Val   Loss: 0.9267 | Accuracy: 83.32%\n",
            "No improvement for 3 epochs.\n",
            "\n",
            "Epoch 80/200\n"
          ]
        },
        {
          "name": "stderr",
          "output_type": "stream",
          "text": [
            "                                                             \r"
          ]
        },
        {
          "name": "stdout",
          "output_type": "stream",
          "text": [
            "Train Loss: 1.0912 | Accuracy: 74.22%\n",
            "Val   Loss: 0.9191 | Accuracy: 83.75%\n",
            "No improvement for 4 epochs.\n",
            "\n",
            "Epoch 81/200\n"
          ]
        },
        {
          "name": "stderr",
          "output_type": "stream",
          "text": [
            "                                                             \r"
          ]
        },
        {
          "name": "stdout",
          "output_type": "stream",
          "text": [
            "Train Loss: 1.0888 | Accuracy: 74.19%\n",
            "Val   Loss: 0.9097 | Accuracy: 83.94%\n",
            "No improvement for 5 epochs.\n",
            "\n",
            "Epoch 82/200\n"
          ]
        },
        {
          "name": "stderr",
          "output_type": "stream",
          "text": [
            "                                                             \r"
          ]
        },
        {
          "name": "stdout",
          "output_type": "stream",
          "text": [
            "Train Loss: 1.0823 | Accuracy: 74.38%\n",
            "Val   Loss: 0.9134 | Accuracy: 84.22%\n",
            "Saved best model.\n",
            "\n",
            "Epoch 83/200\n"
          ]
        },
        {
          "name": "stderr",
          "output_type": "stream",
          "text": [
            "                                                             \r"
          ]
        },
        {
          "name": "stdout",
          "output_type": "stream",
          "text": [
            "Train Loss: 1.0823 | Accuracy: 74.35%\n",
            "Val   Loss: 0.9232 | Accuracy: 83.26%\n",
            "No improvement for 1 epochs.\n",
            "\n",
            "Epoch 84/200\n"
          ]
        },
        {
          "name": "stderr",
          "output_type": "stream",
          "text": [
            "                                                             \r"
          ]
        },
        {
          "name": "stdout",
          "output_type": "stream",
          "text": [
            "Train Loss: 1.0795 | Accuracy: 74.72%\n",
            "Val   Loss: 0.9116 | Accuracy: 83.64%\n",
            "No improvement for 2 epochs.\n",
            "\n",
            "Epoch 85/200\n"
          ]
        },
        {
          "name": "stderr",
          "output_type": "stream",
          "text": [
            "                                                             \r"
          ]
        },
        {
          "name": "stdout",
          "output_type": "stream",
          "text": [
            "Train Loss: 1.0767 | Accuracy: 74.64%\n",
            "Val   Loss: 0.9281 | Accuracy: 83.65%\n",
            "No improvement for 3 epochs.\n",
            "\n",
            "Epoch 86/200\n"
          ]
        },
        {
          "name": "stderr",
          "output_type": "stream",
          "text": [
            "                                                             \r"
          ]
        },
        {
          "name": "stdout",
          "output_type": "stream",
          "text": [
            "Train Loss: 1.0693 | Accuracy: 75.02%\n",
            "Val   Loss: 0.9154 | Accuracy: 84.42%\n",
            "Saved best model.\n",
            "\n",
            "Epoch 87/200\n"
          ]
        },
        {
          "name": "stderr",
          "output_type": "stream",
          "text": [
            "                                                             \r"
          ]
        },
        {
          "name": "stdout",
          "output_type": "stream",
          "text": [
            "Train Loss: 1.0705 | Accuracy: 74.92%\n",
            "Val   Loss: 0.9081 | Accuracy: 84.32%\n",
            "No improvement for 1 epochs.\n",
            "\n",
            "Epoch 88/200\n"
          ]
        },
        {
          "name": "stderr",
          "output_type": "stream",
          "text": [
            "                                                             \r"
          ]
        },
        {
          "name": "stdout",
          "output_type": "stream",
          "text": [
            "Train Loss: 1.0637 | Accuracy: 75.41%\n",
            "Val   Loss: 0.8824 | Accuracy: 85.10%\n",
            "Saved best model.\n",
            "\n",
            "Epoch 89/200\n"
          ]
        },
        {
          "name": "stderr",
          "output_type": "stream",
          "text": [
            "                                                             \r"
          ]
        },
        {
          "name": "stdout",
          "output_type": "stream",
          "text": [
            "Train Loss: 1.0618 | Accuracy: 75.40%\n",
            "Val   Loss: 0.8952 | Accuracy: 84.74%\n",
            "No improvement for 1 epochs.\n",
            "\n",
            "Epoch 90/200\n"
          ]
        },
        {
          "name": "stderr",
          "output_type": "stream",
          "text": [
            "                                                             \r"
          ]
        },
        {
          "name": "stdout",
          "output_type": "stream",
          "text": [
            "Train Loss: 1.0604 | Accuracy: 75.35%\n",
            "Val   Loss: 0.8941 | Accuracy: 84.82%\n",
            "No improvement for 2 epochs.\n",
            "\n",
            "Epoch 91/200\n"
          ]
        },
        {
          "name": "stderr",
          "output_type": "stream",
          "text": [
            "                                                             \r"
          ]
        },
        {
          "name": "stdout",
          "output_type": "stream",
          "text": [
            "Train Loss: 1.0621 | Accuracy: 75.25%\n",
            "Val   Loss: 0.8925 | Accuracy: 84.59%\n",
            "No improvement for 3 epochs.\n",
            "\n",
            "Epoch 92/200\n"
          ]
        },
        {
          "name": "stderr",
          "output_type": "stream",
          "text": [
            "                                                             \r"
          ]
        },
        {
          "name": "stdout",
          "output_type": "stream",
          "text": [
            "Train Loss: 1.0563 | Accuracy: 75.62%\n",
            "Val   Loss: 0.8771 | Accuracy: 85.49%\n",
            "Saved best model.\n",
            "\n",
            "Epoch 93/200\n"
          ]
        },
        {
          "name": "stderr",
          "output_type": "stream",
          "text": [
            "                                                             \r"
          ]
        },
        {
          "name": "stdout",
          "output_type": "stream",
          "text": [
            "Train Loss: 1.0598 | Accuracy: 75.47%\n",
            "Val   Loss: 0.8935 | Accuracy: 84.94%\n",
            "No improvement for 1 epochs.\n",
            "\n",
            "Epoch 94/200\n"
          ]
        },
        {
          "name": "stderr",
          "output_type": "stream",
          "text": [
            "                                                             \r"
          ]
        },
        {
          "name": "stdout",
          "output_type": "stream",
          "text": [
            "Train Loss: 1.0525 | Accuracy: 75.72%\n",
            "Val   Loss: 0.9089 | Accuracy: 84.49%\n",
            "No improvement for 2 epochs.\n",
            "\n",
            "Epoch 95/200\n"
          ]
        },
        {
          "name": "stderr",
          "output_type": "stream",
          "text": [
            "                                                             \r"
          ]
        },
        {
          "name": "stdout",
          "output_type": "stream",
          "text": [
            "Train Loss: 1.0525 | Accuracy: 75.67%\n",
            "Val   Loss: 0.8843 | Accuracy: 85.02%\n",
            "No improvement for 3 epochs.\n",
            "\n",
            "Epoch 96/200\n"
          ]
        },
        {
          "name": "stderr",
          "output_type": "stream",
          "text": [
            "                                                             \r"
          ]
        },
        {
          "name": "stdout",
          "output_type": "stream",
          "text": [
            "Train Loss: 1.0487 | Accuracy: 75.92%\n",
            "Val   Loss: 0.8885 | Accuracy: 85.47%\n",
            "No improvement for 4 epochs.\n",
            "\n",
            "Epoch 97/200\n"
          ]
        },
        {
          "name": "stderr",
          "output_type": "stream",
          "text": [
            "                                                             \r"
          ]
        },
        {
          "name": "stdout",
          "output_type": "stream",
          "text": [
            "Train Loss: 1.0382 | Accuracy: 76.38%\n",
            "Val   Loss: 0.9014 | Accuracy: 84.71%\n",
            "No improvement for 5 epochs.\n",
            "\n",
            "Epoch 98/200\n"
          ]
        },
        {
          "name": "stderr",
          "output_type": "stream",
          "text": [
            "                                                             \r"
          ]
        },
        {
          "name": "stdout",
          "output_type": "stream",
          "text": [
            "Train Loss: 1.0444 | Accuracy: 76.15%\n",
            "Val   Loss: 0.8751 | Accuracy: 85.06%\n",
            "No improvement for 6 epochs.\n",
            "\n",
            "Epoch 99/200\n"
          ]
        },
        {
          "name": "stderr",
          "output_type": "stream",
          "text": [
            "                                                             \r"
          ]
        },
        {
          "name": "stdout",
          "output_type": "stream",
          "text": [
            "Train Loss: 1.0385 | Accuracy: 76.29%\n",
            "Val   Loss: 0.8668 | Accuracy: 85.17%\n",
            "No improvement for 7 epochs.\n",
            "\n",
            "Epoch 100/200\n"
          ]
        },
        {
          "name": "stderr",
          "output_type": "stream",
          "text": [
            "                                                             \r"
          ]
        },
        {
          "name": "stdout",
          "output_type": "stream",
          "text": [
            "Train Loss: 1.0393 | Accuracy: 76.40%\n",
            "Val   Loss: 0.8655 | Accuracy: 85.48%\n",
            "No improvement for 8 epochs.\n",
            "\n",
            "Epoch 101/200\n"
          ]
        },
        {
          "name": "stderr",
          "output_type": "stream",
          "text": [
            "                                                             \r"
          ]
        },
        {
          "name": "stdout",
          "output_type": "stream",
          "text": [
            "Train Loss: 1.0333 | Accuracy: 76.68%\n",
            "Val   Loss: 0.8592 | Accuracy: 85.40%\n",
            "No improvement for 9 epochs.\n",
            "\n",
            "Epoch 102/200\n"
          ]
        },
        {
          "name": "stderr",
          "output_type": "stream",
          "text": [
            "                                                             \r"
          ]
        },
        {
          "name": "stdout",
          "output_type": "stream",
          "text": [
            "Train Loss: 1.0305 | Accuracy: 76.87%\n",
            "Val   Loss: 0.8555 | Accuracy: 85.91%\n",
            "Saved best model.\n",
            "\n",
            "Epoch 103/200\n"
          ]
        },
        {
          "name": "stderr",
          "output_type": "stream",
          "text": [
            "                                                             \r"
          ]
        },
        {
          "name": "stdout",
          "output_type": "stream",
          "text": [
            "Train Loss: 1.0251 | Accuracy: 77.16%\n",
            "Val   Loss: 0.8752 | Accuracy: 85.56%\n",
            "No improvement for 1 epochs.\n",
            "\n",
            "Epoch 104/200\n"
          ]
        },
        {
          "name": "stderr",
          "output_type": "stream",
          "text": [
            "                                                             \r"
          ]
        },
        {
          "name": "stdout",
          "output_type": "stream",
          "text": [
            "Train Loss: 1.0260 | Accuracy: 77.08%\n",
            "Val   Loss: 0.8897 | Accuracy: 85.12%\n",
            "No improvement for 2 epochs.\n",
            "\n",
            "Epoch 105/200\n"
          ]
        },
        {
          "name": "stderr",
          "output_type": "stream",
          "text": [
            "                                                             \r"
          ]
        },
        {
          "name": "stdout",
          "output_type": "stream",
          "text": [
            "Train Loss: 1.0199 | Accuracy: 77.10%\n",
            "Val   Loss: 0.8656 | Accuracy: 85.69%\n",
            "No improvement for 3 epochs.\n",
            "\n",
            "Epoch 106/200\n"
          ]
        },
        {
          "name": "stderr",
          "output_type": "stream",
          "text": [
            "                                                             \r"
          ]
        },
        {
          "name": "stdout",
          "output_type": "stream",
          "text": [
            "Train Loss: 1.0178 | Accuracy: 77.30%\n",
            "Val   Loss: 0.8899 | Accuracy: 85.21%\n",
            "No improvement for 4 epochs.\n",
            "\n",
            "Epoch 107/200\n"
          ]
        },
        {
          "name": "stderr",
          "output_type": "stream",
          "text": [
            "                                                             \r"
          ]
        },
        {
          "name": "stdout",
          "output_type": "stream",
          "text": [
            "Train Loss: 1.0158 | Accuracy: 77.57%\n",
            "Val   Loss: 0.8564 | Accuracy: 85.58%\n",
            "No improvement for 5 epochs.\n",
            "\n",
            "Epoch 108/200\n"
          ]
        },
        {
          "name": "stderr",
          "output_type": "stream",
          "text": [
            "                                                             \r"
          ]
        },
        {
          "name": "stdout",
          "output_type": "stream",
          "text": [
            "Train Loss: 1.0193 | Accuracy: 76.93%\n",
            "Val   Loss: 0.8579 | Accuracy: 85.87%\n",
            "No improvement for 6 epochs.\n",
            "\n",
            "Epoch 109/200\n"
          ]
        },
        {
          "name": "stderr",
          "output_type": "stream",
          "text": [
            "                                                             \r"
          ]
        },
        {
          "name": "stdout",
          "output_type": "stream",
          "text": [
            "Train Loss: 1.0155 | Accuracy: 77.26%\n",
            "Val   Loss: 0.8781 | Accuracy: 85.73%\n",
            "No improvement for 7 epochs.\n",
            "\n",
            "Epoch 110/200\n"
          ]
        },
        {
          "name": "stderr",
          "output_type": "stream",
          "text": [
            "                                                             \r"
          ]
        },
        {
          "name": "stdout",
          "output_type": "stream",
          "text": [
            "Train Loss: 1.0103 | Accuracy: 77.56%\n",
            "Val   Loss: 0.8699 | Accuracy: 85.59%\n",
            "No improvement for 8 epochs.\n",
            "\n",
            "Epoch 111/200\n"
          ]
        },
        {
          "name": "stderr",
          "output_type": "stream",
          "text": [
            "                                                             \r"
          ]
        },
        {
          "name": "stdout",
          "output_type": "stream",
          "text": [
            "Train Loss: 1.0104 | Accuracy: 77.50%\n",
            "Val   Loss: 0.8689 | Accuracy: 85.68%\n",
            "No improvement for 9 epochs.\n",
            "\n",
            "Epoch 112/200\n"
          ]
        },
        {
          "name": "stderr",
          "output_type": "stream",
          "text": [
            "                                                             \r"
          ]
        },
        {
          "name": "stdout",
          "output_type": "stream",
          "text": [
            "Train Loss: 1.0048 | Accuracy: 77.76%\n",
            "Val   Loss: 0.8791 | Accuracy: 85.13%\n",
            "No improvement for 10 epochs.\n",
            "Early stopping triggered after 112 epochs.\n",
            "\n",
            "Training Complete\n",
            "\n",
            "Final Averages Over All Epochs\n",
            "Average Train Loss: 1.2473\n",
            "Average Train Accuracy: 66.81%\n",
            "Average Val   Loss: 1.0388\n",
            "Average Val   Accuracy: 78.13%\n",
            "Plots saved: loss_curve.png and accuracy_curve.png\n"
          ]
        },
        {
          "data": {
            "image/png": "[encoded data removed]",
            "text/plain": [
              "<Figure size 640x480 with 1 Axes>"
            ]
          },
          "metadata": {},
          "output_type": "display_data"
        },
        {
          "data": {
            "image/png": "[encoded data removed]",
            "text/plain": [
              "<Figure size 640x480 with 1 Axes>"
            ]
          },
          "metadata": {},
          "output_type": "display_data"
        }
      ],
      "source": [
        "# Set up device \n",
        "device = torch.device(\"cuda\" if torch.cuda.is_available() else \"cpu\")\n",
        "\n",
        "# Save model\n",
        "model.to(device)\n",
        "\n",
        "# Log training \n",
        "train_losses, val_losses = [], []\n",
        "train_accuracies = []\n",
        "val_accuracies = []\n",
        "\n",
        "# Training and Validation Loops \n",
        "def train(model, loader, criterion, optimizer, device):\n",
        "    model.train()\n",
        "    running_loss = 0.0\n",
        "    correct = 0\n",
        "    total = 0\n",
        "\n",
        "    for inputs, labels in tqdm(loader, desc=\"Training\", leave=False):\n",
        "        inputs, labels = inputs.to(device), labels.to(device)\n",
        "\n",
        "        optimizer.zero_grad()\n",
        "        outputs = model(inputs)\n",
        "\n",
        "        loss = criterion(outputs, labels)\n",
        "        loss.backward()\n",
        "        optimizer.step()\n",
        "        # scheduler.step()\n",
        "\n",
        "        running_loss += loss.item()\n",
        "        _, predicted = outputs.max(1)\n",
        "        total += labels.size(0)\n",
        "        correct += predicted.eq(labels).sum().item()\n",
        "\n",
        "    return running_loss / len(loader), 100 * correct / total\n",
        "\n",
        "def evaluate(model, loader, criterion, device):\n",
        "    model.eval()\n",
        "    total = 0\n",
        "    correct = 0\n",
        "    loss = 0.0\n",
        "\n",
        "    with torch.no_grad():\n",
        "        for inputs, labels in tqdm(loader, desc=\"Validating\", leave=False):\n",
        "            inputs, labels = inputs.to(device), labels.to(device)\n",
        "            outputs = model(inputs)\n",
        "            loss += criterion(outputs, labels).item()\n",
        "            _, predicted = outputs.max(1)\n",
        "            total += labels.size(0)\n",
        "            correct += predicted.eq(labels).sum().item()\n",
        "\n",
        "    return loss / len(loader), 100 * correct / total\n",
        "\n",
        "# Main Loop \n",
        "patience = 20 # Number of epochs to wait for improvement\n",
        "early_stop_counter = 0 # Counter for early stopping\n",
        "epochs = 200\n",
        "best_acc = 0.0\n",
        "\n",
        "for epoch in range(epochs):\n",
        "    print(f\"\\nEpoch {epoch+1}/{epochs}\")\n",
        "    train_loss, train_acc = train(model, trainloader, criterion, optimizer, device)\n",
        "    val_loss, val_acc = evaluate(model, testloader, criterion, device)\n",
        "\n",
        "\n",
        "    # Log metrics\n",
        "    train_losses.append(train_loss)\n",
        "    val_losses.append(val_loss)\n",
        "    train_accuracies.append(train_acc)\n",
        "    val_accuracies.append(val_acc)\n",
        "\n",
        "    print(f\"Train Loss: {train_loss:.4f} | Accuracy: {train_acc:.2f}%\")\n",
        "    print(f\"Val   Loss: {val_loss:.4f} | Accuracy: {val_acc:.2f}%\")\n",
        "\n",
        "    # Save best model\n",
        "    if val_acc > best_acc:\n",
        "        best_acc = val_acc\n",
        "        early_stop_counter=0\n",
        "        torch.save(model.state_dict(), \"best_model.pth\")\n",
        "        # scheduler.step(val_loss)\n",
        "        print(\"Saved best model.\")\n",
        "    else:\n",
        "        early_stop_counter += 1\n",
        "        print(f\"No improvement for {early_stop_counter} epochs.\")\n",
        "\n",
        "    if early_stop_counter >= patience:\n",
        "        print(f\"Early stopping triggered after {epoch+1} epochs.\")\n",
        "        break\n",
        "print(\"\\nTraining Complete\")\n",
        "\n",
        "# Print Final Averages \n",
        "avg_train_loss = sum(train_losses) / len(train_losses)\n",
        "avg_val_loss = sum(val_losses) / len(val_losses)\n",
        "avg_train_acc = sum(train_accuracies) / len(train_accuracies)\n",
        "avg_val_acc = sum(val_accuracies) / len(val_accuracies)\n",
        "\n",
        "print(\"\\nFinal Averages Over All Epochs\")\n",
        "print(f\"Average Train Loss: {avg_train_loss:.4f}\")\n",
        "print(f\"Average Train Accuracy: {avg_train_acc:.2f}%\")\n",
        "print(f\"Average Val   Loss: {avg_val_loss:.4f}\")\n",
        "print(f\"Average Val   Accuracy: {avg_val_acc:.2f}%\")\n",
        "\n",
        "\n",
        "# Plot results\n",
        "\n",
        "# Plot Loss\n",
        "plt.figure()\n",
        "plt.plot(train_losses, label='Train Loss')\n",
        "plt.plot(val_losses, label='Validation Loss')\n",
        "plt.title(\"Loss Curve\")\n",
        "plt.xlabel(\"Epoch\")\n",
        "plt.ylabel(\"Loss\")\n",
        "plt.legend()\n",
        "plt.grid()\n",
        "plt.savefig(\"loss_curve.png\")\n",
        "\n",
        "# Plot Accuracy\n",
        "plt.figure()\n",
        "plt.plot(train_accuracies, label='Train Accuracy')\n",
        "plt.plot(val_accuracies, label='Validation Accuracy')\n",
        "plt.title(\"Accuracy Curve\")\n",
        "plt.xlabel(\"Epoch\")\n",
        "plt.ylabel(\"Accuracy (%)\")\n",
        "plt.legend()\n",
        "plt.grid()\n",
        "plt.savefig(\"accuracy_curve.png\")\n",
        "\n",
        "print(\"Plots saved: loss_curve.png and accuracy_curve.png\")\n"
      ]
    }
  ],
  "metadata": {
    "accelerator": "GPU",
    "colab": {
      "gpuType": "T4",
      "provenance": []
    },
    "kernelspec": {
      "display_name": "Python 3 (ipykernel)",
      "language": "python",
      "name": "python3"
    },
    "language_info": {
      "codemirror_mode": {
        "name": "ipython",
        "version": 3
      },
      "file_extension": ".py",
      "mimetype": "text/x-python",
      "name": "python",
      "nbconvert_exporter": "python",
      "pygments_lexer": "ipython3",
      "version": "3.11.7"
    }
  },
  "nbformat": 4,
  "nbformat_minor": 0
}
