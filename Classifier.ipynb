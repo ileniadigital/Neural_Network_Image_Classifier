{
  "cells": [
    {
      "cell_type": "markdown",
      "metadata": {
        "id": "R-ugYIZG_vwU"
      },
      "source": [
        "# Read dataset and create data loaders"
      ]
    },
    {
      "cell_type": "code",
      "execution_count": 40,
      "metadata": {
        "id": "sUdX_1lQ7Zf8"
      },
      "outputs": [],
      "source": [
        "# Import torch and CIFAR dataset\n",
        "import torch\n",
        "import torch.nn as nn\n",
        "import torchvision\n",
        "import torchvision.transforms as transforms\n",
        "from torch.utils.data import DataLoader\n",
        "from tqdm import tqdm\n",
        "import torch.optim as optim\n",
        "import torch.nn.functional as F\n",
        "from torch.optim.lr_scheduler import ReduceLROnPlateau\n",
        "\n",
        "# Import matplotlib and numpy for graphs\n",
        "import matplotlib.pyplot as plt\n",
        "import numpy as np\n"
      ]
    },
    {
      "cell_type": "code",
      "execution_count": 41,
      "metadata": {
        "id": "Dy0dXGIAAs-N"
      },
      "outputs": [
        {
          "name": "stdout",
          "output_type": "stream",
          "text": [
            "Batch size: 64\n",
            "Files already downloaded and verified\n",
            "Files already downloaded and verified\n"
          ]
        }
      ],
      "source": [
        "'''\n",
        "Import CIFAR dataset, define labels and load training and validation dataset\n",
        "Reference for loading dataset: https://pytorch.org/tutorials/beginner/blitz/cifar10_tutorial.html\n",
        "Reference for augmentation: https://pytorch.org/vision/stable/transforms.html\n",
        "'''\n",
        "batch_size=64 \n",
        "print('Batch size:', batch_size)\n",
        "\n",
        "# Normalisation and std values for RGB in dataset\n",
        "mean = [0.485, 0.456, 0.406]\n",
        "std = [0.229, 0.224, 0.225]\n",
        "\n",
        "# Data augmentation for training set\n",
        "transform_train = transforms.Compose([\n",
        "    transforms.RandomCrop(32, padding=4),  # Randomly crop the image with padding\n",
        "    transforms.RandomHorizontalFlip(),    # Randomly flip the image horizontally\n",
        "    transforms.ColorJitter(brightness=0.2, contrast=0.2, saturation=0.2, hue=0.1),  # Adjust brightness, contrast, saturation, and hue\n",
        "    transforms.RandomRotation(15),        # Randomly rotate the image by max 15 degrees\n",
        "    transforms.RandomAffine(degrees=10, translate=(0.1, 0.1)),  # Randomly translate the image\n",
        "    transforms.ToTensor(),                # Convert image to tensor\n",
        "    transforms.Normalize(mean=mean, std=std),  # Normalize with mean and std values\n",
        "    transforms.RandomErasing(p=0.5, scale=(0.02, 0.3))  # Randomly erase a portion of the image\n",
        "])\n",
        "\n",
        "# Validation set (no augmentation)\n",
        "transform_test = transforms.Compose([\n",
        "    transforms.ToTensor(),\n",
        "    transforms.Normalize(mean=mean, std=std)  # Normalize with mean and std values\n",
        "])\n",
        "\n",
        "# Load training and testing datasets\n",
        "trainset = torchvision.datasets.CIFAR10(root='./data', train=True, download=True, transform=transform_train)\n",
        "trainloader = torch.utils.data.DataLoader(trainset, batch_size=batch_size, shuffle=True, num_workers=2)\n",
        "\n",
        "testset = torchvision.datasets.CIFAR10(root='./data', train=False, download=True, transform=transform_test)\n",
        "testloader = torch.utils.data.DataLoader(testset, batch_size=batch_size, shuffle=False, num_workers=2)\n",
        "\n",
        "# Define labels\n",
        "classes = ('plane', 'car', 'bird', 'cat',\n",
        "           'deer', 'dog', 'frog', 'horse', 'ship', 'lorry')"
      ]
    },
    {
      "cell_type": "code",
      "execution_count": 42,
      "metadata": {
        "id": "ejYbu1lREwwA"
      },
      "outputs": [],
      "source": [
        "# # From the PyTorch's tutorial on image classification\n",
        "# import matplotlib.pyplot as plt\n",
        "# import numpy as np\n",
        "\n",
        "# def imshow(img):\n",
        "#     '''\n",
        "#     Show an image\n",
        "#     Input: image file to show\n",
        "#     Output: image\n",
        "#     '''\n",
        "#     img = img / 2 + 0.5     # unnormalize\n",
        "#     npimg = img.numpy()\n",
        "#     plt.imshow(np.transpose(npimg, (1, 2, 0)))\n",
        "#     plt.show()\n",
        "\n",
        "# # Get random training images\n",
        "# dataiter = iter(trainloader)\n",
        "# images, labels = next(dataiter)\n",
        "\n",
        "# # Show images\n",
        "# imshow(torchvision.utils.make_grid(images))\n",
        "# # Print labels\n",
        "# print(' '.join(f'{classes[labels[j]]:5s}' for j in range(batch_size)))"
      ]
    },
    {
      "cell_type": "markdown",
      "metadata": {
        "id": "28nn7m9c_1AK"
      },
      "source": [
        "# Main model\n",
        "Divided as such:\n",
        "\n",
        "\n",
        "*   **Stem**: takes the images as inputs, extracts features from them\n",
        "*   **Backbone**: made up of *K* branches, made up of an expert branch\n",
        "*   **Classifier**: takes input from the last block\n",
        "*   **Model**: wraps all together\n",
        "\n",
        "\n",
        "\n",
        "\n",
        "\n"
      ]
    },
    {
      "cell_type": "markdown",
      "metadata": {
        "id": "BjsIHiWpC7ir"
      },
      "source": [
        "## Stem\n",
        "*   Takes images as inputs\n",
        "*   Extracts a feature representation from them"
      ]
    },
    {
      "cell_type": "code",
      "execution_count": 43,
      "metadata": {
        "id": "GPmPcMg3MKuo"
      },
      "outputs": [],
      "source": [
        "class Stem(nn.Module):\n",
        "  '''\n",
        "  Extract features using a Resnet-18 stem\n",
        "  Reference: Week 09 Lab\n",
        "  '''\n",
        "  def __init__(self, input_channels, middle_channels, output_channels):\n",
        "     super(Stem,self).__init__()\n",
        "     # Default parameters\n",
        "     kernel_size=3\n",
        "     stride=1\n",
        "     padding=1\n",
        "     \n",
        "     # Combine multiple layers\n",
        "     self.stem = nn.Sequential(\n",
        "       nn.Conv2d(input_channels, middle_channels, kernel_size = kernel_size, stride = stride, padding = padding),\n",
        "       nn.BatchNorm2d(middle_channels), \n",
        "       nn.ReLU(inplace=True),\n",
        "       nn.Conv2d(middle_channels, middle_channels,kernel_size = kernel_size, stride = stride, padding = padding),\n",
        "       nn.BatchNorm2d(middle_channels),\n",
        "       nn.ReLU(inplace=True),\n",
        "       nn.MaxPool2d(2), # Half the size of the image\n",
        "       nn.Conv2d(middle_channels, output_channels, kernel_size = kernel_size, stride = stride, padding = padding),\n",
        "       nn.BatchNorm2d(output_channels),\n",
        "       nn.ReLU(inplace=True),\n",
        "       nn.MaxPool2d(2) # Half the size of the image\n",
        "       )\n",
        "\n",
        "  def forward(self,x):\n",
        "    x = self.stem(x)\n",
        "    return x"
      ]
    },
    {
      "cell_type": "markdown",
      "metadata": {
        "id": "teldaHE3NAuT"
      },
      "source": [
        "## Block"
      ]
    },
    {
      "cell_type": "code",
      "execution_count": 44,
      "metadata": {
        "id": "q50v5kSs9Lbc"
      },
      "outputs": [],
      "source": [
        "class ExpertBranch(nn.Module):\n",
        "  '''\n",
        "  Expert branch predicting vector a with K elements from input tensor X\n",
        "  '''\n",
        "  def __init__(self, input_channels, k, r):\n",
        "    super(ExpertBranch,self).__init__()\n",
        "    # Spatially pool x\n",
        "    self.pool= nn.AdaptiveAvgPool2d(1)\n",
        "    #Forward through fc1, reducing by r\n",
        "    self.fc1= nn.Linear(input_channels, input_channels//r)\n",
        "    # Activation function ReLu\n",
        "    self.relu= nn.ReLU()\n",
        "    # Forward through fc2\n",
        "    self.fc2= nn.Linear(input_channels//r,k)\n",
        "\n",
        "  def forward(self,x):\n",
        "    # Spatially pool X\n",
        "    x = self.pool(x)\n",
        "    # Forward through fc1, reducing by r\n",
        "    x= x.squeeze(-1).squeeze(-1)\n",
        "    x = self.fc1(x)\n",
        "    # Processed through non-linear activation g\n",
        "    x = F.relu(x)\n",
        "    # Pass through fc2\n",
        "    x = self.fc2(x)\n",
        "    # Forward with softmax\n",
        "    x = F.softmax(x,dim=1)\n",
        "    return x"
      ]
    },
    {
      "cell_type": "code",
      "execution_count": 45,
      "metadata": {
        "id": "xUNibZ2FNE3V"
      },
      "outputs": [],
      "source": [
        "class Block(nn.Module):\n",
        "  '''\n",
        "  Block\n",
        "  '''\n",
        "  def __init__(self, input_channels, output_channels, k, r, num_convs_per_path=2):\n",
        "    super(Block, self).__init__()\n",
        "    # Default parameters\n",
        "    kernel_size=3\n",
        "    stride=1\n",
        "    padding=1\n",
        "\n",
        "    # Set k and expert branch\n",
        "    self.k= k\n",
        "    self.expertBranch = ExpertBranch(input_channels, k=k, r=r)\n",
        "\n",
        "    # Input from first block\n",
        "    # Input from previous block for rest\n",
        "    # Generate vector a with K elements from X as a= E(X)\n",
        "    # Create K convolutional layers\n",
        "    # self.convs= nn.ModuleList([\n",
        "    #     nn.Conv2d(input_channels, output_channels, kernel_size=kernel_size, stride= stride, padding=padding)\n",
        "    #     for _ in range(k)\n",
        "    # ])\n",
        "\n",
        "    # num_convs_per_path = 23 # Number of conv layers in each path\n",
        "    self.conv_paths = nn.ModuleList()\n",
        "    for _ in range(k):\n",
        "        conv_stack = []\n",
        "        # First conv in stack: input_channels → output_channels\n",
        "        conv_stack.append(nn.Conv2d(input_channels, output_channels, kernel_size=3, padding=1))\n",
        "        conv_stack.append(nn.BatchNorm2d(output_channels))\n",
        "        conv_stack.append(nn.ReLU(inplace=True))\n",
        "        \n",
        "        # Additional convs in stack: output_channels → output_channels\n",
        "        for _ in range(num_convs_per_path - 1):\n",
        "            conv_stack.append(nn.Conv2d(output_channels, output_channels, kernel_size=3, padding=1))\n",
        "            conv_stack.append(nn.BatchNorm2d(output_channels))\n",
        "            conv_stack.append(nn.ReLU(inplace=True))\n",
        "        \n",
        "        self.conv_paths.append(nn.Sequential(*conv_stack))\n",
        "    \n",
        "    # Optional 1x1 conv for identity shortcut if dimensions don't match\n",
        "    self.use_shortcut = (input_channels != output_channels)\n",
        "    if self.use_shortcut:\n",
        "        self.shortcut = nn.Sequential(\n",
        "            nn.Conv2d(input_channels, output_channels, kernel_size=1, stride=1, bias=False),\n",
        "            nn.BatchNorm2d(output_channels)\n",
        "        )\n",
        "\n",
        "  def forward(self,x):\n",
        "    identity= x\n",
        "    # Vector a from expert branch\n",
        "    a = self.expertBranch(x)\n",
        "    # Convolutional layers \n",
        "    # conv_outputs = [conv(x) for conv in self.convs]\n",
        "    # stacked = torch.stack(conv_outputs, dim=1)\n",
        "    # # Create vector O\n",
        "    # a= a.view(a.size(0), self.k, 1,1,1)\n",
        "\n",
        "    # out = (a* stacked).sum(dim=1)\n",
        "\n",
        "    # Apply each VGG-style conv path to the input\n",
        "    path_outputs = [path(x) for path in self.conv_paths]\n",
        "    \n",
        "    # Stack and weight the path outputs using vector a\n",
        "    stacked = torch.stack(path_outputs, dim=1)\n",
        "    a = a.view(a.size(0), self.k, 1, 1, 1)  # Reshape for broadcasting\n",
        "    out = (a * stacked).sum(dim=1)\n",
        "    \n",
        "    # Apply skip connection with dimension adjustment if needed\n",
        "    if self.use_shortcut:\n",
        "        identity = self.shortcut(identity)\n",
        "    # Skip connection to stablise gradient descent\n",
        "    out += identity\n",
        "    out = F.relu(out) # activation after skip\n",
        "\n",
        "    return out"
      ]
    },
    {
      "cell_type": "markdown",
      "metadata": {
        "id": "NatobdwZM-dN"
      },
      "source": [
        "## Backbone"
      ]
    },
    {
      "cell_type": "code",
      "execution_count": 46,
      "metadata": {
        "id": "2uZ7am7LOxUi"
      },
      "outputs": [],
      "source": [
        "# class Backbone(nn.Module):\n",
        "#   '''\n",
        "#   N blocks\n",
        "#   '''\n",
        "#   def __init__(self, input_channels, hidden_channels, num_blocks, k, r):\n",
        "#     super(Backbone, self).__init__()\n",
        "#     self.blocks= nn.ModuleList()\n",
        "\n",
        "#     # First block takes input from stem\n",
        "#     self.blocks.append(Block(input_channels, hidden_channels, k=k, r=r))\n",
        "\n",
        "#     # Rest of blocks take input form previous block\n",
        "#     for _ in range(1, num_blocks):\n",
        "#       self.blocks.append(Block(hidden_channels, hidden_channels, k=k, r=r))\n",
        "\n",
        "#   def forward(self, x):\n",
        "#     for idx, block in enumerate(self.blocks):\n",
        "#       x = block(x)\n",
        "#     return x"
      ]
    },
    {
      "cell_type": "code",
      "execution_count": null,
      "metadata": {},
      "outputs": [],
      "source": [
        "class Backbone(nn.Module):\n",
        "    '''\n",
        "    Backbone with N number of blocks\n",
        "    '''\n",
        "    def __init__(self, input_channels, hidden_channels, num_blocks, k, r):\n",
        "        super(Backbone, self).__init__()\n",
        "        \n",
        "        blocks = []\n",
        "        channels = [input_channels] + [hidden_channels*(2**i) for i in range(num_blocks)]\n",
        "        \n",
        "        for i in range(num_blocks):\n",
        "            # Add VGG-style expert block\n",
        "            blocks.append(\n",
        "                Block(\n",
        "                    input_channels=channels[i],\n",
        "                    output_channels=channels[i+1],\n",
        "                    k=k,\n",
        "                    r=r,\n",
        "                    num_convs_per_path=2 if i < 2 else 3  # VGG uses 2 convs in early blocks, 3 in later ones\n",
        "                )\n",
        "            )\n",
        "            \n",
        "            # Add pooling layer after each block except the last one\n",
        "            if i < 2:\n",
        "                blocks.append(nn.MaxPool2d(kernel_size=2, stride=2))\n",
        "        \n",
        "        self.backbone = nn.Sequential(*blocks)\n",
        "    \n",
        "    def forward(self, x):\n",
        "        return self.backbone(x)"
      ]
    },
    {
      "cell_type": "markdown",
      "metadata": {
        "id": "Zgi2QD7KNC9v"
      },
      "source": [
        "## Classifier"
      ]
    },
    {
      "cell_type": "code",
      "execution_count": 48,
      "metadata": {
        "id": "t8QmbjyB4feJ"
      },
      "outputs": [],
      "source": [
        "class Classifier(nn.Module):\n",
        "  def __init__(self, input_channels, num_classes, use_mlp):\n",
        "    super(Classifier,self).__init__()\n",
        "    # Default parameters\n",
        "    dropout_rate=0.25\n",
        "    # Spatially pool\n",
        "    self.pool = nn.AdaptiveAvgPool2d(1)\n",
        "    self.use_mlp= use_mlp\n",
        "\n",
        "    if use_mlp:\n",
        "      self.classifier= nn.Sequential(\n",
        "          nn.Linear(input_channels, input_channels*2),\n",
        "          nn.ReLU(),\n",
        "          nn.Dropout(dropout_rate), # Deeper network with 3 layers\n",
        "          nn.Linear(input_channels*2, input_channels),\n",
        "          nn.ReLU(),\n",
        "          nn.Dropout(dropout_rate),\n",
        "          nn.Linear(input_channels, num_classes)\n",
        "      )\n",
        "    else:\n",
        "      self.classifier= nn.Linear(input_channels, num_classes)\n",
        "\n",
        "  def forward(self, x):\n",
        "    x = self.pool(x).squeeze(-1).squeeze(-1)\n",
        "    out = self.classifier(x)\n",
        "    return out\n"
      ]
    },
    {
      "cell_type": "markdown",
      "metadata": {
        "id": "ySRxujey4gN3"
      },
      "source": [
        "# Model"
      ]
    },
    {
      "cell_type": "code",
      "execution_count": 49,
      "metadata": {
        "id": "YY9DBSBo4jpP"
      },
      "outputs": [],
      "source": [
        "# class Model(nn.Module):\n",
        "#   def __init__(self, input_channels, output_channels, middle_channels, hidden_channels, num_blocks, k, r, num_classes, use_mlp):\n",
        "#     super(Model, self).__init__()\n",
        "#     # Call stem\n",
        "#     self.stem= Stem(\n",
        "#       input_channels=input_channels,\n",
        "#       middle_channels=middle_channels,\n",
        "#       output_channels=output_channels\n",
        "#     )\n",
        "#     # Call backbone\n",
        "#     self.backbone= Backbone(\n",
        "#       input_channels=output_channels, \n",
        "#       hidden_channels= hidden_channels, \n",
        "#       num_blocks=num_blocks,\n",
        "#       k=k, \n",
        "#       r=r)\n",
        "#     # Call classifier\n",
        "#     self.classifier= Classifier(\n",
        "#       input_channels=hidden_channels, \n",
        "#       num_classes=num_classes,\n",
        "#       use_mlp= use_mlp)\n",
        "\n",
        "#   def forward(self,x):\n",
        "#     x= self.stem(x)\n",
        "#     x= self.backbone(x)\n",
        "#     x= self.classifier(x)\n",
        "#     return x"
      ]
    },
    {
      "cell_type": "code",
      "execution_count": 50,
      "metadata": {},
      "outputs": [],
      "source": [
        "class Model(nn.Module):\n",
        "    def __init__(self, input_channels, output_channels, middle_channels, hidden_channels, num_blocks, k, r, num_classes, use_mlp):\n",
        "        super(Model, self).__init__()\n",
        "        \n",
        "        # Keep your existing stem\n",
        "        self.stem = Stem(\n",
        "            input_channels=input_channels,\n",
        "            middle_channels=middle_channels,\n",
        "            output_channels=output_channels\n",
        "        )\n",
        "        \n",
        "        # Use VGG-style backbone with expert blocks\n",
        "        self.backbone = Backbone(\n",
        "            input_channels=output_channels,\n",
        "            hidden_channels=hidden_channels,\n",
        "            num_blocks=num_blocks,\n",
        "            k=k,\n",
        "            r=r\n",
        "        )\n",
        "        \n",
        "        # Calculate the output channels from the backbone\n",
        "        final_channels = hidden_channels * (2**(num_blocks-1))\n",
        "        \n",
        "        # Classifier remains the same\n",
        "        self.classifier = Classifier(\n",
        "            input_channels=final_channels,\n",
        "            num_classes=num_classes,\n",
        "            use_mlp=use_mlp\n",
        "        )\n",
        "    \n",
        "    def forward(self, x):\n",
        "        x = self.stem(x)\n",
        "        x = self.backbone(x)\n",
        "        x = self.classifier(x)\n",
        "        return x"
      ]
    },
    {
      "cell_type": "markdown",
      "metadata": {
        "id": "tC2qAy2b_3KO"
      },
      "source": [
        "# Create the loss and optmiser\n"
      ]
    },
    {
      "cell_type": "code",
      "execution_count": null,
      "metadata": {
        "id": "DGJbtSC3EcHy"
      },
      "outputs": [],
      "source": [
        "# model = Model(\n",
        "#     input_channels=3,\n",
        "#     output_channels=128,\n",
        "#     middle_channels=64,\n",
        "#     hidden_channels=128,\n",
        "#     num_blocks=7,\n",
        "#     k=4,\n",
        "#     r=8,\n",
        "#     num_classes=10,\n",
        "#     use_mlp=True\n",
        "# )\n",
        "\n",
        "model = Model(\n",
        "    input_channels=3,\n",
        "    output_channels=64,\n",
        "    middle_channels=32,\n",
        "    hidden_channels=64,  # Start with 64 channels and double after each block\n",
        "    num_blocks=3,        # 4-5 blocks is typical for VGG\n",
        "    k=8,                 # Keep your expert branches\n",
        "    r=8,\n",
        "    num_classes=10,\n",
        "    use_mlp=True\n",
        ")\n",
        "# Weight Initialisation using He initialisation\n",
        "def init_weights(m):\n",
        "    if isinstance(m, nn.Conv2d):\n",
        "        nn.init.kaiming_normal_(m.weight, mode='fan_out', nonlinearity='relu')\n",
        "    elif isinstance(m, nn.BatchNorm2d):\n",
        "        nn.init.constant_(m.weight, 1)\n",
        "        nn.init.constant_(m.bias, 0)\n",
        "    elif isinstance(m, nn.Linear):\n",
        "        nn.init.kaiming_normal_(m.weight)\n",
        "        if m.bias is not None:\n",
        "            nn.init.constant_(m.bias, 0)\n",
        "\n",
        "model.apply(init_weights)\n",
        "\n",
        "criterion = nn.CrossEntropyLoss(label_smoothing=0.1) # Label smoothing to reduce overfitting\n",
        "# optimizer = optim.SGD(model.parameters(), lr=0.01, weight_decay=5e-4, momentum=0.9, nesterov=True)\n",
        "optimizer = optim.Adam(model.parameters(), lr=0.0001, weight_decay=1e-4)\n",
        "scheduler= torch.optim.lr_scheduler.CosineAnnealingLR(optimizer, T_max=200, eta_min=0.00001) # Learning rate scheduler"
      ]
    },
    {
      "cell_type": "markdown",
      "metadata": {
        "id": "VlNFWcuJ_8dY"
      },
      "source": [
        "# Training & Testing"
      ]
    },
    {
      "cell_type": "code",
      "execution_count": null,
      "metadata": {
        "colab": {
          "base_uri": "https://localhost:8080/"
        },
        "id": "JdK9bHyHRaVt",
        "outputId": "f59cac49-555d-4148-9435-d29fb3076c79"
      },
      "outputs": [
        {
          "name": "stdout",
          "output_type": "stream",
          "text": [
            "\n",
            "Epoch 1/100\n"
          ]
        },
        {
          "name": "stderr",
          "output_type": "stream",
          "text": [
            "                                                             \r"
          ]
        },
        {
          "name": "stdout",
          "output_type": "stream",
          "text": [
            "Train Loss: 1.9593 | Accuracy: 28.95%\n",
            "Val   Loss: 1.6026 | Accuracy: 40.32%\n",
            "Saved best model.\n",
            "\n",
            "Epoch 2/100\n"
          ]
        },
        {
          "name": "stderr",
          "output_type": "stream",
          "text": [
            "                                                             \r"
          ]
        },
        {
          "name": "stdout",
          "output_type": "stream",
          "text": [
            "Train Loss: 1.6936 | Accuracy: 38.01%\n",
            "Val   Loss: 1.4092 | Accuracy: 48.50%\n",
            "Saved best model.\n",
            "\n",
            "Epoch 3/100\n"
          ]
        },
        {
          "name": "stderr",
          "output_type": "stream",
          "text": [
            "                                                             \r"
          ]
        },
        {
          "name": "stdout",
          "output_type": "stream",
          "text": [
            "Train Loss: 1.5758 | Accuracy: 42.94%\n",
            "Val   Loss: 1.3657 | Accuracy: 49.84%\n",
            "Saved best model.\n",
            "\n",
            "Epoch 4/100\n"
          ]
        },
        {
          "name": "stderr",
          "output_type": "stream",
          "text": [
            "                                                             \r"
          ]
        },
        {
          "name": "stdout",
          "output_type": "stream",
          "text": [
            "Train Loss: 1.4959 | Accuracy: 45.58%\n",
            "Val   Loss: 1.1979 | Accuracy: 56.67%\n",
            "Saved best model.\n",
            "\n",
            "Epoch 5/100\n"
          ]
        },
        {
          "name": "stderr",
          "output_type": "stream",
          "text": [
            "                                                             \r"
          ]
        },
        {
          "name": "stdout",
          "output_type": "stream",
          "text": [
            "Train Loss: 1.4279 | Accuracy: 48.55%\n",
            "Val   Loss: 1.1471 | Accuracy: 58.90%\n",
            "Saved best model.\n",
            "\n",
            "Epoch 6/100\n"
          ]
        },
        {
          "name": "stderr",
          "output_type": "stream",
          "text": [
            "                                                             \r"
          ]
        },
        {
          "name": "stdout",
          "output_type": "stream",
          "text": [
            "Train Loss: 1.3859 | Accuracy: 50.12%\n",
            "Val   Loss: 1.1306 | Accuracy: 58.72%\n",
            "\n",
            "Epoch 7/100\n"
          ]
        },
        {
          "name": "stderr",
          "output_type": "stream",
          "text": [
            "                                                             \r"
          ]
        },
        {
          "name": "stdout",
          "output_type": "stream",
          "text": [
            "Train Loss: 1.3401 | Accuracy: 51.86%\n",
            "Val   Loss: 1.0472 | Accuracy: 62.23%\n",
            "Saved best model.\n",
            "\n",
            "Epoch 8/100\n"
          ]
        },
        {
          "name": "stderr",
          "output_type": "stream",
          "text": [
            "                                                             \r"
          ]
        },
        {
          "name": "stdout",
          "output_type": "stream",
          "text": [
            "Train Loss: 1.3004 | Accuracy: 53.64%\n",
            "Val   Loss: 1.0233 | Accuracy: 62.91%\n",
            "Saved best model.\n",
            "\n",
            "Epoch 9/100\n"
          ]
        },
        {
          "name": "stderr",
          "output_type": "stream",
          "text": [
            "                                                             \r"
          ]
        },
        {
          "name": "stdout",
          "output_type": "stream",
          "text": [
            "Train Loss: 1.2681 | Accuracy: 54.48%\n",
            "Val   Loss: 0.9742 | Accuracy: 65.04%\n",
            "Saved best model.\n",
            "\n",
            "Epoch 10/100\n"
          ]
        },
        {
          "name": "stderr",
          "output_type": "stream",
          "text": [
            "                                                             \r"
          ]
        },
        {
          "name": "stdout",
          "output_type": "stream",
          "text": [
            "Train Loss: 1.2302 | Accuracy: 56.04%\n",
            "Val   Loss: 0.9622 | Accuracy: 65.84%\n",
            "Saved best model.\n",
            "\n",
            "Epoch 11/100\n"
          ]
        },
        {
          "name": "stderr",
          "output_type": "stream",
          "text": [
            "                                                             \r"
          ]
        },
        {
          "name": "stdout",
          "output_type": "stream",
          "text": [
            "Train Loss: 1.2053 | Accuracy: 57.26%\n",
            "Val   Loss: 0.9662 | Accuracy: 64.64%\n",
            "\n",
            "Epoch 12/100\n"
          ]
        },
        {
          "name": "stderr",
          "output_type": "stream",
          "text": [
            "                                                             \r"
          ]
        },
        {
          "name": "stdout",
          "output_type": "stream",
          "text": [
            "Train Loss: 1.1705 | Accuracy: 58.49%\n",
            "Val   Loss: 0.8948 | Accuracy: 68.31%\n",
            "Saved best model.\n",
            "\n",
            "Epoch 13/100\n"
          ]
        },
        {
          "name": "stderr",
          "output_type": "stream",
          "text": [
            "                                                             \r"
          ]
        },
        {
          "name": "stdout",
          "output_type": "stream",
          "text": [
            "Train Loss: 1.1460 | Accuracy: 59.35%\n",
            "Val   Loss: 0.8998 | Accuracy: 68.03%\n",
            "\n",
            "Epoch 14/100\n"
          ]
        },
        {
          "name": "stderr",
          "output_type": "stream",
          "text": [
            "                                                             \r"
          ]
        },
        {
          "name": "stdout",
          "output_type": "stream",
          "text": [
            "Train Loss: 1.1182 | Accuracy: 60.42%\n",
            "Val   Loss: 0.8393 | Accuracy: 70.19%\n",
            "Saved best model.\n",
            "\n",
            "Epoch 15/100\n"
          ]
        },
        {
          "name": "stderr",
          "output_type": "stream",
          "text": [
            "                                                             \r"
          ]
        },
        {
          "name": "stdout",
          "output_type": "stream",
          "text": [
            "Train Loss: 1.1000 | Accuracy: 61.18%\n",
            "Val   Loss: 0.8294 | Accuracy: 70.36%\n",
            "Saved best model.\n",
            "\n",
            "Epoch 16/100\n"
          ]
        },
        {
          "name": "stderr",
          "output_type": "stream",
          "text": [
            "                                                             \r"
          ]
        },
        {
          "name": "stdout",
          "output_type": "stream",
          "text": [
            "Train Loss: 1.0768 | Accuracy: 61.90%\n",
            "Val   Loss: 0.7828 | Accuracy: 72.30%\n",
            "Saved best model.\n",
            "\n",
            "Epoch 17/100\n"
          ]
        },
        {
          "name": "stderr",
          "output_type": "stream",
          "text": [
            "                                                             \r"
          ]
        },
        {
          "name": "stdout",
          "output_type": "stream",
          "text": [
            "Train Loss: 1.0581 | Accuracy: 62.20%\n",
            "Val   Loss: 0.7825 | Accuracy: 72.21%\n",
            "\n",
            "Epoch 18/100\n"
          ]
        },
        {
          "name": "stderr",
          "output_type": "stream",
          "text": [
            "                                                             \r"
          ]
        },
        {
          "name": "stdout",
          "output_type": "stream",
          "text": [
            "Train Loss: 1.0410 | Accuracy: 63.26%\n",
            "Val   Loss: 0.7882 | Accuracy: 72.18%\n",
            "\n",
            "Epoch 19/100\n"
          ]
        },
        {
          "name": "stderr",
          "output_type": "stream",
          "text": [
            "                                                             \r"
          ]
        },
        {
          "name": "stdout",
          "output_type": "stream",
          "text": [
            "Train Loss: 1.0168 | Accuracy: 64.32%\n",
            "Val   Loss: 0.7685 | Accuracy: 73.14%\n",
            "Saved best model.\n",
            "\n",
            "Epoch 20/100\n"
          ]
        },
        {
          "name": "stderr",
          "output_type": "stream",
          "text": [
            "                                                             \r"
          ]
        },
        {
          "name": "stdout",
          "output_type": "stream",
          "text": [
            "Train Loss: 1.0129 | Accuracy: 64.37%\n",
            "Val   Loss: 0.7652 | Accuracy: 73.06%\n",
            "\n",
            "Epoch 21/100\n"
          ]
        },
        {
          "name": "stderr",
          "output_type": "stream",
          "text": [
            "                                                             \r"
          ]
        },
        {
          "name": "stdout",
          "output_type": "stream",
          "text": [
            "Train Loss: 0.9962 | Accuracy: 65.09%\n",
            "Val   Loss: 0.7155 | Accuracy: 74.62%\n",
            "Saved best model.\n",
            "\n",
            "Epoch 22/100\n"
          ]
        },
        {
          "name": "stderr",
          "output_type": "stream",
          "text": [
            "                                                             \r"
          ]
        },
        {
          "name": "stdout",
          "output_type": "stream",
          "text": [
            "Train Loss: 0.9748 | Accuracy: 65.88%\n",
            "Val   Loss: 0.7240 | Accuracy: 74.08%\n",
            "\n",
            "Epoch 23/100\n"
          ]
        },
        {
          "name": "stderr",
          "output_type": "stream",
          "text": [
            "                                                             \r"
          ]
        },
        {
          "name": "stdout",
          "output_type": "stream",
          "text": [
            "Train Loss: 0.9632 | Accuracy: 66.28%\n",
            "Val   Loss: 0.6932 | Accuracy: 75.44%\n",
            "Saved best model.\n",
            "\n",
            "Epoch 24/100\n"
          ]
        },
        {
          "name": "stderr",
          "output_type": "stream",
          "text": [
            "                                                             \r"
          ]
        },
        {
          "name": "stdout",
          "output_type": "stream",
          "text": [
            "Train Loss: 0.9524 | Accuracy: 66.73%\n",
            "Val   Loss: 0.6859 | Accuracy: 75.88%\n",
            "Saved best model.\n",
            "\n",
            "Epoch 25/100\n"
          ]
        },
        {
          "name": "stderr",
          "output_type": "stream",
          "text": [
            "                                                             \r"
          ]
        },
        {
          "name": "stdout",
          "output_type": "stream",
          "text": [
            "Train Loss: 0.9333 | Accuracy: 67.28%\n",
            "Val   Loss: 0.6743 | Accuracy: 76.09%\n",
            "Saved best model.\n",
            "\n",
            "Epoch 26/100\n"
          ]
        },
        {
          "name": "stderr",
          "output_type": "stream",
          "text": [
            "                                                             \r"
          ]
        },
        {
          "name": "stdout",
          "output_type": "stream",
          "text": [
            "Train Loss: 0.9321 | Accuracy: 67.27%\n",
            "Val   Loss: 0.6707 | Accuracy: 76.27%\n",
            "Saved best model.\n",
            "\n",
            "Epoch 27/100\n"
          ]
        },
        {
          "name": "stderr",
          "output_type": "stream",
          "text": [
            "                                                             \r"
          ]
        },
        {
          "name": "stdout",
          "output_type": "stream",
          "text": [
            "Train Loss: 0.9155 | Accuracy: 67.95%\n",
            "Val   Loss: 0.6426 | Accuracy: 77.76%\n",
            "Saved best model.\n",
            "\n",
            "Epoch 28/100\n"
          ]
        },
        {
          "name": "stderr",
          "output_type": "stream",
          "text": [
            "                                                             \r"
          ]
        },
        {
          "name": "stdout",
          "output_type": "stream",
          "text": [
            "Train Loss: 0.9038 | Accuracy: 68.44%\n",
            "Val   Loss: 0.6253 | Accuracy: 78.54%\n",
            "Saved best model.\n",
            "\n",
            "Epoch 29/100\n"
          ]
        },
        {
          "name": "stderr",
          "output_type": "stream",
          "text": [
            "                                                             \r"
          ]
        },
        {
          "name": "stdout",
          "output_type": "stream",
          "text": [
            "Train Loss: 0.8923 | Accuracy: 68.78%\n",
            "Val   Loss: 0.6551 | Accuracy: 77.16%\n",
            "\n",
            "Epoch 30/100\n"
          ]
        },
        {
          "name": "stderr",
          "output_type": "stream",
          "text": [
            "                                                             \r"
          ]
        },
        {
          "name": "stdout",
          "output_type": "stream",
          "text": [
            "Train Loss: 0.8847 | Accuracy: 69.05%\n",
            "Val   Loss: 0.6341 | Accuracy: 77.94%\n",
            "\n",
            "Epoch 31/100\n"
          ]
        },
        {
          "name": "stderr",
          "output_type": "stream",
          "text": [
            "                                                             \r"
          ]
        },
        {
          "name": "stdout",
          "output_type": "stream",
          "text": [
            "Train Loss: 0.8744 | Accuracy: 69.69%\n",
            "Val   Loss: 0.6459 | Accuracy: 77.27%\n",
            "\n",
            "Epoch 32/100\n"
          ]
        },
        {
          "name": "stderr",
          "output_type": "stream",
          "text": [
            "                                                             \r"
          ]
        },
        {
          "name": "stdout",
          "output_type": "stream",
          "text": [
            "Train Loss: 0.8647 | Accuracy: 69.68%\n",
            "Val   Loss: 0.6153 | Accuracy: 77.94%\n",
            "\n",
            "Epoch 33/100\n"
          ]
        },
        {
          "name": "stderr",
          "output_type": "stream",
          "text": [
            "                                                             \r"
          ]
        },
        {
          "name": "stdout",
          "output_type": "stream",
          "text": [
            "Train Loss: 0.8551 | Accuracy: 70.12%\n",
            "Val   Loss: 0.6041 | Accuracy: 79.14%\n",
            "Saved best model.\n",
            "\n",
            "Epoch 34/100\n"
          ]
        },
        {
          "name": "stderr",
          "output_type": "stream",
          "text": [
            "                                                             \r"
          ]
        },
        {
          "name": "stdout",
          "output_type": "stream",
          "text": [
            "Train Loss: 0.8470 | Accuracy: 70.31%\n",
            "Val   Loss: 0.6012 | Accuracy: 79.33%\n",
            "Saved best model.\n",
            "\n",
            "Epoch 35/100\n"
          ]
        },
        {
          "name": "stderr",
          "output_type": "stream",
          "text": [
            "                                                             \r"
          ]
        },
        {
          "name": "stdout",
          "output_type": "stream",
          "text": [
            "Train Loss: 0.8424 | Accuracy: 70.54%\n",
            "Val   Loss: 0.6126 | Accuracy: 78.75%\n",
            "\n",
            "Epoch 36/100\n"
          ]
        },
        {
          "name": "stderr",
          "output_type": "stream",
          "text": [
            "                                                             \r"
          ]
        },
        {
          "name": "stdout",
          "output_type": "stream",
          "text": [
            "Train Loss: 0.8276 | Accuracy: 71.14%\n",
            "Val   Loss: 0.5956 | Accuracy: 79.33%\n",
            "\n",
            "Epoch 37/100\n"
          ]
        },
        {
          "name": "stderr",
          "output_type": "stream",
          "text": [
            "                                                             \r"
          ]
        },
        {
          "name": "stdout",
          "output_type": "stream",
          "text": [
            "Train Loss: 0.8323 | Accuracy: 70.95%\n",
            "Val   Loss: 0.5920 | Accuracy: 79.66%\n",
            "Saved best model.\n",
            "\n",
            "Epoch 38/100\n"
          ]
        },
        {
          "name": "stderr",
          "output_type": "stream",
          "text": [
            "                                                             \r"
          ]
        },
        {
          "name": "stdout",
          "output_type": "stream",
          "text": [
            "Train Loss: 0.8175 | Accuracy: 71.27%\n",
            "Val   Loss: 0.5717 | Accuracy: 80.22%\n",
            "Saved best model.\n",
            "\n",
            "Epoch 39/100\n"
          ]
        },
        {
          "name": "stderr",
          "output_type": "stream",
          "text": [
            "                                                             \r"
          ]
        },
        {
          "name": "stdout",
          "output_type": "stream",
          "text": [
            "Train Loss: 0.8128 | Accuracy: 71.36%\n",
            "Val   Loss: 0.5945 | Accuracy: 79.39%\n",
            "\n",
            "Epoch 40/100\n"
          ]
        },
        {
          "name": "stderr",
          "output_type": "stream",
          "text": [
            "                                                             \r"
          ]
        },
        {
          "name": "stdout",
          "output_type": "stream",
          "text": [
            "Train Loss: 0.8058 | Accuracy: 71.79%\n",
            "Val   Loss: 0.5898 | Accuracy: 79.66%\n",
            "\n",
            "Epoch 41/100\n"
          ]
        },
        {
          "name": "stderr",
          "output_type": "stream",
          "text": [
            "                                                             \r"
          ]
        },
        {
          "name": "stdout",
          "output_type": "stream",
          "text": [
            "Train Loss: 0.7974 | Accuracy: 72.15%\n",
            "Val   Loss: 0.5819 | Accuracy: 80.00%\n",
            "\n",
            "Epoch 42/100\n"
          ]
        },
        {
          "name": "stderr",
          "output_type": "stream",
          "text": [
            "                                                             \r"
          ]
        },
        {
          "name": "stdout",
          "output_type": "stream",
          "text": [
            "Train Loss: 0.7859 | Accuracy: 72.51%\n",
            "Val   Loss: 0.5568 | Accuracy: 80.82%\n",
            "Saved best model.\n",
            "\n",
            "Epoch 43/100\n"
          ]
        },
        {
          "name": "stderr",
          "output_type": "stream",
          "text": [
            "                                                             \r"
          ]
        },
        {
          "name": "stdout",
          "output_type": "stream",
          "text": [
            "Train Loss: 0.7818 | Accuracy: 72.69%\n",
            "Val   Loss: 0.5579 | Accuracy: 80.69%\n",
            "\n",
            "Epoch 44/100\n"
          ]
        },
        {
          "name": "stderr",
          "output_type": "stream",
          "text": [
            "                                                             \r"
          ]
        },
        {
          "name": "stdout",
          "output_type": "stream",
          "text": [
            "Train Loss: 0.7759 | Accuracy: 72.69%\n",
            "Val   Loss: 0.5768 | Accuracy: 80.14%\n",
            "\n",
            "Epoch 45/100\n"
          ]
        },
        {
          "name": "stderr",
          "output_type": "stream",
          "text": [
            "                                                             \r"
          ]
        },
        {
          "name": "stdout",
          "output_type": "stream",
          "text": [
            "Train Loss: 0.7663 | Accuracy: 73.20%\n",
            "Val   Loss: 0.5459 | Accuracy: 81.17%\n",
            "Saved best model.\n",
            "\n",
            "Epoch 46/100\n"
          ]
        },
        {
          "name": "stderr",
          "output_type": "stream",
          "text": [
            "                                                             \r"
          ]
        },
        {
          "name": "stdout",
          "output_type": "stream",
          "text": [
            "Train Loss: 0.7676 | Accuracy: 73.37%\n",
            "Val   Loss: 0.5348 | Accuracy: 81.57%\n",
            "Saved best model.\n",
            "\n",
            "Epoch 47/100\n"
          ]
        },
        {
          "name": "stderr",
          "output_type": "stream",
          "text": [
            "                                                             \r"
          ]
        },
        {
          "name": "stdout",
          "output_type": "stream",
          "text": [
            "Train Loss: 0.7485 | Accuracy: 73.93%\n",
            "Val   Loss: 0.5541 | Accuracy: 80.83%\n",
            "\n",
            "Epoch 48/100\n"
          ]
        },
        {
          "name": "stderr",
          "output_type": "stream",
          "text": [
            "                                                             \r"
          ]
        },
        {
          "name": "stdout",
          "output_type": "stream",
          "text": [
            "Train Loss: 0.7483 | Accuracy: 74.10%\n",
            "Val   Loss: 0.5250 | Accuracy: 82.04%\n",
            "Saved best model.\n",
            "\n",
            "Epoch 49/100\n"
          ]
        },
        {
          "name": "stderr",
          "output_type": "stream",
          "text": [
            "                                                             \r"
          ]
        },
        {
          "name": "stdout",
          "output_type": "stream",
          "text": [
            "Train Loss: 0.7406 | Accuracy: 74.26%\n",
            "Val   Loss: 0.5394 | Accuracy: 81.28%\n",
            "\n",
            "Epoch 50/100\n"
          ]
        },
        {
          "name": "stderr",
          "output_type": "stream",
          "text": [
            "                                                             \r"
          ]
        },
        {
          "name": "stdout",
          "output_type": "stream",
          "text": [
            "Train Loss: 0.7436 | Accuracy: 73.91%\n",
            "Val   Loss: 0.5231 | Accuracy: 82.00%\n",
            "\n",
            "Epoch 51/100\n"
          ]
        },
        {
          "name": "stderr",
          "output_type": "stream",
          "text": [
            "                                                             \r"
          ]
        },
        {
          "name": "stdout",
          "output_type": "stream",
          "text": [
            "Train Loss: 0.7314 | Accuracy: 74.58%\n",
            "Val   Loss: 0.5129 | Accuracy: 82.72%\n",
            "Saved best model.\n",
            "\n",
            "Epoch 52/100\n"
          ]
        },
        {
          "name": "stderr",
          "output_type": "stream",
          "text": [
            "                                                             \r"
          ]
        },
        {
          "name": "stdout",
          "output_type": "stream",
          "text": [
            "Train Loss: 0.7345 | Accuracy: 74.15%\n",
            "Val   Loss: 0.5178 | Accuracy: 82.66%\n",
            "\n",
            "Epoch 53/100\n"
          ]
        },
        {
          "name": "stderr",
          "output_type": "stream",
          "text": [
            "                                                             \r"
          ]
        },
        {
          "name": "stdout",
          "output_type": "stream",
          "text": [
            "Train Loss: 0.7240 | Accuracy: 74.79%\n",
            "Val   Loss: 0.5244 | Accuracy: 82.29%\n",
            "\n",
            "Epoch 54/100\n"
          ]
        },
        {
          "name": "stderr",
          "output_type": "stream",
          "text": [
            "                                                             \r"
          ]
        },
        {
          "name": "stdout",
          "output_type": "stream",
          "text": [
            "Train Loss: 0.7182 | Accuracy: 74.93%\n",
            "Val   Loss: 0.5170 | Accuracy: 82.58%\n",
            "\n",
            "Epoch 55/100\n"
          ]
        },
        {
          "name": "stderr",
          "output_type": "stream",
          "text": [
            "                                                             \r"
          ]
        },
        {
          "name": "stdout",
          "output_type": "stream",
          "text": [
            "Train Loss: 0.7140 | Accuracy: 75.11%\n",
            "Val   Loss: 0.5277 | Accuracy: 82.16%\n",
            "\n",
            "Epoch 56/100\n"
          ]
        },
        {
          "name": "stderr",
          "output_type": "stream",
          "text": [
            "                                                             \r"
          ]
        },
        {
          "name": "stdout",
          "output_type": "stream",
          "text": [
            "Train Loss: 0.7045 | Accuracy: 75.35%\n",
            "Val   Loss: 0.5146 | Accuracy: 82.60%\n",
            "\n",
            "Epoch 57/100\n"
          ]
        },
        {
          "name": "stderr",
          "output_type": "stream",
          "text": [
            "                                                             \r"
          ]
        },
        {
          "name": "stdout",
          "output_type": "stream",
          "text": [
            "Train Loss: 0.6983 | Accuracy: 75.70%\n",
            "Val   Loss: 0.5037 | Accuracy: 83.02%\n",
            "Saved best model.\n",
            "\n",
            "Epoch 58/100\n"
          ]
        },
        {
          "name": "stderr",
          "output_type": "stream",
          "text": [
            "                                                             \r"
          ]
        },
        {
          "name": "stdout",
          "output_type": "stream",
          "text": [
            "Train Loss: 0.6996 | Accuracy: 75.58%\n",
            "Val   Loss: 0.5013 | Accuracy: 83.08%\n",
            "Saved best model.\n",
            "\n",
            "Epoch 59/100\n"
          ]
        },
        {
          "name": "stderr",
          "output_type": "stream",
          "text": [
            "                                                             \r"
          ]
        },
        {
          "name": "stdout",
          "output_type": "stream",
          "text": [
            "Train Loss: 0.6939 | Accuracy: 75.88%\n",
            "Val   Loss: 0.4991 | Accuracy: 83.16%\n",
            "Saved best model.\n",
            "\n",
            "Epoch 60/100\n"
          ]
        },
        {
          "name": "stderr",
          "output_type": "stream",
          "text": [
            "                                                             \r"
          ]
        },
        {
          "name": "stdout",
          "output_type": "stream",
          "text": [
            "Train Loss: 0.6912 | Accuracy: 75.98%\n",
            "Val   Loss: 0.5076 | Accuracy: 82.85%\n",
            "\n",
            "Epoch 61/100\n"
          ]
        },
        {
          "name": "stderr",
          "output_type": "stream",
          "text": [
            "                                                             \r"
          ]
        },
        {
          "name": "stdout",
          "output_type": "stream",
          "text": [
            "Train Loss: 0.6838 | Accuracy: 76.39%\n",
            "Val   Loss: 0.5040 | Accuracy: 83.26%\n",
            "Saved best model.\n",
            "\n",
            "Epoch 62/100\n"
          ]
        },
        {
          "name": "stderr",
          "output_type": "stream",
          "text": [
            "                                                             \r"
          ]
        },
        {
          "name": "stdout",
          "output_type": "stream",
          "text": [
            "Train Loss: 0.6789 | Accuracy: 76.17%\n",
            "Val   Loss: 0.5085 | Accuracy: 82.96%\n",
            "\n",
            "Epoch 63/100\n"
          ]
        },
        {
          "name": "stderr",
          "output_type": "stream",
          "text": [
            "                                                             \r"
          ]
        },
        {
          "name": "stdout",
          "output_type": "stream",
          "text": [
            "Train Loss: 0.6720 | Accuracy: 76.46%\n",
            "Val   Loss: 0.5100 | Accuracy: 82.83%\n",
            "\n",
            "Epoch 64/100\n"
          ]
        },
        {
          "name": "stderr",
          "output_type": "stream",
          "text": [
            "                                                             \r"
          ]
        },
        {
          "name": "stdout",
          "output_type": "stream",
          "text": [
            "Train Loss: 0.6740 | Accuracy: 76.56%\n",
            "Val   Loss: 0.4977 | Accuracy: 83.12%\n",
            "\n",
            "Epoch 65/100\n"
          ]
        },
        {
          "name": "stderr",
          "output_type": "stream",
          "text": [
            "                                                             \r"
          ]
        },
        {
          "name": "stdout",
          "output_type": "stream",
          "text": [
            "Train Loss: 0.6687 | Accuracy: 76.87%\n",
            "Val   Loss: 0.4984 | Accuracy: 83.17%\n",
            "\n",
            "Epoch 66/100\n"
          ]
        },
        {
          "name": "stderr",
          "output_type": "stream",
          "text": [
            "                                                             \r"
          ]
        },
        {
          "name": "stdout",
          "output_type": "stream",
          "text": [
            "Train Loss: 0.6570 | Accuracy: 76.99%\n",
            "Val   Loss: 0.4878 | Accuracy: 83.64%\n",
            "Saved best model.\n",
            "\n",
            "Epoch 67/100\n"
          ]
        },
        {
          "name": "stderr",
          "output_type": "stream",
          "text": [
            "                                                             \r"
          ]
        },
        {
          "name": "stdout",
          "output_type": "stream",
          "text": [
            "Train Loss: 0.6603 | Accuracy: 77.10%\n",
            "Val   Loss: 0.4746 | Accuracy: 83.89%\n",
            "Saved best model.\n",
            "\n",
            "Epoch 68/100\n"
          ]
        },
        {
          "name": "stderr",
          "output_type": "stream",
          "text": [
            "                                                             \r"
          ]
        },
        {
          "name": "stdout",
          "output_type": "stream",
          "text": [
            "Train Loss: 0.6576 | Accuracy: 76.95%\n",
            "Val   Loss: 0.4877 | Accuracy: 83.53%\n",
            "\n",
            "Epoch 69/100\n"
          ]
        },
        {
          "name": "stderr",
          "output_type": "stream",
          "text": [
            "                                                             \r"
          ]
        },
        {
          "name": "stdout",
          "output_type": "stream",
          "text": [
            "Train Loss: 0.6536 | Accuracy: 77.09%\n",
            "Val   Loss: 0.4987 | Accuracy: 83.64%\n",
            "\n",
            "Epoch 70/100\n"
          ]
        },
        {
          "name": "stderr",
          "output_type": "stream",
          "text": [
            "                                                             \r"
          ]
        },
        {
          "name": "stdout",
          "output_type": "stream",
          "text": [
            "Train Loss: 0.6397 | Accuracy: 77.76%\n",
            "Val   Loss: 0.4889 | Accuracy: 83.82%\n",
            "\n",
            "Epoch 71/100\n"
          ]
        },
        {
          "name": "stderr",
          "output_type": "stream",
          "text": [
            "                                                             \r"
          ]
        },
        {
          "name": "stdout",
          "output_type": "stream",
          "text": [
            "Train Loss: 0.6418 | Accuracy: 77.61%\n",
            "Val   Loss: 0.4612 | Accuracy: 84.42%\n",
            "Saved best model.\n",
            "\n",
            "Epoch 72/100\n"
          ]
        },
        {
          "name": "stderr",
          "output_type": "stream",
          "text": [
            "                                                             \r"
          ]
        },
        {
          "name": "stdout",
          "output_type": "stream",
          "text": [
            "Train Loss: 0.6354 | Accuracy: 77.70%\n",
            "Val   Loss: 0.4670 | Accuracy: 84.48%\n",
            "Saved best model.\n",
            "\n",
            "Epoch 73/100\n"
          ]
        },
        {
          "name": "stderr",
          "output_type": "stream",
          "text": [
            "                                                             \r"
          ]
        },
        {
          "name": "stdout",
          "output_type": "stream",
          "text": [
            "Train Loss: 0.6386 | Accuracy: 77.63%\n",
            "Val   Loss: 0.4698 | Accuracy: 84.10%\n",
            "\n",
            "Epoch 74/100\n"
          ]
        },
        {
          "name": "stderr",
          "output_type": "stream",
          "text": [
            "                                                             \r"
          ]
        },
        {
          "name": "stdout",
          "output_type": "stream",
          "text": [
            "Train Loss: 0.6316 | Accuracy: 77.98%\n",
            "Val   Loss: 0.4880 | Accuracy: 84.19%\n",
            "\n",
            "Epoch 75/100\n"
          ]
        },
        {
          "name": "stderr",
          "output_type": "stream",
          "text": [
            "                                                             \r"
          ]
        },
        {
          "name": "stdout",
          "output_type": "stream",
          "text": [
            "Train Loss: 0.6256 | Accuracy: 78.15%\n",
            "Val   Loss: 0.4582 | Accuracy: 84.91%\n",
            "Saved best model.\n",
            "\n",
            "Epoch 76/100\n"
          ]
        },
        {
          "name": "stderr",
          "output_type": "stream",
          "text": [
            "                                                             \r"
          ]
        },
        {
          "name": "stdout",
          "output_type": "stream",
          "text": [
            "Train Loss: 0.6243 | Accuracy: 78.17%\n",
            "Val   Loss: 0.4659 | Accuracy: 84.75%\n",
            "\n",
            "Epoch 77/100\n"
          ]
        },
        {
          "name": "stderr",
          "output_type": "stream",
          "text": [
            "                                                             \r"
          ]
        },
        {
          "name": "stdout",
          "output_type": "stream",
          "text": [
            "Train Loss: 0.6169 | Accuracy: 78.59%\n",
            "Val   Loss: 0.4798 | Accuracy: 84.13%\n",
            "\n",
            "Epoch 78/100\n"
          ]
        },
        {
          "name": "stderr",
          "output_type": "stream",
          "text": [
            "                                                             \r"
          ]
        },
        {
          "name": "stdout",
          "output_type": "stream",
          "text": [
            "Train Loss: 0.6166 | Accuracy: 78.63%\n",
            "Val   Loss: 0.4667 | Accuracy: 84.33%\n",
            "\n",
            "Epoch 79/100\n"
          ]
        },
        {
          "name": "stderr",
          "output_type": "stream",
          "text": [
            "                                                             \r"
          ]
        },
        {
          "name": "stdout",
          "output_type": "stream",
          "text": [
            "Train Loss: 0.6109 | Accuracy: 78.62%\n",
            "Val   Loss: 0.4673 | Accuracy: 84.56%\n",
            "\n",
            "Epoch 80/100\n"
          ]
        },
        {
          "name": "stderr",
          "output_type": "stream",
          "text": [
            "                                                             \r"
          ]
        },
        {
          "name": "stdout",
          "output_type": "stream",
          "text": [
            "Train Loss: 0.6095 | Accuracy: 78.68%\n",
            "Val   Loss: 0.4671 | Accuracy: 84.56%\n",
            "\n",
            "Epoch 81/100\n"
          ]
        },
        {
          "name": "stderr",
          "output_type": "stream",
          "text": [
            "                                                             \r"
          ]
        },
        {
          "name": "stdout",
          "output_type": "stream",
          "text": [
            "Train Loss: 0.6030 | Accuracy: 78.94%\n",
            "Val   Loss: 0.4669 | Accuracy: 84.50%\n",
            "\n",
            "Epoch 82/100\n"
          ]
        },
        {
          "name": "stderr",
          "output_type": "stream",
          "text": [
            "                                                             \r"
          ]
        },
        {
          "name": "stdout",
          "output_type": "stream",
          "text": [
            "Train Loss: 0.5998 | Accuracy: 79.10%\n",
            "Val   Loss: 0.4456 | Accuracy: 85.08%\n",
            "Saved best model.\n",
            "\n",
            "Epoch 83/100\n"
          ]
        },
        {
          "name": "stderr",
          "output_type": "stream",
          "text": [
            "                                                             \r"
          ]
        },
        {
          "name": "stdout",
          "output_type": "stream",
          "text": [
            "Train Loss: 0.5977 | Accuracy: 79.10%\n",
            "Val   Loss: 0.4419 | Accuracy: 85.15%\n",
            "Saved best model.\n",
            "\n",
            "Epoch 84/100\n"
          ]
        },
        {
          "name": "stderr",
          "output_type": "stream",
          "text": [
            "                                                             \r"
          ]
        },
        {
          "name": "stdout",
          "output_type": "stream",
          "text": [
            "Train Loss: 0.5984 | Accuracy: 79.22%\n",
            "Val   Loss: 0.4548 | Accuracy: 84.71%\n",
            "\n",
            "Epoch 85/100\n"
          ]
        },
        {
          "name": "stderr",
          "output_type": "stream",
          "text": [
            "                                                             \r"
          ]
        },
        {
          "name": "stdout",
          "output_type": "stream",
          "text": [
            "Train Loss: 0.5888 | Accuracy: 79.45%\n",
            "Val   Loss: 0.4603 | Accuracy: 84.77%\n",
            "\n",
            "Epoch 86/100\n"
          ]
        },
        {
          "name": "stderr",
          "output_type": "stream",
          "text": [
            "                                                             \r"
          ]
        },
        {
          "name": "stdout",
          "output_type": "stream",
          "text": [
            "Train Loss: 0.5886 | Accuracy: 79.51%\n",
            "Val   Loss: 0.4682 | Accuracy: 84.59%\n",
            "\n",
            "Epoch 87/100\n"
          ]
        },
        {
          "name": "stderr",
          "output_type": "stream",
          "text": [
            "                                                             \r"
          ]
        },
        {
          "name": "stdout",
          "output_type": "stream",
          "text": [
            "Train Loss: 0.5836 | Accuracy: 79.49%\n",
            "Val   Loss: 0.4550 | Accuracy: 85.01%\n",
            "\n",
            "Epoch 88/100\n"
          ]
        },
        {
          "name": "stderr",
          "output_type": "stream",
          "text": [
            "                                                             \r"
          ]
        },
        {
          "name": "stdout",
          "output_type": "stream",
          "text": [
            "Train Loss: 0.5833 | Accuracy: 79.65%\n",
            "Val   Loss: 0.4521 | Accuracy: 84.90%\n",
            "\n",
            "Epoch 89/100\n"
          ]
        },
        {
          "name": "stderr",
          "output_type": "stream",
          "text": [
            "                                                             \r"
          ]
        },
        {
          "name": "stdout",
          "output_type": "stream",
          "text": [
            "Train Loss: 0.5791 | Accuracy: 79.74%\n",
            "Val   Loss: 0.4566 | Accuracy: 84.84%\n",
            "\n",
            "Epoch 90/100\n"
          ]
        },
        {
          "name": "stderr",
          "output_type": "stream",
          "text": [
            "                                                             \r"
          ]
        },
        {
          "name": "stdout",
          "output_type": "stream",
          "text": [
            "Train Loss: 0.5766 | Accuracy: 79.93%\n",
            "Val   Loss: 0.4423 | Accuracy: 85.50%\n",
            "Saved best model.\n",
            "\n",
            "Epoch 91/100\n"
          ]
        },
        {
          "name": "stderr",
          "output_type": "stream",
          "text": [
            "                                                             \r"
          ]
        },
        {
          "name": "stdout",
          "output_type": "stream",
          "text": [
            "Train Loss: 0.5717 | Accuracy: 80.06%\n",
            "Val   Loss: 0.4392 | Accuracy: 85.42%\n",
            "\n",
            "Epoch 92/100\n"
          ]
        },
        {
          "name": "stderr",
          "output_type": "stream",
          "text": [
            "                                                             \r"
          ]
        },
        {
          "name": "stdout",
          "output_type": "stream",
          "text": [
            "Train Loss: 0.5705 | Accuracy: 79.90%\n",
            "Val   Loss: 0.4450 | Accuracy: 85.09%\n",
            "\n",
            "Epoch 93/100\n"
          ]
        },
        {
          "name": "stderr",
          "output_type": "stream",
          "text": [
            "                                                             \r"
          ]
        },
        {
          "name": "stdout",
          "output_type": "stream",
          "text": [
            "Train Loss: 0.5656 | Accuracy: 80.24%\n",
            "Val   Loss: 0.4423 | Accuracy: 85.16%\n",
            "\n",
            "Epoch 94/100\n"
          ]
        },
        {
          "name": "stderr",
          "output_type": "stream",
          "text": [
            "                                                             \r"
          ]
        },
        {
          "name": "stdout",
          "output_type": "stream",
          "text": [
            "Train Loss: 0.5682 | Accuracy: 80.34%\n",
            "Val   Loss: 0.4560 | Accuracy: 85.22%\n",
            "\n",
            "Epoch 95/100\n"
          ]
        },
        {
          "name": "stderr",
          "output_type": "stream",
          "text": [
            "                                                             \r"
          ]
        },
        {
          "name": "stdout",
          "output_type": "stream",
          "text": [
            "Train Loss: 0.5605 | Accuracy: 80.44%\n",
            "Val   Loss: 0.4466 | Accuracy: 85.58%\n",
            "Saved best model.\n",
            "\n",
            "Epoch 96/100\n"
          ]
        },
        {
          "name": "stderr",
          "output_type": "stream",
          "text": [
            "                                                             \r"
          ]
        },
        {
          "name": "stdout",
          "output_type": "stream",
          "text": [
            "Train Loss: 0.5633 | Accuracy: 80.32%\n",
            "Val   Loss: 0.4414 | Accuracy: 85.28%\n",
            "\n",
            "Epoch 97/100\n"
          ]
        },
        {
          "name": "stderr",
          "output_type": "stream",
          "text": [
            "                                                             \r"
          ]
        },
        {
          "name": "stdout",
          "output_type": "stream",
          "text": [
            "Train Loss: 0.5511 | Accuracy: 80.75%\n",
            "Val   Loss: 0.4414 | Accuracy: 85.37%\n",
            "\n",
            "Epoch 98/100\n"
          ]
        },
        {
          "name": "stderr",
          "output_type": "stream",
          "text": [
            "                                                             \r"
          ]
        },
        {
          "name": "stdout",
          "output_type": "stream",
          "text": [
            "Train Loss: 0.5504 | Accuracy: 80.80%\n",
            "Val   Loss: 0.4430 | Accuracy: 85.26%\n",
            "\n",
            "Epoch 99/100\n"
          ]
        },
        {
          "name": "stderr",
          "output_type": "stream",
          "text": [
            "                                                             \r"
          ]
        },
        {
          "name": "stdout",
          "output_type": "stream",
          "text": [
            "Train Loss: 0.5510 | Accuracy: 80.82%\n",
            "Val   Loss: 0.4314 | Accuracy: 85.94%\n",
            "Saved best model.\n",
            "\n",
            "Epoch 100/100\n"
          ]
        },
        {
          "name": "stderr",
          "output_type": "stream",
          "text": [
            "                                                             \r"
          ]
        },
        {
          "name": "stdout",
          "output_type": "stream",
          "text": [
            "Train Loss: 0.5483 | Accuracy: 80.95%\n",
            "Val   Loss: 0.4411 | Accuracy: 85.51%\n",
            "\n",
            "Training Complete\n",
            "\n",
            "Final Averages Over All Epochs\n",
            "Average Train Loss: 0.8251\n",
            "Average Train Accuracy: 70.96%\n",
            "Average Val   Loss: 0.6216\n",
            "Average Val   Accuracy: 78.47%\n",
            "Plots saved: loss_curve.png and accuracy_curve.png\n"
          ]
        },
        {
          "data": {
            "image/png": "[encoded data removed]",
            "text/plain": [
              "<Figure size 640x480 with 1 Axes>"
            ]
          },
          "metadata": {},
          "output_type": "display_data"
        },
        {
          "data": {
            "image/png": "[encoded data removed]",
            "text/plain": [
              "<Figure size 640x480 with 1 Axes>"
            ]
          },
          "metadata": {},
          "output_type": "display_data"
        }
      ],
      "source": [
        "# Set up device \n",
        "device = torch.device(\"cuda\" if torch.cuda.is_available() else \"cpu\")\n",
        "\n",
        "# Save model\n",
        "model.to(device)\n",
        "\n",
        "# Log training \n",
        "train_losses, val_losses = [], []\n",
        "train_accuracies = []\n",
        "val_accuracies = []\n",
        "\n",
        "# Training and Validation Loops \n",
        "def train(model, loader, criterion, optimizer, device):\n",
        "    model.train()\n",
        "    running_loss = 0.0\n",
        "    correct = 0\n",
        "    total = 0\n",
        "\n",
        "    for inputs, labels in tqdm(loader, desc=\"Training\", leave=False):\n",
        "        inputs, labels = inputs.to(device), labels.to(device)\n",
        "\n",
        "        optimizer.zero_grad()\n",
        "        outputs = model(inputs)\n",
        "\n",
        "        loss = criterion(outputs, labels)\n",
        "        loss.backward()\n",
        "        optimizer.step()\n",
        "        scheduler.step()\n",
        "\n",
        "        running_loss += loss.item()\n",
        "        _, predicted = outputs.max(1)\n",
        "        total += labels.size(0)\n",
        "        correct += predicted.eq(labels).sum().item()\n",
        "\n",
        "    return running_loss / len(loader), 100 * correct / total\n",
        "\n",
        "def evaluate(model, loader, criterion, device):\n",
        "    model.eval()\n",
        "    total = 0\n",
        "    correct = 0\n",
        "    loss = 0.0\n",
        "\n",
        "    with torch.no_grad():\n",
        "        for inputs, labels in tqdm(loader, desc=\"Validating\", leave=False):\n",
        "            inputs, labels = inputs.to(device), labels.to(device)\n",
        "            outputs = model(inputs)\n",
        "            loss += criterion(outputs, labels).item()\n",
        "            _, predicted = outputs.max(1)\n",
        "            total += labels.size(0)\n",
        "            correct += predicted.eq(labels).sum().item()\n",
        "\n",
        "    return loss / len(loader), 100 * correct / total\n",
        "\n",
        "# Main Loop \n",
        "patience = 10  # Number of epochs to wait for improvement\n",
        "early_stop_counter = 0 # Counter for early stopping\n",
        "epochs = 200\n",
        "best_acc = 0.0\n",
        "\n",
        "for epoch in range(epochs):\n",
        "    print(f\"\\nEpoch {epoch+1}/{epochs}\")\n",
        "    train_loss, train_acc = train(model, trainloader, criterion, optimizer, device)\n",
        "    val_loss, val_acc = evaluate(model, testloader, criterion, device)\n",
        "\n",
        "\n",
        "    # Log metrics\n",
        "    train_losses.append(train_loss)\n",
        "    val_losses.append(val_loss)\n",
        "    train_accuracies.append(train_acc)\n",
        "    val_accuracies.append(val_acc)\n",
        "\n",
        "    print(f\"Train Loss: {train_loss:.4f} | Accuracy: {train_acc:.2f}%\")\n",
        "    print(f\"Val   Loss: {val_loss:.4f} | Accuracy: {val_acc:.2f}%\")\n",
        "\n",
        "    # Save best model\n",
        "    if val_acc > best_acc:\n",
        "        best_acc = val_acc\n",
        "        early_stop_counter=0\n",
        "        torch.save(model.state_dict(), \"best_model.pth\")\n",
        "        # scheduler.step(val_loss)\n",
        "        print(\"Saved best model.\")\n",
        "    else:\n",
        "        early_stop_counter += 1\n",
        "        print(f\"No improvement for {early_stop_counter} epochs.\")\n",
        "\n",
        "    if early_stop_counter >= patience:\n",
        "        print(f\"Early stopping triggered after {epoch+1} epochs.\")\n",
        "        break\n",
        "print(\"\\nTraining Complete\")\n",
        "\n",
        "# Print Final Averages \n",
        "avg_train_loss = sum(train_losses) / len(train_losses)\n",
        "avg_val_loss = sum(val_losses) / len(val_losses)\n",
        "avg_train_acc = sum(train_accuracies) / len(train_accuracies)\n",
        "avg_val_acc = sum(val_accuracies) / len(val_accuracies)\n",
        "\n",
        "print(\"\\nFinal Averages Over All Epochs\")\n",
        "print(f\"Average Train Loss: {avg_train_loss:.4f}\")\n",
        "print(f\"Average Train Accuracy: {avg_train_acc:.2f}%\")\n",
        "print(f\"Average Val   Loss: {avg_val_loss:.4f}\")\n",
        "print(f\"Average Val   Accuracy: {avg_val_acc:.2f}%\")\n",
        "\n",
        "\n",
        "# Plot results\n",
        "\n",
        "# Plot Loss\n",
        "plt.figure()\n",
        "plt.plot(train_losses, label='Train Loss')\n",
        "plt.plot(val_losses, label='Validation Loss')\n",
        "plt.title(\"Loss Curve\")\n",
        "plt.xlabel(\"Epoch\")\n",
        "plt.ylabel(\"Loss\")\n",
        "plt.legend()\n",
        "plt.grid()\n",
        "plt.savefig(\"loss_curve.png\")\n",
        "\n",
        "# Plot Accuracy\n",
        "plt.figure()\n",
        "plt.plot(train_accuracies, label='Train Accuracy')\n",
        "plt.plot(val_accuracies, label='Validation Accuracy')\n",
        "plt.title(\"Accuracy Curve\")\n",
        "plt.xlabel(\"Epoch\")\n",
        "plt.ylabel(\"Accuracy (%)\")\n",
        "plt.legend()\n",
        "plt.grid()\n",
        "plt.savefig(\"accuracy_curve.png\")\n",
        "\n",
        "print(\"Plots saved: loss_curve.png and accuracy_curve.png\")\n"
      ]
    }
  ],
  "metadata": {
    "accelerator": "GPU",
    "colab": {
      "gpuType": "T4",
      "provenance": []
    },
    "kernelspec": {
      "display_name": "Python 3 (ipykernel)",
      "language": "python",
      "name": "python3"
    },
    "language_info": {
      "codemirror_mode": {
        "name": "ipython",
        "version": 3
      },
      "file_extension": ".py",
      "mimetype": "text/x-python",
      "name": "python",
      "nbconvert_exporter": "python",
      "pygments_lexer": "ipython3",
      "version": "3.11.7"
    }
  },
  "nbformat": 4,
  "nbformat_minor": 0
}
