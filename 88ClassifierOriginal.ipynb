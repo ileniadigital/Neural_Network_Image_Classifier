{
  "cells": [
    {
      "cell_type": "markdown",
      "metadata": {
        "id": "R-ugYIZG_vwU"
      },
      "source": [
        "# Read dataset and create data loaders"
      ]
    },
    {
      "cell_type": "code",
      "execution_count": 12,
      "metadata": {
        "id": "sUdX_1lQ7Zf8"
      },
      "outputs": [],
      "source": [
        "# Import torch and CIFAR dataset\n",
        "import torch\n",
        "import torch.nn as nn\n",
        "import torchvision\n",
        "import torchvision.transforms as transforms\n",
        "from torch.utils.data import DataLoader\n",
        "from tqdm import tqdm\n",
        "import torch.optim as optim\n",
        "import torch.nn.functional as F\n",
        "\n",
        "# Import matplotlib and numpy for graphs\n",
        "import matplotlib.pyplot as plt\n",
        "import numpy as np\n"
      ]
    },
    {
      "cell_type": "code",
      "execution_count": 13,
      "metadata": {
        "id": "Dy0dXGIAAs-N"
      },
      "outputs": [
        {
          "name": "stdout",
          "output_type": "stream",
          "text": [
            "Batch size: 64\n",
            "Files already downloaded and verified\n",
            "Files already downloaded and verified\n"
          ]
        }
      ],
      "source": [
        "'''\n",
        "Import CIFAR dataset, define labbels and load training and validation dataset\n",
        "Reference for loading dataset: https://pytorch.org/tutorials/beginner/blitz/cifar10_tutorial.html\n",
        "Reference for augmentation: https://pytorch.org/vision/stable/transforms.html\n",
        "'''\n",
        "batch_size=64 \n",
        "print('Batch size:', batch_size)\n",
        "\n",
        "# Normalisation and std values for RGB in dataset\n",
        "mean = [0.485, 0.456, 0.406]\n",
        "std = [0.229, 0.224, 0.225]\n",
        "\n",
        "# Data augmentation for training set\n",
        "transform_train = transforms.Compose([\n",
        "    transforms.RandomCrop(32, padding=4),  # Randomly crop the image with padding\n",
        "    transforms.RandomHorizontalFlip(),    # Randomly flip the image horizontally\n",
        "    transforms.ColorJitter(brightness=0.2, contrast=0.2, saturation=0.2, hue=0.1),  # Adjust brightness, contrast, etc.\n",
        "    transforms.RandomRotation(15),        # Randomly rotate the image by up to 15 degrees\n",
        "    transforms.RandomAffine(degrees=10, translate=(0.1, 0.1)),  # Randomly translate the image\n",
        "    transforms.ToTensor(),                # Convert image to tensor\n",
        "    transforms.Normalize(mean=mean, std=std),  # Normalize with mean and std\n",
        "    transforms.RandomErasing(p=0.5, scale=(0.02, 0.3))  # Randomly erase a portion of the image (optional)\n",
        "])\n",
        "\n",
        "# No augmentation for test set (only normalization)\n",
        "transform_test = transforms.Compose([\n",
        "    transforms.ToTensor(),\n",
        "    transforms.Normalize(mean=mean, std=std)  # Normalize with mean and std\n",
        "])\n",
        "\n",
        "# Load training and testing datasets\n",
        "trainset = torchvision.datasets.CIFAR10(root='./data', train=True, download=True, transform=transform_train)\n",
        "trainloader = torch.utils.data.DataLoader(trainset, batch_size=batch_size, shuffle=True, num_workers=2)\n",
        "\n",
        "testset = torchvision.datasets.CIFAR10(root='./data', train=False, download=True, transform=transform_test)\n",
        "testloader = torch.utils.data.DataLoader(testset, batch_size=batch_size, shuffle=False, num_workers=2)\n",
        "\n",
        "# Define labels\n",
        "classes = ('plane', 'car', 'bird', 'cat',\n",
        "           'deer', 'dog', 'frog', 'horse', 'ship', 'lorry')"
      ]
    },
    {
      "cell_type": "code",
      "execution_count": 14,
      "metadata": {
        "id": "ejYbu1lREwwA"
      },
      "outputs": [],
      "source": [
        "# # From the PyTorch's tutorial on image classification\n",
        "# import matplotlib.pyplot as plt\n",
        "# import numpy as np\n",
        "\n",
        "# def imshow(img):\n",
        "#     '''\n",
        "#     Show an image\n",
        "#     Input: image file to show\n",
        "#     Output: image\n",
        "#     '''\n",
        "#     img = img / 2 + 0.5     # unnormalize\n",
        "#     npimg = img.numpy()\n",
        "#     plt.imshow(np.transpose(npimg, (1, 2, 0)))\n",
        "#     plt.show()\n",
        "\n",
        "# # Get random training images\n",
        "# dataiter = iter(trainloader)\n",
        "# images, labels = next(dataiter)\n",
        "\n",
        "# # Show images\n",
        "# imshow(torchvision.utils.make_grid(images))\n",
        "# # Print labels\n",
        "# print(' '.join(f'{classes[labels[j]]:5s}' for j in range(batch_size)))"
      ]
    },
    {
      "cell_type": "markdown",
      "metadata": {
        "id": "28nn7m9c_1AK"
      },
      "source": [
        "# Main model\n",
        "Divided as such:\n",
        "\n",
        "\n",
        "*   **Stem**: takes the images as inputs, extracts features from them\n",
        "*   **Backbone**: made up of *K* branches, made up of an expert branch\n",
        "*   **Classifier**: takes input from the last block\n",
        "*   **Model**: wraps all together\n",
        "\n",
        "\n",
        "\n",
        "\n",
        "\n"
      ]
    },
    {
      "cell_type": "markdown",
      "metadata": {
        "id": "BjsIHiWpC7ir"
      },
      "source": [
        "## Stem\n",
        "*   Takes images as inputs\n",
        "*   Extracts a feature representation from them"
      ]
    },
    {
      "cell_type": "code",
      "execution_count": 15,
      "metadata": {
        "id": "GPmPcMg3MKuo"
      },
      "outputs": [],
      "source": [
        "class Stem(nn.Module):\n",
        "  '''\n",
        "  Extract features using a Resnet-18 stem\n",
        "  Reference: Week 09 Lab\n",
        "  '''\n",
        "  def __init__(self, input_channels, middle_channels, output_channels):\n",
        "     super(Stem,self).__init__()\n",
        "     # Default parameters\n",
        "     kernel_size=3\n",
        "     stride=1\n",
        "     padding=1\n",
        "     \n",
        "     # Combine multiple layers\n",
        "     self.stem = nn.Sequential(\n",
        "       nn.Conv2d(input_channels, middle_channels, kernel_size = kernel_size, stride = stride, padding = padding),\n",
        "       nn.BatchNorm2d(middle_channels), \n",
        "       nn.ReLU(inplace=True),\n",
        "       nn.Conv2d(middle_channels, middle_channels,kernel_size = kernel_size, stride = stride, padding = padding),\n",
        "       nn.BatchNorm2d(middle_channels),\n",
        "       nn.ReLU(inplace=True),\n",
        "       nn.MaxPool2d(2), # Half the size of the image\n",
        "       nn.Conv2d(middle_channels, output_channels, kernel_size = kernel_size, stride = stride, padding = padding),\n",
        "       nn.BatchNorm2d(output_channels),\n",
        "       nn.ReLU(inplace=True),\n",
        "       nn.MaxPool2d(2) # Half the size of the image\n",
        "       )\n",
        "\n",
        "  def forward(self,x):\n",
        "    x = self.stem(x)\n",
        "    return x"
      ]
    },
    {
      "cell_type": "markdown",
      "metadata": {
        "id": "teldaHE3NAuT"
      },
      "source": [
        "## Block"
      ]
    },
    {
      "cell_type": "code",
      "execution_count": 16,
      "metadata": {
        "id": "q50v5kSs9Lbc"
      },
      "outputs": [],
      "source": [
        "class ExpertBranch(nn.Module):\n",
        "  '''\n",
        "  Expert branch predicting vector a with K elements from input tensor X\n",
        "  '''\n",
        "  def __init__(self, input_channels, k, r):\n",
        "    super(ExpertBranch,self).__init__()\n",
        "    # Spatially pool x\n",
        "    self.pool= nn.AdaptiveAvgPool2d(1)\n",
        "    #Forward through fc1, reducing by r\n",
        "    self.fc1= nn.Linear(input_channels, input_channels//r)\n",
        "    # Activation function ReLu\n",
        "    self.relu= nn.ReLU()\n",
        "    # Forward through fc2\n",
        "    self.fc2= nn.Linear(input_channels//r,k)\n",
        "\n",
        "  def forward(self,x):\n",
        "    # Spatially pool X\n",
        "    x = self.pool(x)\n",
        "    # Forward through fc1, reducing by r\n",
        "    x= x.squeeze(-1).squeeze(-1)\n",
        "    x = self.fc1(x)\n",
        "    # Processed through non-linear activation g\n",
        "    x = F.relu(x)\n",
        "    # Pass through fc2\n",
        "    x = self.fc2(x)\n",
        "    # Forward with softmax\n",
        "    x = F.softmax(x,dim=1)\n",
        "    return x"
      ]
    },
    {
      "cell_type": "code",
      "execution_count": 17,
      "metadata": {
        "id": "xUNibZ2FNE3V"
      },
      "outputs": [],
      "source": [
        "class Block(nn.Module):\n",
        "  '''\n",
        "  Block\n",
        "  '''\n",
        "  def __init__(self, input_channels, output_channels, k, r):\n",
        "    super(Block, self).__init__()\n",
        "    # Default parameters\n",
        "    kernel_size=3\n",
        "    stride=1\n",
        "    padding=1\n",
        "    # Set parameters\n",
        "    self.k= k\n",
        "    self.expertBranch = ExpertBranch(input_channels, k=k, r=r)\n",
        "    # Input from first block\n",
        "    # Input from previous block for rest\n",
        "    # Generate vector a with K elements from X as a= E(X)\n",
        "    # Create K convolutional layers\n",
        "    self.convs= nn.ModuleList([\n",
        "        nn.Conv2d(input_channels, output_channels, kernel_size=kernel_size, stride= stride, padding=padding)\n",
        "        for _ in range(k)\n",
        "    ])\n",
        "\n",
        "  def forward(self,x):\n",
        "    identity= x\n",
        "    # Vector a from expert branch\n",
        "    a = self.expertBranch(x)\n",
        "    # Convolutional layers \n",
        "    conv_outputs = [conv(x) for conv in self.convs]\n",
        "    stacked = torch.stack(conv_outputs, dim=1)\n",
        "    # Create vector O\n",
        "    a= a.view(a.size(0), self.k, 1,1,1)\n",
        "\n",
        "    out = (a* stacked).sum(dim=1)\n",
        "    # Skip connection to stablise gradient descent\n",
        "    out += identity\n",
        "    out = F.relu(out) # activation after skip\n",
        "\n",
        "    return out"
      ]
    },
    {
      "cell_type": "markdown",
      "metadata": {
        "id": "NatobdwZM-dN"
      },
      "source": [
        "## Backbone"
      ]
    },
    {
      "cell_type": "code",
      "execution_count": 18,
      "metadata": {
        "id": "2uZ7am7LOxUi"
      },
      "outputs": [],
      "source": [
        "class Backbone(nn.Module):\n",
        "  '''\n",
        "  N blocks\n",
        "  '''\n",
        "  def __init__(self, input_channels, hidden_channels, num_blocks, k, r):\n",
        "    super(Backbone, self).__init__()\n",
        "    self.blocks= nn.ModuleList()\n",
        "\n",
        "    # First block takes input from stem\n",
        "    self.blocks.append(Block(input_channels, hidden_channels, k=k, r=r))\n",
        "\n",
        "    # Rest of blocks take input form previous block\n",
        "    for _ in range(1, num_blocks):\n",
        "      self.blocks.append(Block(hidden_channels, hidden_channels, k=k, r=r))\n",
        "\n",
        "  def forward(self, x):\n",
        "    for idx, block in enumerate(self.blocks):\n",
        "      x = block(x)\n",
        "    return x"
      ]
    },
    {
      "cell_type": "markdown",
      "metadata": {
        "id": "Zgi2QD7KNC9v"
      },
      "source": [
        "## Classifier"
      ]
    },
    {
      "cell_type": "code",
      "execution_count": 19,
      "metadata": {
        "id": "t8QmbjyB4feJ"
      },
      "outputs": [],
      "source": [
        "class Classifier(nn.Module):\n",
        "  def __init__(self, input_channels, num_classes, use_mlp):\n",
        "    super(Classifier,self).__init__()\n",
        "    # Default parameters\n",
        "    dropout_rate=0.25\n",
        "    # Spatially pool\n",
        "    self.pool = nn.AdaptiveAvgPool2d(1)\n",
        "    self.use_mlp= use_mlp\n",
        "\n",
        "    if use_mlp:\n",
        "      self.classifier= nn.Sequential(\n",
        "          nn.Linear(input_channels, input_channels*2),\n",
        "          nn.ReLU(),\n",
        "          nn.Dropout(dropout_rate), # Deeper network with 3 layers\n",
        "          nn.Linear(input_channels*2, input_channels),\n",
        "          nn.ReLU(),\n",
        "          nn.Dropout(dropout_rate),\n",
        "          nn.Linear(input_channels, num_classes)\n",
        "      )\n",
        "    else:\n",
        "      self.classifier= nn.Linear(input_channels, num_classes)\n",
        "\n",
        "  def forward(self, x):\n",
        "    x = self.pool(x).squeeze(-1).squeeze(-1)\n",
        "    out = self.classifier(x)\n",
        "    return out\n"
      ]
    },
    {
      "cell_type": "markdown",
      "metadata": {
        "id": "ySRxujey4gN3"
      },
      "source": [
        "# Model"
      ]
    },
    {
      "cell_type": "code",
      "execution_count": 20,
      "metadata": {
        "id": "YY9DBSBo4jpP"
      },
      "outputs": [],
      "source": [
        "class Model(nn.Module):\n",
        "  def __init__(self, input_channels, output_channels, middle_channels, hidden_channels, num_blocks, k, r, num_classes, use_mlp):\n",
        "    super(Model, self).__init__()\n",
        "    # Call stem\n",
        "    self.stem= Stem(\n",
        "      input_channels=input_channels,\n",
        "      middle_channels=middle_channels,\n",
        "      output_channels=output_channels\n",
        "    )\n",
        "    # Call backbone\n",
        "    self.backbone= Backbone(\n",
        "      input_channels=output_channels, \n",
        "      hidden_channels= hidden_channels, \n",
        "      num_blocks=num_blocks,\n",
        "      k=k, \n",
        "      r=r)\n",
        "    # Call classifier\n",
        "    self.classifier= Classifier(\n",
        "      input_channels=hidden_channels, \n",
        "      num_classes=num_classes,\n",
        "      use_mlp= use_mlp)\n",
        "\n",
        "  def forward(self,x):\n",
        "    x= self.stem(x)\n",
        "    x= self.backbone(x)\n",
        "    x= self.classifier(x)\n",
        "    return x"
      ]
    },
    {
      "cell_type": "markdown",
      "metadata": {
        "id": "tC2qAy2b_3KO"
      },
      "source": [
        "# Create the loss and optmiser\n"
      ]
    },
    {
      "cell_type": "code",
      "execution_count": 21,
      "metadata": {
        "id": "DGJbtSC3EcHy"
      },
      "outputs": [],
      "source": [
        "model = Model(\n",
        "    input_channels=3,\n",
        "    output_channels=128,\n",
        "    middle_channels=64,\n",
        "    hidden_channels=128,\n",
        "    num_blocks=7,\n",
        "    k=4,\n",
        "    r=8,\n",
        "    num_classes=10,\n",
        "    use_mlp=True\n",
        ")\n",
        "\n",
        "def init_weights(m):\n",
        "    if isinstance(m, nn.Conv2d):\n",
        "        nn.init.kaiming_normal_(m.weight, mode='fan_out', nonlinearity='relu')\n",
        "    elif isinstance(m, nn.BatchNorm2d):\n",
        "        nn.init.constant_(m.weight, 1)\n",
        "        nn.init.constant_(m.bias, 0)\n",
        "    elif isinstance(m, nn.Linear):\n",
        "        nn.init.kaiming_normal_(m.weight)\n",
        "        if m.bias is not None:\n",
        "            nn.init.constant_(m.bias, 0)\n",
        "\n",
        "model.apply(init_weights)\n",
        "\n",
        "criterion = nn.CrossEntropyLoss()\n",
        "# optimizer = optim.SGD(model.parameters(), lr=0.0001, weight_decay=1e-4, momentum=0.9)\n",
        "optimizer = optim.Adam(model.parameters(), lr=0.0001, weight_decay=1e-4)"
      ]
    },
    {
      "cell_type": "markdown",
      "metadata": {
        "id": "VlNFWcuJ_8dY"
      },
      "source": [
        "# Training & Testing"
      ]
    },
    {
      "cell_type": "code",
      "execution_count": 22,
      "metadata": {
        "colab": {
          "base_uri": "https://localhost:8080/"
        },
        "id": "JdK9bHyHRaVt",
        "outputId": "f59cac49-555d-4148-9435-d29fb3076c79"
      },
      "outputs": [
        {
          "name": "stdout",
          "output_type": "stream",
          "text": [
            "\n",
            "Epoch 1/150\n"
          ]
        },
        {
          "name": "stderr",
          "output_type": "stream",
          "text": [
            "                                                             \r"
          ]
        },
        {
          "name": "stdout",
          "output_type": "stream",
          "text": [
            "Train Loss: 2.0996 | Accuracy: 23.25%\n",
            "Val   Loss: 1.7542 | Accuracy: 34.03%\n",
            "Saved best model.\n",
            "\n",
            "Epoch 2/150\n"
          ]
        },
        {
          "name": "stderr",
          "output_type": "stream",
          "text": [
            "                                                             \r"
          ]
        },
        {
          "name": "stdout",
          "output_type": "stream",
          "text": [
            "Train Loss: 1.7744 | Accuracy: 33.89%\n",
            "Val   Loss: 1.6129 | Accuracy: 40.28%\n",
            "Saved best model.\n",
            "\n",
            "Epoch 3/150\n"
          ]
        },
        {
          "name": "stderr",
          "output_type": "stream",
          "text": [
            "                                                             \r"
          ]
        },
        {
          "name": "stdout",
          "output_type": "stream",
          "text": [
            "Train Loss: 1.6295 | Accuracy: 40.20%\n",
            "Val   Loss: 1.3522 | Accuracy: 48.86%\n",
            "Saved best model.\n",
            "\n",
            "Epoch 4/150\n"
          ]
        },
        {
          "name": "stderr",
          "output_type": "stream",
          "text": [
            "                                                             \r"
          ]
        },
        {
          "name": "stdout",
          "output_type": "stream",
          "text": [
            "Train Loss: 1.5246 | Accuracy: 44.44%\n",
            "Val   Loss: 1.3576 | Accuracy: 51.31%\n",
            "Saved best model.\n",
            "\n",
            "Epoch 5/150\n"
          ]
        },
        {
          "name": "stderr",
          "output_type": "stream",
          "text": [
            "                                                             \r"
          ]
        },
        {
          "name": "stdout",
          "output_type": "stream",
          "text": [
            "Train Loss: 1.4311 | Accuracy: 48.48%\n",
            "Val   Loss: 1.2838 | Accuracy: 54.51%\n",
            "Saved best model.\n",
            "\n",
            "Epoch 6/150\n"
          ]
        },
        {
          "name": "stderr",
          "output_type": "stream",
          "text": [
            "                                                             \r"
          ]
        },
        {
          "name": "stdout",
          "output_type": "stream",
          "text": [
            "Train Loss: 1.3651 | Accuracy: 51.10%\n",
            "Val   Loss: 1.2032 | Accuracy: 58.15%\n",
            "Saved best model.\n",
            "\n",
            "Epoch 7/150\n"
          ]
        },
        {
          "name": "stderr",
          "output_type": "stream",
          "text": [
            "                                                             \r"
          ]
        },
        {
          "name": "stdout",
          "output_type": "stream",
          "text": [
            "Train Loss: 1.3008 | Accuracy: 53.80%\n",
            "Val   Loss: 1.0690 | Accuracy: 61.85%\n",
            "Saved best model.\n",
            "\n",
            "Epoch 8/150\n"
          ]
        },
        {
          "name": "stderr",
          "output_type": "stream",
          "text": [
            "                                                             \r"
          ]
        },
        {
          "name": "stdout",
          "output_type": "stream",
          "text": [
            "Train Loss: 1.2418 | Accuracy: 56.02%\n",
            "Val   Loss: 0.9589 | Accuracy: 65.85%\n",
            "Saved best model.\n",
            "\n",
            "Epoch 9/150\n"
          ]
        },
        {
          "name": "stderr",
          "output_type": "stream",
          "text": [
            "                                                             \r"
          ]
        },
        {
          "name": "stdout",
          "output_type": "stream",
          "text": [
            "Train Loss: 1.1947 | Accuracy: 57.94%\n",
            "Val   Loss: 0.9827 | Accuracy: 64.70%\n",
            "No improvement for 1 epochs.\n",
            "\n",
            "Epoch 10/150\n"
          ]
        },
        {
          "name": "stderr",
          "output_type": "stream",
          "text": [
            "                                                             \r"
          ]
        },
        {
          "name": "stdout",
          "output_type": "stream",
          "text": [
            "Train Loss: 1.1470 | Accuracy: 59.60%\n",
            "Val   Loss: 0.8989 | Accuracy: 68.01%\n",
            "Saved best model.\n",
            "\n",
            "Epoch 11/150\n"
          ]
        },
        {
          "name": "stderr",
          "output_type": "stream",
          "text": [
            "                                                             \r"
          ]
        },
        {
          "name": "stdout",
          "output_type": "stream",
          "text": [
            "Train Loss: 1.0979 | Accuracy: 61.57%\n",
            "Val   Loss: 0.8555 | Accuracy: 70.34%\n",
            "Saved best model.\n",
            "\n",
            "Epoch 12/150\n"
          ]
        },
        {
          "name": "stderr",
          "output_type": "stream",
          "text": [
            "                                                             \r"
          ]
        },
        {
          "name": "stdout",
          "output_type": "stream",
          "text": [
            "Train Loss: 1.0608 | Accuracy: 63.01%\n",
            "Val   Loss: 0.7943 | Accuracy: 72.27%\n",
            "Saved best model.\n",
            "\n",
            "Epoch 13/150\n"
          ]
        },
        {
          "name": "stderr",
          "output_type": "stream",
          "text": [
            "                                                             \r"
          ]
        },
        {
          "name": "stdout",
          "output_type": "stream",
          "text": [
            "Train Loss: 1.0216 | Accuracy: 64.76%\n",
            "Val   Loss: 0.7596 | Accuracy: 73.91%\n",
            "Saved best model.\n",
            "\n",
            "Epoch 14/150\n"
          ]
        },
        {
          "name": "stderr",
          "output_type": "stream",
          "text": [
            "                                                             \r"
          ]
        },
        {
          "name": "stdout",
          "output_type": "stream",
          "text": [
            "Train Loss: 0.9907 | Accuracy: 65.44%\n",
            "Val   Loss: 0.7128 | Accuracy: 75.18%\n",
            "Saved best model.\n",
            "\n",
            "Epoch 15/150\n"
          ]
        },
        {
          "name": "stderr",
          "output_type": "stream",
          "text": [
            "                                                             \r"
          ]
        },
        {
          "name": "stdout",
          "output_type": "stream",
          "text": [
            "Train Loss: 0.9597 | Accuracy: 66.71%\n",
            "Val   Loss: 0.7096 | Accuracy: 75.14%\n",
            "No improvement for 1 epochs.\n",
            "\n",
            "Epoch 16/150\n"
          ]
        },
        {
          "name": "stderr",
          "output_type": "stream",
          "text": [
            "                                                             \r"
          ]
        },
        {
          "name": "stdout",
          "output_type": "stream",
          "text": [
            "Train Loss: 0.9345 | Accuracy: 67.61%\n",
            "Val   Loss: 0.8207 | Accuracy: 72.36%\n",
            "No improvement for 2 epochs.\n",
            "\n",
            "Epoch 17/150\n"
          ]
        },
        {
          "name": "stderr",
          "output_type": "stream",
          "text": [
            "                                                             \r"
          ]
        },
        {
          "name": "stdout",
          "output_type": "stream",
          "text": [
            "Train Loss: 0.9114 | Accuracy: 68.33%\n",
            "Val   Loss: 0.6685 | Accuracy: 76.77%\n",
            "Saved best model.\n",
            "\n",
            "Epoch 18/150\n"
          ]
        },
        {
          "name": "stderr",
          "output_type": "stream",
          "text": [
            "                                                             \r"
          ]
        },
        {
          "name": "stdout",
          "output_type": "stream",
          "text": [
            "Train Loss: 0.8823 | Accuracy: 69.65%\n",
            "Val   Loss: 0.6420 | Accuracy: 78.32%\n",
            "Saved best model.\n",
            "\n",
            "Epoch 19/150\n"
          ]
        },
        {
          "name": "stderr",
          "output_type": "stream",
          "text": [
            "                                                             \r"
          ]
        },
        {
          "name": "stdout",
          "output_type": "stream",
          "text": [
            "Train Loss: 0.8669 | Accuracy: 70.32%\n",
            "Val   Loss: 0.6591 | Accuracy: 77.23%\n",
            "No improvement for 1 epochs.\n",
            "\n",
            "Epoch 20/150\n"
          ]
        },
        {
          "name": "stderr",
          "output_type": "stream",
          "text": [
            "                                                             \r"
          ]
        },
        {
          "name": "stdout",
          "output_type": "stream",
          "text": [
            "Train Loss: 0.8439 | Accuracy: 70.93%\n",
            "Val   Loss: 0.6100 | Accuracy: 78.96%\n",
            "Saved best model.\n",
            "\n",
            "Epoch 21/150\n"
          ]
        },
        {
          "name": "stderr",
          "output_type": "stream",
          "text": [
            "                                                             \r"
          ]
        },
        {
          "name": "stdout",
          "output_type": "stream",
          "text": [
            "Train Loss: 0.8250 | Accuracy: 71.59%\n",
            "Val   Loss: 0.5903 | Accuracy: 79.34%\n",
            "Saved best model.\n",
            "\n",
            "Epoch 22/150\n"
          ]
        },
        {
          "name": "stderr",
          "output_type": "stream",
          "text": [
            "                                                             \r"
          ]
        },
        {
          "name": "stdout",
          "output_type": "stream",
          "text": [
            "Train Loss: 0.8127 | Accuracy: 71.96%\n",
            "Val   Loss: 0.5915 | Accuracy: 80.09%\n",
            "Saved best model.\n",
            "\n",
            "Epoch 23/150\n"
          ]
        },
        {
          "name": "stderr",
          "output_type": "stream",
          "text": [
            "                                                             \r"
          ]
        },
        {
          "name": "stdout",
          "output_type": "stream",
          "text": [
            "Train Loss: 0.7918 | Accuracy: 72.67%\n",
            "Val   Loss: 0.6233 | Accuracy: 78.88%\n",
            "No improvement for 1 epochs.\n",
            "\n",
            "Epoch 24/150\n"
          ]
        },
        {
          "name": "stderr",
          "output_type": "stream",
          "text": [
            "                                                             \r"
          ]
        },
        {
          "name": "stdout",
          "output_type": "stream",
          "text": [
            "Train Loss: 0.7786 | Accuracy: 73.35%\n",
            "Val   Loss: 0.5796 | Accuracy: 80.24%\n",
            "Saved best model.\n",
            "\n",
            "Epoch 25/150\n"
          ]
        },
        {
          "name": "stderr",
          "output_type": "stream",
          "text": [
            "                                                             \r"
          ]
        },
        {
          "name": "stdout",
          "output_type": "stream",
          "text": [
            "Train Loss: 0.7627 | Accuracy: 73.40%\n",
            "Val   Loss: 0.5590 | Accuracy: 81.14%\n",
            "Saved best model.\n",
            "\n",
            "Epoch 26/150\n"
          ]
        },
        {
          "name": "stderr",
          "output_type": "stream",
          "text": [
            "                                                             \r"
          ]
        },
        {
          "name": "stdout",
          "output_type": "stream",
          "text": [
            "Train Loss: 0.7484 | Accuracy: 74.20%\n",
            "Val   Loss: 0.5573 | Accuracy: 81.54%\n",
            "Saved best model.\n",
            "\n",
            "Epoch 27/150\n"
          ]
        },
        {
          "name": "stderr",
          "output_type": "stream",
          "text": [
            "                                                             \r"
          ]
        },
        {
          "name": "stdout",
          "output_type": "stream",
          "text": [
            "Train Loss: 0.7403 | Accuracy: 74.49%\n",
            "Val   Loss: 0.5583 | Accuracy: 81.03%\n",
            "No improvement for 1 epochs.\n",
            "\n",
            "Epoch 28/150\n"
          ]
        },
        {
          "name": "stderr",
          "output_type": "stream",
          "text": [
            "                                                             \r"
          ]
        },
        {
          "name": "stdout",
          "output_type": "stream",
          "text": [
            "Train Loss: 0.7278 | Accuracy: 74.92%\n",
            "Val   Loss: 0.5327 | Accuracy: 81.99%\n",
            "Saved best model.\n",
            "\n",
            "Epoch 29/150\n"
          ]
        },
        {
          "name": "stderr",
          "output_type": "stream",
          "text": [
            "                                                             \r"
          ]
        },
        {
          "name": "stdout",
          "output_type": "stream",
          "text": [
            "Train Loss: 0.7140 | Accuracy: 75.43%\n",
            "Val   Loss: 0.5183 | Accuracy: 82.19%\n",
            "Saved best model.\n",
            "\n",
            "Epoch 30/150\n"
          ]
        },
        {
          "name": "stderr",
          "output_type": "stream",
          "text": [
            "                                                             \r"
          ]
        },
        {
          "name": "stdout",
          "output_type": "stream",
          "text": [
            "Train Loss: 0.7003 | Accuracy: 75.88%\n",
            "Val   Loss: 0.5004 | Accuracy: 83.14%\n",
            "Saved best model.\n",
            "\n",
            "Epoch 31/150\n"
          ]
        },
        {
          "name": "stderr",
          "output_type": "stream",
          "text": [
            "                                                             \r"
          ]
        },
        {
          "name": "stdout",
          "output_type": "stream",
          "text": [
            "Train Loss: 0.6927 | Accuracy: 76.12%\n",
            "Val   Loss: 0.5100 | Accuracy: 82.65%\n",
            "No improvement for 1 epochs.\n",
            "\n",
            "Epoch 32/150\n"
          ]
        },
        {
          "name": "stderr",
          "output_type": "stream",
          "text": [
            "                                                             \r"
          ]
        },
        {
          "name": "stdout",
          "output_type": "stream",
          "text": [
            "Train Loss: 0.6882 | Accuracy: 76.29%\n",
            "Val   Loss: 0.4944 | Accuracy: 83.15%\n",
            "Saved best model.\n",
            "\n",
            "Epoch 33/150\n"
          ]
        },
        {
          "name": "stderr",
          "output_type": "stream",
          "text": [
            "                                                             \r"
          ]
        },
        {
          "name": "stdout",
          "output_type": "stream",
          "text": [
            "Train Loss: 0.6649 | Accuracy: 77.33%\n",
            "Val   Loss: 0.5129 | Accuracy: 82.81%\n",
            "No improvement for 1 epochs.\n",
            "\n",
            "Epoch 34/150\n"
          ]
        },
        {
          "name": "stderr",
          "output_type": "stream",
          "text": [
            "                                                             \r"
          ]
        },
        {
          "name": "stdout",
          "output_type": "stream",
          "text": [
            "Train Loss: 0.6595 | Accuracy: 77.37%\n",
            "Val   Loss: 0.4720 | Accuracy: 84.38%\n",
            "Saved best model.\n",
            "\n",
            "Epoch 35/150\n"
          ]
        },
        {
          "name": "stderr",
          "output_type": "stream",
          "text": [
            "                                                             \r"
          ]
        },
        {
          "name": "stdout",
          "output_type": "stream",
          "text": [
            "Train Loss: 0.6450 | Accuracy: 77.84%\n",
            "Val   Loss: 0.4837 | Accuracy: 83.70%\n",
            "No improvement for 1 epochs.\n",
            "\n",
            "Epoch 36/150\n"
          ]
        },
        {
          "name": "stderr",
          "output_type": "stream",
          "text": [
            "                                                             \r"
          ]
        },
        {
          "name": "stdout",
          "output_type": "stream",
          "text": [
            "Train Loss: 0.6350 | Accuracy: 78.06%\n",
            "Val   Loss: 0.4691 | Accuracy: 84.35%\n",
            "No improvement for 2 epochs.\n",
            "\n",
            "Epoch 37/150\n"
          ]
        },
        {
          "name": "stderr",
          "output_type": "stream",
          "text": [
            "                                                             \r"
          ]
        },
        {
          "name": "stdout",
          "output_type": "stream",
          "text": [
            "Train Loss: 0.6294 | Accuracy: 78.28%\n",
            "Val   Loss: 0.4603 | Accuracy: 84.63%\n",
            "Saved best model.\n",
            "\n",
            "Epoch 38/150\n"
          ]
        },
        {
          "name": "stderr",
          "output_type": "stream",
          "text": [
            "                                                             \r"
          ]
        },
        {
          "name": "stdout",
          "output_type": "stream",
          "text": [
            "Train Loss: 0.6251 | Accuracy: 78.36%\n",
            "Val   Loss: 0.4807 | Accuracy: 83.49%\n",
            "No improvement for 1 epochs.\n",
            "\n",
            "Epoch 39/150\n"
          ]
        },
        {
          "name": "stderr",
          "output_type": "stream",
          "text": [
            "                                                             \r"
          ]
        },
        {
          "name": "stdout",
          "output_type": "stream",
          "text": [
            "Train Loss: 0.6113 | Accuracy: 78.96%\n",
            "Val   Loss: 0.4830 | Accuracy: 83.92%\n",
            "No improvement for 2 epochs.\n",
            "\n",
            "Epoch 40/150\n"
          ]
        },
        {
          "name": "stderr",
          "output_type": "stream",
          "text": [
            "                                                             \r"
          ]
        },
        {
          "name": "stdout",
          "output_type": "stream",
          "text": [
            "Train Loss: 0.6027 | Accuracy: 79.22%\n",
            "Val   Loss: 0.4663 | Accuracy: 84.47%\n",
            "No improvement for 3 epochs.\n",
            "\n",
            "Epoch 41/150\n"
          ]
        },
        {
          "name": "stderr",
          "output_type": "stream",
          "text": [
            "                                                             \r"
          ]
        },
        {
          "name": "stdout",
          "output_type": "stream",
          "text": [
            "Train Loss: 0.6040 | Accuracy: 79.34%\n",
            "Val   Loss: 0.4505 | Accuracy: 85.05%\n",
            "Saved best model.\n",
            "\n",
            "Epoch 42/150\n"
          ]
        },
        {
          "name": "stderr",
          "output_type": "stream",
          "text": [
            "                                                             \r"
          ]
        },
        {
          "name": "stdout",
          "output_type": "stream",
          "text": [
            "Train Loss: 0.5958 | Accuracy: 79.76%\n",
            "Val   Loss: 0.4669 | Accuracy: 84.44%\n",
            "No improvement for 1 epochs.\n",
            "\n",
            "Epoch 43/150\n"
          ]
        },
        {
          "name": "stderr",
          "output_type": "stream",
          "text": [
            "                                                             \r"
          ]
        },
        {
          "name": "stdout",
          "output_type": "stream",
          "text": [
            "Train Loss: 0.5863 | Accuracy: 80.00%\n",
            "Val   Loss: 0.4450 | Accuracy: 85.02%\n",
            "No improvement for 2 epochs.\n",
            "\n",
            "Epoch 44/150\n"
          ]
        },
        {
          "name": "stderr",
          "output_type": "stream",
          "text": [
            "                                                             \r"
          ]
        },
        {
          "name": "stdout",
          "output_type": "stream",
          "text": [
            "Train Loss: 0.5810 | Accuracy: 80.04%\n",
            "Val   Loss: 0.4387 | Accuracy: 85.45%\n",
            "Saved best model.\n",
            "\n",
            "Epoch 45/150\n"
          ]
        },
        {
          "name": "stderr",
          "output_type": "stream",
          "text": [
            "                                                             \r"
          ]
        },
        {
          "name": "stdout",
          "output_type": "stream",
          "text": [
            "Train Loss: 0.5713 | Accuracy: 80.42%\n",
            "Val   Loss: 0.4429 | Accuracy: 85.08%\n",
            "No improvement for 1 epochs.\n",
            "\n",
            "Epoch 46/150\n"
          ]
        },
        {
          "name": "stderr",
          "output_type": "stream",
          "text": [
            "                                                             \r"
          ]
        },
        {
          "name": "stdout",
          "output_type": "stream",
          "text": [
            "Train Loss: 0.5683 | Accuracy: 80.48%\n",
            "Val   Loss: 0.4294 | Accuracy: 85.65%\n",
            "Saved best model.\n",
            "\n",
            "Epoch 47/150\n"
          ]
        },
        {
          "name": "stderr",
          "output_type": "stream",
          "text": [
            "                                                              \r"
          ]
        },
        {
          "name": "stdout",
          "output_type": "stream",
          "text": [
            "Train Loss: 0.5603 | Accuracy: 80.68%\n",
            "Val   Loss: 0.4154 | Accuracy: 86.25%\n",
            "Saved best model.\n",
            "\n",
            "Epoch 48/150\n"
          ]
        },
        {
          "name": "stderr",
          "output_type": "stream",
          "text": [
            "                                                              \r"
          ]
        },
        {
          "name": "stdout",
          "output_type": "stream",
          "text": [
            "Train Loss: 0.5525 | Accuracy: 80.93%\n",
            "Val   Loss: 0.4449 | Accuracy: 85.41%\n",
            "No improvement for 1 epochs.\n",
            "\n",
            "Epoch 49/150\n"
          ]
        },
        {
          "name": "stderr",
          "output_type": "stream",
          "text": [
            "                                                              \r"
          ]
        },
        {
          "name": "stdout",
          "output_type": "stream",
          "text": [
            "Train Loss: 0.5471 | Accuracy: 81.10%\n",
            "Val   Loss: 0.4064 | Accuracy: 86.38%\n",
            "Saved best model.\n",
            "\n",
            "Epoch 50/150\n"
          ]
        },
        {
          "name": "stderr",
          "output_type": "stream",
          "text": [
            "                                                              \r"
          ]
        },
        {
          "name": "stdout",
          "output_type": "stream",
          "text": [
            "Train Loss: 0.5392 | Accuracy: 81.51%\n",
            "Val   Loss: 0.4361 | Accuracy: 85.16%\n",
            "No improvement for 1 epochs.\n",
            "\n",
            "Epoch 51/150\n"
          ]
        },
        {
          "name": "stderr",
          "output_type": "stream",
          "text": [
            "                                                              \r"
          ]
        },
        {
          "name": "stdout",
          "output_type": "stream",
          "text": [
            "Train Loss: 0.5327 | Accuracy: 81.81%\n",
            "Val   Loss: 0.4446 | Accuracy: 85.60%\n",
            "No improvement for 2 epochs.\n",
            "\n",
            "Epoch 52/150\n"
          ]
        },
        {
          "name": "stderr",
          "output_type": "stream",
          "text": [
            "                                                              \r"
          ]
        },
        {
          "name": "stdout",
          "output_type": "stream",
          "text": [
            "Train Loss: 0.5254 | Accuracy: 81.97%\n",
            "Val   Loss: 0.4267 | Accuracy: 85.87%\n",
            "No improvement for 3 epochs.\n",
            "\n",
            "Epoch 53/150\n"
          ]
        },
        {
          "name": "stderr",
          "output_type": "stream",
          "text": [
            "                                                              \r"
          ]
        },
        {
          "name": "stdout",
          "output_type": "stream",
          "text": [
            "Train Loss: 0.5290 | Accuracy: 81.58%\n",
            "Val   Loss: 0.4292 | Accuracy: 85.46%\n",
            "No improvement for 4 epochs.\n",
            "\n",
            "Epoch 54/150\n"
          ]
        },
        {
          "name": "stderr",
          "output_type": "stream",
          "text": [
            "                                                              \r"
          ]
        },
        {
          "name": "stdout",
          "output_type": "stream",
          "text": [
            "Train Loss: 0.5098 | Accuracy: 82.45%\n",
            "Val   Loss: 0.4176 | Accuracy: 86.00%\n",
            "No improvement for 5 epochs.\n",
            "\n",
            "Epoch 55/150\n"
          ]
        },
        {
          "name": "stderr",
          "output_type": "stream",
          "text": [
            "                                                              \r"
          ]
        },
        {
          "name": "stdout",
          "output_type": "stream",
          "text": [
            "Train Loss: 0.5117 | Accuracy: 82.46%\n",
            "Val   Loss: 0.3885 | Accuracy: 87.17%\n",
            "Saved best model.\n",
            "\n",
            "Epoch 56/150\n"
          ]
        },
        {
          "name": "stderr",
          "output_type": "stream",
          "text": [
            "                                                              \r"
          ]
        },
        {
          "name": "stdout",
          "output_type": "stream",
          "text": [
            "Train Loss: 0.5046 | Accuracy: 82.58%\n",
            "Val   Loss: 0.4541 | Accuracy: 84.91%\n",
            "No improvement for 1 epochs.\n",
            "\n",
            "Epoch 57/150\n"
          ]
        },
        {
          "name": "stderr",
          "output_type": "stream",
          "text": [
            "                                                              \r"
          ]
        },
        {
          "name": "stdout",
          "output_type": "stream",
          "text": [
            "Train Loss: 0.5002 | Accuracy: 82.69%\n",
            "Val   Loss: 0.4425 | Accuracy: 85.90%\n",
            "No improvement for 2 epochs.\n",
            "\n",
            "Epoch 58/150\n"
          ]
        },
        {
          "name": "stderr",
          "output_type": "stream",
          "text": [
            "                                                              \r"
          ]
        },
        {
          "name": "stdout",
          "output_type": "stream",
          "text": [
            "Train Loss: 0.4921 | Accuracy: 83.08%\n",
            "Val   Loss: 0.3999 | Accuracy: 86.99%\n",
            "No improvement for 3 epochs.\n",
            "\n",
            "Epoch 59/150\n"
          ]
        },
        {
          "name": "stderr",
          "output_type": "stream",
          "text": [
            "                                                              \r"
          ]
        },
        {
          "name": "stdout",
          "output_type": "stream",
          "text": [
            "Train Loss: 0.4872 | Accuracy: 83.35%\n",
            "Val   Loss: 0.4158 | Accuracy: 86.24%\n",
            "No improvement for 4 epochs.\n",
            "\n",
            "Epoch 60/150\n"
          ]
        },
        {
          "name": "stderr",
          "output_type": "stream",
          "text": [
            "                                                              \r"
          ]
        },
        {
          "name": "stdout",
          "output_type": "stream",
          "text": [
            "Train Loss: 0.4912 | Accuracy: 83.10%\n",
            "Val   Loss: 0.4131 | Accuracy: 86.30%\n",
            "No improvement for 5 epochs.\n",
            "\n",
            "Epoch 61/150\n"
          ]
        },
        {
          "name": "stderr",
          "output_type": "stream",
          "text": [
            "                                                              \r"
          ]
        },
        {
          "name": "stdout",
          "output_type": "stream",
          "text": [
            "Train Loss: 0.4795 | Accuracy: 83.66%\n",
            "Val   Loss: 0.4060 | Accuracy: 86.69%\n",
            "No improvement for 6 epochs.\n",
            "\n",
            "Epoch 62/150\n"
          ]
        },
        {
          "name": "stderr",
          "output_type": "stream",
          "text": [
            "                                                              \r"
          ]
        },
        {
          "name": "stdout",
          "output_type": "stream",
          "text": [
            "Train Loss: 0.4781 | Accuracy: 83.58%\n",
            "Val   Loss: 0.4256 | Accuracy: 86.55%\n",
            "No improvement for 7 epochs.\n",
            "\n",
            "Epoch 63/150\n"
          ]
        },
        {
          "name": "stderr",
          "output_type": "stream",
          "text": [
            "                                                              \r"
          ]
        },
        {
          "name": "stdout",
          "output_type": "stream",
          "text": [
            "Train Loss: 0.4659 | Accuracy: 83.78%\n",
            "Val   Loss: 0.3984 | Accuracy: 87.41%\n",
            "Saved best model.\n",
            "\n",
            "Epoch 64/150\n"
          ]
        },
        {
          "name": "stderr",
          "output_type": "stream",
          "text": [
            "                                                              \r"
          ]
        },
        {
          "name": "stdout",
          "output_type": "stream",
          "text": [
            "Train Loss: 0.4618 | Accuracy: 83.96%\n",
            "Val   Loss: 0.4092 | Accuracy: 87.07%\n",
            "No improvement for 1 epochs.\n",
            "\n",
            "Epoch 65/150\n"
          ]
        },
        {
          "name": "stderr",
          "output_type": "stream",
          "text": [
            "                                                              \r"
          ]
        },
        {
          "name": "stdout",
          "output_type": "stream",
          "text": [
            "Train Loss: 0.4590 | Accuracy: 84.38%\n",
            "Val   Loss: 0.3913 | Accuracy: 87.44%\n",
            "Saved best model.\n",
            "\n",
            "Epoch 66/150\n"
          ]
        },
        {
          "name": "stderr",
          "output_type": "stream",
          "text": [
            "                                                              \r"
          ]
        },
        {
          "name": "stdout",
          "output_type": "stream",
          "text": [
            "Train Loss: 0.4595 | Accuracy: 84.01%\n",
            "Val   Loss: 0.3918 | Accuracy: 87.26%\n",
            "No improvement for 1 epochs.\n",
            "\n",
            "Epoch 67/150\n"
          ]
        },
        {
          "name": "stderr",
          "output_type": "stream",
          "text": [
            "                                                              \r"
          ]
        },
        {
          "name": "stdout",
          "output_type": "stream",
          "text": [
            "Train Loss: 0.4542 | Accuracy: 84.25%\n",
            "Val   Loss: 0.3871 | Accuracy: 87.47%\n",
            "Saved best model.\n",
            "\n",
            "Epoch 68/150\n"
          ]
        },
        {
          "name": "stderr",
          "output_type": "stream",
          "text": [
            "                                                              \r"
          ]
        },
        {
          "name": "stdout",
          "output_type": "stream",
          "text": [
            "Train Loss: 0.4409 | Accuracy: 84.77%\n",
            "Val   Loss: 0.4298 | Accuracy: 86.52%\n",
            "No improvement for 1 epochs.\n",
            "\n",
            "Epoch 69/150\n"
          ]
        },
        {
          "name": "stderr",
          "output_type": "stream",
          "text": [
            "                                                              \r"
          ]
        },
        {
          "name": "stdout",
          "output_type": "stream",
          "text": [
            "Train Loss: 0.4461 | Accuracy: 84.64%\n",
            "Val   Loss: 0.3947 | Accuracy: 87.05%\n",
            "No improvement for 2 epochs.\n",
            "\n",
            "Epoch 70/150\n"
          ]
        },
        {
          "name": "stderr",
          "output_type": "stream",
          "text": [
            "                                                              \r"
          ]
        },
        {
          "name": "stdout",
          "output_type": "stream",
          "text": [
            "Train Loss: 0.4395 | Accuracy: 85.01%\n",
            "Val   Loss: 0.4014 | Accuracy: 87.11%\n",
            "No improvement for 3 epochs.\n",
            "\n",
            "Epoch 71/150\n"
          ]
        },
        {
          "name": "stderr",
          "output_type": "stream",
          "text": [
            "                                                              \r"
          ]
        },
        {
          "name": "stdout",
          "output_type": "stream",
          "text": [
            "Train Loss: 0.4360 | Accuracy: 84.95%\n",
            "Val   Loss: 0.3992 | Accuracy: 87.34%\n",
            "No improvement for 4 epochs.\n",
            "\n",
            "Epoch 72/150\n"
          ]
        },
        {
          "name": "stderr",
          "output_type": "stream",
          "text": [
            "                                                              \r"
          ]
        },
        {
          "name": "stdout",
          "output_type": "stream",
          "text": [
            "Train Loss: 0.4342 | Accuracy: 85.04%\n",
            "Val   Loss: 0.3908 | Accuracy: 87.43%\n",
            "No improvement for 5 epochs.\n",
            "\n",
            "Epoch 73/150\n"
          ]
        },
        {
          "name": "stderr",
          "output_type": "stream",
          "text": [
            "                                                              \r"
          ]
        },
        {
          "name": "stdout",
          "output_type": "stream",
          "text": [
            "Train Loss: 0.4310 | Accuracy: 85.12%\n",
            "Val   Loss: 0.4094 | Accuracy: 87.28%\n",
            "No improvement for 6 epochs.\n",
            "\n",
            "Epoch 74/150\n"
          ]
        },
        {
          "name": "stderr",
          "output_type": "stream",
          "text": [
            "                                                              \r"
          ]
        },
        {
          "name": "stdout",
          "output_type": "stream",
          "text": [
            "Train Loss: 0.4234 | Accuracy: 85.47%\n",
            "Val   Loss: 0.3919 | Accuracy: 87.31%\n",
            "No improvement for 7 epochs.\n",
            "\n",
            "Epoch 75/150\n"
          ]
        },
        {
          "name": "stderr",
          "output_type": "stream",
          "text": [
            "                                                              \r"
          ]
        },
        {
          "name": "stdout",
          "output_type": "stream",
          "text": [
            "Train Loss: 0.4179 | Accuracy: 85.43%\n",
            "Val   Loss: 0.4696 | Accuracy: 85.72%\n",
            "No improvement for 8 epochs.\n",
            "\n",
            "Epoch 76/150\n"
          ]
        },
        {
          "name": "stderr",
          "output_type": "stream",
          "text": [
            "                                                              \r"
          ]
        },
        {
          "name": "stdout",
          "output_type": "stream",
          "text": [
            "Train Loss: 0.4201 | Accuracy: 85.40%\n",
            "Val   Loss: 0.3815 | Accuracy: 87.85%\n",
            "Saved best model.\n",
            "\n",
            "Epoch 77/150\n"
          ]
        },
        {
          "name": "stderr",
          "output_type": "stream",
          "text": [
            "                                                              \r"
          ]
        },
        {
          "name": "stdout",
          "output_type": "stream",
          "text": [
            "Train Loss: 0.4170 | Accuracy: 85.55%\n",
            "Val   Loss: 0.4380 | Accuracy: 86.48%\n",
            "No improvement for 1 epochs.\n",
            "\n",
            "Epoch 78/150\n"
          ]
        },
        {
          "name": "stderr",
          "output_type": "stream",
          "text": [
            "                                                              \r"
          ]
        },
        {
          "name": "stdout",
          "output_type": "stream",
          "text": [
            "Train Loss: 0.4096 | Accuracy: 85.68%\n",
            "Val   Loss: 0.4343 | Accuracy: 86.82%\n",
            "No improvement for 2 epochs.\n",
            "\n",
            "Epoch 79/150\n"
          ]
        },
        {
          "name": "stderr",
          "output_type": "stream",
          "text": [
            "                                                              \r"
          ]
        },
        {
          "name": "stdout",
          "output_type": "stream",
          "text": [
            "Train Loss: 0.4092 | Accuracy: 85.94%\n",
            "Val   Loss: 0.3905 | Accuracy: 87.50%\n",
            "No improvement for 3 epochs.\n",
            "\n",
            "Epoch 80/150\n"
          ]
        },
        {
          "name": "stderr",
          "output_type": "stream",
          "text": [
            "                                                              \r"
          ]
        },
        {
          "name": "stdout",
          "output_type": "stream",
          "text": [
            "Train Loss: 0.4052 | Accuracy: 86.20%\n",
            "Val   Loss: 0.4131 | Accuracy: 87.01%\n",
            "No improvement for 4 epochs.\n",
            "\n",
            "Epoch 81/150\n"
          ]
        },
        {
          "name": "stderr",
          "output_type": "stream",
          "text": [
            "                                                              \r"
          ]
        },
        {
          "name": "stdout",
          "output_type": "stream",
          "text": [
            "Train Loss: 0.4034 | Accuracy: 85.94%\n",
            "Val   Loss: 0.4317 | Accuracy: 86.57%\n",
            "No improvement for 5 epochs.\n",
            "\n",
            "Epoch 82/150\n"
          ]
        },
        {
          "name": "stderr",
          "output_type": "stream",
          "text": [
            "                                                              \r"
          ]
        },
        {
          "name": "stdout",
          "output_type": "stream",
          "text": [
            "Train Loss: 0.3971 | Accuracy: 86.23%\n",
            "Val   Loss: 0.3861 | Accuracy: 88.02%\n",
            "Saved best model.\n",
            "\n",
            "Epoch 83/150\n"
          ]
        },
        {
          "name": "stderr",
          "output_type": "stream",
          "text": [
            "                                                              \r"
          ]
        },
        {
          "name": "stdout",
          "output_type": "stream",
          "text": [
            "Train Loss: 0.3961 | Accuracy: 86.33%\n",
            "Val   Loss: 0.4041 | Accuracy: 87.57%\n",
            "No improvement for 1 epochs.\n",
            "\n",
            "Epoch 84/150\n"
          ]
        },
        {
          "name": "stderr",
          "output_type": "stream",
          "text": [
            "                                                              \r"
          ]
        },
        {
          "name": "stdout",
          "output_type": "stream",
          "text": [
            "Train Loss: 0.3908 | Accuracy: 86.49%\n",
            "Val   Loss: 0.3907 | Accuracy: 87.51%\n",
            "No improvement for 2 epochs.\n",
            "\n",
            "Epoch 85/150\n"
          ]
        },
        {
          "name": "stderr",
          "output_type": "stream",
          "text": [
            "                                                              \r"
          ]
        },
        {
          "name": "stdout",
          "output_type": "stream",
          "text": [
            "Train Loss: 0.3896 | Accuracy: 86.73%\n",
            "Val   Loss: 0.3946 | Accuracy: 87.62%\n",
            "No improvement for 3 epochs.\n",
            "\n",
            "Epoch 86/150\n"
          ]
        },
        {
          "name": "stderr",
          "output_type": "stream",
          "text": [
            "                                                              \r"
          ]
        },
        {
          "name": "stdout",
          "output_type": "stream",
          "text": [
            "Train Loss: 0.3849 | Accuracy: 86.63%\n",
            "Val   Loss: 0.4072 | Accuracy: 87.63%\n",
            "No improvement for 4 epochs.\n",
            "\n",
            "Epoch 87/150\n"
          ]
        },
        {
          "name": "stderr",
          "output_type": "stream",
          "text": [
            "                                                              \r"
          ]
        },
        {
          "name": "stdout",
          "output_type": "stream",
          "text": [
            "Train Loss: 0.3777 | Accuracy: 87.05%\n",
            "Val   Loss: 0.3826 | Accuracy: 88.35%\n",
            "Saved best model.\n",
            "\n",
            "Epoch 88/150\n"
          ]
        },
        {
          "name": "stderr",
          "output_type": "stream",
          "text": [
            "                                                              \r"
          ]
        },
        {
          "name": "stdout",
          "output_type": "stream",
          "text": [
            "Train Loss: 0.3758 | Accuracy: 86.99%\n",
            "Val   Loss: 0.4049 | Accuracy: 87.37%\n",
            "No improvement for 1 epochs.\n",
            "\n",
            "Epoch 89/150\n"
          ]
        },
        {
          "name": "stderr",
          "output_type": "stream",
          "text": [
            "                                                              \r"
          ]
        },
        {
          "name": "stdout",
          "output_type": "stream",
          "text": [
            "Train Loss: 0.3744 | Accuracy: 87.09%\n",
            "Val   Loss: 0.4206 | Accuracy: 87.09%\n",
            "No improvement for 2 epochs.\n",
            "\n",
            "Epoch 90/150\n"
          ]
        },
        {
          "name": "stderr",
          "output_type": "stream",
          "text": [
            "                                                              \r"
          ]
        },
        {
          "name": "stdout",
          "output_type": "stream",
          "text": [
            "Train Loss: 0.3764 | Accuracy: 87.03%\n",
            "Val   Loss: 0.4184 | Accuracy: 87.82%\n",
            "No improvement for 3 epochs.\n",
            "\n",
            "Epoch 91/150\n"
          ]
        },
        {
          "name": "stderr",
          "output_type": "stream",
          "text": [
            "                                                              \r"
          ]
        },
        {
          "name": "stdout",
          "output_type": "stream",
          "text": [
            "Train Loss: 0.3725 | Accuracy: 87.15%\n",
            "Val   Loss: 0.3818 | Accuracy: 87.98%\n",
            "No improvement for 4 epochs.\n",
            "\n",
            "Epoch 92/150\n"
          ]
        },
        {
          "name": "stderr",
          "output_type": "stream",
          "text": [
            "                                                              \r"
          ]
        },
        {
          "name": "stdout",
          "output_type": "stream",
          "text": [
            "Train Loss: 0.3669 | Accuracy: 87.26%\n",
            "Val   Loss: 0.4069 | Accuracy: 87.79%\n",
            "No improvement for 5 epochs.\n",
            "\n",
            "Epoch 93/150\n"
          ]
        },
        {
          "name": "stderr",
          "output_type": "stream",
          "text": [
            "                                                              \r"
          ]
        },
        {
          "name": "stdout",
          "output_type": "stream",
          "text": [
            "Train Loss: 0.3633 | Accuracy: 87.39%\n",
            "Val   Loss: 0.4204 | Accuracy: 87.77%\n",
            "No improvement for 6 epochs.\n",
            "\n",
            "Epoch 94/150\n"
          ]
        },
        {
          "name": "stderr",
          "output_type": "stream",
          "text": [
            "                                                              \r"
          ]
        },
        {
          "name": "stdout",
          "output_type": "stream",
          "text": [
            "Train Loss: 0.3603 | Accuracy: 87.63%\n",
            "Val   Loss: 0.4184 | Accuracy: 87.24%\n",
            "No improvement for 7 epochs.\n",
            "\n",
            "Epoch 95/150\n"
          ]
        },
        {
          "name": "stderr",
          "output_type": "stream",
          "text": [
            "                                                              \r"
          ]
        },
        {
          "name": "stdout",
          "output_type": "stream",
          "text": [
            "Train Loss: 0.3597 | Accuracy: 87.48%\n",
            "Val   Loss: 0.3986 | Accuracy: 87.92%\n",
            "No improvement for 8 epochs.\n",
            "\n",
            "Epoch 96/150\n"
          ]
        },
        {
          "name": "stderr",
          "output_type": "stream",
          "text": [
            "                                                              \r"
          ]
        },
        {
          "name": "stdout",
          "output_type": "stream",
          "text": [
            "Train Loss: 0.3583 | Accuracy: 87.71%\n",
            "Val   Loss: 0.4170 | Accuracy: 87.79%\n",
            "No improvement for 9 epochs.\n",
            "\n",
            "Epoch 97/150\n"
          ]
        },
        {
          "name": "stderr",
          "output_type": "stream",
          "text": [
            "                                                              \r"
          ]
        },
        {
          "name": "stdout",
          "output_type": "stream",
          "text": [
            "Train Loss: 0.3628 | Accuracy: 87.49%\n",
            "Val   Loss: 0.3877 | Accuracy: 88.72%\n",
            "Saved best model.\n",
            "\n",
            "Epoch 98/150\n"
          ]
        },
        {
          "name": "stderr",
          "output_type": "stream",
          "text": [
            "                                                              \r"
          ]
        },
        {
          "name": "stdout",
          "output_type": "stream",
          "text": [
            "Train Loss: 0.3491 | Accuracy: 87.97%\n",
            "Val   Loss: 0.4051 | Accuracy: 88.09%\n",
            "No improvement for 1 epochs.\n",
            "\n",
            "Epoch 99/150\n"
          ]
        },
        {
          "name": "stderr",
          "output_type": "stream",
          "text": [
            "                                                              \r"
          ]
        },
        {
          "name": "stdout",
          "output_type": "stream",
          "text": [
            "Train Loss: 0.3478 | Accuracy: 88.06%\n",
            "Val   Loss: 0.3939 | Accuracy: 88.13%\n",
            "No improvement for 2 epochs.\n",
            "\n",
            "Epoch 100/150\n"
          ]
        },
        {
          "name": "stderr",
          "output_type": "stream",
          "text": [
            "                                                              \r"
          ]
        },
        {
          "name": "stdout",
          "output_type": "stream",
          "text": [
            "Train Loss: 0.3526 | Accuracy: 87.82%\n",
            "Val   Loss: 0.3991 | Accuracy: 88.14%\n",
            "No improvement for 3 epochs.\n",
            "\n",
            "Epoch 101/150\n"
          ]
        },
        {
          "name": "stderr",
          "output_type": "stream",
          "text": [
            "                                                              \r"
          ]
        },
        {
          "name": "stdout",
          "output_type": "stream",
          "text": [
            "Train Loss: 0.3482 | Accuracy: 88.02%\n",
            "Val   Loss: 0.3889 | Accuracy: 88.48%\n",
            "No improvement for 4 epochs.\n",
            "\n",
            "Epoch 102/150\n"
          ]
        },
        {
          "name": "stderr",
          "output_type": "stream",
          "text": [
            "                                                              \r"
          ]
        },
        {
          "name": "stdout",
          "output_type": "stream",
          "text": [
            "Train Loss: 0.3485 | Accuracy: 87.90%\n",
            "Val   Loss: 0.4247 | Accuracy: 87.42%\n",
            "No improvement for 5 epochs.\n",
            "\n",
            "Epoch 103/150\n"
          ]
        },
        {
          "name": "stderr",
          "output_type": "stream",
          "text": [
            "                                                              \r"
          ]
        },
        {
          "name": "stdout",
          "output_type": "stream",
          "text": [
            "Train Loss: 0.3430 | Accuracy: 88.30%\n",
            "Val   Loss: 0.4142 | Accuracy: 87.93%\n",
            "No improvement for 6 epochs.\n",
            "\n",
            "Epoch 104/150\n"
          ]
        },
        {
          "name": "stderr",
          "output_type": "stream",
          "text": [
            "                                                              \r"
          ]
        },
        {
          "name": "stdout",
          "output_type": "stream",
          "text": [
            "Train Loss: 0.3480 | Accuracy: 87.92%\n",
            "Val   Loss: 0.4105 | Accuracy: 87.62%\n",
            "No improvement for 7 epochs.\n",
            "\n",
            "Epoch 105/150\n"
          ]
        },
        {
          "name": "stderr",
          "output_type": "stream",
          "text": [
            "                                                              \r"
          ]
        },
        {
          "name": "stdout",
          "output_type": "stream",
          "text": [
            "Train Loss: 0.3369 | Accuracy: 88.23%\n",
            "Val   Loss: 0.4095 | Accuracy: 87.98%\n",
            "No improvement for 8 epochs.\n",
            "\n",
            "Epoch 106/150\n"
          ]
        },
        {
          "name": "stderr",
          "output_type": "stream",
          "text": [
            "                                                              \r"
          ]
        },
        {
          "name": "stdout",
          "output_type": "stream",
          "text": [
            "Train Loss: 0.3335 | Accuracy: 88.44%\n",
            "Val   Loss: 0.4271 | Accuracy: 88.10%\n",
            "No improvement for 9 epochs.\n",
            "\n",
            "Epoch 107/150\n"
          ]
        },
        {
          "name": "stderr",
          "output_type": "stream",
          "text": [
            "                                                              \r"
          ]
        },
        {
          "name": "stdout",
          "output_type": "stream",
          "text": [
            "Train Loss: 0.3315 | Accuracy: 88.43%\n",
            "Val   Loss: 0.4371 | Accuracy: 87.61%\n",
            "No improvement for 10 epochs.\n",
            "\n",
            "Epoch 108/150\n"
          ]
        },
        {
          "name": "stderr",
          "output_type": "stream",
          "text": [
            "                                                              \r"
          ]
        },
        {
          "name": "stdout",
          "output_type": "stream",
          "text": [
            "Train Loss: 0.3312 | Accuracy: 88.65%\n",
            "Val   Loss: 0.3770 | Accuracy: 88.79%\n",
            "Saved best model.\n",
            "\n",
            "Epoch 109/150\n"
          ]
        },
        {
          "name": "stderr",
          "output_type": "stream",
          "text": [
            "                                                              \r"
          ]
        },
        {
          "name": "stdout",
          "output_type": "stream",
          "text": [
            "Train Loss: 0.3317 | Accuracy: 88.68%\n",
            "Val   Loss: 0.3888 | Accuracy: 88.51%\n",
            "No improvement for 1 epochs.\n",
            "\n",
            "Epoch 110/150\n"
          ]
        },
        {
          "name": "stderr",
          "output_type": "stream",
          "text": [
            "                                                              \r"
          ]
        },
        {
          "name": "stdout",
          "output_type": "stream",
          "text": [
            "Train Loss: 0.3267 | Accuracy: 88.78%\n",
            "Val   Loss: 0.4197 | Accuracy: 88.07%\n",
            "No improvement for 2 epochs.\n",
            "\n",
            "Epoch 111/150\n"
          ]
        },
        {
          "name": "stderr",
          "output_type": "stream",
          "text": [
            "                                                              \r"
          ]
        },
        {
          "name": "stdout",
          "output_type": "stream",
          "text": [
            "Train Loss: 0.3259 | Accuracy: 88.78%\n",
            "Val   Loss: 0.4012 | Accuracy: 87.97%\n",
            "No improvement for 3 epochs.\n",
            "\n",
            "Epoch 112/150\n"
          ]
        },
        {
          "name": "stderr",
          "output_type": "stream",
          "text": [
            "                                                              \r"
          ]
        },
        {
          "name": "stdout",
          "output_type": "stream",
          "text": [
            "Train Loss: 0.3206 | Accuracy: 88.87%\n",
            "Val   Loss: 0.4154 | Accuracy: 87.78%\n",
            "No improvement for 4 epochs.\n",
            "\n",
            "Epoch 113/150\n"
          ]
        },
        {
          "name": "stderr",
          "output_type": "stream",
          "text": [
            "                                                              \r"
          ]
        },
        {
          "name": "stdout",
          "output_type": "stream",
          "text": [
            "Train Loss: 0.3209 | Accuracy: 88.79%\n",
            "Val   Loss: 0.3796 | Accuracy: 88.73%\n",
            "No improvement for 5 epochs.\n",
            "\n",
            "Epoch 114/150\n"
          ]
        },
        {
          "name": "stderr",
          "output_type": "stream",
          "text": [
            "                                                              \r"
          ]
        },
        {
          "name": "stdout",
          "output_type": "stream",
          "text": [
            "Train Loss: 0.3194 | Accuracy: 89.12%\n",
            "Val   Loss: 0.3925 | Accuracy: 88.40%\n",
            "No improvement for 6 epochs.\n",
            "\n",
            "Epoch 115/150\n"
          ]
        },
        {
          "name": "stderr",
          "output_type": "stream",
          "text": [
            "                                                              \r"
          ]
        },
        {
          "name": "stdout",
          "output_type": "stream",
          "text": [
            "Train Loss: 0.3170 | Accuracy: 89.12%\n",
            "Val   Loss: 0.3880 | Accuracy: 88.78%\n",
            "No improvement for 7 epochs.\n",
            "\n",
            "Epoch 116/150\n"
          ]
        },
        {
          "name": "stderr",
          "output_type": "stream",
          "text": [
            "                                                              \r"
          ]
        },
        {
          "name": "stdout",
          "output_type": "stream",
          "text": [
            "Train Loss: 0.3146 | Accuracy: 89.04%\n",
            "Val   Loss: 0.3698 | Accuracy: 89.12%\n",
            "Saved best model.\n",
            "\n",
            "Epoch 117/150\n"
          ]
        },
        {
          "name": "stderr",
          "output_type": "stream",
          "text": [
            "                                                              \r"
          ]
        },
        {
          "name": "stdout",
          "output_type": "stream",
          "text": [
            "Train Loss: 0.3125 | Accuracy: 89.17%\n",
            "Val   Loss: 0.3721 | Accuracy: 89.03%\n",
            "No improvement for 1 epochs.\n",
            "\n",
            "Epoch 118/150\n"
          ]
        },
        {
          "name": "stderr",
          "output_type": "stream",
          "text": [
            "                                                              \r"
          ]
        },
        {
          "name": "stdout",
          "output_type": "stream",
          "text": [
            "Train Loss: 0.3114 | Accuracy: 89.16%\n",
            "Val   Loss: 0.4100 | Accuracy: 88.14%\n",
            "No improvement for 2 epochs.\n",
            "\n",
            "Epoch 119/150\n"
          ]
        },
        {
          "name": "stderr",
          "output_type": "stream",
          "text": [
            "                                                              \r"
          ]
        },
        {
          "name": "stdout",
          "output_type": "stream",
          "text": [
            "Train Loss: 0.3106 | Accuracy: 89.42%\n",
            "Val   Loss: 0.4144 | Accuracy: 88.22%\n",
            "No improvement for 3 epochs.\n",
            "\n",
            "Epoch 120/150\n"
          ]
        },
        {
          "name": "stderr",
          "output_type": "stream",
          "text": [
            "                                                              \r"
          ]
        },
        {
          "name": "stdout",
          "output_type": "stream",
          "text": [
            "Train Loss: 0.3099 | Accuracy: 89.25%\n",
            "Val   Loss: 0.4188 | Accuracy: 87.89%\n",
            "No improvement for 4 epochs.\n",
            "\n",
            "Epoch 121/150\n"
          ]
        },
        {
          "name": "stderr",
          "output_type": "stream",
          "text": [
            "                                                              \r"
          ]
        },
        {
          "name": "stdout",
          "output_type": "stream",
          "text": [
            "Train Loss: 0.3010 | Accuracy: 89.48%\n",
            "Val   Loss: 0.3881 | Accuracy: 88.65%\n",
            "No improvement for 5 epochs.\n",
            "\n",
            "Epoch 122/150\n"
          ]
        },
        {
          "name": "stderr",
          "output_type": "stream",
          "text": [
            "                                                              \r"
          ]
        },
        {
          "name": "stdout",
          "output_type": "stream",
          "text": [
            "Train Loss: 0.3046 | Accuracy: 89.43%\n",
            "Val   Loss: 0.4387 | Accuracy: 87.78%\n",
            "No improvement for 6 epochs.\n",
            "\n",
            "Epoch 123/150\n"
          ]
        },
        {
          "name": "stderr",
          "output_type": "stream",
          "text": [
            "                                                              \r"
          ]
        },
        {
          "name": "stdout",
          "output_type": "stream",
          "text": [
            "Train Loss: 0.3014 | Accuracy: 89.63%\n",
            "Val   Loss: 0.3975 | Accuracy: 88.18%\n",
            "No improvement for 7 epochs.\n",
            "\n",
            "Epoch 124/150\n"
          ]
        },
        {
          "name": "stderr",
          "output_type": "stream",
          "text": [
            "                                                              \r"
          ]
        },
        {
          "name": "stdout",
          "output_type": "stream",
          "text": [
            "Train Loss: 0.2999 | Accuracy: 89.59%\n",
            "Val   Loss: 0.3970 | Accuracy: 89.00%\n",
            "No improvement for 8 epochs.\n",
            "\n",
            "Epoch 125/150\n"
          ]
        },
        {
          "name": "stderr",
          "output_type": "stream",
          "text": [
            "                                                              \r"
          ]
        },
        {
          "name": "stdout",
          "output_type": "stream",
          "text": [
            "Train Loss: 0.3030 | Accuracy: 89.56%\n",
            "Val   Loss: 0.4241 | Accuracy: 88.01%\n",
            "No improvement for 9 epochs.\n",
            "\n",
            "Epoch 126/150\n"
          ]
        },
        {
          "name": "stderr",
          "output_type": "stream",
          "text": [
            "                                                              \r"
          ]
        },
        {
          "name": "stdout",
          "output_type": "stream",
          "text": [
            "Train Loss: 0.2981 | Accuracy: 89.78%\n",
            "Val   Loss: 0.4094 | Accuracy: 88.28%\n",
            "No improvement for 10 epochs.\n",
            "\n",
            "Epoch 127/150\n"
          ]
        },
        {
          "name": "stderr",
          "output_type": "stream",
          "text": [
            "                                                              \r"
          ]
        },
        {
          "name": "stdout",
          "output_type": "stream",
          "text": [
            "Train Loss: 0.2947 | Accuracy: 89.70%\n",
            "Val   Loss: 0.4268 | Accuracy: 88.29%\n",
            "No improvement for 11 epochs.\n",
            "\n",
            "Epoch 128/150\n"
          ]
        },
        {
          "name": "stderr",
          "output_type": "stream",
          "text": [
            "                                                              \r"
          ]
        },
        {
          "name": "stdout",
          "output_type": "stream",
          "text": [
            "Train Loss: 0.2916 | Accuracy: 89.99%\n",
            "Val   Loss: 0.4078 | Accuracy: 88.83%\n",
            "No improvement for 12 epochs.\n",
            "\n",
            "Epoch 129/150\n"
          ]
        },
        {
          "name": "stderr",
          "output_type": "stream",
          "text": [
            "                                                              \r"
          ]
        },
        {
          "name": "stdout",
          "output_type": "stream",
          "text": [
            "Train Loss: 0.2915 | Accuracy: 89.91%\n",
            "Val   Loss: 0.4540 | Accuracy: 88.17%\n",
            "No improvement for 13 epochs.\n",
            "\n",
            "Epoch 130/150\n"
          ]
        },
        {
          "name": "stderr",
          "output_type": "stream",
          "text": [
            "                                                              \r"
          ]
        },
        {
          "name": "stdout",
          "output_type": "stream",
          "text": [
            "Train Loss: 0.2942 | Accuracy: 90.02%\n",
            "Val   Loss: 0.4139 | Accuracy: 88.84%\n",
            "No improvement for 14 epochs.\n",
            "\n",
            "Epoch 131/150\n"
          ]
        },
        {
          "name": "stderr",
          "output_type": "stream",
          "text": [
            "                                                              \r"
          ]
        },
        {
          "name": "stdout",
          "output_type": "stream",
          "text": [
            "Train Loss: 0.2894 | Accuracy: 90.01%\n",
            "Val   Loss: 0.3848 | Accuracy: 88.86%\n",
            "No improvement for 15 epochs.\n",
            "\n",
            "Epoch 132/150\n"
          ]
        },
        {
          "name": "stderr",
          "output_type": "stream",
          "text": [
            "                                                              \r"
          ]
        },
        {
          "name": "stdout",
          "output_type": "stream",
          "text": [
            "Train Loss: 0.2938 | Accuracy: 90.00%\n",
            "Val   Loss: 0.4355 | Accuracy: 87.71%\n",
            "No improvement for 16 epochs.\n",
            "\n",
            "Epoch 133/150\n"
          ]
        },
        {
          "name": "stderr",
          "output_type": "stream",
          "text": [
            "                                                              \r"
          ]
        },
        {
          "name": "stdout",
          "output_type": "stream",
          "text": [
            "Train Loss: 0.2883 | Accuracy: 90.02%\n",
            "Val   Loss: 0.3883 | Accuracy: 88.95%\n",
            "No improvement for 17 epochs.\n",
            "\n",
            "Epoch 134/150\n"
          ]
        },
        {
          "name": "stderr",
          "output_type": "stream",
          "text": [
            "                                                              \r"
          ]
        },
        {
          "name": "stdout",
          "output_type": "stream",
          "text": [
            "Train Loss: 0.2756 | Accuracy: 90.35%\n",
            "Val   Loss: 0.4278 | Accuracy: 88.40%\n",
            "No improvement for 18 epochs.\n",
            "\n",
            "Epoch 135/150\n"
          ]
        },
        {
          "name": "stderr",
          "output_type": "stream",
          "text": [
            "                                                              \r"
          ]
        },
        {
          "name": "stdout",
          "output_type": "stream",
          "text": [
            "Train Loss: 0.2819 | Accuracy: 90.36%\n",
            "Val   Loss: 0.4194 | Accuracy: 88.51%\n",
            "No improvement for 19 epochs.\n",
            "\n",
            "Epoch 136/150\n"
          ]
        },
        {
          "name": "stderr",
          "output_type": "stream",
          "text": [
            "                                                              \r"
          ]
        },
        {
          "name": "stdout",
          "output_type": "stream",
          "text": [
            "Train Loss: 0.2806 | Accuracy: 90.29%\n",
            "Val   Loss: 0.4175 | Accuracy: 88.66%\n",
            "No improvement for 20 epochs.\n",
            "Early stopping triggered after 136 epochs.\n",
            "\n",
            "Training Complete\n",
            "\n",
            "Final Averages Over All Epochs\n",
            "Average Train Loss: 0.5633\n",
            "Average Train Accuracy: 80.39%\n",
            "Average Val   Loss: 0.5123\n",
            "Average Val   Accuracy: 83.35%\n",
            "Plots saved: loss_curve.png and accuracy_curve.png\n"
          ]
        },
        {
          "data": {
            "image/png": "[encoded data removed]",
            "text/plain": [
              "<Figure size 640x480 with 1 Axes>"
            ]
          },
          "metadata": {},
          "output_type": "display_data"
        },
        {
          "data": {
            "image/png": "[encoded data removed]",
            "text/plain": [
              "<Figure size 640x480 with 1 Axes>"
            ]
          },
          "metadata": {},
          "output_type": "display_data"
        }
      ],
      "source": [
        "# Set up device \n",
        "device = torch.device(\"cuda\" if torch.cuda.is_available() else \"cpu\")\n",
        "\n",
        "# Save model\n",
        "model.to(device)\n",
        "\n",
        "# Log training \n",
        "train_losses, val_losses = [], []\n",
        "train_accuracies = []\n",
        "val_accuracies = []\n",
        "\n",
        "# Training and Validation Loops \n",
        "def train(model, loader, criterion, optimizer, device):\n",
        "    model.train()\n",
        "    running_loss = 0.0\n",
        "    correct = 0\n",
        "    total = 0\n",
        "\n",
        "    for inputs, labels in tqdm(loader, desc=\"Training\", leave=False):\n",
        "        inputs, labels = inputs.to(device), labels.to(device)\n",
        "\n",
        "        optimizer.zero_grad()\n",
        "        outputs = model(inputs)\n",
        "\n",
        "        loss = criterion(outputs, labels)\n",
        "        loss.backward()\n",
        "        optimizer.step()\n",
        "\n",
        "        running_loss += loss.item()\n",
        "        _, predicted = outputs.max(1)\n",
        "        total += labels.size(0)\n",
        "        correct += predicted.eq(labels).sum().item()\n",
        "\n",
        "    return running_loss / len(loader), 100 * correct / total\n",
        "\n",
        "def evaluate(model, loader, criterion, device):\n",
        "    model.eval()\n",
        "    total = 0\n",
        "    correct = 0\n",
        "    loss = 0.0\n",
        "\n",
        "    with torch.no_grad():\n",
        "        for inputs, labels in tqdm(loader, desc=\"Validating\", leave=False):\n",
        "            inputs, labels = inputs.to(device), labels.to(device)\n",
        "            outputs = model(inputs)\n",
        "            loss += criterion(outputs, labels).item()\n",
        "            _, predicted = outputs.max(1)\n",
        "            total += labels.size(0)\n",
        "            correct += predicted.eq(labels).sum().item()\n",
        "\n",
        "    return loss / len(loader), 100 * correct / total\n",
        "\n",
        "# Main Loop \n",
        "patience = 20  # Number of epochs to wait for improvement\n",
        "early_stop_counter = 0 # Counter for early stopping\n",
        "epochs = 150\n",
        "best_acc = 0.0\n",
        "\n",
        "for epoch in range(epochs):\n",
        "    print(f\"\\nEpoch {epoch+1}/{epochs}\")\n",
        "    train_loss, train_acc = train(model, trainloader, criterion, optimizer, device)\n",
        "    val_loss, val_acc = evaluate(model, testloader, criterion, device)\n",
        "\n",
        "\n",
        "    # Log metrics\n",
        "    train_losses.append(train_loss)\n",
        "    val_losses.append(val_loss)\n",
        "    train_accuracies.append(train_acc)\n",
        "    val_accuracies.append(val_acc)\n",
        "\n",
        "    print(f\"Train Loss: {train_loss:.4f} | Accuracy: {train_acc:.2f}%\")\n",
        "    print(f\"Val   Loss: {val_loss:.4f} | Accuracy: {val_acc:.2f}%\")\n",
        "\n",
        "    # Save best model\n",
        "    if val_acc > best_acc:\n",
        "        best_acc = val_acc\n",
        "        early_stop_counter=0\n",
        "        torch.save(model.state_dict(), \"best_model.pth\")\n",
        "        print(\"Saved best model.\")\n",
        "    else:\n",
        "        early_stop_counter += 1\n",
        "        print(f\"No improvement for {early_stop_counter} epochs.\")\n",
        "\n",
        "    if early_stop_counter >= patience:\n",
        "        print(f\"Early stopping triggered after {epoch+1} epochs.\")\n",
        "        break\n",
        "print(\"\\nTraining Complete\")\n",
        "\n",
        "# Print Final Averages \n",
        "avg_train_loss = sum(train_losses) / len(train_losses)\n",
        "avg_val_loss = sum(val_losses) / len(val_losses)\n",
        "avg_train_acc = sum(train_accuracies) / len(train_accuracies)\n",
        "avg_val_acc = sum(val_accuracies) / len(val_accuracies)\n",
        "\n",
        "print(\"\\nFinal Averages Over All Epochs\")\n",
        "print(f\"Average Train Loss: {avg_train_loss:.4f}\")\n",
        "print(f\"Average Train Accuracy: {avg_train_acc:.2f}%\")\n",
        "print(f\"Average Val   Loss: {avg_val_loss:.4f}\")\n",
        "print(f\"Average Val   Accuracy: {avg_val_acc:.2f}%\")\n",
        "\n",
        "\n",
        "# Plot results\n",
        "\n",
        "# Plot Loss\n",
        "plt.figure()\n",
        "plt.plot(train_losses, label='Train Loss')\n",
        "plt.plot(val_losses, label='Validation Loss')\n",
        "plt.title(\"Loss Curve\")\n",
        "plt.xlabel(\"Epoch\")\n",
        "plt.ylabel(\"Loss\")\n",
        "plt.legend()\n",
        "plt.grid()\n",
        "plt.savefig(\"loss_curve.png\")\n",
        "\n",
        "# Plot Accuracy\n",
        "plt.figure()\n",
        "plt.plot(train_accuracies, label='Train Accuracy')\n",
        "plt.plot(val_accuracies, label='Validation Accuracy')\n",
        "plt.title(\"Accuracy Curve\")\n",
        "plt.xlabel(\"Epoch\")\n",
        "plt.ylabel(\"Accuracy (%)\")\n",
        "plt.legend()\n",
        "plt.grid()\n",
        "plt.savefig(\"accuracy_curve.png\")\n",
        "\n",
        "print(\"Plots saved: loss_curve.png and accuracy_curve.png\")\n"
      ]
    }
  ],
  "metadata": {
    "accelerator": "GPU",
    "colab": {
      "gpuType": "T4",
      "provenance": []
    },
    "kernelspec": {
      "display_name": "Python 3 (ipykernel)",
      "language": "python",
      "name": "python3"
    },
    "language_info": {
      "codemirror_mode": {
        "name": "ipython",
        "version": 3
      },
      "file_extension": ".py",
      "mimetype": "text/x-python",
      "name": "python",
      "nbconvert_exporter": "python",
      "pygments_lexer": "ipython3",
      "version": "3.11.7"
    }
  },
  "nbformat": 4,
  "nbformat_minor": 0
}
